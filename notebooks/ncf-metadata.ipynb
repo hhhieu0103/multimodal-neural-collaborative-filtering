{
 "cells": [
  {
   "cell_type": "markdown",
   "metadata": {},
   "source": [
    "# Import libraries"
   ]
  },
  {
   "cell_type": "code",
   "metadata": {
    "ExecuteTime": {
     "end_time": "2025-04-12T01:04:54.958530Z",
     "start_time": "2025-04-12T01:04:51.889085Z"
    }
   },
   "source": [
    "import pandas as pd\n",
    "from torch.utils.data import DataLoader\n",
    "from dataset import NCFDataset\n",
    "from recom_ncf import NCFRecommender\n",
    "from evaluation import Evaluation\n",
    "from helpers.index_manager import IndexManager\n",
    "from helpers.splitter import Splitter\n",
    "import ast\n",
    "from helpers.dataloader_custom_functions import collate_fn\n",
    "from helpers.get_feature_dims import get_feature_dims\n",
    "from helpers.category_index_manager import CategoryIndexManager"
   ],
   "outputs": [],
   "execution_count": 1
  },
  {
   "cell_type": "markdown",
   "metadata": {},
   "source": [
    "# Loading data"
   ]
  },
  {
   "metadata": {
    "ExecuteTime": {
     "end_time": "2025-04-12T01:04:54.965925Z",
     "start_time": "2025-04-12T01:04:54.960287Z"
    }
   },
   "cell_type": "code",
   "source": [
    "metadata_features = ['mm_total_recommendation']\n",
    "# metadata_features = ['pub_encoded', 'dev_encoded', 'tag_encoded', 'lang_encoded', 'gen_encoded', 'cat_encoded', 'mm_total_recommendation', 'z_total_recommendation', 'log_total_recommendation', 'mm_price', 'z_price', 'log_price', 'mm_released_date', 'z_released_date', 'log_released_date']"
   ],
   "outputs": [],
   "execution_count": 2
  },
  {
   "metadata": {
    "ExecuteTime": {
     "end_time": "2025-04-12T01:05:06.207933Z",
     "start_time": "2025-04-12T01:04:55.101540Z"
    }
   },
   "cell_type": "code",
   "source": [
    "df = pd.read_csv('../data/interaction-metadata.csv')[['user_id', 'item_id', 'rating_imp', 'timestamp'] + metadata_features]\n",
    "df.head()"
   ],
   "outputs": [
    {
     "data": {
      "text/plain": [
       "             user_id  item_id  rating_imp   timestamp  mm_total_recommendation\n",
       "0  76561197960432447       10           1  1738278781                 0.036216\n",
       "1  76561198071230926       10           1  1736206418                 0.036216\n",
       "2  76561198206216352       10           1  1738041574                 0.036216\n",
       "3  76561198110801124       10           1  1738015332                 0.036216\n",
       "4  76561199813732773       10           1  1737853720                 0.036216"
      ],
      "text/html": [
       "<div>\n",
       "<style scoped>\n",
       "    .dataframe tbody tr th:only-of-type {\n",
       "        vertical-align: middle;\n",
       "    }\n",
       "\n",
       "    .dataframe tbody tr th {\n",
       "        vertical-align: top;\n",
       "    }\n",
       "\n",
       "    .dataframe thead th {\n",
       "        text-align: right;\n",
       "    }\n",
       "</style>\n",
       "<table border=\"1\" class=\"dataframe\">\n",
       "  <thead>\n",
       "    <tr style=\"text-align: right;\">\n",
       "      <th></th>\n",
       "      <th>user_id</th>\n",
       "      <th>item_id</th>\n",
       "      <th>rating_imp</th>\n",
       "      <th>timestamp</th>\n",
       "      <th>mm_total_recommendation</th>\n",
       "    </tr>\n",
       "  </thead>\n",
       "  <tbody>\n",
       "    <tr>\n",
       "      <th>0</th>\n",
       "      <td>76561197960432447</td>\n",
       "      <td>10</td>\n",
       "      <td>1</td>\n",
       "      <td>1738278781</td>\n",
       "      <td>0.036216</td>\n",
       "    </tr>\n",
       "    <tr>\n",
       "      <th>1</th>\n",
       "      <td>76561198071230926</td>\n",
       "      <td>10</td>\n",
       "      <td>1</td>\n",
       "      <td>1736206418</td>\n",
       "      <td>0.036216</td>\n",
       "    </tr>\n",
       "    <tr>\n",
       "      <th>2</th>\n",
       "      <td>76561198206216352</td>\n",
       "      <td>10</td>\n",
       "      <td>1</td>\n",
       "      <td>1738041574</td>\n",
       "      <td>0.036216</td>\n",
       "    </tr>\n",
       "    <tr>\n",
       "      <th>3</th>\n",
       "      <td>76561198110801124</td>\n",
       "      <td>10</td>\n",
       "      <td>1</td>\n",
       "      <td>1738015332</td>\n",
       "      <td>0.036216</td>\n",
       "    </tr>\n",
       "    <tr>\n",
       "      <th>4</th>\n",
       "      <td>76561199813732773</td>\n",
       "      <td>10</td>\n",
       "      <td>1</td>\n",
       "      <td>1737853720</td>\n",
       "      <td>0.036216</td>\n",
       "    </tr>\n",
       "  </tbody>\n",
       "</table>\n",
       "</div>"
      ]
     },
     "execution_count": 3,
     "metadata": {},
     "output_type": "execute_result"
    }
   ],
   "execution_count": 3
  },
  {
   "metadata": {
    "ExecuteTime": {
     "end_time": "2025-04-12T01:06:28.156890Z",
     "start_time": "2025-04-12T01:06:28.154133Z"
    }
   },
   "cell_type": "code",
   "source": [
    "# df['publishers'] = df['publishers'].apply(ast.literal_eval)\n",
    "# df['developers'] = df['developers'].apply(ast.literal_eval)\n",
    "# df['tags'] = df['tags'].apply(ast.literal_eval)\n",
    "# df['supported_languages'] = df['supported_languages'].apply(ast.literal_eval)\n",
    "# df['genres'] = df['genres'].apply(ast.literal_eval)\n",
    "# df['categories'] = df['categories'].apply(ast.literal_eval)"
   ],
   "outputs": [],
   "execution_count": 5
  },
  {
   "metadata": {},
   "cell_type": "markdown",
   "source": "# Indexing data"
  },
  {
   "metadata": {
    "ExecuteTime": {
     "end_time": "2025-04-12T01:06:31.923202Z",
     "start_time": "2025-04-12T01:06:28.180661Z"
    }
   },
   "cell_type": "code",
   "source": [
    "index_manager = IndexManager()\n",
    "index_manager.fit(df_interaction=df)\n",
    "index_manager.transform_interactions(df, inplace=True)"
   ],
   "outputs": [
    {
     "name": "stdout",
     "output_type": "stream",
     "text": [
      "Indexed 832660 users and 68396 items\n",
      "User index range: 0-832659\n",
      "Item index range: 0-68395\n"
     ]
    },
    {
     "data": {
      "text/plain": [
       "         user_id  item_id  rating_imp   timestamp  mm_total_recommendation\n",
       "0              0        0           1  1738278781                 0.036216\n",
       "1              1        0           1  1736206418                 0.036216\n",
       "2              2        0           1  1738041574                 0.036216\n",
       "3              3        0           1  1738015332                 0.036216\n",
       "4              4        0           1  1737853720                 0.036216\n",
       "...          ...      ...         ...         ...                      ...\n",
       "1149950    15755    24642           1  1663545142                 0.000000\n",
       "1149951   150280    24642           1  1689826252                 0.000000\n",
       "1149952     1336    24643           1  1595699739                 0.000000\n",
       "1149953    11520    24643           0  1706470035                 0.000000\n",
       "1149954     2463    24643           1  1720163517                 0.000000\n",
       "\n",
       "[1149955 rows x 5 columns]"
      ],
      "text/html": [
       "<div>\n",
       "<style scoped>\n",
       "    .dataframe tbody tr th:only-of-type {\n",
       "        vertical-align: middle;\n",
       "    }\n",
       "\n",
       "    .dataframe tbody tr th {\n",
       "        vertical-align: top;\n",
       "    }\n",
       "\n",
       "    .dataframe thead th {\n",
       "        text-align: right;\n",
       "    }\n",
       "</style>\n",
       "<table border=\"1\" class=\"dataframe\">\n",
       "  <thead>\n",
       "    <tr style=\"text-align: right;\">\n",
       "      <th></th>\n",
       "      <th>user_id</th>\n",
       "      <th>item_id</th>\n",
       "      <th>rating_imp</th>\n",
       "      <th>timestamp</th>\n",
       "      <th>mm_total_recommendation</th>\n",
       "    </tr>\n",
       "  </thead>\n",
       "  <tbody>\n",
       "    <tr>\n",
       "      <th>0</th>\n",
       "      <td>0</td>\n",
       "      <td>0</td>\n",
       "      <td>1</td>\n",
       "      <td>1738278781</td>\n",
       "      <td>0.036216</td>\n",
       "    </tr>\n",
       "    <tr>\n",
       "      <th>1</th>\n",
       "      <td>1</td>\n",
       "      <td>0</td>\n",
       "      <td>1</td>\n",
       "      <td>1736206418</td>\n",
       "      <td>0.036216</td>\n",
       "    </tr>\n",
       "    <tr>\n",
       "      <th>2</th>\n",
       "      <td>2</td>\n",
       "      <td>0</td>\n",
       "      <td>1</td>\n",
       "      <td>1738041574</td>\n",
       "      <td>0.036216</td>\n",
       "    </tr>\n",
       "    <tr>\n",
       "      <th>3</th>\n",
       "      <td>3</td>\n",
       "      <td>0</td>\n",
       "      <td>1</td>\n",
       "      <td>1738015332</td>\n",
       "      <td>0.036216</td>\n",
       "    </tr>\n",
       "    <tr>\n",
       "      <th>4</th>\n",
       "      <td>4</td>\n",
       "      <td>0</td>\n",
       "      <td>1</td>\n",
       "      <td>1737853720</td>\n",
       "      <td>0.036216</td>\n",
       "    </tr>\n",
       "    <tr>\n",
       "      <th>...</th>\n",
       "      <td>...</td>\n",
       "      <td>...</td>\n",
       "      <td>...</td>\n",
       "      <td>...</td>\n",
       "      <td>...</td>\n",
       "    </tr>\n",
       "    <tr>\n",
       "      <th>1149950</th>\n",
       "      <td>15755</td>\n",
       "      <td>24642</td>\n",
       "      <td>1</td>\n",
       "      <td>1663545142</td>\n",
       "      <td>0.000000</td>\n",
       "    </tr>\n",
       "    <tr>\n",
       "      <th>1149951</th>\n",
       "      <td>150280</td>\n",
       "      <td>24642</td>\n",
       "      <td>1</td>\n",
       "      <td>1689826252</td>\n",
       "      <td>0.000000</td>\n",
       "    </tr>\n",
       "    <tr>\n",
       "      <th>1149952</th>\n",
       "      <td>1336</td>\n",
       "      <td>24643</td>\n",
       "      <td>1</td>\n",
       "      <td>1595699739</td>\n",
       "      <td>0.000000</td>\n",
       "    </tr>\n",
       "    <tr>\n",
       "      <th>1149953</th>\n",
       "      <td>11520</td>\n",
       "      <td>24643</td>\n",
       "      <td>0</td>\n",
       "      <td>1706470035</td>\n",
       "      <td>0.000000</td>\n",
       "    </tr>\n",
       "    <tr>\n",
       "      <th>1149954</th>\n",
       "      <td>2463</td>\n",
       "      <td>24643</td>\n",
       "      <td>1</td>\n",
       "      <td>1720163517</td>\n",
       "      <td>0.000000</td>\n",
       "    </tr>\n",
       "  </tbody>\n",
       "</table>\n",
       "<p>1149955 rows × 5 columns</p>\n",
       "</div>"
      ]
     },
     "execution_count": 6,
     "metadata": {},
     "output_type": "execute_result"
    }
   ],
   "execution_count": 6
  },
  {
   "metadata": {},
   "cell_type": "markdown",
   "source": "# Creating datasets"
  },
  {
   "metadata": {
    "ExecuteTime": {
     "end_time": "2025-04-12T01:07:27.529061Z",
     "start_time": "2025-04-12T01:06:31.950092Z"
    }
   },
   "cell_type": "code",
   "source": [
    "splitter = Splitter(df)\n",
    "df_train, df_val, df_test = splitter.leave_k_out_split()"
   ],
   "outputs": [
    {
     "name": "stdout",
     "output_type": "stream",
     "text": [
      "Splitting data with leave-2-out strategy (1 for validation, 1 for testing)\n",
      "Total users: 832660\n",
      "Interactions per user: min=1, max=1034, avg=1.4\n",
      "Note: 703199 users have fewer than 2 interactions.\n",
      "These users will be placed entirely in the training set.\n",
      "Split complete: 1149955 total interactions\n",
      "Train set: 891033 interactions (77.5%)\n",
      "Validation set: 129461 interactions (11.3%)\n",
      "Test set: 129461 interactions (11.3%)\n"
     ]
    }
   ],
   "execution_count": 7
  },
  {
   "metadata": {
    "ExecuteTime": {
     "end_time": "2025-04-12T01:07:27.577449Z",
     "start_time": "2025-04-12T01:07:27.552697Z"
    }
   },
   "cell_type": "code",
   "source": [
    "df_features = df[['item_id'] + metadata_features].drop_duplicates(subset='item_id')\n",
    "feature_dims = get_feature_dims(df_features, metadata_features)"
   ],
   "outputs": [],
   "execution_count": 8
  },
  {
   "metadata": {
    "ExecuteTime": {
     "end_time": "2025-04-12T01:08:33.067109Z",
     "start_time": "2025-04-12T01:08:33.060505Z"
    }
   },
   "cell_type": "code",
   "source": [
    "# category_index_manager = CategoryIndexManager()\n",
    "# category_index_manager.fit(df_features, ['tags'])\n",
    "# category_index_manager.transform(df_features, ['tags'], inplace=True)"
   ],
   "outputs": [],
   "execution_count": 10
  },
  {
   "metadata": {
    "ExecuteTime": {
     "end_time": "2025-04-12T01:08:33.097929Z",
     "start_time": "2025-04-12T01:08:33.085706Z"
    }
   },
   "cell_type": "code",
   "source": [
    "train_dataset = NCFDataset(df_train, feature_dims=feature_dims, df_features=df_features)\n",
    "val_dataset = NCFDataset(df_val, feature_dims=feature_dims, df_features=df_features)"
   ],
   "outputs": [],
   "execution_count": 11
  },
  {
   "metadata": {
    "ExecuteTime": {
     "end_time": "2025-04-12T01:08:33.108490Z",
     "start_time": "2025-04-12T01:08:33.097929Z"
    }
   },
   "cell_type": "code",
   "source": [
    "dataloader_params = {\n",
    "    'batch_size': 2**13,\n",
    "    'num_workers': 4,\n",
    "    'persistent_workers': True,\n",
    "    'prefetch_factor': 2,\n",
    "    'pin_memory': True,\n",
    "    'pin_memory_device': 'cuda',\n",
    "    'collate_fn': collate_fn,\n",
    "}\n",
    "train_dataloader = DataLoader(train_dataset, shuffle=True, **dataloader_params)\n",
    "val_dataloader = DataLoader(val_dataset, shuffle=False, **dataloader_params)"
   ],
   "outputs": [],
   "execution_count": 12
  },
  {
   "metadata": {},
   "cell_type": "markdown",
   "source": "# Training model"
  },
  {
   "metadata": {
    "ExecuteTime": {
     "end_time": "2025-04-12T01:08:58.639760Z",
     "start_time": "2025-04-12T01:08:33.116697Z"
    }
   },
   "cell_type": "code",
   "source": [
    "params = {'factors': 32, 'mlp_user_item_dim': 64, 'learning_rate': 0.003, 'epochs': 1, 'optimizer': 'adagrad', 'dropout': 0.2, 'weight_decay': 0.0001, 'loss_fn': 'mse'}\n",
    "\n",
    "unique_users = index_manager.get_indexed_users()\n",
    "unique_items = index_manager.get_indexed_items()\n",
    "\n",
    "model = NCFRecommender(unique_users, unique_items, mlp_feature_dims=feature_dims, df_features=df_features, **params)\n",
    "model.fit(train_dataloader, val_dataloader)"
   ],
   "outputs": [
    {
     "name": "stdout",
     "output_type": "stream",
     "text": [
      "Epoch 1/1\n",
      "Train loss: 0.191198, Validation loss: 0.156817\n",
      "==================================================\n",
      "Training completed!\n"
     ]
    }
   ],
   "execution_count": 13
  },
  {
   "cell_type": "markdown",
   "metadata": {},
   "source": [
    "# Evaluating model"
   ]
  },
  {
   "cell_type": "code",
   "metadata": {
    "ExecuteTime": {
     "end_time": "2025-04-12T01:15:34.393065Z",
     "start_time": "2025-04-12T01:08:58.649361Z"
    }
   },
   "source": [
    "evaluator = Evaluation(recommender=model, test_data=df_test)\n",
    "metrics = evaluator.evaluate()"
   ],
   "outputs": [
    {
     "name": "stdout",
     "output_type": "stream",
     "text": [
      "Creating ground truth sets...\n",
      "Generating predictions...\n",
      "Processing 1 of 129461 users... (0.00%)\n",
      "Memory usage: 0.208740234375 . Increasing batch size with increasing rate of 1.1\n",
      "Increased user batch size from 128 to 141\n",
      "Increased item batch size from 1024 to 1126\n",
      "Processing 129 of 129461 users... (0.10%)\n",
      "Memory usage: 0.1337890625 . Increasing batch size with increasing rate of 1.1\n",
      "Increased user batch size from 141 to 155\n",
      "Increased item batch size from 1126 to 1239\n",
      "Processing 270 of 129461 users... (0.21%)\n",
      "Memory usage: 0.142333984375 . Increasing batch size with increasing rate of 1.1\n",
      "Increased user batch size from 155 to 170\n",
      "Increased item batch size from 1239 to 1363\n",
      "Processing 425 of 129461 users... (0.33%)\n",
      "Memory usage: 0.154296875 . Increasing batch size with increasing rate of 1.1\n",
      "Increased user batch size from 170 to 187\n",
      "Increased item batch size from 1363 to 1499\n",
      "Processing 595 of 129461 users... (0.46%)\n",
      "Memory usage: 0.1669921875 . Increasing batch size with increasing rate of 1.1\n",
      "Increased user batch size from 187 to 206\n",
      "Increased item batch size from 1499 to 1649\n",
      "Processing 782 of 129461 users... (0.60%)\n",
      "Memory usage: 0.182373046875 . Increasing batch size with increasing rate of 1.1\n",
      "Increased user batch size from 206 to 227\n",
      "Increased item batch size from 1649 to 1814\n",
      "Processing 988 of 129461 users... (0.76%)\n",
      "Memory usage: 0.2021484375 . Increasing batch size with increasing rate of 1.1\n",
      "Increased user batch size from 227 to 250\n",
      "Increased item batch size from 1814 to 1995\n",
      "Processing 1215 of 129461 users... (0.94%)\n",
      "Memory usage: 0.224853515625 . Increasing batch size with increasing rate of 1.1\n",
      "Increased user batch size from 250 to 275\n",
      "Increased item batch size from 1995 to 2194\n",
      "Processing 1465 of 129461 users... (1.13%)\n",
      "Memory usage: 0.252685546875 . Increasing batch size with increasing rate of 1.1\n",
      "Increased user batch size from 275 to 302\n",
      "Increased item batch size from 2194 to 2413\n",
      "Processing 1740 of 129461 users... (1.34%)\n",
      "Memory usage: 0.309326171875 . Increasing batch size with increasing rate of 1.1\n",
      "Increased user batch size from 302 to 332\n",
      "Increased item batch size from 2413 to 2654\n",
      "Processing 2042 of 129461 users... (1.58%)\n",
      "Memory usage: 0.3291015625 . Increasing batch size with increasing rate of 1.1\n",
      "Increased user batch size from 332 to 365\n",
      "Increased item batch size from 2654 to 2919\n",
      "Processing 2374 of 129461 users... (1.83%)\n",
      "Memory usage: 0.378662109375 . Increasing batch size with increasing rate of 1.1\n",
      "Increased user batch size from 365 to 402\n",
      "Increased item batch size from 2919 to 3211\n",
      "Processing 2739 of 129461 users... (2.11%)\n",
      "Memory usage: 0.437255859375 . Increasing batch size with increasing rate of 1.1\n",
      "Increased user batch size from 402 to 442\n",
      "Increased item batch size from 3211 to 3532\n",
      "Processing 3141 of 129461 users... (2.43%)\n",
      "Memory usage: 0.558837890625 . Increasing batch size with increasing rate of 1.1\n",
      "Increased user batch size from 442 to 486\n",
      "Increased item batch size from 3532 to 3885\n",
      "Processing 3583 of 129461 users... (2.77%)\n",
      "Memory usage: 0.656005859375 . Increasing batch size with increasing rate of 1.1\n",
      "Increased user batch size from 486 to 535\n",
      "Increased item batch size from 3885 to 4274\n",
      "Processing 4069 of 129461 users... (3.14%)\n",
      "Processing 4604 of 129461 users... (3.56%)\n",
      "Processing 5139 of 129461 users... (3.97%)\n",
      "Processing 5674 of 129461 users... (4.38%)\n",
      "Processing 6209 of 129461 users... (4.80%)\n",
      "Processing 6744 of 129461 users... (5.21%)\n",
      "Processing 7279 of 129461 users... (5.62%)\n",
      "Processing 7814 of 129461 users... (6.04%)\n",
      "Processing 8349 of 129461 users... (6.45%)\n",
      "Processing 8884 of 129461 users... (6.86%)\n",
      "Processing 9419 of 129461 users... (7.27%)\n",
      "Processing 9954 of 129461 users... (7.69%)\n",
      "Processing 10489 of 129461 users... (8.10%)\n",
      "Processing 11024 of 129461 users... (8.51%)\n",
      "Processing 11559 of 129461 users... (8.93%)\n",
      "Processing 12094 of 129461 users... (9.34%)\n",
      "Processing 12629 of 129461 users... (9.75%)\n",
      "Processing 13164 of 129461 users... (10.17%)\n",
      "Processing 13699 of 129461 users... (10.58%)\n",
      "Processing 14234 of 129461 users... (10.99%)\n",
      "Processing 14769 of 129461 users... (11.41%)\n",
      "Processing 15304 of 129461 users... (11.82%)\n",
      "Processing 15839 of 129461 users... (12.23%)\n",
      "Processing 16374 of 129461 users... (12.65%)\n",
      "Processing 16909 of 129461 users... (13.06%)\n",
      "Processing 17444 of 129461 users... (13.47%)\n",
      "Processing 17979 of 129461 users... (13.89%)\n",
      "Processing 18514 of 129461 users... (14.30%)\n",
      "Processing 19049 of 129461 users... (14.71%)\n",
      "Processing 19584 of 129461 users... (15.13%)\n",
      "Processing 20119 of 129461 users... (15.54%)\n",
      "Processing 20654 of 129461 users... (15.95%)\n",
      "Processing 21189 of 129461 users... (16.37%)\n",
      "Processing 21724 of 129461 users... (16.78%)\n",
      "Processing 22259 of 129461 users... (17.19%)\n",
      "Processing 22794 of 129461 users... (17.61%)\n",
      "Processing 23329 of 129461 users... (18.02%)\n",
      "Processing 23864 of 129461 users... (18.43%)\n",
      "Processing 24399 of 129461 users... (18.85%)\n",
      "Processing 24934 of 129461 users... (19.26%)\n",
      "Processing 25469 of 129461 users... (19.67%)\n",
      "Processing 26004 of 129461 users... (20.09%)\n",
      "Processing 26539 of 129461 users... (20.50%)\n",
      "Processing 27074 of 129461 users... (20.91%)\n",
      "Processing 27609 of 129461 users... (21.33%)\n",
      "Processing 28144 of 129461 users... (21.74%)\n",
      "Processing 28679 of 129461 users... (22.15%)\n",
      "Processing 29214 of 129461 users... (22.57%)\n",
      "Processing 29749 of 129461 users... (22.98%)\n",
      "Processing 30284 of 129461 users... (23.39%)\n",
      "Processing 30819 of 129461 users... (23.80%)\n",
      "Processing 31354 of 129461 users... (24.22%)\n",
      "Processing 31889 of 129461 users... (24.63%)\n",
      "Processing 32424 of 129461 users... (25.04%)\n",
      "Processing 32959 of 129461 users... (25.46%)\n",
      "Processing 33494 of 129461 users... (25.87%)\n",
      "Processing 34029 of 129461 users... (26.28%)\n",
      "Processing 34564 of 129461 users... (26.70%)\n",
      "Processing 35099 of 129461 users... (27.11%)\n",
      "Processing 35634 of 129461 users... (27.52%)\n",
      "Processing 36169 of 129461 users... (27.94%)\n",
      "Processing 36704 of 129461 users... (28.35%)\n",
      "Processing 37239 of 129461 users... (28.76%)\n",
      "Processing 37774 of 129461 users... (29.18%)\n",
      "Processing 38309 of 129461 users... (29.59%)\n",
      "Processing 38844 of 129461 users... (30.00%)\n",
      "Processing 39379 of 129461 users... (30.42%)\n",
      "Processing 39914 of 129461 users... (30.83%)\n",
      "Processing 40449 of 129461 users... (31.24%)\n",
      "Processing 40984 of 129461 users... (31.66%)\n",
      "Processing 41519 of 129461 users... (32.07%)\n",
      "Processing 42054 of 129461 users... (32.48%)\n",
      "Processing 42589 of 129461 users... (32.90%)\n",
      "Processing 43124 of 129461 users... (33.31%)\n",
      "Processing 43659 of 129461 users... (33.72%)\n",
      "Processing 44194 of 129461 users... (34.14%)\n",
      "Processing 44729 of 129461 users... (34.55%)\n",
      "Processing 45264 of 129461 users... (34.96%)\n",
      "Processing 45799 of 129461 users... (35.38%)\n",
      "Processing 46334 of 129461 users... (35.79%)\n",
      "Processing 46869 of 129461 users... (36.20%)\n",
      "Processing 47404 of 129461 users... (36.62%)\n",
      "Processing 47939 of 129461 users... (37.03%)\n",
      "Processing 48474 of 129461 users... (37.44%)\n",
      "Processing 49009 of 129461 users... (37.86%)\n",
      "Processing 49544 of 129461 users... (38.27%)\n",
      "Processing 50079 of 129461 users... (38.68%)\n",
      "Processing 50614 of 129461 users... (39.10%)\n",
      "Processing 51149 of 129461 users... (39.51%)\n",
      "Processing 51684 of 129461 users... (39.92%)\n",
      "Processing 52219 of 129461 users... (40.33%)\n",
      "Processing 52754 of 129461 users... (40.75%)\n",
      "Processing 53289 of 129461 users... (41.16%)\n",
      "Processing 53824 of 129461 users... (41.57%)\n",
      "Processing 54359 of 129461 users... (41.99%)\n",
      "Processing 54894 of 129461 users... (42.40%)\n",
      "Processing 55429 of 129461 users... (42.81%)\n",
      "Processing 55964 of 129461 users... (43.23%)\n",
      "Processing 56499 of 129461 users... (43.64%)\n",
      "Processing 57034 of 129461 users... (44.05%)\n",
      "Processing 57569 of 129461 users... (44.47%)\n",
      "Processing 58104 of 129461 users... (44.88%)\n",
      "Processing 58639 of 129461 users... (45.29%)\n",
      "Processing 59174 of 129461 users... (45.71%)\n",
      "Processing 59709 of 129461 users... (46.12%)\n",
      "Processing 60244 of 129461 users... (46.53%)\n",
      "Processing 60779 of 129461 users... (46.95%)\n",
      "Processing 61314 of 129461 users... (47.36%)\n",
      "Processing 61849 of 129461 users... (47.77%)\n",
      "Processing 62384 of 129461 users... (48.19%)\n",
      "Processing 62919 of 129461 users... (48.60%)\n",
      "Processing 63454 of 129461 users... (49.01%)\n",
      "Processing 63989 of 129461 users... (49.43%)\n",
      "Processing 64524 of 129461 users... (49.84%)\n",
      "Processing 65059 of 129461 users... (50.25%)\n",
      "Processing 65594 of 129461 users... (50.67%)\n",
      "Processing 66129 of 129461 users... (51.08%)\n",
      "Processing 66664 of 129461 users... (51.49%)\n",
      "Processing 67199 of 129461 users... (51.91%)\n",
      "Processing 67734 of 129461 users... (52.32%)\n",
      "Processing 68269 of 129461 users... (52.73%)\n",
      "Processing 68804 of 129461 users... (53.15%)\n",
      "Processing 69339 of 129461 users... (53.56%)\n",
      "Processing 69874 of 129461 users... (53.97%)\n",
      "Processing 70409 of 129461 users... (54.39%)\n",
      "Processing 70944 of 129461 users... (54.80%)\n",
      "Processing 71479 of 129461 users... (55.21%)\n",
      "Processing 72014 of 129461 users... (55.63%)\n",
      "Processing 72549 of 129461 users... (56.04%)\n",
      "Processing 73084 of 129461 users... (56.45%)\n",
      "Processing 73619 of 129461 users... (56.87%)\n",
      "Processing 74154 of 129461 users... (57.28%)\n",
      "Processing 74689 of 129461 users... (57.69%)\n",
      "Processing 75224 of 129461 users... (58.10%)\n",
      "Processing 75759 of 129461 users... (58.52%)\n",
      "Processing 76294 of 129461 users... (58.93%)\n",
      "Processing 76829 of 129461 users... (59.34%)\n",
      "Processing 77364 of 129461 users... (59.76%)\n",
      "Processing 77899 of 129461 users... (60.17%)\n",
      "Processing 78434 of 129461 users... (60.58%)\n",
      "Processing 78969 of 129461 users... (61.00%)\n",
      "Processing 79504 of 129461 users... (61.41%)\n",
      "Processing 80039 of 129461 users... (61.82%)\n",
      "Processing 80574 of 129461 users... (62.24%)\n",
      "Processing 81109 of 129461 users... (62.65%)\n",
      "Processing 81644 of 129461 users... (63.06%)\n",
      "Processing 82179 of 129461 users... (63.48%)\n",
      "Processing 82714 of 129461 users... (63.89%)\n",
      "Processing 83249 of 129461 users... (64.30%)\n",
      "Processing 83784 of 129461 users... (64.72%)\n",
      "Processing 84319 of 129461 users... (65.13%)\n",
      "Processing 84854 of 129461 users... (65.54%)\n",
      "Processing 85389 of 129461 users... (65.96%)\n",
      "Processing 85924 of 129461 users... (66.37%)\n",
      "Processing 86459 of 129461 users... (66.78%)\n",
      "Processing 86994 of 129461 users... (67.20%)\n",
      "Processing 87529 of 129461 users... (67.61%)\n",
      "Processing 88064 of 129461 users... (68.02%)\n",
      "Processing 88599 of 129461 users... (68.44%)\n",
      "Processing 89134 of 129461 users... (68.85%)\n",
      "Processing 89669 of 129461 users... (69.26%)\n",
      "Processing 90204 of 129461 users... (69.68%)\n",
      "Processing 90739 of 129461 users... (70.09%)\n",
      "Processing 91274 of 129461 users... (70.50%)\n",
      "Processing 91809 of 129461 users... (70.92%)\n",
      "Processing 92344 of 129461 users... (71.33%)\n",
      "Processing 92879 of 129461 users... (71.74%)\n",
      "Processing 93414 of 129461 users... (72.16%)\n",
      "Processing 93949 of 129461 users... (72.57%)\n",
      "Processing 94484 of 129461 users... (72.98%)\n",
      "Processing 95019 of 129461 users... (73.40%)\n",
      "Processing 95554 of 129461 users... (73.81%)\n",
      "Processing 96089 of 129461 users... (74.22%)\n",
      "Processing 96624 of 129461 users... (74.63%)\n",
      "Processing 97159 of 129461 users... (75.05%)\n",
      "Processing 97694 of 129461 users... (75.46%)\n",
      "Processing 98229 of 129461 users... (75.87%)\n",
      "Processing 98764 of 129461 users... (76.29%)\n",
      "Processing 99299 of 129461 users... (76.70%)\n",
      "Processing 99834 of 129461 users... (77.11%)\n",
      "Processing 100369 of 129461 users... (77.53%)\n",
      "Processing 100904 of 129461 users... (77.94%)\n",
      "Processing 101439 of 129461 users... (78.35%)\n",
      "Processing 101974 of 129461 users... (78.77%)\n",
      "Processing 102509 of 129461 users... (79.18%)\n",
      "Processing 103044 of 129461 users... (79.59%)\n",
      "Processing 103579 of 129461 users... (80.01%)\n",
      "Processing 104114 of 129461 users... (80.42%)\n",
      "Processing 104649 of 129461 users... (80.83%)\n",
      "Processing 105184 of 129461 users... (81.25%)\n",
      "Processing 105719 of 129461 users... (81.66%)\n",
      "Processing 106254 of 129461 users... (82.07%)\n",
      "Processing 106789 of 129461 users... (82.49%)\n",
      "Processing 107324 of 129461 users... (82.90%)\n",
      "Processing 107859 of 129461 users... (83.31%)\n",
      "Processing 108394 of 129461 users... (83.73%)\n",
      "Processing 108929 of 129461 users... (84.14%)\n",
      "Processing 109464 of 129461 users... (84.55%)\n",
      "Processing 109999 of 129461 users... (84.97%)\n",
      "Processing 110534 of 129461 users... (85.38%)\n",
      "Processing 111069 of 129461 users... (85.79%)\n",
      "Processing 111604 of 129461 users... (86.21%)\n",
      "Processing 112139 of 129461 users... (86.62%)\n",
      "Processing 112674 of 129461 users... (87.03%)\n",
      "Processing 113209 of 129461 users... (87.45%)\n",
      "Processing 113744 of 129461 users... (87.86%)\n",
      "Processing 114279 of 129461 users... (88.27%)\n",
      "Processing 114814 of 129461 users... (88.69%)\n",
      "Processing 115349 of 129461 users... (89.10%)\n",
      "Processing 115884 of 129461 users... (89.51%)\n",
      "Processing 116419 of 129461 users... (89.93%)\n",
      "Processing 116954 of 129461 users... (90.34%)\n",
      "Processing 117489 of 129461 users... (90.75%)\n",
      "Processing 118024 of 129461 users... (91.16%)\n",
      "Processing 118559 of 129461 users... (91.58%)\n",
      "Processing 119094 of 129461 users... (91.99%)\n",
      "Processing 119629 of 129461 users... (92.40%)\n",
      "Processing 120164 of 129461 users... (92.82%)\n",
      "Processing 120699 of 129461 users... (93.23%)\n",
      "Processing 121234 of 129461 users... (93.64%)\n",
      "Processing 121769 of 129461 users... (94.06%)\n",
      "Processing 122304 of 129461 users... (94.47%)\n",
      "Processing 122839 of 129461 users... (94.88%)\n",
      "Processing 123374 of 129461 users... (95.30%)\n",
      "Processing 123909 of 129461 users... (95.71%)\n",
      "Processing 124444 of 129461 users... (96.12%)\n",
      "Processing 124979 of 129461 users... (96.54%)\n",
      "Processing 125514 of 129461 users... (96.95%)\n",
      "Processing 126049 of 129461 users... (97.36%)\n",
      "Processing 126584 of 129461 users... (97.78%)\n",
      "Processing 127119 of 129461 users... (98.19%)\n",
      "Processing 127654 of 129461 users... (98.60%)\n",
      "Processing 128189 of 129461 users... (99.02%)\n",
      "Processing 128724 of 129461 users... (99.43%)\n",
      "Processing 129259 of 129461 users... (99.84%)\n",
      "Calculating metrics...\n",
      "Processed 10000/129461 users...\n",
      "Processed 20000/129461 users...\n",
      "Processed 30000/129461 users...\n",
      "Processed 40000/129461 users...\n",
      "Processed 50000/129461 users...\n",
      "Processed 60000/129461 users...\n",
      "Processed 70000/129461 users...\n",
      "Processed 80000/129461 users...\n",
      "Processed 90000/129461 users...\n",
      "Processed 100000/129461 users...\n",
      "Processed 110000/129461 users...\n",
      "Processed 120000/129461 users...\n",
      "Processed 129461/129461 users...\n"
     ]
    }
   ],
   "execution_count": 14
  },
  {
   "cell_type": "code",
   "metadata": {
    "ExecuteTime": {
     "end_time": "2025-04-12T01:15:34.443349Z",
     "start_time": "2025-04-12T01:15:34.433297Z"
    }
   },
   "source": [
    "metrics"
   ],
   "outputs": [
    {
     "data": {
      "text/plain": [
       "{'Hit Ratio@10': 0.0379959987950039,\n",
       " 'NDCG@10': 0.01781263624096445,\n",
       " 'Recall@10': 0.0379959987950039}"
      ]
     },
     "execution_count": 15,
     "metadata": {},
     "output_type": "execute_result"
    }
   ],
   "execution_count": 15
  }
 ],
 "metadata": {
  "kernelspec": {
   "display_name": "Python 3",
   "language": "python",
   "name": "python3"
  },
  "language_info": {
   "codemirror_mode": {
    "name": "ipython",
    "version": 3
   },
   "file_extension": ".py",
   "mimetype": "text/x-python",
   "name": "python",
   "nbconvert_exporter": "python",
   "pygments_lexer": "ipython3",
   "version": "3.12.1"
  }
 },
 "nbformat": 4,
 "nbformat_minor": 2
}
