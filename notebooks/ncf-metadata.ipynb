{
 "cells": [
  {
   "cell_type": "markdown",
   "metadata": {},
   "source": [
    "# Import libraries"
   ]
  },
  {
   "cell_type": "code",
   "metadata": {
    "ExecuteTime": {
     "end_time": "2025-04-14T03:10:09.123379Z",
     "start_time": "2025-04-14T03:10:06.624210Z"
    }
   },
   "source": [
    "import pandas as pd\n",
    "from torch.utils.data import DataLoader\n",
    "from dataset import NCFDataset\n",
    "from recom_ncf import NCFRecommender\n",
    "from evaluation import Evaluation\n",
    "from helpers.index_manager import IndexManager\n",
    "from helpers.dataloader_custom_functions import collate_fn\n",
    "import json\n",
    "import ast"
   ],
   "outputs": [],
   "execution_count": 1
  },
  {
   "cell_type": "markdown",
   "metadata": {},
   "source": [
    "# Loading data"
   ]
  },
  {
   "metadata": {
    "ExecuteTime": {
     "end_time": "2025-04-14T03:10:23.864215Z",
     "start_time": "2025-04-14T03:10:09.127385Z"
    }
   },
   "cell_type": "code",
   "source": [
    "df_train = pd.read_csv('../data/train-leave2.csv')\n",
    "df_val = pd.read_csv('../data/val-leave2.csv')\n",
    "df_test = pd.read_csv('../data/test-leave2.csv')\n",
    "df_features = pd.read_csv('../data/metadata.csv')\n",
    "index_manager = IndexManager()\n",
    "index_manager.load('../data/index.pkl')\n",
    "with open('../data/feature-dims.json') as file:\n",
    "    input_dims = json.load(file)"
   ],
   "outputs": [],
   "execution_count": 2
  },
  {
   "metadata": {
    "ExecuteTime": {
     "end_time": "2025-04-14T03:10:24.139869Z",
     "start_time": "2025-04-14T03:10:24.135775Z"
    }
   },
   "cell_type": "code",
   "source": [
    "features = ['tags']\n",
    "feature_dims = {}\n",
    "for feature in features:\n",
    "    input_dim = input_dims.get(feature, 1)\n",
    "    feature_dims[feature] = (input_dim, 8)"
   ],
   "outputs": [],
   "execution_count": 3
  },
  {
   "metadata": {
    "ExecuteTime": {
     "end_time": "2025-04-14T03:10:53.465516Z",
     "start_time": "2025-04-14T03:10:24.205818Z"
    }
   },
   "cell_type": "code",
   "source": [
    "def str_to_list(df, cols):\n",
    "    for col in cols:\n",
    "        df[col] = df[col].apply(ast.literal_eval)\n",
    "    return df\n",
    "\n",
    "category_cols = ['tags']\n",
    "# category_cols = ['tags', 'publishers', 'developers', 'genres', 'categories', 'supported_languages']\n",
    "df_train = str_to_list(df_train, category_cols)\n",
    "df_val = str_to_list(df_val, category_cols)\n",
    "df_test = str_to_list(df_test, category_cols)\n",
    "df_features = str_to_list(df_features, category_cols)"
   ],
   "outputs": [],
   "execution_count": 4
  },
  {
   "metadata": {},
   "cell_type": "markdown",
   "source": "# Creating datasets"
  },
  {
   "metadata": {
    "ExecuteTime": {
     "end_time": "2025-04-14T03:10:53.576533Z",
     "start_time": "2025-04-14T03:10:53.507184Z"
    }
   },
   "cell_type": "code",
   "source": [
    "train_dataset = NCFDataset(df_train, feature_dims=feature_dims, df_features=df_features)\n",
    "val_dataset = NCFDataset(df_val, feature_dims=feature_dims, df_features=df_features)"
   ],
   "outputs": [],
   "execution_count": 5
  },
  {
   "metadata": {
    "ExecuteTime": {
     "end_time": "2025-04-14T03:10:53.627344Z",
     "start_time": "2025-04-14T03:10:53.623336Z"
    }
   },
   "cell_type": "code",
   "source": [
    "dataloader_params = {\n",
    "    'batch_size': 2**13,\n",
    "    'num_workers': 4,\n",
    "    'persistent_workers': True,\n",
    "    'prefetch_factor': 4,\n",
    "    'pin_memory': True,\n",
    "    'pin_memory_device': 'cuda',\n",
    "    'collate_fn': collate_fn,\n",
    "}\n",
    "train_dataloader = DataLoader(train_dataset, shuffle=True, **dataloader_params)\n",
    "val_dataloader = DataLoader(val_dataset, shuffle=False, **dataloader_params)"
   ],
   "outputs": [],
   "execution_count": 6
  },
  {
   "metadata": {},
   "cell_type": "markdown",
   "source": "# Training model"
  },
  {
   "metadata": {
    "ExecuteTime": {
     "end_time": "2025-04-14T03:13:35.804919Z",
     "start_time": "2025-04-14T03:10:53.669968Z"
    }
   },
   "cell_type": "code",
   "source": [
    "params = {'factors': 32, 'mlp_user_item_dim': 64, 'learning_rate': 0.003, 'epochs': 10, 'optimizer': 'adagrad', 'dropout': 0.2, 'weight_decay': 0.0001, 'loss_fn': 'mse'}\n",
    "\n",
    "unique_users = index_manager.get_indexed_values('user_id')\n",
    "unique_items = index_manager.get_indexed_values('item_id')\n",
    "\n",
    "model = NCFRecommender(unique_users, unique_items, mlp_feature_dims=feature_dims, df_features=df_features[['item_id'] + features], **params)\n",
    "model.fit(train_dataloader, val_dataloader)"
   ],
   "outputs": [
    {
     "name": "stdout",
     "output_type": "stream",
     "text": [
      "Epoch 1/10\n",
      "Train loss: 0.213629, Validation loss: 0.212007\n",
      "==================================================\n",
      "Epoch 2/10\n",
      "Train loss: 0.148121, Validation loss: 0.207954\n",
      "==================================================\n",
      "Epoch 3/10\n",
      "Train loss: 0.137663, Validation loss: 0.202144\n",
      "==================================================\n",
      "Epoch 4/10\n",
      "Train loss: 0.129062, Validation loss: 0.197151\n",
      "==================================================\n",
      "Epoch 5/10\n",
      "Train loss: 0.115756, Validation loss: 0.189991\n",
      "==================================================\n",
      "Epoch 6/10\n",
      "Train loss: 0.092461, Validation loss: 0.187018\n",
      "==================================================\n",
      "Epoch 7/10\n",
      "Train loss: 0.074627, Validation loss: 0.189036\n",
      "==================================================\n",
      "Epoch 8/10\n",
      "Train loss: 0.066250, Validation loss: 0.190561\n",
      "==================================================\n",
      "Epoch 9/10\n",
      "Train loss: 0.061095, Validation loss: 0.191442\n",
      "Early stopping triggered after 9 epochs\n",
      "Training completed!\n"
     ]
    }
   ],
   "execution_count": 7
  },
  {
   "cell_type": "markdown",
   "metadata": {},
   "source": [
    "# Evaluating model"
   ]
  },
  {
   "metadata": {
    "ExecuteTime": {
     "end_time": "2025-04-14T03:33:52.309100Z",
     "start_time": "2025-04-14T03:13:35.897259Z"
    }
   },
   "cell_type": "code",
   "source": [
    "evaluator = Evaluation(recommender=model, test_data=df_test)\n",
    "metrics = evaluator.evaluate(user_batch_size=512, item_batch_size=4096)"
   ],
   "outputs": [
    {
     "name": "stdout",
     "output_type": "stream",
     "text": [
      "Creating ground truth sets...\n",
      "Generating predictions...\n",
      "Processing 1 of 121682 users... (0.00%)\n",
      "Processing 513 of 121682 users... (0.42%)\n",
      "Processing 1025 of 121682 users... (0.84%)\n",
      "Processing 1537 of 121682 users... (1.26%)\n",
      "Processing 2049 of 121682 users... (1.68%)\n",
      "Processing 2561 of 121682 users... (2.10%)\n",
      "Processing 3073 of 121682 users... (2.52%)\n",
      "Processing 3585 of 121682 users... (2.95%)\n",
      "Processing 4097 of 121682 users... (3.37%)\n",
      "Processing 4609 of 121682 users... (3.79%)\n",
      "Processing 5121 of 121682 users... (4.21%)\n",
      "Processing 5633 of 121682 users... (4.63%)\n",
      "Processing 6145 of 121682 users... (5.05%)\n",
      "Processing 6657 of 121682 users... (5.47%)\n",
      "Processing 7169 of 121682 users... (5.89%)\n",
      "Processing 7681 of 121682 users... (6.31%)\n",
      "Processing 8193 of 121682 users... (6.73%)\n",
      "Processing 8705 of 121682 users... (7.15%)\n",
      "Processing 9217 of 121682 users... (7.57%)\n",
      "Processing 9729 of 121682 users... (7.99%)\n",
      "Processing 10241 of 121682 users... (8.42%)\n",
      "Processing 10753 of 121682 users... (8.84%)\n",
      "Processing 11265 of 121682 users... (9.26%)\n",
      "Processing 11777 of 121682 users... (9.68%)\n",
      "Processing 12289 of 121682 users... (10.10%)\n",
      "Processing 12801 of 121682 users... (10.52%)\n",
      "Processing 13313 of 121682 users... (10.94%)\n",
      "Processing 13825 of 121682 users... (11.36%)\n",
      "Processing 14337 of 121682 users... (11.78%)\n",
      "Processing 14849 of 121682 users... (12.20%)\n",
      "Processing 15361 of 121682 users... (12.62%)\n",
      "Processing 15873 of 121682 users... (13.04%)\n",
      "Processing 16385 of 121682 users... (13.46%)\n",
      "Processing 16897 of 121682 users... (13.89%)\n",
      "Processing 17409 of 121682 users... (14.31%)\n",
      "Processing 17921 of 121682 users... (14.73%)\n",
      "Processing 18433 of 121682 users... (15.15%)\n",
      "Processing 18945 of 121682 users... (15.57%)\n",
      "Processing 19457 of 121682 users... (15.99%)\n",
      "Processing 19969 of 121682 users... (16.41%)\n",
      "Processing 20481 of 121682 users... (16.83%)\n",
      "Processing 20993 of 121682 users... (17.25%)\n",
      "Processing 21505 of 121682 users... (17.67%)\n",
      "Processing 22017 of 121682 users... (18.09%)\n",
      "Processing 22529 of 121682 users... (18.51%)\n",
      "Processing 23041 of 121682 users... (18.93%)\n",
      "Processing 23553 of 121682 users... (19.36%)\n",
      "Processing 24065 of 121682 users... (19.78%)\n",
      "Processing 24577 of 121682 users... (20.20%)\n",
      "Processing 25089 of 121682 users... (20.62%)\n",
      "Processing 25601 of 121682 users... (21.04%)\n",
      "Processing 26113 of 121682 users... (21.46%)\n",
      "Processing 26625 of 121682 users... (21.88%)\n",
      "Processing 27137 of 121682 users... (22.30%)\n",
      "Processing 27649 of 121682 users... (22.72%)\n",
      "Processing 28161 of 121682 users... (23.14%)\n",
      "Processing 28673 of 121682 users... (23.56%)\n",
      "Processing 29185 of 121682 users... (23.98%)\n",
      "Processing 29697 of 121682 users... (24.40%)\n",
      "Processing 30209 of 121682 users... (24.83%)\n",
      "Processing 30721 of 121682 users... (25.25%)\n",
      "Processing 31233 of 121682 users... (25.67%)\n",
      "Processing 31745 of 121682 users... (26.09%)\n",
      "Processing 32257 of 121682 users... (26.51%)\n",
      "Processing 32769 of 121682 users... (26.93%)\n",
      "Processing 33281 of 121682 users... (27.35%)\n",
      "Processing 33793 of 121682 users... (27.77%)\n",
      "Processing 34305 of 121682 users... (28.19%)\n",
      "Processing 34817 of 121682 users... (28.61%)\n",
      "Processing 35329 of 121682 users... (29.03%)\n",
      "Processing 35841 of 121682 users... (29.45%)\n",
      "Processing 36353 of 121682 users... (29.87%)\n",
      "Processing 36865 of 121682 users... (30.30%)\n",
      "Processing 37377 of 121682 users... (30.72%)\n",
      "Processing 37889 of 121682 users... (31.14%)\n",
      "Processing 38401 of 121682 users... (31.56%)\n",
      "Processing 38913 of 121682 users... (31.98%)\n",
      "Processing 39425 of 121682 users... (32.40%)\n",
      "Processing 39937 of 121682 users... (32.82%)\n",
      "Processing 40449 of 121682 users... (33.24%)\n",
      "Processing 40961 of 121682 users... (33.66%)\n",
      "Processing 41473 of 121682 users... (34.08%)\n",
      "Processing 41985 of 121682 users... (34.50%)\n",
      "Processing 42497 of 121682 users... (34.92%)\n",
      "Processing 43009 of 121682 users... (35.34%)\n",
      "Processing 43521 of 121682 users... (35.77%)\n",
      "Processing 44033 of 121682 users... (36.19%)\n",
      "Processing 44545 of 121682 users... (36.61%)\n",
      "Processing 45057 of 121682 users... (37.03%)\n",
      "Processing 45569 of 121682 users... (37.45%)\n",
      "Processing 46081 of 121682 users... (37.87%)\n",
      "Processing 46593 of 121682 users... (38.29%)\n",
      "Processing 47105 of 121682 users... (38.71%)\n",
      "Processing 47617 of 121682 users... (39.13%)\n",
      "Processing 48129 of 121682 users... (39.55%)\n",
      "Processing 48641 of 121682 users... (39.97%)\n",
      "Processing 49153 of 121682 users... (40.39%)\n",
      "Processing 49665 of 121682 users... (40.81%)\n",
      "Processing 50177 of 121682 users... (41.24%)\n",
      "Processing 50689 of 121682 users... (41.66%)\n",
      "Processing 51201 of 121682 users... (42.08%)\n",
      "Processing 51713 of 121682 users... (42.50%)\n",
      "Processing 52225 of 121682 users... (42.92%)\n",
      "Processing 52737 of 121682 users... (43.34%)\n",
      "Processing 53249 of 121682 users... (43.76%)\n",
      "Processing 53761 of 121682 users... (44.18%)\n",
      "Processing 54273 of 121682 users... (44.60%)\n",
      "Processing 54785 of 121682 users... (45.02%)\n",
      "Processing 55297 of 121682 users... (45.44%)\n",
      "Processing 55809 of 121682 users... (45.86%)\n",
      "Processing 56321 of 121682 users... (46.28%)\n",
      "Processing 56833 of 121682 users... (46.71%)\n",
      "Processing 57345 of 121682 users... (47.13%)\n",
      "Processing 57857 of 121682 users... (47.55%)\n",
      "Processing 58369 of 121682 users... (47.97%)\n",
      "Processing 58881 of 121682 users... (48.39%)\n",
      "Processing 59393 of 121682 users... (48.81%)\n",
      "Processing 59905 of 121682 users... (49.23%)\n",
      "Processing 60417 of 121682 users... (49.65%)\n",
      "Processing 60929 of 121682 users... (50.07%)\n",
      "Processing 61441 of 121682 users... (50.49%)\n",
      "Processing 61953 of 121682 users... (50.91%)\n",
      "Processing 62465 of 121682 users... (51.33%)\n",
      "Processing 62977 of 121682 users... (51.75%)\n",
      "Processing 63489 of 121682 users... (52.18%)\n",
      "Processing 64001 of 121682 users... (52.60%)\n",
      "Processing 64513 of 121682 users... (53.02%)\n",
      "Processing 65025 of 121682 users... (53.44%)\n",
      "Processing 65537 of 121682 users... (53.86%)\n",
      "Processing 66049 of 121682 users... (54.28%)\n",
      "Processing 66561 of 121682 users... (54.70%)\n",
      "Processing 67073 of 121682 users... (55.12%)\n",
      "Processing 67585 of 121682 users... (55.54%)\n",
      "Processing 68097 of 121682 users... (55.96%)\n",
      "Processing 68609 of 121682 users... (56.38%)\n",
      "Processing 69121 of 121682 users... (56.80%)\n",
      "Processing 69633 of 121682 users... (57.22%)\n",
      "Processing 70145 of 121682 users... (57.65%)\n",
      "Processing 70657 of 121682 users... (58.07%)\n",
      "Processing 71169 of 121682 users... (58.49%)\n",
      "Processing 71681 of 121682 users... (58.91%)\n",
      "Processing 72193 of 121682 users... (59.33%)\n",
      "Processing 72705 of 121682 users... (59.75%)\n",
      "Processing 73217 of 121682 users... (60.17%)\n",
      "Processing 73729 of 121682 users... (60.59%)\n",
      "Processing 74241 of 121682 users... (61.01%)\n",
      "Processing 74753 of 121682 users... (61.43%)\n",
      "Processing 75265 of 121682 users... (61.85%)\n",
      "Processing 75777 of 121682 users... (62.27%)\n",
      "Processing 76289 of 121682 users... (62.69%)\n",
      "Processing 76801 of 121682 users... (63.12%)\n",
      "Processing 77313 of 121682 users... (63.54%)\n",
      "Processing 77825 of 121682 users... (63.96%)\n",
      "Processing 78337 of 121682 users... (64.38%)\n",
      "Processing 78849 of 121682 users... (64.80%)\n",
      "Processing 79361 of 121682 users... (65.22%)\n",
      "Processing 79873 of 121682 users... (65.64%)\n",
      "Processing 80385 of 121682 users... (66.06%)\n",
      "Processing 80897 of 121682 users... (66.48%)\n",
      "Processing 81409 of 121682 users... (66.90%)\n",
      "Processing 81921 of 121682 users... (67.32%)\n",
      "Processing 82433 of 121682 users... (67.74%)\n",
      "Processing 82945 of 121682 users... (68.16%)\n",
      "Processing 83457 of 121682 users... (68.59%)\n",
      "Processing 83969 of 121682 users... (69.01%)\n",
      "Processing 84481 of 121682 users... (69.43%)\n",
      "Processing 84993 of 121682 users... (69.85%)\n",
      "Processing 85505 of 121682 users... (70.27%)\n",
      "Processing 86017 of 121682 users... (70.69%)\n",
      "Processing 86529 of 121682 users... (71.11%)\n",
      "Processing 87041 of 121682 users... (71.53%)\n",
      "Processing 87553 of 121682 users... (71.95%)\n",
      "Processing 88065 of 121682 users... (72.37%)\n",
      "Processing 88577 of 121682 users... (72.79%)\n",
      "Processing 89089 of 121682 users... (73.21%)\n",
      "Processing 89601 of 121682 users... (73.63%)\n",
      "Processing 90113 of 121682 users... (74.06%)\n",
      "Processing 90625 of 121682 users... (74.48%)\n",
      "Processing 91137 of 121682 users... (74.90%)\n",
      "Processing 91649 of 121682 users... (75.32%)\n",
      "Processing 92161 of 121682 users... (75.74%)\n",
      "Processing 92673 of 121682 users... (76.16%)\n",
      "Processing 93185 of 121682 users... (76.58%)\n",
      "Processing 93697 of 121682 users... (77.00%)\n",
      "Processing 94209 of 121682 users... (77.42%)\n",
      "Processing 94721 of 121682 users... (77.84%)\n",
      "Processing 95233 of 121682 users... (78.26%)\n",
      "Processing 95745 of 121682 users... (78.68%)\n",
      "Processing 96257 of 121682 users... (79.10%)\n",
      "Processing 96769 of 121682 users... (79.53%)\n",
      "Processing 97281 of 121682 users... (79.95%)\n",
      "Processing 97793 of 121682 users... (80.37%)\n",
      "Processing 98305 of 121682 users... (80.79%)\n",
      "Processing 98817 of 121682 users... (81.21%)\n",
      "Processing 99329 of 121682 users... (81.63%)\n",
      "Processing 99841 of 121682 users... (82.05%)\n",
      "Processing 100353 of 121682 users... (82.47%)\n",
      "Processing 100865 of 121682 users... (82.89%)\n",
      "Processing 101377 of 121682 users... (83.31%)\n",
      "Processing 101889 of 121682 users... (83.73%)\n",
      "Processing 102401 of 121682 users... (84.15%)\n",
      "Processing 102913 of 121682 users... (84.57%)\n",
      "Processing 103425 of 121682 users... (85.00%)\n",
      "Processing 103937 of 121682 users... (85.42%)\n",
      "Processing 104449 of 121682 users... (85.84%)\n",
      "Processing 104961 of 121682 users... (86.26%)\n",
      "Processing 105473 of 121682 users... (86.68%)\n",
      "Processing 105985 of 121682 users... (87.10%)\n",
      "Processing 106497 of 121682 users... (87.52%)\n",
      "Processing 107009 of 121682 users... (87.94%)\n",
      "Processing 107521 of 121682 users... (88.36%)\n",
      "Processing 108033 of 121682 users... (88.78%)\n",
      "Processing 108545 of 121682 users... (89.20%)\n",
      "Processing 109057 of 121682 users... (89.62%)\n",
      "Processing 109569 of 121682 users... (90.04%)\n",
      "Processing 110081 of 121682 users... (90.47%)\n",
      "Processing 110593 of 121682 users... (90.89%)\n",
      "Processing 111105 of 121682 users... (91.31%)\n",
      "Processing 111617 of 121682 users... (91.73%)\n",
      "Processing 112129 of 121682 users... (92.15%)\n",
      "Processing 112641 of 121682 users... (92.57%)\n",
      "Processing 113153 of 121682 users... (92.99%)\n",
      "Processing 113665 of 121682 users... (93.41%)\n",
      "Processing 114177 of 121682 users... (93.83%)\n",
      "Processing 114689 of 121682 users... (94.25%)\n",
      "Processing 115201 of 121682 users... (94.67%)\n",
      "Processing 115713 of 121682 users... (95.09%)\n",
      "Processing 116225 of 121682 users... (95.51%)\n",
      "Processing 116737 of 121682 users... (95.94%)\n",
      "Processing 117249 of 121682 users... (96.36%)\n",
      "Processing 117761 of 121682 users... (96.78%)\n",
      "Processing 118273 of 121682 users... (97.20%)\n",
      "Processing 118785 of 121682 users... (97.62%)\n",
      "Processing 119297 of 121682 users... (98.04%)\n",
      "Processing 119809 of 121682 users... (98.46%)\n",
      "Processing 120321 of 121682 users... (98.88%)\n",
      "Processing 120833 of 121682 users... (99.30%)\n",
      "Processing 121345 of 121682 users... (99.72%)\n",
      "Calculating metrics...\n",
      "Processed 10000/121682 users...\n",
      "Processed 20000/121682 users...\n",
      "Processed 30000/121682 users...\n",
      "Processed 40000/121682 users...\n",
      "Processed 50000/121682 users...\n",
      "Processed 60000/121682 users...\n",
      "Processed 70000/121682 users...\n",
      "Processed 80000/121682 users...\n",
      "Processed 90000/121682 users...\n",
      "Processed 100000/121682 users...\n",
      "Processed 110000/121682 users...\n",
      "Processed 120000/121682 users...\n",
      "Processed 121682/121682 users...\n"
     ]
    }
   ],
   "execution_count": 8
  },
  {
   "metadata": {
    "ExecuteTime": {
     "end_time": "2025-04-14T03:33:52.368940Z",
     "start_time": "2025-04-14T03:33:52.363460Z"
    }
   },
   "cell_type": "code",
   "source": "metrics",
   "outputs": [
    {
     "data": {
      "text/plain": [
       "{'Hit Ratio@10': 0.040120971055702566,\n",
       " 'NDCG@10': 0.019648531350272405,\n",
       " 'Recall@10': 0.040120971055702566}"
      ]
     },
     "execution_count": 9,
     "metadata": {},
     "output_type": "execute_result"
    }
   ],
   "execution_count": 9
  }
 ],
 "metadata": {
  "kernelspec": {
   "display_name": "Python 3",
   "language": "python",
   "name": "python3"
  },
  "language_info": {
   "codemirror_mode": {
    "name": "ipython",
    "version": 3
   },
   "file_extension": ".py",
   "mimetype": "text/x-python",
   "name": "python",
   "nbconvert_exporter": "python",
   "pygments_lexer": "ipython3",
   "version": "3.12.1"
  }
 },
 "nbformat": 4,
 "nbformat_minor": 2
}
