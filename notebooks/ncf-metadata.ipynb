{
 "cells": [
  {
   "cell_type": "markdown",
   "metadata": {},
   "source": [
    "# Import libraries"
   ]
  },
  {
   "cell_type": "code",
   "metadata": {
    "ExecuteTime": {
     "end_time": "2025-04-07T03:20:36.781147Z",
     "start_time": "2025-04-07T03:20:33.906865Z"
    }
   },
   "source": [
    "import pandas as pd\n",
    "from torch.utils.data import DataLoader\n",
    "from dataset import NCFDataset\n",
    "from recom_ncf import NCFRecommender\n",
    "from evaluation import Evaluation\n",
    "from helpers.index_manager import IndexManager\n",
    "from helpers.splitter import Splitter\n",
    "import ast\n",
    "import numpy as np"
   ],
   "outputs": [],
   "execution_count": 1
  },
  {
   "cell_type": "markdown",
   "metadata": {},
   "source": [
    "# Loading data"
   ]
  },
  {
   "metadata": {
    "ExecuteTime": {
     "end_time": "2025-04-07T03:20:36.786213Z",
     "start_time": "2025-04-07T03:20:36.781147Z"
    }
   },
   "cell_type": "code",
   "source": [
    "metadata_features = ['publishers']\n",
    "# metadata_features = ['pub_encoded', 'dev_encoded', 'tag_encoded', 'lang_encoded', 'gen_encoded', 'cat_encoded', 'mm_total_recommendation', 'z_total_recommendation', 'log_total_recommendation', 'mm_price', 'z_price', 'log_price', 'mm_released_date', 'z_released_date', 'log_released_date']"
   ],
   "outputs": [],
   "execution_count": 2
  },
  {
   "metadata": {
    "ExecuteTime": {
     "end_time": "2025-04-07T03:20:45.354019Z",
     "start_time": "2025-04-07T03:20:36.905773Z"
    }
   },
   "cell_type": "code",
   "source": [
    "df = pd.read_csv('../data/interaction-metadata.csv')[['user_id', 'item_id', 'rating_imp', 'timestamp'] + metadata_features]\n",
    "df.head()"
   ],
   "outputs": [
    {
     "data": {
      "text/plain": [
       "             user_id  item_id  rating_imp   timestamp publishers\n",
       "0  76561197960432447       10           1  1738278781        [0]\n",
       "1  76561198071230926       10           1  1736206418        [0]\n",
       "2  76561198206216352       10           1  1738041574        [0]\n",
       "3  76561198110801124       10           1  1738015332        [0]\n",
       "4  76561199813732773       10           1  1737853720        [0]"
      ],
      "text/html": [
       "<div>\n",
       "<style scoped>\n",
       "    .dataframe tbody tr th:only-of-type {\n",
       "        vertical-align: middle;\n",
       "    }\n",
       "\n",
       "    .dataframe tbody tr th {\n",
       "        vertical-align: top;\n",
       "    }\n",
       "\n",
       "    .dataframe thead th {\n",
       "        text-align: right;\n",
       "    }\n",
       "</style>\n",
       "<table border=\"1\" class=\"dataframe\">\n",
       "  <thead>\n",
       "    <tr style=\"text-align: right;\">\n",
       "      <th></th>\n",
       "      <th>user_id</th>\n",
       "      <th>item_id</th>\n",
       "      <th>rating_imp</th>\n",
       "      <th>timestamp</th>\n",
       "      <th>publishers</th>\n",
       "    </tr>\n",
       "  </thead>\n",
       "  <tbody>\n",
       "    <tr>\n",
       "      <th>0</th>\n",
       "      <td>76561197960432447</td>\n",
       "      <td>10</td>\n",
       "      <td>1</td>\n",
       "      <td>1738278781</td>\n",
       "      <td>[0]</td>\n",
       "    </tr>\n",
       "    <tr>\n",
       "      <th>1</th>\n",
       "      <td>76561198071230926</td>\n",
       "      <td>10</td>\n",
       "      <td>1</td>\n",
       "      <td>1736206418</td>\n",
       "      <td>[0]</td>\n",
       "    </tr>\n",
       "    <tr>\n",
       "      <th>2</th>\n",
       "      <td>76561198206216352</td>\n",
       "      <td>10</td>\n",
       "      <td>1</td>\n",
       "      <td>1738041574</td>\n",
       "      <td>[0]</td>\n",
       "    </tr>\n",
       "    <tr>\n",
       "      <th>3</th>\n",
       "      <td>76561198110801124</td>\n",
       "      <td>10</td>\n",
       "      <td>1</td>\n",
       "      <td>1738015332</td>\n",
       "      <td>[0]</td>\n",
       "    </tr>\n",
       "    <tr>\n",
       "      <th>4</th>\n",
       "      <td>76561199813732773</td>\n",
       "      <td>10</td>\n",
       "      <td>1</td>\n",
       "      <td>1737853720</td>\n",
       "      <td>[0]</td>\n",
       "    </tr>\n",
       "  </tbody>\n",
       "</table>\n",
       "</div>"
      ]
     },
     "execution_count": 3,
     "metadata": {},
     "output_type": "execute_result"
    }
   ],
   "execution_count": 3
  },
  {
   "metadata": {
    "ExecuteTime": {
     "end_time": "2025-04-07T03:20:50.582389Z",
     "start_time": "2025-04-07T03:20:45.379792Z"
    }
   },
   "cell_type": "code",
   "source": [
    "df['publishers'] = df['publishers'].apply(ast.literal_eval)\n",
    "# df['developers'] = df['developers'].apply(ast.literal_eval)\n",
    "# df['tags'] = df['tags'].apply(ast.literal_eval)\n",
    "# df['supported_languages'] = df['supported_languages'].apply(ast.literal_eval)\n",
    "# df['genres'] = df['genres'].apply(ast.literal_eval)\n",
    "# df['categories'] = df['categories'].apply(ast.literal_eval)"
   ],
   "outputs": [],
   "execution_count": 4
  },
  {
   "metadata": {},
   "cell_type": "markdown",
   "source": "# Indexing data"
  },
  {
   "metadata": {
    "ExecuteTime": {
     "end_time": "2025-04-07T03:20:54.158145Z",
     "start_time": "2025-04-07T03:20:50.601644Z"
    }
   },
   "cell_type": "code",
   "source": [
    "index_manager = IndexManager()\n",
    "index_manager.fit(df_interaction=df)\n",
    "index_manager.transform_interactions(df, inplace=True)"
   ],
   "outputs": [
    {
     "name": "stdout",
     "output_type": "stream",
     "text": [
      "Indexed 832660 users and 68396 items\n",
      "User index range: 0-832659\n",
      "Item index range: 0-68395\n"
     ]
    },
    {
     "data": {
      "text/plain": [
       "         user_id  item_id  rating_imp   timestamp publishers\n",
       "0              0        0           1  1738278781        [0]\n",
       "1              1        0           1  1736206418        [0]\n",
       "2              2        0           1  1738041574        [0]\n",
       "3              3        0           1  1738015332        [0]\n",
       "4              4        0           1  1737853720        [0]\n",
       "...          ...      ...         ...         ...        ...\n",
       "1149950    15755    24642           1  1663545142    [36058]\n",
       "1149951   150280    24642           1  1689826252    [36058]\n",
       "1149952     1336    24643           1  1595699739        [1]\n",
       "1149953    11520    24643           0  1706470035        [1]\n",
       "1149954     2463    24643           1  1720163517        [1]\n",
       "\n",
       "[1149955 rows x 5 columns]"
      ],
      "text/html": [
       "<div>\n",
       "<style scoped>\n",
       "    .dataframe tbody tr th:only-of-type {\n",
       "        vertical-align: middle;\n",
       "    }\n",
       "\n",
       "    .dataframe tbody tr th {\n",
       "        vertical-align: top;\n",
       "    }\n",
       "\n",
       "    .dataframe thead th {\n",
       "        text-align: right;\n",
       "    }\n",
       "</style>\n",
       "<table border=\"1\" class=\"dataframe\">\n",
       "  <thead>\n",
       "    <tr style=\"text-align: right;\">\n",
       "      <th></th>\n",
       "      <th>user_id</th>\n",
       "      <th>item_id</th>\n",
       "      <th>rating_imp</th>\n",
       "      <th>timestamp</th>\n",
       "      <th>publishers</th>\n",
       "    </tr>\n",
       "  </thead>\n",
       "  <tbody>\n",
       "    <tr>\n",
       "      <th>0</th>\n",
       "      <td>0</td>\n",
       "      <td>0</td>\n",
       "      <td>1</td>\n",
       "      <td>1738278781</td>\n",
       "      <td>[0]</td>\n",
       "    </tr>\n",
       "    <tr>\n",
       "      <th>1</th>\n",
       "      <td>1</td>\n",
       "      <td>0</td>\n",
       "      <td>1</td>\n",
       "      <td>1736206418</td>\n",
       "      <td>[0]</td>\n",
       "    </tr>\n",
       "    <tr>\n",
       "      <th>2</th>\n",
       "      <td>2</td>\n",
       "      <td>0</td>\n",
       "      <td>1</td>\n",
       "      <td>1738041574</td>\n",
       "      <td>[0]</td>\n",
       "    </tr>\n",
       "    <tr>\n",
       "      <th>3</th>\n",
       "      <td>3</td>\n",
       "      <td>0</td>\n",
       "      <td>1</td>\n",
       "      <td>1738015332</td>\n",
       "      <td>[0]</td>\n",
       "    </tr>\n",
       "    <tr>\n",
       "      <th>4</th>\n",
       "      <td>4</td>\n",
       "      <td>0</td>\n",
       "      <td>1</td>\n",
       "      <td>1737853720</td>\n",
       "      <td>[0]</td>\n",
       "    </tr>\n",
       "    <tr>\n",
       "      <th>...</th>\n",
       "      <td>...</td>\n",
       "      <td>...</td>\n",
       "      <td>...</td>\n",
       "      <td>...</td>\n",
       "      <td>...</td>\n",
       "    </tr>\n",
       "    <tr>\n",
       "      <th>1149950</th>\n",
       "      <td>15755</td>\n",
       "      <td>24642</td>\n",
       "      <td>1</td>\n",
       "      <td>1663545142</td>\n",
       "      <td>[36058]</td>\n",
       "    </tr>\n",
       "    <tr>\n",
       "      <th>1149951</th>\n",
       "      <td>150280</td>\n",
       "      <td>24642</td>\n",
       "      <td>1</td>\n",
       "      <td>1689826252</td>\n",
       "      <td>[36058]</td>\n",
       "    </tr>\n",
       "    <tr>\n",
       "      <th>1149952</th>\n",
       "      <td>1336</td>\n",
       "      <td>24643</td>\n",
       "      <td>1</td>\n",
       "      <td>1595699739</td>\n",
       "      <td>[1]</td>\n",
       "    </tr>\n",
       "    <tr>\n",
       "      <th>1149953</th>\n",
       "      <td>11520</td>\n",
       "      <td>24643</td>\n",
       "      <td>0</td>\n",
       "      <td>1706470035</td>\n",
       "      <td>[1]</td>\n",
       "    </tr>\n",
       "    <tr>\n",
       "      <th>1149954</th>\n",
       "      <td>2463</td>\n",
       "      <td>24643</td>\n",
       "      <td>1</td>\n",
       "      <td>1720163517</td>\n",
       "      <td>[1]</td>\n",
       "    </tr>\n",
       "  </tbody>\n",
       "</table>\n",
       "<p>1149955 rows × 5 columns</p>\n",
       "</div>"
      ]
     },
     "execution_count": 5,
     "metadata": {},
     "output_type": "execute_result"
    }
   ],
   "execution_count": 5
  },
  {
   "metadata": {
    "ExecuteTime": {
     "end_time": "2025-04-07T03:20:54.225014Z",
     "start_time": "2025-04-07T03:20:54.187094Z"
    }
   },
   "cell_type": "code",
   "source": "df_features = df[['item_id'] + metadata_features].drop_duplicates(subset='item_id')",
   "outputs": [],
   "execution_count": 6
  },
  {
   "metadata": {},
   "cell_type": "markdown",
   "source": "# Creating datasets"
  },
  {
   "metadata": {
    "ExecuteTime": {
     "end_time": "2025-04-07T03:21:48.050002Z",
     "start_time": "2025-04-07T03:20:54.244186Z"
    }
   },
   "cell_type": "code",
   "source": [
    "splitter = Splitter(df)\n",
    "df_train, df_val, df_test = splitter.leave_k_out_split()"
   ],
   "outputs": [
    {
     "name": "stdout",
     "output_type": "stream",
     "text": [
      "Splitting data with leave-2-out strategy (1 for validation, 1 for testing)\n",
      "Total users: 832660\n",
      "Interactions per user: min=1, max=1034, avg=1.4\n",
      "Note: 703199 users have fewer than 2 interactions.\n",
      "These users will be placed entirely in the training set.\n",
      "Split complete: 1149955 total interactions\n",
      "Train set: 891033 interactions (77.5%)\n",
      "Validation set: 129461 interactions (11.3%)\n",
      "Test set: 129461 interactions (11.3%)\n"
     ]
    }
   ],
   "execution_count": 7
  },
  {
   "metadata": {
    "ExecuteTime": {
     "end_time": "2025-04-07T03:21:48.072078Z",
     "start_time": "2025-04-07T03:21:48.058246Z"
    }
   },
   "cell_type": "code",
   "source": [
    "train_dataset = NCFDataset(df_train)\n",
    "val_dataset = NCFDataset(df_val)"
   ],
   "outputs": [],
   "execution_count": 8
  },
  {
   "metadata": {
    "ExecuteTime": {
     "end_time": "2025-04-07T03:21:52.268675Z",
     "start_time": "2025-04-07T03:21:52.262613Z"
    }
   },
   "cell_type": "code",
   "source": [
    "train_dataloader = DataLoader(train_dataset, batch_size=2**16, num_workers=4, persistent_workers=True, prefetch_factor=2, pin_memory=True, shuffle=True)\n",
    "eval_dataloader = DataLoader(val_dataset, batch_size=2**16, num_workers=4, persistent_workers=True, prefetch_factor=2, pin_memory=True, shuffle=False)"
   ],
   "outputs": [],
   "execution_count": 9
  },
  {
   "cell_type": "markdown",
   "metadata": {},
   "source": [
    "# Training model"
   ]
  },
  {
   "metadata": {
    "ExecuteTime": {
     "end_time": "2025-04-07T03:21:56.507917Z",
     "start_time": "2025-04-07T03:21:56.416287Z"
    }
   },
   "cell_type": "code",
   "source": [
    "mlp_additional_features = {}\n",
    "for feature in metadata_features:\n",
    "    sample = df.iloc[0][feature]\n",
    "    if isinstance(sample, list):\n",
    "        num_unique_values = df[feature].explode().nunique()\n",
    "        mlp_additional_features[feature] = (num_unique_values, 8)\n",
    "    else:\n",
    "        mlp_additional_features[feature] = (1, 8)"
   ],
   "outputs": [],
   "execution_count": 10
  },
  {
   "cell_type": "code",
   "metadata": {
    "ExecuteTime": {
     "end_time": "2025-04-07T03:22:08.380519Z",
     "start_time": "2025-04-07T03:21:58.606039Z"
    }
   },
   "source": [
    "params = {'factors': 8, 'mlp_user_item_dim': 128, 'learning_rate': 0.01, 'epochs': 5, 'optimizer': 'adagrad', 'dropout': 0.0, 'weight_decay': 0.0001, 'loss_fn': 'mse'}\n",
    "\n",
    "unique_users = index_manager.get_indexed_users()\n",
    "unique_items = index_manager.get_indexed_items()\n",
    "\n",
    "model = NCFRecommender(unique_users, unique_items, mlp_additional_features=mlp_additional_features, **params)\n",
    "model.fit(train_dataloader, eval_dataloader, df_features=df_features)"
   ],
   "outputs": [
    {
     "name": "stdout",
     "output_type": "stream",
     "text": [
      "Epoch 1/5\n"
     ]
    },
    {
     "ename": "ValueError",
     "evalue": "too many values to unpack (expected 3)",
     "output_type": "error",
     "traceback": [
      "\u001B[1;31m---------------------------------------------------------------------------\u001B[0m",
      "\u001B[1;31mValueError\u001B[0m                                Traceback (most recent call last)",
      "Cell \u001B[1;32mIn[11], line 7\u001B[0m\n\u001B[0;32m      4\u001B[0m unique_items \u001B[38;5;241m=\u001B[39m index_manager\u001B[38;5;241m.\u001B[39mget_indexed_items()\n\u001B[0;32m      6\u001B[0m model \u001B[38;5;241m=\u001B[39m NCFRecommender(unique_users, unique_items, mlp_additional_features\u001B[38;5;241m=\u001B[39mmlp_additional_features, \u001B[38;5;241m*\u001B[39m\u001B[38;5;241m*\u001B[39mparams)\n\u001B[1;32m----> 7\u001B[0m \u001B[43mmodel\u001B[49m\u001B[38;5;241;43m.\u001B[39;49m\u001B[43mfit\u001B[49m\u001B[43m(\u001B[49m\u001B[43mtrain_dataloader\u001B[49m\u001B[43m,\u001B[49m\u001B[43m \u001B[49m\u001B[43meval_dataloader\u001B[49m\u001B[43m,\u001B[49m\u001B[43m \u001B[49m\u001B[43mdf_features\u001B[49m\u001B[38;5;241;43m=\u001B[39;49m\u001B[43mdf_features\u001B[49m\u001B[43m)\u001B[49m\n",
      "File \u001B[1;32m~\\PycharmProjects\\multimodal-neural-collaborative-filtering\\recom_ncf.py:110\u001B[0m, in \u001B[0;36mNCFRecommender.fit\u001B[1;34m(self, train_data, val_data, df_features)\u001B[0m\n\u001B[0;32m    107\u001B[0m \u001B[38;5;28;01mfor\u001B[39;00m epoch \u001B[38;5;129;01min\u001B[39;00m \u001B[38;5;28mrange\u001B[39m(\u001B[38;5;28mself\u001B[39m\u001B[38;5;241m.\u001B[39mepochs):\n\u001B[0;32m    108\u001B[0m     \u001B[38;5;28mprint\u001B[39m(\u001B[38;5;124mf\u001B[39m\u001B[38;5;124m\"\u001B[39m\u001B[38;5;124mEpoch \u001B[39m\u001B[38;5;132;01m{\u001B[39;00mepoch\u001B[38;5;241m+\u001B[39m\u001B[38;5;241m1\u001B[39m\u001B[38;5;132;01m}\u001B[39;00m\u001B[38;5;124m/\u001B[39m\u001B[38;5;132;01m{\u001B[39;00m\u001B[38;5;28mself\u001B[39m\u001B[38;5;241m.\u001B[39mepochs\u001B[38;5;132;01m}\u001B[39;00m\u001B[38;5;124m\"\u001B[39m)\n\u001B[1;32m--> 110\u001B[0m     train_loss \u001B[38;5;241m=\u001B[39m \u001B[38;5;28;43mself\u001B[39;49m\u001B[38;5;241;43m.\u001B[39;49m\u001B[43mtrain\u001B[49m\u001B[43m(\u001B[49m\u001B[43mtrain_data\u001B[49m\u001B[43m,\u001B[49m\u001B[43m \u001B[49m\u001B[43mloss_fn\u001B[49m\u001B[43m,\u001B[49m\u001B[43m \u001B[49m\u001B[43moptimizer\u001B[49m\u001B[43m)\u001B[49m\n\u001B[0;32m    111\u001B[0m     train_losses\u001B[38;5;241m.\u001B[39mappend(train_loss)\n\u001B[0;32m    113\u001B[0m     val_loss \u001B[38;5;241m=\u001B[39m \u001B[38;5;28mself\u001B[39m\u001B[38;5;241m.\u001B[39mvalidate(val_data, loss_fn)\n",
      "File \u001B[1;32m~\\PycharmProjects\\multimodal-neural-collaborative-filtering\\recom_ncf.py:144\u001B[0m, in \u001B[0;36mNCFRecommender.train\u001B[1;34m(self, train_data, loss_fn, optimizer)\u001B[0m\n\u001B[0;32m    141\u001B[0m num_batches \u001B[38;5;241m=\u001B[39m \u001B[38;5;241m0\u001B[39m\n\u001B[0;32m    143\u001B[0m \u001B[38;5;28;01mfor\u001B[39;00m data_batch \u001B[38;5;129;01min\u001B[39;00m train_data:\n\u001B[1;32m--> 144\u001B[0m     users, items, ratings, additional_features \u001B[38;5;241m=\u001B[39m \u001B[38;5;28;43mself\u001B[39;49m\u001B[38;5;241;43m.\u001B[39;49m\u001B[43m_move_data_to_device\u001B[49m\u001B[43m(\u001B[49m\u001B[43mdata_batch\u001B[49m\u001B[43m)\u001B[49m\n\u001B[0;32m    146\u001B[0m     optimizer\u001B[38;5;241m.\u001B[39mzero_grad()\n\u001B[0;32m    148\u001B[0m     predictions \u001B[38;5;241m=\u001B[39m \u001B[38;5;28mself\u001B[39m\u001B[38;5;241m.\u001B[39mmodel(users, items, additional_features)\n",
      "File \u001B[1;32m~\\PycharmProjects\\multimodal-neural-collaborative-filtering\\recom_ncf.py:177\u001B[0m, in \u001B[0;36mNCFRecommender._move_data_to_device\u001B[1;34m(self, data_batch)\u001B[0m\n\u001B[0;32m    176\u001B[0m \u001B[38;5;28;01mdef\u001B[39;00m \u001B[38;5;21m_move_data_to_device\u001B[39m(\u001B[38;5;28mself\u001B[39m, data_batch):\n\u001B[1;32m--> 177\u001B[0m     users, items, ratings \u001B[38;5;241m=\u001B[39m data_batch\n\u001B[0;32m    179\u001B[0m     items_np \u001B[38;5;241m=\u001B[39m items\u001B[38;5;241m.\u001B[39mnumpy()\n\u001B[0;32m    181\u001B[0m     users \u001B[38;5;241m=\u001B[39m users\u001B[38;5;241m.\u001B[39mto(\u001B[38;5;28mself\u001B[39m\u001B[38;5;241m.\u001B[39mdevice)\n",
      "\u001B[1;31mValueError\u001B[0m: too many values to unpack (expected 3)"
     ]
    }
   ],
   "execution_count": 11
  },
  {
   "cell_type": "markdown",
   "metadata": {},
   "source": [
    "# Evaluating model"
   ]
  },
  {
   "cell_type": "code",
   "metadata": {
    "ExecuteTime": {
     "end_time": "2025-04-07T03:18:18.764258Z",
     "start_time": "2025-04-07T03:12:52.609556Z"
    }
   },
   "source": [
    "evaluator = Evaluation(recommender=model, test_data=df_test)\n",
    "metrics = evaluator.evaluate(user_batch_size=512, item_batch_size=2048)"
   ],
   "outputs": [
    {
     "name": "stdout",
     "output_type": "stream",
     "text": [
      "Creating ground truth sets...\n",
      "Generating predictions...\n",
      "Processing predictions for 129461 users and 68396 items\n",
      "Processing 1 of 129461 users... (0.00%)\n",
      "Time taken to create additional features: 0.7970438003540039 seconds\n",
      "Time taken to create additional features: 0.7702267169952393 seconds\n",
      "Time taken to create additional features: 0.7444725036621094 seconds\n",
      "Time taken to create additional features: 0.7579104900360107 seconds\n",
      "Time taken to create additional features: 0.7628574371337891 seconds\n",
      "Time taken to create additional features: 0.7580218315124512 seconds\n",
      "Time taken to create additional features: 0.7589056491851807 seconds\n",
      "Time taken to create additional features: 0.750079870223999 seconds\n",
      "Time taken to create additional features: 0.7772068977355957 seconds\n",
      "Time taken to create additional features: 0.7717013359069824 seconds\n",
      "Time taken to create additional features: 0.7599804401397705 seconds\n",
      "Time taken to create additional features: 0.7612223625183105 seconds\n",
      "Time taken to create additional features: 0.7769603729248047 seconds\n",
      "Time taken to create additional features: 0.7722134590148926 seconds\n",
      "Time taken to create additional features: 0.7511911392211914 seconds\n",
      "Time taken to create additional features: 0.7924158573150635 seconds\n",
      "Time taken to create additional features: 0.7710871696472168 seconds\n",
      "Time taken to create additional features: 0.8062686920166016 seconds\n",
      "Time taken to create additional features: 0.7884988784790039 seconds\n",
      "Time taken to create additional features: 0.7637810707092285 seconds\n",
      "Time taken to create additional features: 0.7605321407318115 seconds\n",
      "Time taken to create additional features: 0.7708148956298828 seconds\n",
      "Time taken to create additional features: 0.7420158386230469 seconds\n",
      "Time taken to create additional features: 0.7754306793212891 seconds\n",
      "Time taken to create additional features: 0.7611556053161621 seconds\n",
      "Time taken to create additional features: 0.7677311897277832 seconds\n",
      "Time taken to create additional features: 0.7870323657989502 seconds\n",
      "Time taken to create additional features: 0.7878808975219727 seconds\n",
      "Time taken to create additional features: 0.808666467666626 seconds\n",
      "Time taken to create additional features: 0.7594602108001709 seconds\n",
      "Time taken to create additional features: 0.7696840763092041 seconds\n",
      "Time taken to create additional features: 0.7662672996520996 seconds\n",
      "Time taken to create additional features: 0.794081449508667 seconds\n",
      "Time taken to create additional features: 0.2956852912902832 seconds\n",
      "Memory usage: 0.7548828125 . Increasing batch size with increasing rate of 1.1\n",
      "Increased user batch size from 512 to 563\n",
      "Increased item batch size from 2048 to 2253\n",
      "Processing 513 of 129461 users... (0.40%)\n",
      "Time taken to create additional features: 0.9463999271392822 seconds\n",
      "Time taken to create additional features: 0.9118402004241943 seconds\n",
      "Time taken to create additional features: 0.8903884887695312 seconds\n",
      "Time taken to create additional features: 1.014702320098877 seconds\n",
      "Time taken to create additional features: 1.2874717712402344 seconds\n",
      "Time taken to create additional features: 1.2852208614349365 seconds\n",
      "Time taken to create additional features: 1.4603352546691895 seconds\n",
      "Time taken to create additional features: 1.363246202468872 seconds\n",
      "Time taken to create additional features: 1.2252652645111084 seconds\n",
      "Time taken to create additional features: 1.1482295989990234 seconds\n",
      "Time taken to create additional features: 1.3714265823364258 seconds\n",
      "Time taken to create additional features: 1.2460479736328125 seconds\n",
      "Time taken to create additional features: 1.1671779155731201 seconds\n",
      "Time taken to create additional features: 1.2619423866271973 seconds\n",
      "Time taken to create additional features: 1.2493503093719482 seconds\n",
      "Time taken to create additional features: 1.2443389892578125 seconds\n",
      "Time taken to create additional features: 1.243175745010376 seconds\n",
      "Time taken to create additional features: 1.3072872161865234 seconds\n",
      "Time taken to create additional features: 1.1489312648773193 seconds\n",
      "Time taken to create additional features: 1.21315336227417 seconds\n",
      "Time taken to create additional features: 1.2198987007141113 seconds\n",
      "Time taken to create additional features: 1.2414846420288086 seconds\n",
      "Time taken to create additional features: 1.4168965816497803 seconds\n",
      "Time taken to create additional features: 1.2356936931610107 seconds\n",
      "Time taken to create additional features: 1.2560639381408691 seconds\n",
      "Time taken to create additional features: 1.2007176876068115 seconds\n",
      "Time taken to create additional features: 1.235290288925171 seconds\n",
      "Time taken to create additional features: 1.3031377792358398 seconds\n",
      "Time taken to create additional features: 1.3209888935089111 seconds\n",
      "Time taken to create additional features: 1.3437504768371582 seconds\n",
      "Time taken to create additional features: 0.3780498504638672 seconds\n",
      "Memory usage: 0.709716796875 . Increasing batch size with increasing rate of 1.1\n",
      "Increased user batch size from 563 to 619\n",
      "Increased item batch size from 2253 to 2478\n",
      "Processing 1076 of 129461 users... (0.83%)\n",
      "Time taken to create additional features: 1.5502216815948486 seconds\n",
      "Time taken to create additional features: 1.4932377338409424 seconds\n",
      "Time taken to create additional features: 1.4701850414276123 seconds\n",
      "Time taken to create additional features: 1.4473347663879395 seconds\n",
      "Time taken to create additional features: 1.6580967903137207 seconds\n",
      "Time taken to create additional features: 1.5180165767669678 seconds\n",
      "Time taken to create additional features: 1.7212395668029785 seconds\n",
      "Time taken to create additional features: 1.3682496547698975 seconds\n",
      "Time taken to create additional features: 1.514235496520996 seconds\n",
      "Time taken to create additional features: 1.5820808410644531 seconds\n",
      "Time taken to create additional features: 1.440955400466919 seconds\n",
      "Time taken to create additional features: 1.1125073432922363 seconds\n",
      "Time taken to create additional features: 1.115762710571289 seconds\n",
      "Time taken to create additional features: 1.0832672119140625 seconds\n",
      "Time taken to create additional features: 1.098473310470581 seconds\n",
      "Time taken to create additional features: 1.0858640670776367 seconds\n",
      "Time taken to create additional features: 1.1054878234863281 seconds\n",
      "Time taken to create additional features: 1.1028032302856445 seconds\n",
      "Time taken to create additional features: 1.1237306594848633 seconds\n",
      "Time taken to create additional features: 1.230172872543335 seconds\n",
      "Time taken to create additional features: 1.6033763885498047 seconds\n",
      "Time taken to create additional features: 1.395630121231079 seconds\n",
      "Time taken to create additional features: 1.6575469970703125 seconds\n",
      "Time taken to create additional features: 1.51951003074646 seconds\n",
      "Time taken to create additional features: 1.6157310009002686 seconds\n",
      "Time taken to create additional features: 1.4615957736968994 seconds\n",
      "Time taken to create additional features: 1.5677218437194824 seconds\n",
      "Time taken to create additional features: 0.9342191219329834 seconds\n",
      "Processing 1695 of 129461 users... (1.31%)\n",
      "Time taken to create additional features: 1.441657304763794 seconds\n",
      "Time taken to create additional features: 1.3142576217651367 seconds\n",
      "Time taken to create additional features: 1.4119422435760498 seconds\n",
      "Time taken to create additional features: 1.4323387145996094 seconds\n",
      "Time taken to create additional features: 1.5171504020690918 seconds\n",
      "Time taken to create additional features: 1.478567123413086 seconds\n",
      "Time taken to create additional features: 1.516768217086792 seconds\n",
      "Time taken to create additional features: 1.492006778717041 seconds\n",
      "Time taken to create additional features: 1.5331172943115234 seconds\n",
      "Time taken to create additional features: 1.328188180923462 seconds\n",
      "Time taken to create additional features: 1.524169683456421 seconds\n",
      "Time taken to create additional features: 1.4272842407226562 seconds\n",
      "Time taken to create additional features: 1.4472551345825195 seconds\n",
      "Time taken to create additional features: 1.5069489479064941 seconds\n",
      "Time taken to create additional features: 1.327355146408081 seconds\n",
      "Time taken to create additional features: 1.1133742332458496 seconds\n",
      "Time taken to create additional features: 1.1003060340881348 seconds\n",
      "Time taken to create additional features: 1.0702452659606934 seconds\n",
      "Time taken to create additional features: 1.104323148727417 seconds\n",
      "Time taken to create additional features: 1.1190769672393799 seconds\n",
      "Time taken to create additional features: 1.1081950664520264 seconds\n",
      "Time taken to create additional features: 1.1079657077789307 seconds\n",
      "Time taken to create additional features: 1.1152992248535156 seconds\n",
      "Time taken to create additional features: 1.1060442924499512 seconds\n",
      "Time taken to create additional features: 1.0888564586639404 seconds\n",
      "Time taken to create additional features: 1.1161043643951416 seconds\n",
      "Time taken to create additional features: 1.1282057762145996 seconds\n",
      "Time taken to create additional features: 0.6655678749084473 seconds\n",
      "Processing 2314 of 129461 users... (1.79%)\n",
      "Time taken to create additional features: 1.1444110870361328 seconds\n",
      "Time taken to create additional features: 1.10945725440979 seconds\n",
      "Time taken to create additional features: 1.092517614364624 seconds\n",
      "Time taken to create additional features: 1.1189289093017578 seconds\n",
      "Time taken to create additional features: 1.117004632949829 seconds\n",
      "Time taken to create additional features: 1.094303846359253 seconds\n",
      "Time taken to create additional features: 1.1289598941802979 seconds\n",
      "Time taken to create additional features: 1.1128792762756348 seconds\n",
      "Time taken to create additional features: 1.100367546081543 seconds\n",
      "Time taken to create additional features: 1.1161348819732666 seconds\n",
      "Time taken to create additional features: 1.0919699668884277 seconds\n",
      "Time taken to create additional features: 1.12495756149292 seconds\n",
      "Time taken to create additional features: 1.1052441596984863 seconds\n",
      "Time taken to create additional features: 1.0729269981384277 seconds\n",
      "Time taken to create additional features: 1.07338285446167 seconds\n",
      "Time taken to create additional features: 1.113959789276123 seconds\n",
      "Time taken to create additional features: 1.137279987335205 seconds\n",
      "Time taken to create additional features: 1.0947599411010742 seconds\n",
      "Time taken to create additional features: 1.1104872226715088 seconds\n",
      "Time taken to create additional features: 1.1163771152496338 seconds\n",
      "Time taken to create additional features: 1.0921978950500488 seconds\n",
      "Time taken to create additional features: 1.1465528011322021 seconds\n",
      "Time taken to create additional features: 1.1371281147003174 seconds\n",
      "Time taken to create additional features: 1.0714037418365479 seconds\n",
      "Time taken to create additional features: 1.1009764671325684 seconds\n",
      "Time taken to create additional features: 1.0926055908203125 seconds\n",
      "Time taken to create additional features: 1.1101291179656982 seconds\n",
      "Time taken to create additional features: 0.657123327255249 seconds\n",
      "Processing 2933 of 129461 users... (2.26%)\n",
      "Time taken to create additional features: 1.1599550247192383 seconds\n",
      "Time taken to create additional features: 1.1608164310455322 seconds\n",
      "Time taken to create additional features: 1.1512467861175537 seconds\n",
      "Time taken to create additional features: 1.068584680557251 seconds\n",
      "Time taken to create additional features: 1.0897340774536133 seconds\n",
      "Time taken to create additional features: 1.1029303073883057 seconds\n",
      "Time taken to create additional features: 1.105283498764038 seconds\n",
      "Time taken to create additional features: 1.0839207172393799 seconds\n",
      "Time taken to create additional features: 1.1251015663146973 seconds\n",
      "Time taken to create additional features: 1.1590747833251953 seconds\n",
      "Time taken to create additional features: 1.1036558151245117 seconds\n",
      "Time taken to create additional features: 1.106123685836792 seconds\n",
      "Time taken to create additional features: 1.091764211654663 seconds\n",
      "Time taken to create additional features: 1.0931222438812256 seconds\n",
      "Time taken to create additional features: 1.1259777545928955 seconds\n",
      "Time taken to create additional features: 1.0970375537872314 seconds\n",
      "Time taken to create additional features: 1.1116502285003662 seconds\n",
      "Time taken to create additional features: 1.096224308013916 seconds\n",
      "Time taken to create additional features: 1.1022326946258545 seconds\n",
      "Time taken to create additional features: 1.1034016609191895 seconds\n",
      "Time taken to create additional features: 1.091515302658081 seconds\n",
      "Time taken to create additional features: 1.113135576248169 seconds\n",
      "Time taken to create additional features: 1.1113698482513428 seconds\n",
      "Time taken to create additional features: 1.1023082733154297 seconds\n",
      "Time taken to create additional features: 1.1096022129058838 seconds\n",
      "Time taken to create additional features: 1.106851577758789 seconds\n",
      "Time taken to create additional features: 1.1044654846191406 seconds\n",
      "Time taken to create additional features: 0.6779026985168457 seconds\n",
      "Processing 3552 of 129461 users... (2.74%)\n",
      "Time taken to create additional features: 1.1460590362548828 seconds\n",
      "Time taken to create additional features: 1.1303091049194336 seconds\n",
      "Time taken to create additional features: 1.1078636646270752 seconds\n",
      "Time taken to create additional features: 1.0903003215789795 seconds\n",
      "Time taken to create additional features: 1.1060292720794678 seconds\n",
      "Time taken to create additional features: 1.118349313735962 seconds\n",
      "Time taken to create additional features: 1.0968952178955078 seconds\n",
      "Time taken to create additional features: 1.0926110744476318 seconds\n",
      "Time taken to create additional features: 1.1037442684173584 seconds\n",
      "Time taken to create additional features: 1.1116514205932617 seconds\n",
      "Time taken to create additional features: 1.1181106567382812 seconds\n",
      "Time taken to create additional features: 1.088883399963379 seconds\n",
      "Time taken to create additional features: 1.1045186519622803 seconds\n",
      "Time taken to create additional features: 1.0830109119415283 seconds\n",
      "Time taken to create additional features: 1.1203806400299072 seconds\n",
      "Time taken to create additional features: 1.1950910091400146 seconds\n",
      "Time taken to create additional features: 1.1190276145935059 seconds\n",
      "Time taken to create additional features: 1.1393730640411377 seconds\n",
      "Time taken to create additional features: 1.1407670974731445 seconds\n",
      "Time taken to create additional features: 1.109959363937378 seconds\n",
      "Time taken to create additional features: 1.1373186111450195 seconds\n",
      "Time taken to create additional features: 1.1057682037353516 seconds\n",
      "Time taken to create additional features: 1.1262223720550537 seconds\n",
      "Time taken to create additional features: 1.1111772060394287 seconds\n",
      "Time taken to create additional features: 1.1214382648468018 seconds\n",
      "Time taken to create additional features: 1.099241018295288 seconds\n",
      "Time taken to create additional features: 1.0829920768737793 seconds\n",
      "Time taken to create additional features: 0.6359870433807373 seconds\n",
      "Processing 4171 of 129461 users... (3.22%)\n",
      "Time taken to create additional features: 1.1158080101013184 seconds\n",
      "Time taken to create additional features: 1.121999979019165 seconds\n",
      "Time taken to create additional features: 1.1093904972076416 seconds\n",
      "Time taken to create additional features: 1.1099870204925537 seconds\n",
      "Time taken to create additional features: 1.1119930744171143 seconds\n",
      "Time taken to create additional features: 1.0981760025024414 seconds\n",
      "Time taken to create additional features: 1.0963540077209473 seconds\n",
      "Time taken to create additional features: 1.0922844409942627 seconds\n",
      "Time taken to create additional features: 1.083435297012329 seconds\n",
      "Time taken to create additional features: 1.0729413032531738 seconds\n",
      "Time taken to create additional features: 1.114642858505249 seconds\n",
      "Time taken to create additional features: 1.1365234851837158 seconds\n",
      "Time taken to create additional features: 1.114091396331787 seconds\n",
      "Time taken to create additional features: 1.0956029891967773 seconds\n",
      "Time taken to create additional features: 1.0961709022521973 seconds\n",
      "Time taken to create additional features: 1.1201927661895752 seconds\n",
      "Time taken to create additional features: 1.075843334197998 seconds\n",
      "Time taken to create additional features: 1.0931339263916016 seconds\n",
      "Time taken to create additional features: 1.0711941719055176 seconds\n",
      "Time taken to create additional features: 1.1108121871948242 seconds\n",
      "Time taken to create additional features: 1.1280243396759033 seconds\n",
      "Time taken to create additional features: 1.0916142463684082 seconds\n",
      "Time taken to create additional features: 1.099900722503662 seconds\n",
      "Time taken to create additional features: 1.1222591400146484 seconds\n",
      "Time taken to create additional features: 1.0894782543182373 seconds\n",
      "Time taken to create additional features: 1.0918827056884766 seconds\n",
      "Time taken to create additional features: 1.0875303745269775 seconds\n",
      "Time taken to create additional features: 0.6547863483428955 seconds\n",
      "Processing 4790 of 129461 users... (3.70%)\n",
      "Time taken to create additional features: 1.1310646533966064 seconds\n",
      "Time taken to create additional features: 1.1042633056640625 seconds\n",
      "Time taken to create additional features: 1.0795981884002686 seconds\n",
      "Time taken to create additional features: 1.1053643226623535 seconds\n",
      "Time taken to create additional features: 1.0788207054138184 seconds\n",
      "Time taken to create additional features: 1.083561897277832 seconds\n",
      "Time taken to create additional features: 1.1173100471496582 seconds\n",
      "Time taken to create additional features: 1.1157832145690918 seconds\n",
      "Time taken to create additional features: 1.106818675994873 seconds\n",
      "Time taken to create additional features: 1.08292818069458 seconds\n",
      "Time taken to create additional features: 1.096864938735962 seconds\n",
      "Time taken to create additional features: 1.088721513748169 seconds\n",
      "Time taken to create additional features: 1.0858006477355957 seconds\n",
      "Time taken to create additional features: 1.1148574352264404 seconds\n",
      "Time taken to create additional features: 1.0933372974395752 seconds\n",
      "Time taken to create additional features: 1.117842197418213 seconds\n",
      "Time taken to create additional features: 1.1047029495239258 seconds\n",
      "Time taken to create additional features: 1.0895845890045166 seconds\n",
      "Time taken to create additional features: 1.1012897491455078 seconds\n",
      "Time taken to create additional features: 1.0869672298431396 seconds\n",
      "Time taken to create additional features: 1.103574275970459 seconds\n",
      "Time taken to create additional features: 1.1083357334136963 seconds\n",
      "Time taken to create additional features: 1.1019773483276367 seconds\n",
      "Time taken to create additional features: 1.1202948093414307 seconds\n",
      "Time taken to create additional features: 1.1337149143218994 seconds\n",
      "Time taken to create additional features: 1.1069250106811523 seconds\n",
      "Time taken to create additional features: 1.1349742412567139 seconds\n",
      "Time taken to create additional features: 0.6791324615478516 seconds\n",
      "Processing 5409 of 129461 users... (4.18%)\n",
      "Time taken to create additional features: 1.1617202758789062 seconds\n",
      "Time taken to create additional features: 1.1813857555389404 seconds\n"
     ]
    },
    {
     "ename": "KeyboardInterrupt",
     "evalue": "",
     "output_type": "error",
     "traceback": [
      "\u001B[1;31m---------------------------------------------------------------------------\u001B[0m",
      "\u001B[1;31mKeyboardInterrupt\u001B[0m                         Traceback (most recent call last)",
      "Cell \u001B[1;32mIn[11], line 2\u001B[0m\n\u001B[0;32m      1\u001B[0m evaluator \u001B[38;5;241m=\u001B[39m Evaluation(recommender\u001B[38;5;241m=\u001B[39mmodel, test_data\u001B[38;5;241m=\u001B[39mdf_test)\n\u001B[1;32m----> 2\u001B[0m metrics \u001B[38;5;241m=\u001B[39m \u001B[43mevaluator\u001B[49m\u001B[38;5;241;43m.\u001B[39;49m\u001B[43mevaluate\u001B[49m\u001B[43m(\u001B[49m\u001B[43muser_batch_size\u001B[49m\u001B[38;5;241;43m=\u001B[39;49m\u001B[38;5;241;43m512\u001B[39;49m\u001B[43m,\u001B[49m\u001B[43m \u001B[49m\u001B[43mitem_batch_size\u001B[49m\u001B[38;5;241;43m=\u001B[39;49m\u001B[38;5;241;43m2048\u001B[39;49m\u001B[43m)\u001B[49m\n",
      "File \u001B[1;32m~\\PycharmProjects\\multimodal-neural-collaborative-filtering\\evaluation.py:35\u001B[0m, in \u001B[0;36mEvaluation.evaluate\u001B[1;34m(self, k, user_batch_size, item_batch_size)\u001B[0m\n\u001B[0;32m     32\u001B[0m \u001B[38;5;28mprint\u001B[39m(\u001B[38;5;124m'\u001B[39m\u001B[38;5;124mGenerating predictions...\u001B[39m\u001B[38;5;124m'\u001B[39m)\n\u001B[0;32m     33\u001B[0m test_unique_users \u001B[38;5;241m=\u001B[39m np\u001B[38;5;241m.\u001B[39marray(\u001B[38;5;28mlist\u001B[39m(\u001B[38;5;28mself\u001B[39m\u001B[38;5;241m.\u001B[39mground_truth\u001B[38;5;241m.\u001B[39mkeys()))\n\u001B[1;32m---> 35\u001B[0m \u001B[38;5;28mself\u001B[39m\u001B[38;5;241m.\u001B[39mpredictions \u001B[38;5;241m=\u001B[39m \u001B[38;5;28;43mself\u001B[39;49m\u001B[38;5;241;43m.\u001B[39;49m\u001B[43mrecommender\u001B[49m\u001B[38;5;241;43m.\u001B[39;49m\u001B[43mbatch_predict_for_users\u001B[49m\u001B[43m(\u001B[49m\n\u001B[0;32m     36\u001B[0m \u001B[43m    \u001B[49m\u001B[43musers\u001B[49m\u001B[38;5;241;43m=\u001B[39;49m\u001B[43mtest_unique_users\u001B[49m\u001B[43m,\u001B[49m\n\u001B[0;32m     37\u001B[0m \u001B[43m    \u001B[49m\u001B[43mk\u001B[49m\u001B[38;5;241;43m=\u001B[39;49m\u001B[38;5;28;43mself\u001B[39;49m\u001B[38;5;241;43m.\u001B[39;49m\u001B[43mmax_k\u001B[49m\u001B[43m,\u001B[49m\n\u001B[0;32m     38\u001B[0m \u001B[43m    \u001B[49m\u001B[43muser_batch_size\u001B[49m\u001B[38;5;241;43m=\u001B[39;49m\u001B[43muser_batch_size\u001B[49m\u001B[43m,\u001B[49m\n\u001B[0;32m     39\u001B[0m \u001B[43m    \u001B[49m\u001B[43mitem_batch_size\u001B[49m\u001B[38;5;241;43m=\u001B[39;49m\u001B[43mitem_batch_size\u001B[49m\n\u001B[0;32m     40\u001B[0m \u001B[43m\u001B[49m\u001B[43m)\u001B[49m\n\u001B[0;32m     42\u001B[0m gc\u001B[38;5;241m.\u001B[39mcollect()\n\u001B[0;32m     43\u001B[0m torch\u001B[38;5;241m.\u001B[39mcuda\u001B[38;5;241m.\u001B[39mempty_cache()\n",
      "File \u001B[1;32m~\\PycharmProjects\\multimodal-neural-collaborative-filtering\\recom_ncf.py:297\u001B[0m, in \u001B[0;36mNCFRecommender.batch_predict_for_users\u001B[1;34m(self, users, items, k, user_batch_size, item_batch_size)\u001B[0m\n\u001B[0;32m    294\u001B[0m end_item_idx \u001B[38;5;241m=\u001B[39m \u001B[38;5;28mmin\u001B[39m(j \u001B[38;5;241m+\u001B[39m current_item_batch_size, num_items)\n\u001B[0;32m    295\u001B[0m item_batch \u001B[38;5;241m=\u001B[39m items[j:end_item_idx]\n\u001B[1;32m--> 297\u001B[0m batch_scores \u001B[38;5;241m=\u001B[39m \u001B[38;5;28;43mself\u001B[39;49m\u001B[38;5;241;43m.\u001B[39;49m\u001B[43mpredict\u001B[49m\u001B[43m(\u001B[49m\u001B[43muser_batch\u001B[49m\u001B[43m,\u001B[49m\u001B[43m \u001B[49m\u001B[43mitem_batch\u001B[49m\u001B[43m)\u001B[49m\n\u001B[0;32m    299\u001B[0m \u001B[38;5;66;03m# Store scores in the all_scores tensor\u001B[39;00m\n\u001B[0;32m    300\u001B[0m all_scores[:, j:end_item_idx] \u001B[38;5;241m=\u001B[39m batch_scores\n",
      "File \u001B[1;32m~\\PycharmProjects\\multimodal-neural-collaborative-filtering\\recom_ncf.py:226\u001B[0m, in \u001B[0;36mNCFRecommender.predict\u001B[1;34m(self, users, items)\u001B[0m\n\u001B[0;32m    224\u001B[0m feature_tensor \u001B[38;5;241m=\u001B[39m \u001B[38;5;28mlist\u001B[39m(\u001B[38;5;28mself\u001B[39m\u001B[38;5;241m.\u001B[39mfeature_values[feature][items]\u001B[38;5;241m.\u001B[39mvalues) \u001B[38;5;241m*\u001B[39m num_users\n\u001B[0;32m    225\u001B[0m indices \u001B[38;5;241m=\u001B[39m torch\u001B[38;5;241m.\u001B[39mcat(\u001B[38;5;28mtuple\u001B[39m(feature_tensor))\n\u001B[1;32m--> 226\u001B[0m lengths \u001B[38;5;241m=\u001B[39m torch\u001B[38;5;241m.\u001B[39mtensor([\u001B[38;5;28;43mlen\u001B[39;49m\u001B[43m(\u001B[49m\u001B[43mindices\u001B[49m\u001B[43m)\u001B[49m \u001B[38;5;28;01mfor\u001B[39;00m indices \u001B[38;5;129;01min\u001B[39;00m feature_tensor], dtype\u001B[38;5;241m=\u001B[39mtorch\u001B[38;5;241m.\u001B[39mlong, device\u001B[38;5;241m=\u001B[39m\u001B[38;5;28mself\u001B[39m\u001B[38;5;241m.\u001B[39mdevice)\n\u001B[0;32m    227\u001B[0m offsets \u001B[38;5;241m=\u001B[39m torch\u001B[38;5;241m.\u001B[39mzeros(lengths\u001B[38;5;241m.\u001B[39msize(\u001B[38;5;241m0\u001B[39m), dtype\u001B[38;5;241m=\u001B[39mtorch\u001B[38;5;241m.\u001B[39mlong, device\u001B[38;5;241m=\u001B[39m\u001B[38;5;28mself\u001B[39m\u001B[38;5;241m.\u001B[39mdevice)\n\u001B[0;32m    228\u001B[0m torch\u001B[38;5;241m.\u001B[39mcumsum(lengths[:\u001B[38;5;241m-\u001B[39m\u001B[38;5;241m1\u001B[39m], dim\u001B[38;5;241m=\u001B[39m\u001B[38;5;241m0\u001B[39m, out\u001B[38;5;241m=\u001B[39moffsets[\u001B[38;5;241m1\u001B[39m:])\n",
      "File \u001B[1;32m~\\AppData\\Local\\Programs\\Python\\Python312\\Lib\\site-packages\\torch\\_tensor.py:1133\u001B[0m, in \u001B[0;36mTensor.__len__\u001B[1;34m(self)\u001B[0m\n\u001B[0;32m   1131\u001B[0m \u001B[38;5;28;01mif\u001B[39;00m \u001B[38;5;28mself\u001B[39m\u001B[38;5;241m.\u001B[39mdim() \u001B[38;5;241m==\u001B[39m \u001B[38;5;241m0\u001B[39m:\n\u001B[0;32m   1132\u001B[0m     \u001B[38;5;28;01mraise\u001B[39;00m \u001B[38;5;167;01mTypeError\u001B[39;00m(\u001B[38;5;124m\"\u001B[39m\u001B[38;5;124mlen() of a 0-d tensor\u001B[39m\u001B[38;5;124m\"\u001B[39m)\n\u001B[1;32m-> 1133\u001B[0m \u001B[38;5;28;01mif\u001B[39;00m \u001B[43mtorch\u001B[49m\u001B[38;5;241;43m.\u001B[39;49m\u001B[43m_C\u001B[49m\u001B[38;5;241;43m.\u001B[39;49m\u001B[43m_get_tracing_state\u001B[49m\u001B[43m(\u001B[49m\u001B[43m)\u001B[49m:\n\u001B[0;32m   1134\u001B[0m     warnings\u001B[38;5;241m.\u001B[39mwarn(\n\u001B[0;32m   1135\u001B[0m         \u001B[38;5;124m\"\u001B[39m\u001B[38;5;124mUsing len to get tensor shape might cause the trace to be incorrect. \u001B[39m\u001B[38;5;124m\"\u001B[39m\n\u001B[0;32m   1136\u001B[0m         \u001B[38;5;124m\"\u001B[39m\u001B[38;5;124mRecommended usage would be tensor.shape[0]. \u001B[39m\u001B[38;5;124m\"\u001B[39m\n\u001B[1;32m   (...)\u001B[0m\n\u001B[0;32m   1140\u001B[0m         stacklevel\u001B[38;5;241m=\u001B[39m\u001B[38;5;241m2\u001B[39m,\n\u001B[0;32m   1141\u001B[0m     )\n\u001B[0;32m   1142\u001B[0m \u001B[38;5;28;01mreturn\u001B[39;00m \u001B[38;5;28mself\u001B[39m\u001B[38;5;241m.\u001B[39mshape[\u001B[38;5;241m0\u001B[39m]\n",
      "\u001B[1;31mKeyboardInterrupt\u001B[0m: "
     ]
    }
   ],
   "execution_count": 11
  },
  {
   "cell_type": "code",
   "metadata": {
    "ExecuteTime": {
     "end_time": "2025-04-07T03:18:18.774567800Z",
     "start_time": "2025-04-06T02:47:25.659086Z"
    }
   },
   "source": [
    "metrics"
   ],
   "outputs": [
    {
     "data": {
      "text/plain": [
       "{'Hit Ratio@10': 0.03728536006982798,\n",
       " 'NDCG@10': 0.018122169155170138,\n",
       " 'Recall@10': 0.03728536006982798}"
      ]
     },
     "execution_count": 13,
     "metadata": {},
     "output_type": "execute_result"
    }
   ],
   "execution_count": 13
  }
 ],
 "metadata": {
  "kernelspec": {
   "display_name": "Python 3",
   "language": "python",
   "name": "python3"
  },
  "language_info": {
   "codemirror_mode": {
    "name": "ipython",
    "version": 3
   },
   "file_extension": ".py",
   "mimetype": "text/x-python",
   "name": "python",
   "nbconvert_exporter": "python",
   "pygments_lexer": "ipython3",
   "version": "3.12.1"
  }
 },
 "nbformat": 4,
 "nbformat_minor": 2
}
