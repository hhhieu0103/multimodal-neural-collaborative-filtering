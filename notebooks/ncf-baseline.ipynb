{
 "cells": [
  {
   "cell_type": "markdown",
   "metadata": {},
   "source": [
    "# Import libraries"
   ]
  },
  {
   "cell_type": "code",
   "metadata": {
    "ExecuteTime": {
     "end_time": "2025-04-12T11:52:38.317851Z",
     "start_time": "2025-04-12T11:52:36.049262Z"
    }
   },
   "source": [
    "import pandas as pd\n",
    "from torch.utils.data import DataLoader\n",
    "from dataset import NCFDataset\n",
    "from helpers.index_manager import IndexManager\n",
    "from recom_ncf import NCFRecommender\n",
    "from evaluation import Evaluation\n",
    "from helpers.dataloader_custom_functions import collate_fn"
   ],
   "outputs": [],
   "execution_count": 1
  },
  {
   "cell_type": "markdown",
   "metadata": {},
   "source": [
    "# Loading data"
   ]
  },
  {
   "metadata": {
    "ExecuteTime": {
     "end_time": "2025-04-12T11:52:50.023977Z",
     "start_time": "2025-04-12T11:52:38.319697Z"
    }
   },
   "cell_type": "code",
   "source": [
    "df_train = pd.read_csv('../data/train-leave2.csv')\n",
    "df_val = pd.read_csv('../data/val-leave2.csv')\n",
    "df_test = pd.read_csv('../data/test-leave2.csv')\n",
    "index_manager = IndexManager()\n",
    "index_manager.load('../data/index.pkl')"
   ],
   "outputs": [],
   "execution_count": 2
  },
  {
   "metadata": {},
   "cell_type": "markdown",
   "source": "# Creating datasets"
  },
  {
   "metadata": {
    "ExecuteTime": {
     "end_time": "2025-04-12T11:53:33.447380Z",
     "start_time": "2025-04-12T11:53:33.418109Z"
    }
   },
   "cell_type": "code",
   "source": [
    "train_dataset = NCFDataset(df_train)\n",
    "val_dataset = NCFDataset(df_val)\n",
    "\n",
    "dataloader_params = {\n",
    "    'batch_size': 2**12,\n",
    "    'num_workers': 4,\n",
    "    'persistent_workers': True,\n",
    "    'prefetch_factor': 4,\n",
    "    'collate_fn': collate_fn,\n",
    "}\n",
    "\n",
    "train_dataloader = DataLoader(train_dataset, shuffle=True, **dataloader_params)\n",
    "eval_dataloader = DataLoader(val_dataset, shuffle=False, **dataloader_params)"
   ],
   "outputs": [],
   "execution_count": 7
  },
  {
   "cell_type": "markdown",
   "metadata": {},
   "source": [
    "# Training model"
   ]
  },
  {
   "cell_type": "code",
   "metadata": {
    "ExecuteTime": {
     "end_time": "2025-04-12T11:55:02.054565Z",
     "start_time": "2025-04-12T11:53:37.357591Z"
    }
   },
   "source": [
    "params = {'factors': 8, 'mlp_user_item_dim': 128, 'learning_rate': 0.001, 'epochs': 5, 'optimizer': 'adagrad', 'dropout': 0.0, 'weight_decay': 0.0001, 'loss_fn': 'mse'}\n",
    "\n",
    "unique_users = index_manager.get_indexed_values('user_id')\n",
    "unique_items = index_manager.get_indexed_values('item_id')\n",
    "\n",
    "model = NCFRecommender(unique_users, unique_items, **params)\n",
    "model.fit(train_dataloader, eval_dataloader)"
   ],
   "outputs": [
    {
     "name": "stdout",
     "output_type": "stream",
     "text": [
      "Epoch 1/5\n",
      "Train loss: 0.138583, Validation loss: 0.141110\n",
      "==================================================\n",
      "Epoch 2/5\n",
      "Train loss: 0.105502, Validation loss: 0.154581\n",
      "==================================================\n",
      "Epoch 3/5\n",
      "Train loss: 0.039268, Validation loss: 0.167338\n",
      "==================================================\n",
      "Epoch 4/5\n",
      "Train loss: 0.032350, Validation loss: 0.168563\n",
      "Early stopping triggered after 4 epochs\n",
      "Training completed!\n"
     ]
    }
   ],
   "execution_count": 8
  },
  {
   "cell_type": "markdown",
   "metadata": {},
   "source": [
    "# Evaluating model"
   ]
  },
  {
   "cell_type": "code",
   "metadata": {
    "ExecuteTime": {
     "end_time": "2025-04-12T12:05:09.751084Z",
     "start_time": "2025-04-12T11:55:09.794864Z"
    }
   },
   "source": [
    "evaluator = Evaluation(recommender=model, test_data=df_test)\n",
    "metrics = evaluator.evaluate()"
   ],
   "outputs": [
    {
     "name": "stdout",
     "output_type": "stream",
     "text": [
      "Creating ground truth sets...\n",
      "Generating predictions...\n",
      "Processing 1 of 130372 users... (0.00%)\n",
      "Memory usage: 0.300048828125 . Increasing batch size with increasing rate of 1.1\n",
      "Increased user batch size from 128 to 141\n",
      "Increased item batch size from 1024 to 1126\n",
      "Processing 129 of 130372 users... (0.10%)\n",
      "Memory usage: 0.1865234375 . Increasing batch size with increasing rate of 1.1\n",
      "Increased user batch size from 141 to 155\n",
      "Increased item batch size from 1126 to 1239\n",
      "Processing 270 of 130372 users... (0.21%)\n",
      "Memory usage: 0.201416015625 . Increasing batch size with increasing rate of 1.1\n",
      "Increased user batch size from 155 to 170\n",
      "Increased item batch size from 1239 to 1363\n",
      "Processing 425 of 130372 users... (0.33%)\n",
      "Memory usage: 0.216552734375 . Increasing batch size with increasing rate of 1.1\n",
      "Increased user batch size from 170 to 187\n",
      "Increased item batch size from 1363 to 1499\n",
      "Processing 595 of 130372 users... (0.46%)\n",
      "Memory usage: 0.234619140625 . Increasing batch size with increasing rate of 1.1\n",
      "Increased user batch size from 187 to 206\n",
      "Increased item batch size from 1499 to 1649\n",
      "Processing 782 of 130372 users... (0.60%)\n",
      "Memory usage: 0.27685546875 . Increasing batch size with increasing rate of 1.1\n",
      "Increased user batch size from 206 to 227\n",
      "Increased item batch size from 1649 to 1814\n",
      "Processing 988 of 130372 users... (0.76%)\n",
      "Memory usage: 0.285888671875 . Increasing batch size with increasing rate of 1.1\n",
      "Increased user batch size from 227 to 250\n",
      "Increased item batch size from 1814 to 1995\n",
      "Processing 1215 of 130372 users... (0.93%)\n",
      "Memory usage: 0.318603515625 . Increasing batch size with increasing rate of 1.1\n",
      "Increased user batch size from 250 to 275\n",
      "Increased item batch size from 1995 to 2194\n",
      "Processing 1465 of 130372 users... (1.12%)\n",
      "Memory usage: 0.35888671875 . Increasing batch size with increasing rate of 1.1\n",
      "Increased user batch size from 275 to 302\n",
      "Increased item batch size from 2194 to 2413\n",
      "Processing 1740 of 130372 users... (1.33%)\n",
      "Memory usage: 0.448974609375 . Increasing batch size with increasing rate of 1.1\n",
      "Increased user batch size from 302 to 332\n",
      "Increased item batch size from 2413 to 2654\n",
      "Processing 2042 of 130372 users... (1.57%)\n",
      "Memory usage: 0.5166015625 . Increasing batch size with increasing rate of 1.1\n",
      "Increased user batch size from 332 to 365\n",
      "Increased item batch size from 2654 to 2919\n",
      "Processing 2374 of 130372 users... (1.82%)\n",
      "Memory usage: 0.53564453125 . Increasing batch size with increasing rate of 1.1\n",
      "Increased user batch size from 365 to 402\n",
      "Increased item batch size from 2919 to 3211\n",
      "Processing 2739 of 130372 users... (2.10%)\n",
      "Memory usage: 0.621826171875 . Increasing batch size with increasing rate of 1.1\n",
      "Increased user batch size from 402 to 442\n",
      "Increased item batch size from 3211 to 3532\n",
      "Processing 3141 of 130372 users... (2.41%)\n",
      "Memory usage: 0.723388671875 . Increasing batch size with increasing rate of 1.1\n",
      "Increased user batch size from 442 to 486\n",
      "Increased item batch size from 3532 to 3885\n",
      "Processing 3583 of 130372 users... (2.75%)\n",
      "Memory usage: 0.955078125\n",
      "Reduced item batch size from 3885 to 1942\n",
      "Processing 4069 of 130372 users... (3.12%)\n",
      "Memory usage: 0.49560546875 . Increasing batch size with increasing rate of 1.1\n",
      "Increased user batch size from 486 to 535\n",
      "Increased item batch size from 1942 to 2136\n",
      "Processing 4555 of 130372 users... (3.49%)\n",
      "Memory usage: 0.5703125 . Increasing batch size with increasing rate of 1.1\n",
      "Increased user batch size from 535 to 588\n",
      "Increased item batch size from 2136 to 2350\n",
      "Processing 5090 of 130372 users... (3.90%)\n",
      "Memory usage: 0.743408203125 . Increasing batch size with increasing rate of 1.1\n",
      "Increased user batch size from 588 to 647\n",
      "Increased item batch size from 2350 to 2585\n",
      "Processing 5678 of 130372 users... (4.35%)\n",
      "Processing 6325 of 130372 users... (4.85%)\n",
      "Processing 6972 of 130372 users... (5.35%)\n",
      "Processing 7619 of 130372 users... (5.84%)\n",
      "Processing 8266 of 130372 users... (6.34%)\n",
      "Processing 8913 of 130372 users... (6.84%)\n",
      "Processing 9560 of 130372 users... (7.33%)\n",
      "Processing 10207 of 130372 users... (7.83%)\n",
      "Processing 10854 of 130372 users... (8.32%)\n",
      "Processing 11501 of 130372 users... (8.82%)\n",
      "Processing 12148 of 130372 users... (9.32%)\n",
      "Processing 12795 of 130372 users... (9.81%)\n",
      "Processing 13442 of 130372 users... (10.31%)\n",
      "Processing 14089 of 130372 users... (10.81%)\n",
      "Processing 14736 of 130372 users... (11.30%)\n",
      "Processing 15383 of 130372 users... (11.80%)\n",
      "Processing 16030 of 130372 users... (12.29%)\n",
      "Processing 16677 of 130372 users... (12.79%)\n",
      "Processing 17324 of 130372 users... (13.29%)\n",
      "Processing 17971 of 130372 users... (13.78%)\n",
      "Processing 18618 of 130372 users... (14.28%)\n",
      "Processing 19265 of 130372 users... (14.78%)\n",
      "Processing 19912 of 130372 users... (15.27%)\n",
      "Processing 20559 of 130372 users... (15.77%)\n",
      "Processing 21206 of 130372 users... (16.26%)\n",
      "Processing 21853 of 130372 users... (16.76%)\n",
      "Processing 22500 of 130372 users... (17.26%)\n",
      "Processing 23147 of 130372 users... (17.75%)\n",
      "Processing 23794 of 130372 users... (18.25%)\n",
      "Processing 24441 of 130372 users... (18.75%)\n",
      "Processing 25088 of 130372 users... (19.24%)\n",
      "Processing 25735 of 130372 users... (19.74%)\n",
      "Processing 26382 of 130372 users... (20.24%)\n",
      "Processing 27029 of 130372 users... (20.73%)\n",
      "Processing 27676 of 130372 users... (21.23%)\n",
      "Processing 28323 of 130372 users... (21.72%)\n",
      "Processing 28970 of 130372 users... (22.22%)\n",
      "Processing 29617 of 130372 users... (22.72%)\n",
      "Processing 30264 of 130372 users... (23.21%)\n",
      "Processing 30911 of 130372 users... (23.71%)\n",
      "Processing 31558 of 130372 users... (24.21%)\n",
      "Processing 32205 of 130372 users... (24.70%)\n",
      "Processing 32852 of 130372 users... (25.20%)\n",
      "Processing 33499 of 130372 users... (25.69%)\n",
      "Processing 34146 of 130372 users... (26.19%)\n",
      "Processing 34793 of 130372 users... (26.69%)\n",
      "Processing 35440 of 130372 users... (27.18%)\n",
      "Processing 36087 of 130372 users... (27.68%)\n",
      "Processing 36734 of 130372 users... (28.18%)\n",
      "Processing 37381 of 130372 users... (28.67%)\n",
      "Processing 38028 of 130372 users... (29.17%)\n",
      "Processing 38675 of 130372 users... (29.66%)\n",
      "Processing 39322 of 130372 users... (30.16%)\n",
      "Processing 39969 of 130372 users... (30.66%)\n",
      "Processing 40616 of 130372 users... (31.15%)\n",
      "Processing 41263 of 130372 users... (31.65%)\n",
      "Processing 41910 of 130372 users... (32.15%)\n",
      "Processing 42557 of 130372 users... (32.64%)\n",
      "Processing 43204 of 130372 users... (33.14%)\n",
      "Processing 43851 of 130372 users... (33.63%)\n",
      "Processing 44498 of 130372 users... (34.13%)\n",
      "Processing 45145 of 130372 users... (34.63%)\n",
      "Processing 45792 of 130372 users... (35.12%)\n",
      "Processing 46439 of 130372 users... (35.62%)\n",
      "Processing 47086 of 130372 users... (36.12%)\n",
      "Processing 47733 of 130372 users... (36.61%)\n",
      "Processing 48380 of 130372 users... (37.11%)\n",
      "Processing 49027 of 130372 users... (37.60%)\n",
      "Processing 49674 of 130372 users... (38.10%)\n",
      "Processing 50321 of 130372 users... (38.60%)\n",
      "Processing 50968 of 130372 users... (39.09%)\n",
      "Processing 51615 of 130372 users... (39.59%)\n",
      "Processing 52262 of 130372 users... (40.09%)\n",
      "Processing 52909 of 130372 users... (40.58%)\n",
      "Processing 53556 of 130372 users... (41.08%)\n",
      "Processing 54203 of 130372 users... (41.57%)\n",
      "Processing 54850 of 130372 users... (42.07%)\n",
      "Processing 55497 of 130372 users... (42.57%)\n",
      "Processing 56144 of 130372 users... (43.06%)\n",
      "Processing 56791 of 130372 users... (43.56%)\n",
      "Processing 57438 of 130372 users... (44.06%)\n",
      "Processing 58085 of 130372 users... (44.55%)\n",
      "Processing 58732 of 130372 users... (45.05%)\n",
      "Processing 59379 of 130372 users... (45.55%)\n",
      "Processing 60026 of 130372 users... (46.04%)\n",
      "Processing 60673 of 130372 users... (46.54%)\n",
      "Processing 61320 of 130372 users... (47.03%)\n",
      "Processing 61967 of 130372 users... (47.53%)\n",
      "Processing 62614 of 130372 users... (48.03%)\n",
      "Processing 63261 of 130372 users... (48.52%)\n",
      "Processing 63908 of 130372 users... (49.02%)\n",
      "Processing 64555 of 130372 users... (49.52%)\n",
      "Processing 65202 of 130372 users... (50.01%)\n",
      "Processing 65849 of 130372 users... (50.51%)\n",
      "Processing 66496 of 130372 users... (51.00%)\n",
      "Processing 67143 of 130372 users... (51.50%)\n",
      "Processing 67790 of 130372 users... (52.00%)\n",
      "Processing 68437 of 130372 users... (52.49%)\n",
      "Processing 69084 of 130372 users... (52.99%)\n",
      "Processing 69731 of 130372 users... (53.49%)\n",
      "Processing 70378 of 130372 users... (53.98%)\n",
      "Processing 71025 of 130372 users... (54.48%)\n",
      "Processing 71672 of 130372 users... (54.97%)\n",
      "Processing 72319 of 130372 users... (55.47%)\n",
      "Processing 72966 of 130372 users... (55.97%)\n",
      "Processing 73613 of 130372 users... (56.46%)\n",
      "Processing 74260 of 130372 users... (56.96%)\n",
      "Processing 74907 of 130372 users... (57.46%)\n",
      "Processing 75554 of 130372 users... (57.95%)\n",
      "Processing 76201 of 130372 users... (58.45%)\n",
      "Processing 76848 of 130372 users... (58.94%)\n",
      "Processing 77495 of 130372 users... (59.44%)\n",
      "Processing 78142 of 130372 users... (59.94%)\n",
      "Processing 78789 of 130372 users... (60.43%)\n",
      "Processing 79436 of 130372 users... (60.93%)\n",
      "Processing 80083 of 130372 users... (61.43%)\n",
      "Processing 80730 of 130372 users... (61.92%)\n",
      "Processing 81377 of 130372 users... (62.42%)\n",
      "Processing 82024 of 130372 users... (62.91%)\n",
      "Processing 82671 of 130372 users... (63.41%)\n",
      "Processing 83318 of 130372 users... (63.91%)\n",
      "Processing 83965 of 130372 users... (64.40%)\n",
      "Processing 84612 of 130372 users... (64.90%)\n",
      "Processing 85259 of 130372 users... (65.40%)\n",
      "Processing 85906 of 130372 users... (65.89%)\n",
      "Processing 86553 of 130372 users... (66.39%)\n",
      "Processing 87200 of 130372 users... (66.88%)\n",
      "Processing 87847 of 130372 users... (67.38%)\n",
      "Processing 88494 of 130372 users... (67.88%)\n",
      "Processing 89141 of 130372 users... (68.37%)\n",
      "Processing 89788 of 130372 users... (68.87%)\n",
      "Processing 90435 of 130372 users... (69.37%)\n",
      "Processing 91082 of 130372 users... (69.86%)\n",
      "Processing 91729 of 130372 users... (70.36%)\n",
      "Processing 92376 of 130372 users... (70.85%)\n",
      "Processing 93023 of 130372 users... (71.35%)\n",
      "Processing 93670 of 130372 users... (71.85%)\n",
      "Processing 94317 of 130372 users... (72.34%)\n",
      "Processing 94964 of 130372 users... (72.84%)\n",
      "Processing 95611 of 130372 users... (73.34%)\n",
      "Processing 96258 of 130372 users... (73.83%)\n",
      "Processing 96905 of 130372 users... (74.33%)\n",
      "Processing 97552 of 130372 users... (74.83%)\n",
      "Processing 98199 of 130372 users... (75.32%)\n",
      "Processing 98846 of 130372 users... (75.82%)\n",
      "Processing 99493 of 130372 users... (76.31%)\n",
      "Processing 100140 of 130372 users... (76.81%)\n",
      "Processing 100787 of 130372 users... (77.31%)\n",
      "Processing 101434 of 130372 users... (77.80%)\n",
      "Processing 102081 of 130372 users... (78.30%)\n",
      "Processing 102728 of 130372 users... (78.80%)\n",
      "Processing 103375 of 130372 users... (79.29%)\n",
      "Processing 104022 of 130372 users... (79.79%)\n",
      "Processing 104669 of 130372 users... (80.28%)\n",
      "Processing 105316 of 130372 users... (80.78%)\n",
      "Processing 105963 of 130372 users... (81.28%)\n",
      "Processing 106610 of 130372 users... (81.77%)\n",
      "Processing 107257 of 130372 users... (82.27%)\n",
      "Processing 107904 of 130372 users... (82.77%)\n",
      "Processing 108551 of 130372 users... (83.26%)\n",
      "Processing 109198 of 130372 users... (83.76%)\n",
      "Processing 109845 of 130372 users... (84.25%)\n",
      "Processing 110492 of 130372 users... (84.75%)\n",
      "Processing 111139 of 130372 users... (85.25%)\n",
      "Processing 111786 of 130372 users... (85.74%)\n",
      "Processing 112433 of 130372 users... (86.24%)\n",
      "Processing 113080 of 130372 users... (86.74%)\n",
      "Processing 113727 of 130372 users... (87.23%)\n",
      "Processing 114374 of 130372 users... (87.73%)\n",
      "Processing 115021 of 130372 users... (88.22%)\n",
      "Processing 115668 of 130372 users... (88.72%)\n",
      "Processing 116315 of 130372 users... (89.22%)\n",
      "Processing 116962 of 130372 users... (89.71%)\n",
      "Processing 117609 of 130372 users... (90.21%)\n",
      "Processing 118256 of 130372 users... (90.71%)\n",
      "Processing 118903 of 130372 users... (91.20%)\n",
      "Processing 119550 of 130372 users... (91.70%)\n",
      "Processing 120197 of 130372 users... (92.19%)\n",
      "Processing 120844 of 130372 users... (92.69%)\n",
      "Processing 121491 of 130372 users... (93.19%)\n",
      "Processing 122138 of 130372 users... (93.68%)\n",
      "Processing 122785 of 130372 users... (94.18%)\n",
      "Processing 123432 of 130372 users... (94.68%)\n",
      "Processing 124079 of 130372 users... (95.17%)\n",
      "Processing 124726 of 130372 users... (95.67%)\n",
      "Processing 125373 of 130372 users... (96.16%)\n",
      "Processing 126020 of 130372 users... (96.66%)\n",
      "Processing 126667 of 130372 users... (97.16%)\n",
      "Processing 127314 of 130372 users... (97.65%)\n",
      "Processing 127961 of 130372 users... (98.15%)\n",
      "Processing 128608 of 130372 users... (98.65%)\n",
      "Processing 129255 of 130372 users... (99.14%)\n",
      "Processing 129902 of 130372 users... (99.64%)\n",
      "Calculating metrics...\n",
      "Processed 10000/130372 users...\n",
      "Processed 20000/130372 users...\n",
      "Processed 30000/130372 users...\n",
      "Processed 40000/130372 users...\n",
      "Processed 50000/130372 users...\n",
      "Processed 60000/130372 users...\n",
      "Processed 70000/130372 users...\n",
      "Processed 80000/130372 users...\n",
      "Processed 90000/130372 users...\n",
      "Processed 100000/130372 users...\n",
      "Processed 110000/130372 users...\n",
      "Processed 120000/130372 users...\n",
      "Processed 130000/130372 users...\n",
      "Processed 130372/130372 users...\n"
     ]
    }
   ],
   "execution_count": 9
  },
  {
   "cell_type": "code",
   "metadata": {
    "ExecuteTime": {
     "end_time": "2025-04-12T12:05:16.986978Z",
     "start_time": "2025-04-12T12:05:16.979980Z"
    }
   },
   "source": [
    "metrics"
   ],
   "outputs": [
    {
     "data": {
      "text/plain": [
       "{'Hit Ratio@10': 0.00810756910993158,\n",
       " 'NDCG@10': 0.003487007847869748,\n",
       " 'Recall@10': 0.00810756910993158}"
      ]
     },
     "execution_count": 10,
     "metadata": {},
     "output_type": "execute_result"
    }
   ],
   "execution_count": 10
  }
 ],
 "metadata": {
  "kernelspec": {
   "display_name": "Python 3",
   "language": "python",
   "name": "python3"
  },
  "language_info": {
   "codemirror_mode": {
    "name": "ipython",
    "version": 3
   },
   "file_extension": ".py",
   "mimetype": "text/x-python",
   "name": "python",
   "nbconvert_exporter": "python",
   "pygments_lexer": "ipython3",
   "version": "3.12.1"
  }
 },
 "nbformat": 4,
 "nbformat_minor": 2
}
