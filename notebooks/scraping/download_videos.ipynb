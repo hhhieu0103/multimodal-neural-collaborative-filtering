{
 "cells": [
  {
   "cell_type": "code",
   "id": "initial_id",
   "metadata": {
    "collapsed": true,
    "ExecuteTime": {
     "end_time": "2025-04-12T01:22:38.651979Z",
     "start_time": "2025-04-12T01:22:38.646563Z"
    }
   },
   "source": [
    "import glob\n",
    "import json\n",
    "import os\n",
    "from time import sleep\n",
    "\n",
    "from tqdm import tqdm\n",
    "import subprocess\n",
    "import requests\n",
    "from subprocess import CalledProcessError\n"
   ],
   "outputs": [],
   "execution_count": 6
  },
  {
   "metadata": {
    "ExecuteTime": {
     "end_time": "2025-04-12T01:22:38.660080Z",
     "start_time": "2025-04-12T01:22:38.651979Z"
    }
   },
   "cell_type": "code",
   "source": [
    "video_dir = 'E:/videos'\n",
    "\n",
    "def get_all_files():\n",
    "    information_dir = 'D:/Master Project/Detail Lists'\n",
    "    files = glob.glob(os.path.join(information_dir, '*.json'))\n",
    "    files.sort()\n",
    "    return files\n",
    "\n",
    "def update_progress(prog):\n",
    "    with open('progress.json', 'w') as file:\n",
    "        json.dump(prog, file)\n",
    "\n",
    "def get_progress():\n",
    "    if not os.path.exists('progress.json'):\n",
    "        return []\n",
    "    with open('progress.json', 'r') as file:\n",
    "        prog = json.load(file)\n",
    "    return prog"
   ],
   "id": "4acf233f5d3877d7",
   "outputs": [],
   "execution_count": 7
  },
  {
   "metadata": {
    "ExecuteTime": {
     "end_time": "2025-04-12T01:22:38.672288Z",
     "start_time": "2025-04-12T01:22:38.666072Z"
    }
   },
   "cell_type": "code",
   "source": [
    "def download_video(video_url, video_path):\n",
    "    os.makedirs(video_dir, exist_ok=True)\n",
    "    with requests.get(video_url, stream=True) as response:\n",
    "        if response.status_code == 200:\n",
    "            with open(video_path, \"wb\") as file:\n",
    "                for chunk in response.iter_content(chunk_size=8192):\n",
    "                    file.write(chunk)\n",
    "            return True\n",
    "        else:\n",
    "            return False\n",
    "\n",
    "def get_video_duration(video_url):\n",
    "    cmd = [\n",
    "        \"ffprobe\", \"-v\", \"error\", \"-show_entries\",\n",
    "        \"format=duration\", \"-of\",\n",
    "        \"default=noprint_wrappers=1:nokey=1\", video_url\n",
    "    ]\n",
    "    duration = float(subprocess.check_output(cmd).decode().strip())\n",
    "    return duration\n",
    "\n",
    "def get_min_duration_video_url(videos):\n",
    "    durations = {}\n",
    "    for video in videos:\n",
    "        video_url = video['mp4']['max']\n",
    "        duration = get_video_duration(video_url)\n",
    "        durations[video_url] = duration\n",
    "    return min(durations, key=durations.get)\n",
    "\n",
    "def append_fail_games(fail_game):\n",
    "    print(f\"Failed to process {list(fail_game.keys())[0]}\")\n",
    "    if not os.path.exists('fail_games.json'):\n",
    "        fail_games = []\n",
    "    else:\n",
    "        with open('fail_games.json', 'r') as file:\n",
    "            fail_games = json.load(file)\n",
    "\n",
    "    fail_games.append(fail_game)\n",
    "\n",
    "    with open('fail_games.json', 'w') as file:\n",
    "        json.dump(fail_games, file, indent=2)"
   ],
   "id": "7273c8bf6ab7a507",
   "outputs": [],
   "execution_count": 8
  },
  {
   "metadata": {
    "ExecuteTime": {
     "end_time": "2025-04-12T01:22:38.786217Z",
     "start_time": "2025-04-12T01:22:38.682686Z"
    }
   },
   "cell_type": "code",
   "source": [
    "all_files = get_all_files()\n",
    "progress = get_progress()\n",
    "remain_files = [file for file in all_files if file not in progress]"
   ],
   "id": "c9638bff42cc8b5f",
   "outputs": [],
   "execution_count": 9
  },
  {
   "metadata": {
    "jupyter": {
     "is_executing": true
    },
    "ExecuteTime": {
     "start_time": "2025-04-12T01:22:38.792198Z"
    }
   },
   "cell_type": "code",
   "source": [
    "for i, file in enumerate(remain_files):\n",
    "    with open(file, 'r') as f:\n",
    "        data = json.load(f)\n",
    "\n",
    "    for game_dict in tqdm(data, f'{i+1}/{len(remain_files)}:'):\n",
    "        game_id = list(game_dict.keys())[0]\n",
    "        success = game_dict[game_id]['success']\n",
    "        if not success:\n",
    "            continue\n",
    "\n",
    "        game_data = game_dict[game_id]['data']\n",
    "        game_type = game_data['type']\n",
    "        if game_type != 'game':\n",
    "            continue\n",
    "\n",
    "        video_path = os.path.join(video_dir, f'{game_id}.mp4')\n",
    "        game_videos = game_data.get('movies', [])\n",
    "        if len(game_videos) == 0:\n",
    "            continue\n",
    "\n",
    "        if len(game_videos) == 1:\n",
    "            success = download_video(game_videos[0]['mp4']['max'], video_path)\n",
    "        elif len(game_videos) > 1:\n",
    "            try:\n",
    "                min_duration_video_url = get_min_duration_video_url(game_videos)\n",
    "            except CalledProcessError:\n",
    "                append_fail_games(game_dict)\n",
    "                continue\n",
    "            success = download_video(min_duration_video_url, video_path)\n",
    "\n",
    "        if not success:\n",
    "            append_fail_games(game_dict)\n",
    "        sleep(0.1)\n",
    "\n",
    "    progress.append(file)\n",
    "    update_progress(progress)"
   ],
   "id": "3bbb5a2c1dc2bf93",
   "outputs": [
    {
     "name": "stderr",
     "output_type": "stream",
     "text": [
      "1/3604::  30%|███       | 9/30 [00:16<00:36,  1.72s/it]"
     ]
    }
   ],
   "execution_count": null
  }
 ],
 "metadata": {
  "kernelspec": {
   "display_name": "Python 3",
   "language": "python",
   "name": "python3"
  },
  "language_info": {
   "codemirror_mode": {
    "name": "ipython",
    "version": 2
   },
   "file_extension": ".py",
   "mimetype": "text/x-python",
   "name": "python",
   "nbconvert_exporter": "python",
   "pygments_lexer": "ipython2",
   "version": "2.7.6"
  }
 },
 "nbformat": 4,
 "nbformat_minor": 5
}
