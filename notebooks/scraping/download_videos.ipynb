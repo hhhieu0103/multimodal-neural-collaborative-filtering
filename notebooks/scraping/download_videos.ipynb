{
 "cells": [
  {
   "metadata": {},
   "cell_type": "code",
   "source": [
    "import glob\n",
    "import json\n",
    "import os\n",
    "from time import sleep\n",
    "\n",
    "from tqdm import tqdm\n",
    "import subprocess\n",
    "import requests\n",
    "from subprocess import CalledProcessError"
   ],
   "id": "20fd21afa3229414",
   "outputs": [],
   "execution_count": null
  },
  {
   "metadata": {},
   "cell_type": "code",
   "source": [
    "video_dir = 'E:/videos'\n",
    "\n",
    "def get_all_files():\n",
    "    information_dir = 'D:/Master Project/Detail Lists'\n",
    "    files = glob.glob(os.path.join(information_dir, '*.json'))\n",
    "    files.sort()\n",
    "    return files\n",
    "\n",
    "def update_progress(prog):\n",
    "    with open('progress.json', 'w') as file:\n",
    "        json.dump(prog, file)\n",
    "\n",
    "def get_progress():\n",
    "    if not os.path.exists('progress.json'):\n",
    "        return []\n",
    "    with open('progress.json', 'r') as file:\n",
    "        prog = json.load(file)\n",
    "    return prog"
   ],
   "id": "b54f7aaa628deaee",
   "outputs": [],
   "execution_count": null
  },
  {
   "metadata": {},
   "cell_type": "code",
   "source": [
    "def download_video(video_url, video_path):\n",
    "    os.makedirs(video_dir, exist_ok=True)\n",
    "    with requests.get(video_url, stream=True) as response:\n",
    "        if response.status_code == 200:\n",
    "            with open(video_path, \"wb\") as file:\n",
    "                for chunk in response.iter_content(chunk_size=8192):\n",
    "                    file.write(chunk)\n",
    "            return True\n",
    "        else:\n",
    "            return False\n",
    "\n",
    "def get_video_duration(video_url):\n",
    "    cmd = [\n",
    "        \"ffprobe\", \"-v\", \"error\", \"-show_entries\",\n",
    "        \"format=duration\", \"-of\",\n",
    "        \"default=noprint_wrappers=1:nokey=1\", video_url\n",
    "    ]\n",
    "    duration = float(subprocess.check_output(cmd).decode().strip())\n",
    "    return duration\n",
    "\n",
    "def get_min_duration_video_url(videos):\n",
    "    durations = {}\n",
    "    for video in videos:\n",
    "        video_url = video['mp4']['max']\n",
    "        duration = get_video_duration(video_url)\n",
    "        durations[video_url] = duration\n",
    "    return min(durations, key=durations.get)\n",
    "\n",
    "def append_fail_games(fail_game):\n",
    "    print(f\"Failed to process {list(fail_game.keys())[0]}\")\n",
    "    if not os.path.exists('fail_games.json'):\n",
    "        fail_games = []\n",
    "    else:\n",
    "        with open('fail_games.json', 'r') as file:\n",
    "            fail_games = json.load(file)\n",
    "\n",
    "    fail_games.append(fail_game)\n",
    "\n",
    "    with open('fail_games.json', 'w') as file:\n",
    "        json.dump(fail_games, file, indent=2)\n",
    "\n",
    "def get_item_ids():\n",
    "    with open('../../data/item_ids.json', 'r') as file:\n",
    "        item_ids = json.load(file)\n",
    "    return item_ids"
   ],
   "id": "17a032337767ceae",
   "outputs": [],
   "execution_count": null
  },
  {
   "metadata": {},
   "cell_type": "code",
   "source": [
    "all_files = get_all_files()\n",
    "progress = get_progress()\n",
    "item_ids = get_item_ids()\n",
    "remain_files = [file for file in all_files if file not in progress]"
   ],
   "id": "c9638bff42cc8b5f",
   "outputs": [],
   "execution_count": null
  },
  {
   "metadata": {},
   "cell_type": "code",
   "source": [
    "for i, file in enumerate(remain_files):\n",
    "    with open(file, 'r') as f:\n",
    "        data = json.load(f)\n",
    "\n",
    "    for game_dict in tqdm(data, f'{i+1}/{len(remain_files)}:'):\n",
    "        game_id = list(game_dict.keys())[0]\n",
    "        if int(game_id) not in item_ids:\n",
    "            continue\n",
    "\n",
    "        success = game_dict[game_id]['success']\n",
    "        if not success:\n",
    "            continue\n",
    "\n",
    "        game_data = game_dict[game_id]['data']\n",
    "        game_type = game_data['type']\n",
    "        if game_type != 'game':\n",
    "            continue\n",
    "\n",
    "        video_path = os.path.join(video_dir, f'{game_id}.mp4')\n",
    "        game_videos = game_data.get('movies', [])\n",
    "        if len(game_videos) == 0:\n",
    "            continue\n",
    "\n",
    "        if len(game_videos) == 1:\n",
    "            success = download_video(game_videos[0]['mp4']['max'], video_path)\n",
    "        elif len(game_videos) > 1:\n",
    "            try:\n",
    "                min_duration_video_url = get_min_duration_video_url(game_videos)\n",
    "            except CalledProcessError:\n",
    "                append_fail_games(game_dict)\n",
    "                continue\n",
    "            success = download_video(min_duration_video_url, video_path)\n",
    "\n",
    "        if not success:\n",
    "            append_fail_games(game_dict)\n",
    "        sleep(0.1)\n",
    "\n",
    "    progress.append(file)\n",
    "    update_progress(progress)"
   ],
   "id": "3bbb5a2c1dc2bf93",
   "outputs": [
    {
     "name": "stderr",
     "output_type": "stream",
     "text": [
      "80/982:: 100%|██████████| 40/40 [01:39<00:00,  2.48s/it]\n",
      "81/982::  48%|████▊     | 19/40 [01:46<01:28,  4.22s/it]"
     ]
    },
    {
     "name": "stdout",
     "output_type": "stream",
     "text": [
      "Failed to process 35450\n"
     ]
    },
    {
     "name": "stderr",
     "output_type": "stream",
     "text": [
      "81/982:: 100%|██████████| 40/40 [02:51<00:00,  4.28s/it]\n",
      "82/982:: 100%|██████████| 39/39 [02:17<00:00,  3.54s/it]\n",
      "83/982:: 100%|██████████| 39/39 [01:18<00:00,  2.01s/it]\n",
      "84/982:: 100%|██████████| 38/38 [02:52<00:00,  4.53s/it]\n",
      "85/982:: 100%|██████████| 39/39 [01:52<00:00,  2.90s/it]\n",
      "86/982:: 100%|██████████| 40/40 [01:51<00:00,  2.80s/it]\n",
      "87/982:: 100%|██████████| 38/38 [01:56<00:00,  3.08s/it]\n",
      "88/982:: 100%|██████████| 40/40 [02:31<00:00,  3.80s/it]\n",
      "89/982:: 100%|██████████| 39/39 [01:01<00:00,  1.58s/it]\n",
      "90/982:: 100%|██████████| 37/37 [02:32<00:00,  4.13s/it]\n",
      "91/982:: 100%|██████████| 40/40 [02:23<00:00,  3.59s/it]\n",
      "92/982:: 100%|██████████| 38/38 [01:56<00:00,  3.06s/it]\n",
      "93/982:: 100%|██████████| 40/40 [02:08<00:00,  3.22s/it]\n",
      "94/982:: 100%|██████████| 39/39 [01:51<00:00,  2.86s/it]\n",
      "95/982:: 100%|██████████| 39/39 [02:12<00:00,  3.39s/it]\n",
      "96/982:: 100%|██████████| 40/40 [02:12<00:00,  3.30s/it]\n",
      "97/982:: 100%|██████████| 39/39 [01:47<00:00,  2.76s/it]\n",
      "98/982:: 100%|██████████| 40/40 [01:18<00:00,  1.95s/it]\n",
      "99/982:: 100%|██████████| 40/40 [02:45<00:00,  4.14s/it]\n",
      "100/982:: 100%|██████████| 38/38 [01:52<00:00,  2.97s/it]\n",
      "101/982:: 100%|██████████| 38/38 [02:58<00:00,  4.70s/it]\n",
      "102/982:: 100%|██████████| 35/35 [02:13<00:00,  3.81s/it]\n",
      "103/982:: 100%|██████████| 39/39 [01:47<00:00,  2.74s/it]\n",
      "104/982:: 100%|██████████| 40/40 [02:13<00:00,  3.33s/it]\n",
      "105/982:: 100%|██████████| 39/39 [01:40<00:00,  2.57s/it]\n",
      "106/982:: 100%|██████████| 40/40 [03:31<00:00,  5.28s/it]\n",
      "107/982:: 100%|██████████| 40/40 [02:10<00:00,  3.27s/it]\n",
      "108/982:: 100%|██████████| 40/40 [01:37<00:00,  2.45s/it]\n",
      "109/982:: 100%|██████████| 40/40 [01:35<00:00,  2.40s/it]\n",
      "110/982::   5%|▌         | 2/40 [00:08<02:16,  3.60s/it]"
     ]
    },
    {
     "name": "stdout",
     "output_type": "stream",
     "text": [
      "Failed to process 218640\n"
     ]
    },
    {
     "name": "stderr",
     "output_type": "stream",
     "text": [
      "110/982:: 100%|██████████| 40/40 [02:10<00:00,  3.26s/it]\n",
      "111/982:: 100%|██████████| 37/37 [02:16<00:00,  3.70s/it]\n",
      "112/982:: 100%|██████████| 39/39 [01:16<00:00,  1.96s/it]\n",
      "113/982:: 100%|██████████| 38/38 [01:10<00:00,  1.84s/it]\n",
      "114/982:: 100%|██████████| 40/40 [00:59<00:00,  1.49s/it]\n",
      "115/982:: 100%|██████████| 37/37 [02:46<00:00,  4.51s/it]\n",
      "116/982:: 100%|██████████| 40/40 [01:25<00:00,  2.13s/it]\n",
      "117/982:: 100%|██████████| 39/39 [02:41<00:00,  4.15s/it]\n",
      "118/982:: 100%|██████████| 40/40 [01:39<00:00,  2.49s/it]\n",
      "119/982:: 100%|██████████| 40/40 [01:50<00:00,  2.77s/it]\n",
      "120/982:: 100%|██████████| 40/40 [01:43<00:00,  2.60s/it]\n",
      "121/982:: 100%|██████████| 39/39 [01:40<00:00,  2.57s/it]\n",
      "122/982:: 100%|██████████| 40/40 [01:13<00:00,  1.85s/it]\n",
      "123/982:: 100%|██████████| 40/40 [02:30<00:00,  3.76s/it]\n",
      "124/982:: 100%|██████████| 38/38 [01:58<00:00,  3.13s/it]\n",
      "125/982:: 100%|██████████| 37/37 [02:03<00:00,  3.33s/it]\n",
      "126/982:: 100%|██████████| 38/38 [01:36<00:00,  2.54s/it]\n",
      "127/982:: 100%|██████████| 40/40 [02:46<00:00,  4.17s/it]\n",
      "128/982:: 100%|██████████| 39/39 [01:31<00:00,  2.33s/it]\n",
      "129/982:: 100%|██████████| 39/39 [02:46<00:00,  4.26s/it]\n",
      "130/982:: 100%|██████████| 37/37 [00:57<00:00,  1.56s/it]\n",
      "131/982:: 100%|██████████| 38/38 [01:22<00:00,  2.17s/it]\n",
      "132/982:: 100%|██████████| 40/40 [01:46<00:00,  2.67s/it]\n",
      "133/982:: 100%|██████████| 40/40 [02:32<00:00,  3.81s/it]\n",
      "134/982:: 100%|██████████| 31/31 [01:27<00:00,  2.81s/it]\n",
      "135/982:: 100%|██████████| 37/37 [02:26<00:00,  3.96s/it]\n",
      "136/982:: 100%|██████████| 38/38 [01:41<00:00,  2.67s/it]\n",
      "137/982:: 100%|██████████| 36/36 [01:27<00:00,  2.42s/it]\n",
      "138/982:: 100%|██████████| 40/40 [01:12<00:00,  1.80s/it]\n",
      "139/982:: 100%|██████████| 38/38 [01:07<00:00,  1.78s/it]\n",
      "140/982:: 100%|██████████| 39/39 [02:24<00:00,  3.70s/it]\n",
      "141/982:: 100%|██████████| 38/38 [01:13<00:00,  1.94s/it]\n",
      "142/982:: 100%|██████████| 40/40 [02:13<00:00,  3.34s/it]\n",
      "143/982:: 100%|██████████| 40/40 [01:13<00:00,  1.83s/it]\n",
      "144/982:: 100%|██████████| 40/40 [01:47<00:00,  2.69s/it]\n",
      "145/982::  86%|████████▋ | 32/37 [00:50<00:04,  1.21it/s]"
     ]
    },
    {
     "name": "stdout",
     "output_type": "stream",
     "text": [
      "Failed to process 63380\n"
     ]
    },
    {
     "name": "stderr",
     "output_type": "stream",
     "text": [
      "145/982:: 100%|██████████| 37/37 [01:13<00:00,  1.99s/it]\n",
      "146/982::   0%|          | 0/39 [00:02<?, ?it/s]\n"
     ]
    },
    {
     "ename": "KeyboardInterrupt",
     "evalue": "",
     "output_type": "error",
     "traceback": [
      "\u001B[1;31m---------------------------------------------------------------------------\u001B[0m",
      "\u001B[1;31mKeyboardInterrupt\u001B[0m                         Traceback (most recent call last)",
      "Cell \u001B[1;32mIn[5], line 32\u001B[0m\n\u001B[0;32m     30\u001B[0m         append_fail_games(game_dict)\n\u001B[0;32m     31\u001B[0m         \u001B[38;5;28;01mcontinue\u001B[39;00m\n\u001B[1;32m---> 32\u001B[0m     success \u001B[38;5;241m=\u001B[39m \u001B[43mdownload_video\u001B[49m\u001B[43m(\u001B[49m\u001B[43mmin_duration_video_url\u001B[49m\u001B[43m,\u001B[49m\u001B[43m \u001B[49m\u001B[43mvideo_path\u001B[49m\u001B[43m)\u001B[49m\n\u001B[0;32m     34\u001B[0m \u001B[38;5;28;01mif\u001B[39;00m \u001B[38;5;129;01mnot\u001B[39;00m success:\n\u001B[0;32m     35\u001B[0m     append_fail_games(game_dict)\n",
      "Cell \u001B[1;32mIn[3], line 6\u001B[0m, in \u001B[0;36mdownload_video\u001B[1;34m(video_url, video_path)\u001B[0m\n\u001B[0;32m      4\u001B[0m \u001B[38;5;28;01mif\u001B[39;00m response\u001B[38;5;241m.\u001B[39mstatus_code \u001B[38;5;241m==\u001B[39m \u001B[38;5;241m200\u001B[39m:\n\u001B[0;32m      5\u001B[0m     \u001B[38;5;28;01mwith\u001B[39;00m \u001B[38;5;28mopen\u001B[39m(video_path, \u001B[38;5;124m\"\u001B[39m\u001B[38;5;124mwb\u001B[39m\u001B[38;5;124m\"\u001B[39m) \u001B[38;5;28;01mas\u001B[39;00m file:\n\u001B[1;32m----> 6\u001B[0m \u001B[43m        \u001B[49m\u001B[38;5;28;43;01mfor\u001B[39;49;00m\u001B[43m \u001B[49m\u001B[43mchunk\u001B[49m\u001B[43m \u001B[49m\u001B[38;5;129;43;01min\u001B[39;49;00m\u001B[43m \u001B[49m\u001B[43mresponse\u001B[49m\u001B[38;5;241;43m.\u001B[39;49m\u001B[43miter_content\u001B[49m\u001B[43m(\u001B[49m\u001B[43mchunk_size\u001B[49m\u001B[38;5;241;43m=\u001B[39;49m\u001B[38;5;241;43m8192\u001B[39;49m\u001B[43m)\u001B[49m\u001B[43m:\u001B[49m\n\u001B[0;32m      7\u001B[0m \u001B[43m            \u001B[49m\u001B[43mfile\u001B[49m\u001B[38;5;241;43m.\u001B[39;49m\u001B[43mwrite\u001B[49m\u001B[43m(\u001B[49m\u001B[43mchunk\u001B[49m\u001B[43m)\u001B[49m\n\u001B[0;32m      8\u001B[0m     \u001B[38;5;28;01mreturn\u001B[39;00m \u001B[38;5;28;01mTrue\u001B[39;00m\n",
      "File \u001B[1;32m~\\AppData\\Local\\Programs\\Python\\Python312\\Lib\\site-packages\\requests\\models.py:820\u001B[0m, in \u001B[0;36mResponse.iter_content.<locals>.generate\u001B[1;34m()\u001B[0m\n\u001B[0;32m    818\u001B[0m \u001B[38;5;28;01mif\u001B[39;00m \u001B[38;5;28mhasattr\u001B[39m(\u001B[38;5;28mself\u001B[39m\u001B[38;5;241m.\u001B[39mraw, \u001B[38;5;124m\"\u001B[39m\u001B[38;5;124mstream\u001B[39m\u001B[38;5;124m\"\u001B[39m):\n\u001B[0;32m    819\u001B[0m     \u001B[38;5;28;01mtry\u001B[39;00m:\n\u001B[1;32m--> 820\u001B[0m         \u001B[38;5;28;01myield from\u001B[39;00m \u001B[38;5;28mself\u001B[39m\u001B[38;5;241m.\u001B[39mraw\u001B[38;5;241m.\u001B[39mstream(chunk_size, decode_content\u001B[38;5;241m=\u001B[39m\u001B[38;5;28;01mTrue\u001B[39;00m)\n\u001B[0;32m    821\u001B[0m     \u001B[38;5;28;01mexcept\u001B[39;00m ProtocolError \u001B[38;5;28;01mas\u001B[39;00m e:\n\u001B[0;32m    822\u001B[0m         \u001B[38;5;28;01mraise\u001B[39;00m ChunkedEncodingError(e)\n",
      "File \u001B[1;32m~\\AppData\\Local\\Programs\\Python\\Python312\\Lib\\site-packages\\urllib3\\response.py:628\u001B[0m, in \u001B[0;36mHTTPResponse.stream\u001B[1;34m(self, amt, decode_content)\u001B[0m\n\u001B[0;32m    626\u001B[0m \u001B[38;5;28;01melse\u001B[39;00m:\n\u001B[0;32m    627\u001B[0m     \u001B[38;5;28;01mwhile\u001B[39;00m \u001B[38;5;129;01mnot\u001B[39;00m is_fp_closed(\u001B[38;5;28mself\u001B[39m\u001B[38;5;241m.\u001B[39m_fp):\n\u001B[1;32m--> 628\u001B[0m         data \u001B[38;5;241m=\u001B[39m \u001B[38;5;28;43mself\u001B[39;49m\u001B[38;5;241;43m.\u001B[39;49m\u001B[43mread\u001B[49m\u001B[43m(\u001B[49m\u001B[43mamt\u001B[49m\u001B[38;5;241;43m=\u001B[39;49m\u001B[43mamt\u001B[49m\u001B[43m,\u001B[49m\u001B[43m \u001B[49m\u001B[43mdecode_content\u001B[49m\u001B[38;5;241;43m=\u001B[39;49m\u001B[43mdecode_content\u001B[49m\u001B[43m)\u001B[49m\n\u001B[0;32m    630\u001B[0m         \u001B[38;5;28;01mif\u001B[39;00m data:\n\u001B[0;32m    631\u001B[0m             \u001B[38;5;28;01myield\u001B[39;00m data\n",
      "File \u001B[1;32m~\\AppData\\Local\\Programs\\Python\\Python312\\Lib\\site-packages\\urllib3\\response.py:567\u001B[0m, in \u001B[0;36mHTTPResponse.read\u001B[1;34m(self, amt, decode_content, cache_content)\u001B[0m\n\u001B[0;32m    564\u001B[0m fp_closed \u001B[38;5;241m=\u001B[39m \u001B[38;5;28mgetattr\u001B[39m(\u001B[38;5;28mself\u001B[39m\u001B[38;5;241m.\u001B[39m_fp, \u001B[38;5;124m\"\u001B[39m\u001B[38;5;124mclosed\u001B[39m\u001B[38;5;124m\"\u001B[39m, \u001B[38;5;28;01mFalse\u001B[39;00m)\n\u001B[0;32m    566\u001B[0m \u001B[38;5;28;01mwith\u001B[39;00m \u001B[38;5;28mself\u001B[39m\u001B[38;5;241m.\u001B[39m_error_catcher():\n\u001B[1;32m--> 567\u001B[0m     data \u001B[38;5;241m=\u001B[39m \u001B[38;5;28;43mself\u001B[39;49m\u001B[38;5;241;43m.\u001B[39;49m\u001B[43m_fp_read\u001B[49m\u001B[43m(\u001B[49m\u001B[43mamt\u001B[49m\u001B[43m)\u001B[49m \u001B[38;5;28;01mif\u001B[39;00m \u001B[38;5;129;01mnot\u001B[39;00m fp_closed \u001B[38;5;28;01melse\u001B[39;00m \u001B[38;5;124mb\u001B[39m\u001B[38;5;124m\"\u001B[39m\u001B[38;5;124m\"\u001B[39m\n\u001B[0;32m    568\u001B[0m     \u001B[38;5;28;01mif\u001B[39;00m amt \u001B[38;5;129;01mis\u001B[39;00m \u001B[38;5;28;01mNone\u001B[39;00m:\n\u001B[0;32m    569\u001B[0m         flush_decoder \u001B[38;5;241m=\u001B[39m \u001B[38;5;28;01mTrue\u001B[39;00m\n",
      "File \u001B[1;32m~\\AppData\\Local\\Programs\\Python\\Python312\\Lib\\site-packages\\urllib3\\response.py:533\u001B[0m, in \u001B[0;36mHTTPResponse._fp_read\u001B[1;34m(self, amt)\u001B[0m\n\u001B[0;32m    530\u001B[0m     \u001B[38;5;28;01mreturn\u001B[39;00m buffer\u001B[38;5;241m.\u001B[39mgetvalue()\n\u001B[0;32m    531\u001B[0m \u001B[38;5;28;01melse\u001B[39;00m:\n\u001B[0;32m    532\u001B[0m     \u001B[38;5;66;03m# StringIO doesn't like amt=None\u001B[39;00m\n\u001B[1;32m--> 533\u001B[0m     \u001B[38;5;28;01mreturn\u001B[39;00m \u001B[38;5;28;43mself\u001B[39;49m\u001B[38;5;241;43m.\u001B[39;49m\u001B[43m_fp\u001B[49m\u001B[38;5;241;43m.\u001B[39;49m\u001B[43mread\u001B[49m\u001B[43m(\u001B[49m\u001B[43mamt\u001B[49m\u001B[43m)\u001B[49m \u001B[38;5;28;01mif\u001B[39;00m amt \u001B[38;5;129;01mis\u001B[39;00m \u001B[38;5;129;01mnot\u001B[39;00m \u001B[38;5;28;01mNone\u001B[39;00m \u001B[38;5;28;01melse\u001B[39;00m \u001B[38;5;28mself\u001B[39m\u001B[38;5;241m.\u001B[39m_fp\u001B[38;5;241m.\u001B[39mread()\n",
      "File \u001B[1;32m~\\AppData\\Local\\Programs\\Python\\Python312\\Lib\\http\\client.py:479\u001B[0m, in \u001B[0;36mHTTPResponse.read\u001B[1;34m(self, amt)\u001B[0m\n\u001B[0;32m    476\u001B[0m \u001B[38;5;28;01mif\u001B[39;00m \u001B[38;5;28mself\u001B[39m\u001B[38;5;241m.\u001B[39mlength \u001B[38;5;129;01mis\u001B[39;00m \u001B[38;5;129;01mnot\u001B[39;00m \u001B[38;5;28;01mNone\u001B[39;00m \u001B[38;5;129;01mand\u001B[39;00m amt \u001B[38;5;241m>\u001B[39m \u001B[38;5;28mself\u001B[39m\u001B[38;5;241m.\u001B[39mlength:\n\u001B[0;32m    477\u001B[0m     \u001B[38;5;66;03m# clip the read to the \"end of response\"\u001B[39;00m\n\u001B[0;32m    478\u001B[0m     amt \u001B[38;5;241m=\u001B[39m \u001B[38;5;28mself\u001B[39m\u001B[38;5;241m.\u001B[39mlength\n\u001B[1;32m--> 479\u001B[0m s \u001B[38;5;241m=\u001B[39m \u001B[38;5;28;43mself\u001B[39;49m\u001B[38;5;241;43m.\u001B[39;49m\u001B[43mfp\u001B[49m\u001B[38;5;241;43m.\u001B[39;49m\u001B[43mread\u001B[49m\u001B[43m(\u001B[49m\u001B[43mamt\u001B[49m\u001B[43m)\u001B[49m\n\u001B[0;32m    480\u001B[0m \u001B[38;5;28;01mif\u001B[39;00m \u001B[38;5;129;01mnot\u001B[39;00m s \u001B[38;5;129;01mand\u001B[39;00m amt:\n\u001B[0;32m    481\u001B[0m     \u001B[38;5;66;03m# Ideally, we would raise IncompleteRead if the content-length\u001B[39;00m\n\u001B[0;32m    482\u001B[0m     \u001B[38;5;66;03m# wasn't satisfied, but it might break compatibility.\u001B[39;00m\n\u001B[0;32m    483\u001B[0m     \u001B[38;5;28mself\u001B[39m\u001B[38;5;241m.\u001B[39m_close_conn()\n",
      "File \u001B[1;32m~\\AppData\\Local\\Programs\\Python\\Python312\\Lib\\socket.py:707\u001B[0m, in \u001B[0;36mSocketIO.readinto\u001B[1;34m(self, b)\u001B[0m\n\u001B[0;32m    705\u001B[0m \u001B[38;5;28;01mwhile\u001B[39;00m \u001B[38;5;28;01mTrue\u001B[39;00m:\n\u001B[0;32m    706\u001B[0m     \u001B[38;5;28;01mtry\u001B[39;00m:\n\u001B[1;32m--> 707\u001B[0m         \u001B[38;5;28;01mreturn\u001B[39;00m \u001B[38;5;28;43mself\u001B[39;49m\u001B[38;5;241;43m.\u001B[39;49m\u001B[43m_sock\u001B[49m\u001B[38;5;241;43m.\u001B[39;49m\u001B[43mrecv_into\u001B[49m\u001B[43m(\u001B[49m\u001B[43mb\u001B[49m\u001B[43m)\u001B[49m\n\u001B[0;32m    708\u001B[0m     \u001B[38;5;28;01mexcept\u001B[39;00m timeout:\n\u001B[0;32m    709\u001B[0m         \u001B[38;5;28mself\u001B[39m\u001B[38;5;241m.\u001B[39m_timeout_occurred \u001B[38;5;241m=\u001B[39m \u001B[38;5;28;01mTrue\u001B[39;00m\n",
      "\u001B[1;31mKeyboardInterrupt\u001B[0m: "
     ]
    }
   ],
   "execution_count": 5
  }
 ],
 "metadata": {
  "kernelspec": {
   "display_name": "Python 3",
   "language": "python",
   "name": "python3"
  },
  "language_info": {
   "codemirror_mode": {
    "name": "ipython",
    "version": 2
   },
   "file_extension": ".py",
   "mimetype": "text/x-python",
   "name": "python",
   "nbconvert_exporter": "python",
   "pygments_lexer": "ipython2",
   "version": "2.7.6"
  }
 },
 "nbformat": 4,
 "nbformat_minor": 5
}
