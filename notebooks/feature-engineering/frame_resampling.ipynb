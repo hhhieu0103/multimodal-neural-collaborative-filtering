{
 "cells": [
  {
   "cell_type": "code",
   "id": "initial_id",
   "metadata": {
    "collapsed": true,
    "ExecuteTime": {
     "end_time": "2025-04-11T19:54:43.659553Z",
     "start_time": "2025-04-11T19:54:43.648975Z"
    }
   },
   "source": [
    "import glob\n",
    "import json\n",
    "\n",
    "import torch\n",
    "import torchvision.models as models\n",
    "import torchvision.transforms as transforms\n",
    "from PIL import Image\n",
    "from sklearn.metrics.pairwise import cosine_similarity\n",
    "import numpy as np\n",
    "import shutil\n",
    "import os\n",
    "from skimage.metrics import structural_similarity as ssim\n",
    "import cv2"
   ],
   "outputs": [],
   "execution_count": 19
  },
  {
   "metadata": {
    "ExecuteTime": {
     "end_time": "2025-04-11T19:54:43.892057Z",
     "start_time": "2025-04-11T19:54:43.659553Z"
    }
   },
   "cell_type": "code",
   "source": [
    "model = models.resnet34()\n",
    "model = torch.nn.Sequential(*(list(model.children())[:-1])).to(\"cuda\")\n",
    "model.eval()\n",
    "\n",
    "# Preprocessing\n",
    "preprocess = transforms.Compose([\n",
    "    transforms.Resize(256),\n",
    "    transforms.CenterCrop(224),\n",
    "    transforms.ToTensor(),\n",
    "    transforms.Normalize(mean=[0.485, 0.456, 0.406],\n",
    "                         std=[0.229, 0.224, 0.225]),\n",
    "])"
   ],
   "id": "d56a892a924cc00d",
   "outputs": [],
   "execution_count": 20
  },
  {
   "metadata": {
    "ExecuteTime": {
     "end_time": "2025-04-11T19:54:43.906253Z",
     "start_time": "2025-04-11T19:54:43.897643Z"
    }
   },
   "cell_type": "code",
   "source": [
    "def extract_features(image_paths):\n",
    "    image_tensors = []\n",
    "    for image_path in image_paths:\n",
    "        img = Image.open(image_path)\n",
    "        img_tensor = preprocess(img)\n",
    "        img_tensor = img_tensor.unsqueeze(0).numpy()\n",
    "        image_tensors.append(img_tensor)\n",
    "\n",
    "    image_tensors = np.concatenate(image_tensors, axis=0)\n",
    "    image_tensors = torch.tensor(image_tensors, dtype=torch.float32, device=\"cuda\")\n",
    "\n",
    "    with torch.no_grad():\n",
    "        features = model(image_tensors)\n",
    "\n",
    "    return features.squeeze().cpu().numpy()\n",
    "\n",
    "def ssim_similarity(frame1, frame2):\n",
    "    \"\"\"\n",
    "    Compare two frames using Structural Similarity Index.\n",
    "\n",
    "    Args:\n",
    "        frame1, frame2: Input frames\n",
    "\n",
    "    Returns:\n",
    "        float: SSIM score (1.0 means identical images)\n",
    "    \"\"\"\n",
    "    # Convert to grayscale\n",
    "    gray1 = cv2.cvtColor(frame1, cv2.COLOR_BGR2GRAY)\n",
    "    gray2 = cv2.cvtColor(frame2, cv2.COLOR_BGR2GRAY)\n",
    "\n",
    "    # Ensure frames are the same size\n",
    "    if gray1.shape != gray2.shape:\n",
    "        # Resize second frame to match first\n",
    "        gray2 = cv2.resize(gray2, (gray1.shape[1], gray1.shape[0]))\n",
    "\n",
    "    # Calculate SSIM\n",
    "    score, _ = ssim(gray1, gray2, full=True)\n",
    "    return score\n",
    "\n",
    "def cal_similarity(image_features):\n",
    "    num_frames = len(image_features)\n",
    "    similarities = np.zeros((num_frames, num_frames))\n",
    "    for i, feature1 in enumerate(image_features[:-1]):\n",
    "        for j, feature2 in enumerate(image_features[i+1:]):\n",
    "            sim = cosine_similarity([feature1], [feature2])[0][0]\n",
    "            similarities[i, i+j+1] = sim\n",
    "            similarities[i+j+1, i] = sim\n",
    "\n",
    "    return similarities\n",
    "\n",
    "def cal_ssim(image_paths):\n",
    "    num_frames = len(image_paths)\n",
    "    similarities = np.zeros((num_frames, num_frames))\n",
    "    for i, feature1 in enumerate(image_paths[:-1]):\n",
    "        for j, feature2 in enumerate(image_paths[i+1:]):\n",
    "            sim = ssim_similarity(cv2.imread(feature1), cv2.imread(feature2))\n",
    "            similarities[i, i+j+1] = sim\n",
    "            similarities[i+j+1, i] = sim\n",
    "\n",
    "    return similarities\n",
    "\n",
    "def select_frame_to_remove(similarities):\n",
    "    i, j = np.unravel_index(np.argmax(similarities), similarities.shape)\n",
    "    sum_i = similarities[i].sum()\n",
    "    sum_j = similarities[j].sum()\n",
    "\n",
    "    if sum_i > sum_j: return i\n",
    "    else: return j\n",
    "\n",
    "def resample_frames(image_paths, target_num_frames):\n",
    "    image_features = extract_features(image_paths)\n",
    "    similarities = cal_similarity(image_features)\n",
    "    # similarities = cal_ssim(image_paths)\n",
    "\n",
    "    while len(image_paths) > target_num_frames:\n",
    "        frame_to_remove = select_frame_to_remove(similarities)\n",
    "        image_paths.pop(frame_to_remove)\n",
    "        similarities = np.delete(similarities, frame_to_remove, axis=0)\n",
    "        similarities = np.delete(similarities, frame_to_remove, axis=1)\n",
    "\n",
    "    if len(image_paths) < target_num_frames:\n",
    "        num_to_duplicate = target_num_frames - len(image_paths)\n",
    "        for i in range(num_to_duplicate):\n",
    "            dup_idx = i % len(image_paths)\n",
    "            dup_frame = image_paths[dup_idx]\n",
    "            image_paths.append(dup_frame)\n",
    "\n",
    "    return image_paths\n",
    "\n",
    "# images = [\n",
    "#     'D:/frames/1293860/3.jpg',\n",
    "#     'D:/frames/1293860/4.jpg',\n",
    "#     'D:/frames/1293860/10.jpg',\n",
    "#     'D:/frames/1293860/11.jpg',\n",
    "#     'D:/frames/1293860/12.jpg',\n",
    "#     'D:/frames/1293860/15.jpg',\n",
    "#     'D:/frames/1293860/16.jpg',\n",
    "#     'D:/frames/1293860/18.jpg',\n",
    "# ]\n",
    "# resampled_images = resample_frames(images, 8)"
   ],
   "id": "7d10df2d55d78469",
   "outputs": [],
   "execution_count": 21
  },
  {
   "metadata": {
    "ExecuteTime": {
     "end_time": "2025-04-11T19:54:43.915698Z",
     "start_time": "2025-04-11T19:54:43.911288Z"
    }
   },
   "cell_type": "code",
   "source": [
    "def get_all_dirs():\n",
    "    root_dir = 'D:/frames'\n",
    "    frames_dirs = os.listdir(root_dir)\n",
    "    frames_dirs.sort()\n",
    "    return frames_dirs\n",
    "\n",
    "def update_progress(prog):\n",
    "    with open('frame-resampling-progress.json', 'w') as file:\n",
    "        json.dump(prog, file)\n",
    "\n",
    "def get_progress():\n",
    "    if not os.path.exists('frame-resampling-progress.json'):\n",
    "        return []\n",
    "    with open('frame-resampling-progress.json', 'r') as file:\n",
    "        prog = json.load(file)\n",
    "    return prog"
   ],
   "id": "827233a6ac761500",
   "outputs": [],
   "execution_count": 22
  },
  {
   "metadata": {
    "ExecuteTime": {
     "end_time": "2025-04-11T19:54:43.925316Z",
     "start_time": "2025-04-11T19:54:43.921284Z"
    }
   },
   "cell_type": "code",
   "source": [
    "all_dirs = get_all_dirs()\n",
    "progress = get_progress()\n",
    "remain_dirs = [frame_dir for frame_dir in all_dirs if frame_dir not in progress]\n",
    "output_dir = 'D:/frames-resampled'"
   ],
   "id": "6d43ecc067771b4",
   "outputs": [],
   "execution_count": 23
  },
  {
   "metadata": {
    "ExecuteTime": {
     "end_time": "2025-04-11T19:54:46.324189Z",
     "start_time": "2025-04-11T19:54:43.930729Z"
    }
   },
   "cell_type": "code",
   "source": [
    "for i, frame_dir in enumerate(remain_dirs):\n",
    "    frame_dir = os.path.join('D:/frames', frame_dir)\n",
    "    frame_paths = glob.glob(f\"{frame_dir}/*.jpg\")\n",
    "    frame_paths = resample_frames(frame_paths, 8)\n",
    "\n",
    "    for i, frame_path in enumerate(frame_paths):\n",
    "        video_id = os.path.basename(os.path.dirname(frame_path))\n",
    "        frame_dir = os.path.join(output_dir, video_id)\n",
    "        os.makedirs(frame_dir, exist_ok=True)\n",
    "        new_frame_path = os.path.join(frame_dir, f\"{i}.jpg\")\n",
    "        shutil.copy(frame_path, new_frame_path)\n",
    "    # progress.append(frame_dir)\n",
    "    # update_progress(progress)"
   ],
   "id": "c2db4fad2fcc55d0",
   "outputs": [],
   "execution_count": 24
  }
 ],
 "metadata": {
  "kernelspec": {
   "display_name": "Python 3",
   "language": "python",
   "name": "python3"
  },
  "language_info": {
   "codemirror_mode": {
    "name": "ipython",
    "version": 2
   },
   "file_extension": ".py",
   "mimetype": "text/x-python",
   "name": "python",
   "nbconvert_exporter": "python",
   "pygments_lexer": "ipython2",
   "version": "2.7.6"
  }
 },
 "nbformat": 4,
 "nbformat_minor": 5
}
