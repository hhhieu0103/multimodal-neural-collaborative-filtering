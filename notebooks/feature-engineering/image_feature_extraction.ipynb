{
 "cells": [
  {
   "metadata": {
    "ExecuteTime": {
     "end_time": "2025-04-28T04:16:41.536095Z",
     "start_time": "2025-04-28T04:16:38.071193Z"
    }
   },
   "cell_type": "code",
   "source": [
    "import os\n",
    "from PIL import Image\n",
    "import glob\n",
    "from helpers.image_preprocessing import transform\n",
    "from torchvision import models\n",
    "import torch\n",
    "import lmdb\n",
    "from tqdm import tqdm\n",
    "import pickle"
   ],
   "id": "b24aba489376f676",
   "outputs": [],
   "execution_count": 1
  },
  {
   "metadata": {
    "collapsed": true,
    "ExecuteTime": {
     "end_time": "2025-04-09T16:22:06.921163Z",
     "start_time": "2025-04-09T16:22:06.732959Z"
    }
   },
   "cell_type": "code",
   "source": [
    "image_dir = 'D:/header-image'\n",
    "image_files = glob.glob(os.path.join(image_dir, '*.jpg'))"
   ],
   "id": "initial_id",
   "outputs": [],
   "execution_count": 2
  },
  {
   "metadata": {
    "ExecuteTime": {
     "end_time": "2025-04-09T16:30:37.610745Z",
     "start_time": "2025-04-09T16:22:07.053264Z"
    }
   },
   "cell_type": "code",
   "source": [
    "image_features = {}\n",
    "\n",
    "resnet = models.resnet34()\n",
    "feature_extractor = torch.nn.Sequential(*list(resnet.children())[:-1]).to('cuda')\n",
    "feature_extractor.eval()\n",
    "\n",
    "for i, image_file in enumerate(tqdm(image_files)):\n",
    "    image_id = os.path.basename(image_file).split('.')[0]\n",
    "    image_path = os.path.join(image_dir, image_file)\n",
    "    image = Image.open(image_path).convert('RGB')\n",
    "    image_tensor = transform(image).unsqueeze(0).to('cuda')\n",
    "\n",
    "    with torch.no_grad():\n",
    "        features = feature_extractor(image_tensor)\n",
    "        features = features.squeeze().cpu().numpy()\n",
    "\n",
    "    image_features[image_id] = features"
   ],
   "id": "92f0a2049579a75",
   "outputs": [
    {
     "name": "stderr",
     "output_type": "stream",
     "text": [
      "100%|██████████| 97378/97378 [08:29<00:00, 190.99it/s]\n"
     ]
    }
   ],
   "execution_count": 3
  },
  {
   "metadata": {
    "ExecuteTime": {
     "end_time": "2025-04-09T16:30:37.748119Z",
     "start_time": "2025-04-09T16:30:37.743805Z"
    }
   },
   "cell_type": "code",
   "source": [
    "feature_dir = 'D:/image-features'\n",
    "map_size = 512 * 1024 * 1024\n",
    "env = lmdb.open(feature_dir, map_size=map_size)"
   ],
   "id": "172062f0c0b75980",
   "outputs": [],
   "execution_count": 4
  },
  {
   "metadata": {
    "ExecuteTime": {
     "end_time": "2025-04-09T16:30:38.346212Z",
     "start_time": "2025-04-09T16:30:37.752649Z"
    }
   },
   "cell_type": "code",
   "source": [
    "with env.begin(write=True) as txn:\n",
    "        for img_id, features in tqdm(image_features.items()):\n",
    "            txn.put(str(img_id).encode(), features.tobytes())"
   ],
   "id": "20d79dff3cb3d13a",
   "outputs": [
    {
     "name": "stderr",
     "output_type": "stream",
     "text": [
      "100%|██████████| 97378/97378 [00:00<00:00, 437739.60it/s]\n"
     ]
    }
   ],
   "execution_count": 5
  }
 ],
 "metadata": {
  "kernelspec": {
   "display_name": "Python 3",
   "language": "python",
   "name": "python3"
  },
  "language_info": {
   "codemirror_mode": {
    "name": "ipython",
    "version": 2
   },
   "file_extension": ".py",
   "mimetype": "text/x-python",
   "name": "python",
   "nbconvert_exporter": "python",
   "pygments_lexer": "ipython2",
   "version": "2.7.6"
  }
 },
 "nbformat": 4,
 "nbformat_minor": 5
}
