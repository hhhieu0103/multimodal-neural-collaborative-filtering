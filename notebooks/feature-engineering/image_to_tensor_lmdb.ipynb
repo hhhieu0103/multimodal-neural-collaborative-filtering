{
 "cells": [
  {
   "metadata": {
    "collapsed": true,
    "ExecuteTime": {
     "end_time": "2025-04-09T11:51:33.778106Z",
     "start_time": "2025-04-09T11:51:31.120109Z"
    }
   },
   "cell_type": "code",
   "source": [
    "import os\n",
    "import glob\n",
    "import lmdb\n",
    "import pickle\n",
    "from torchvision import transforms\n",
    "from PIL import Image\n",
    "from tqdm import tqdm\n",
    "import math"
   ],
   "id": "fadddd9f8420585b",
   "outputs": [],
   "execution_count": 1
  },
  {
   "metadata": {
    "ExecuteTime": {
     "end_time": "2025-04-09T11:51:33.965110Z",
     "start_time": "2025-04-09T11:51:33.780203Z"
    }
   },
   "cell_type": "code",
   "source": [
    "image_dir = 'D:/header-image'\n",
    "images = glob.glob(os.path.join(image_dir, '*.jpg'))"
   ],
   "id": "1199c898ef87152e",
   "outputs": [],
   "execution_count": 2
  },
  {
   "metadata": {
    "ExecuteTime": {
     "end_time": "2025-04-09T11:51:34.261804Z",
     "start_time": "2025-04-09T11:51:34.088900Z"
    }
   },
   "cell_type": "code",
   "source": [
    "item_ids = []\n",
    "for image_path in images:\n",
    "    img_name = os.path.splitext(os.path.basename(image_path))[0]\n",
    "    item_ids.append(int(img_name))\n",
    "item_ids.sort()"
   ],
   "id": "648ed2d1f0aa5559",
   "outputs": [],
   "execution_count": 3
  },
  {
   "metadata": {
    "ExecuteTime": {
     "end_time": "2025-04-09T11:51:34.278903Z",
     "start_time": "2025-04-09T11:51:34.266623Z"
    }
   },
   "cell_type": "code",
   "source": [
    "groups = []\n",
    "step = 500000\n",
    "n_groups = math.ceil(max(item_ids) / step)\n",
    "for i in range(n_groups):\n",
    "    groups.append([])\n",
    "for item_id in item_ids:\n",
    "    group_idx = math.floor(item_id / step)\n",
    "    groups[group_idx].append(item_id)"
   ],
   "id": "34896563556ab012",
   "outputs": [],
   "execution_count": 4
  },
  {
   "metadata": {
    "ExecuteTime": {
     "end_time": "2025-04-09T12:10:42.379187Z",
     "start_time": "2025-04-09T11:54:23.393772Z"
    }
   },
   "cell_type": "code",
   "source": [
    "preprocess = transforms.Compose([\n",
    "    transforms.ToTensor(),\n",
    "    transforms.Normalize(mean=[0.485, 0.456, 0.406], std=[0.229, 0.224, 0.225])\n",
    "])\n",
    "\n",
    "for group_idx, group in enumerate(groups):\n",
    "    map_size = len(group) * 600 * 1024 * 2\n",
    "    shard_dir = os.path.join('D:/image-tensors', f'{group_idx}.lmdb')\n",
    "    os.makedirs(shard_dir, exist_ok=True)\n",
    "    env = lmdb.open(shard_dir, map_size=map_size)\n",
    "\n",
    "    with env.begin(write=True) as txn:\n",
    "        for idx, image_id in enumerate(tqdm(group, desc=\"Writing to LMDB\")):\n",
    "            image_path = os.path.join(image_dir, str(image_id) + '.jpg')\n",
    "            img = Image.open(image_path).convert('RGB')\n",
    "            img_tensor = preprocess(img)\n",
    "            serialized_tensor = pickle.dumps(img_tensor)\n",
    "\n",
    "            txn.put(str(image_id).encode(), serialized_tensor)\n",
    "\n",
    "    with env.begin(write=True) as txn:\n",
    "        txn.put(b'__len__', str(len(group)).encode())\n",
    "        txn.put(b'__keys__', pickle.dumps(group))\n",
    "\n",
    "    env.close()\n",
    "print(\"LMDB creation completed\")\n"
   ],
   "id": "acd993203d152da4",
   "outputs": [
    {
     "name": "stderr",
     "output_type": "stream",
     "text": [
      "Writing to LMDB: 100%|██████████| 10001/10001 [00:20<00:00, 487.54it/s]\n",
      "Writing to LMDB: 100%|██████████| 18061/18061 [03:07<00:00, 96.07it/s] \n",
      "Writing to LMDB: 100%|██████████| 17688/17688 [03:08<00:00, 93.82it/s] \n",
      "Writing to LMDB: 100%|██████████| 17710/17710 [03:14<00:00, 91.25it/s]\n",
      "Writing to LMDB: 100%|██████████| 12515/12515 [02:15<00:00, 92.57it/s]\n",
      "Writing to LMDB: 100%|██████████| 13093/13093 [02:24<00:00, 90.60it/s]\n",
      "Writing to LMDB: 100%|██████████| 8310/8310 [01:10<00:00, 118.34it/s]\n"
     ]
    },
    {
     "name": "stdout",
     "output_type": "stream",
     "text": [
      "LMDB creation completed\n"
     ]
    }
   ],
   "execution_count": 8
  }
 ],
 "metadata": {
  "kernelspec": {
   "display_name": "Python 3",
   "language": "python",
   "name": "python3"
  },
  "language_info": {
   "codemirror_mode": {
    "name": "ipython",
    "version": 2
   },
   "file_extension": ".py",
   "mimetype": "text/x-python",
   "name": "python",
   "nbconvert_exporter": "python",
   "pygments_lexer": "ipython2",
   "version": "2.7.6"
  }
 },
 "nbformat": 4,
 "nbformat_minor": 5
}
