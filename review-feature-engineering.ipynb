{
 "cells": [
  {
   "cell_type": "code",
   "execution_count": 1,
   "metadata": {},
   "outputs": [],
   "source": [
    "import pandas as pd\n",
    "import numpy as np\n",
    "import matplotlib.pyplot as plt\n",
    "from enum import Enum"
   ]
  },
  {
   "cell_type": "code",
   "execution_count": 2,
   "metadata": {},
   "outputs": [
    {
     "data": {
      "application/vnd.microsoft.datawrangler.viewer.v0+json": {
       "columns": [
        {
         "name": "index",
         "rawType": "int64",
         "type": "integer"
        },
        {
         "name": "Unnamed: 0",
         "rawType": "int64",
         "type": "integer"
        },
        {
         "name": "recommendationid",
         "rawType": "int64",
         "type": "integer"
        },
        {
         "name": "author_id",
         "rawType": "int64",
         "type": "integer"
        },
        {
         "name": "review",
         "rawType": "object",
         "type": "string"
        },
        {
         "name": "timestamp",
         "rawType": "int64",
         "type": "integer"
        },
        {
         "name": "voted_up",
         "rawType": "bool",
         "type": "boolean"
        },
        {
         "name": "weighted_vote_score",
         "rawType": "float64",
         "type": "float"
        },
        {
         "name": "app_id",
         "rawType": "int64",
         "type": "integer"
        }
       ],
       "conversionMethod": "pd.DataFrame",
       "ref": "65ae1c3f-55c9-4586-97d5-7d42115175fc",
       "rows": [
        [
         "0",
         "0",
         "186781078",
         "76561197960432447",
         "A legendary tactical shooter that shaped the genre. Simple yet deep gameplay, excellent weapon balance, and iconic maps keep the game relevant even today. Pure nostalgia and classic FPS action.",
         "1738278781",
         "True",
         "0.652996838092804",
         "10"
        ],
        [
         "1",
         "1",
         "184974430",
         "76561198071230926",
         "The best CS sure, but server browser is the illusion of choice and leads you to the same **** server. Use gametracker or something",
         "1736206418",
         "True",
         "0.5817490816116333",
         "10"
        ],
        [
         "2",
         "2",
         "186584044",
         "76561198206216352",
         "Some of the best memories of my childhood were made in pixels, with friends I only knew through a screen. Time moves on, but those moments are forever frozen in time.",
         "1738041574",
         "True",
         "0.6283783912658691",
         "10"
        ],
        [
         "3",
         "3",
         "186564689",
         "76561198110801124",
         "This game feels so much better than CS2. I know this game still gets FACEIT/ESEA-type treatment from services in the EU, but it would be cool if it got such services in NA.",
         "1738015332",
         "True",
         "0.0",
         "10"
        ],
        [
         "4",
         "4",
         "186418367",
         "76561199813732773",
         "its very fun to play you can make friends out of it i have lots of maps i like i like how theres diffrent teams to choose from idk what else to say its just fun",
         "1737853720",
         "True",
         "0.0",
         "10"
        ]
       ],
       "shape": {
        "columns": 8,
        "rows": 5
       }
      },
      "text/html": [
       "<div>\n",
       "<style scoped>\n",
       "    .dataframe tbody tr th:only-of-type {\n",
       "        vertical-align: middle;\n",
       "    }\n",
       "\n",
       "    .dataframe tbody tr th {\n",
       "        vertical-align: top;\n",
       "    }\n",
       "\n",
       "    .dataframe thead th {\n",
       "        text-align: right;\n",
       "    }\n",
       "</style>\n",
       "<table border=\"1\" class=\"dataframe\">\n",
       "  <thead>\n",
       "    <tr style=\"text-align: right;\">\n",
       "      <th></th>\n",
       "      <th>Unnamed: 0</th>\n",
       "      <th>recommendationid</th>\n",
       "      <th>author_id</th>\n",
       "      <th>review</th>\n",
       "      <th>timestamp</th>\n",
       "      <th>voted_up</th>\n",
       "      <th>weighted_vote_score</th>\n",
       "      <th>app_id</th>\n",
       "    </tr>\n",
       "  </thead>\n",
       "  <tbody>\n",
       "    <tr>\n",
       "      <th>0</th>\n",
       "      <td>0</td>\n",
       "      <td>186781078</td>\n",
       "      <td>76561197960432447</td>\n",
       "      <td>A legendary tactical shooter that shaped the g...</td>\n",
       "      <td>1738278781</td>\n",
       "      <td>True</td>\n",
       "      <td>0.652997</td>\n",
       "      <td>10</td>\n",
       "    </tr>\n",
       "    <tr>\n",
       "      <th>1</th>\n",
       "      <td>1</td>\n",
       "      <td>184974430</td>\n",
       "      <td>76561198071230926</td>\n",
       "      <td>The best CS sure, but server browser is the il...</td>\n",
       "      <td>1736206418</td>\n",
       "      <td>True</td>\n",
       "      <td>0.581749</td>\n",
       "      <td>10</td>\n",
       "    </tr>\n",
       "    <tr>\n",
       "      <th>2</th>\n",
       "      <td>2</td>\n",
       "      <td>186584044</td>\n",
       "      <td>76561198206216352</td>\n",
       "      <td>Some of the best memories of my childhood were...</td>\n",
       "      <td>1738041574</td>\n",
       "      <td>True</td>\n",
       "      <td>0.628378</td>\n",
       "      <td>10</td>\n",
       "    </tr>\n",
       "    <tr>\n",
       "      <th>3</th>\n",
       "      <td>3</td>\n",
       "      <td>186564689</td>\n",
       "      <td>76561198110801124</td>\n",
       "      <td>This game feels so much better than CS2. I kno...</td>\n",
       "      <td>1738015332</td>\n",
       "      <td>True</td>\n",
       "      <td>0.000000</td>\n",
       "      <td>10</td>\n",
       "    </tr>\n",
       "    <tr>\n",
       "      <th>4</th>\n",
       "      <td>4</td>\n",
       "      <td>186418367</td>\n",
       "      <td>76561199813732773</td>\n",
       "      <td>its very fun to play you can make friends out ...</td>\n",
       "      <td>1737853720</td>\n",
       "      <td>True</td>\n",
       "      <td>0.000000</td>\n",
       "      <td>10</td>\n",
       "    </tr>\n",
       "  </tbody>\n",
       "</table>\n",
       "</div>"
      ],
      "text/plain": [
       "   Unnamed: 0  recommendationid          author_id  \\\n",
       "0           0         186781078  76561197960432447   \n",
       "1           1         184974430  76561198071230926   \n",
       "2           2         186584044  76561198206216352   \n",
       "3           3         186564689  76561198110801124   \n",
       "4           4         186418367  76561199813732773   \n",
       "\n",
       "                                              review   timestamp  voted_up  \\\n",
       "0  A legendary tactical shooter that shaped the g...  1738278781      True   \n",
       "1  The best CS sure, but server browser is the il...  1736206418      True   \n",
       "2  Some of the best memories of my childhood were...  1738041574      True   \n",
       "3  This game feels so much better than CS2. I kno...  1738015332      True   \n",
       "4  its very fun to play you can make friends out ...  1737853720      True   \n",
       "\n",
       "   weighted_vote_score  app_id  \n",
       "0             0.652997      10  \n",
       "1             0.581749      10  \n",
       "2             0.628378      10  \n",
       "3             0.000000      10  \n",
       "4             0.000000      10  "
      ]
     },
     "execution_count": 2,
     "metadata": {},
     "output_type": "execute_result"
    }
   ],
   "source": [
    "df = pd.read_csv('data/review-raw.csv')\n",
    "df.head()"
   ]
  },
  {
   "cell_type": "code",
   "execution_count": 3,
   "metadata": {},
   "outputs": [
    {
     "data": {
      "application/vnd.microsoft.datawrangler.viewer.v0+json": {
       "columns": [
        {
         "name": "index",
         "rawType": "int64",
         "type": "integer"
        },
        {
         "name": "author_id",
         "rawType": "int64",
         "type": "integer"
        },
        {
         "name": "review",
         "rawType": "object",
         "type": "string"
        },
        {
         "name": "timestamp",
         "rawType": "int64",
         "type": "integer"
        },
        {
         "name": "voted_up",
         "rawType": "bool",
         "type": "boolean"
        },
        {
         "name": "app_id",
         "rawType": "int64",
         "type": "integer"
        }
       ],
       "conversionMethod": "pd.DataFrame",
       "ref": "b239772f-87c8-4f8f-9814-cfee7817e117",
       "rows": [
        [
         "0",
         "76561197960432447",
         "A legendary tactical shooter that shaped the genre. Simple yet deep gameplay, excellent weapon balance, and iconic maps keep the game relevant even today. Pure nostalgia and classic FPS action.",
         "1738278781",
         "True",
         "10"
        ],
        [
         "1",
         "76561198071230926",
         "The best CS sure, but server browser is the illusion of choice and leads you to the same **** server. Use gametracker or something",
         "1736206418",
         "True",
         "10"
        ],
        [
         "2",
         "76561198206216352",
         "Some of the best memories of my childhood were made in pixels, with friends I only knew through a screen. Time moves on, but those moments are forever frozen in time.",
         "1738041574",
         "True",
         "10"
        ],
        [
         "3",
         "76561198110801124",
         "This game feels so much better than CS2. I know this game still gets FACEIT/ESEA-type treatment from services in the EU, but it would be cool if it got such services in NA.",
         "1738015332",
         "True",
         "10"
        ],
        [
         "4",
         "76561199813732773",
         "its very fun to play you can make friends out of it i have lots of maps i like i like how theres diffrent teams to choose from idk what else to say its just fun",
         "1737853720",
         "True",
         "10"
        ]
       ],
       "shape": {
        "columns": 5,
        "rows": 5
       }
      },
      "text/html": [
       "<div>\n",
       "<style scoped>\n",
       "    .dataframe tbody tr th:only-of-type {\n",
       "        vertical-align: middle;\n",
       "    }\n",
       "\n",
       "    .dataframe tbody tr th {\n",
       "        vertical-align: top;\n",
       "    }\n",
       "\n",
       "    .dataframe thead th {\n",
       "        text-align: right;\n",
       "    }\n",
       "</style>\n",
       "<table border=\"1\" class=\"dataframe\">\n",
       "  <thead>\n",
       "    <tr style=\"text-align: right;\">\n",
       "      <th></th>\n",
       "      <th>author_id</th>\n",
       "      <th>review</th>\n",
       "      <th>timestamp</th>\n",
       "      <th>voted_up</th>\n",
       "      <th>app_id</th>\n",
       "    </tr>\n",
       "  </thead>\n",
       "  <tbody>\n",
       "    <tr>\n",
       "      <th>0</th>\n",
       "      <td>76561197960432447</td>\n",
       "      <td>A legendary tactical shooter that shaped the g...</td>\n",
       "      <td>1738278781</td>\n",
       "      <td>True</td>\n",
       "      <td>10</td>\n",
       "    </tr>\n",
       "    <tr>\n",
       "      <th>1</th>\n",
       "      <td>76561198071230926</td>\n",
       "      <td>The best CS sure, but server browser is the il...</td>\n",
       "      <td>1736206418</td>\n",
       "      <td>True</td>\n",
       "      <td>10</td>\n",
       "    </tr>\n",
       "    <tr>\n",
       "      <th>2</th>\n",
       "      <td>76561198206216352</td>\n",
       "      <td>Some of the best memories of my childhood were...</td>\n",
       "      <td>1738041574</td>\n",
       "      <td>True</td>\n",
       "      <td>10</td>\n",
       "    </tr>\n",
       "    <tr>\n",
       "      <th>3</th>\n",
       "      <td>76561198110801124</td>\n",
       "      <td>This game feels so much better than CS2. I kno...</td>\n",
       "      <td>1738015332</td>\n",
       "      <td>True</td>\n",
       "      <td>10</td>\n",
       "    </tr>\n",
       "    <tr>\n",
       "      <th>4</th>\n",
       "      <td>76561199813732773</td>\n",
       "      <td>its very fun to play you can make friends out ...</td>\n",
       "      <td>1737853720</td>\n",
       "      <td>True</td>\n",
       "      <td>10</td>\n",
       "    </tr>\n",
       "  </tbody>\n",
       "</table>\n",
       "</div>"
      ],
      "text/plain": [
       "           author_id                                             review  \\\n",
       "0  76561197960432447  A legendary tactical shooter that shaped the g...   \n",
       "1  76561198071230926  The best CS sure, but server browser is the il...   \n",
       "2  76561198206216352  Some of the best memories of my childhood were...   \n",
       "3  76561198110801124  This game feels so much better than CS2. I kno...   \n",
       "4  76561199813732773  its very fun to play you can make friends out ...   \n",
       "\n",
       "    timestamp  voted_up  app_id  \n",
       "0  1738278781      True      10  \n",
       "1  1736206418      True      10  \n",
       "2  1738041574      True      10  \n",
       "3  1738015332      True      10  \n",
       "4  1737853720      True      10  "
      ]
     },
     "execution_count": 3,
     "metadata": {},
     "output_type": "execute_result"
    }
   ],
   "source": [
    "df.drop(columns=['Unnamed: 0', 'recommendationid', 'weighted_vote_score'], inplace=True)\n",
    "df.head()"
   ]
  },
  {
   "cell_type": "markdown",
   "metadata": {},
   "source": [
    "### Rename columns"
   ]
  },
  {
   "cell_type": "code",
   "execution_count": 4,
   "metadata": {},
   "outputs": [
    {
     "data": {
      "application/vnd.microsoft.datawrangler.viewer.v0+json": {
       "columns": [
        {
         "name": "index",
         "rawType": "int64",
         "type": "integer"
        },
        {
         "name": "user_id",
         "rawType": "int64",
         "type": "integer"
        },
        {
         "name": "review",
         "rawType": "object",
         "type": "string"
        },
        {
         "name": "timestamp",
         "rawType": "int64",
         "type": "integer"
        },
        {
         "name": "rating",
         "rawType": "bool",
         "type": "boolean"
        },
        {
         "name": "item_id",
         "rawType": "int64",
         "type": "integer"
        }
       ],
       "conversionMethod": "pd.DataFrame",
       "ref": "7f9a088a-dd9a-40da-bd99-aa05b31b582e",
       "rows": [
        [
         "0",
         "76561197960432447",
         "A legendary tactical shooter that shaped the genre. Simple yet deep gameplay, excellent weapon balance, and iconic maps keep the game relevant even today. Pure nostalgia and classic FPS action.",
         "1738278781",
         "True",
         "10"
        ],
        [
         "1",
         "76561198071230926",
         "The best CS sure, but server browser is the illusion of choice and leads you to the same **** server. Use gametracker or something",
         "1736206418",
         "True",
         "10"
        ],
        [
         "2",
         "76561198206216352",
         "Some of the best memories of my childhood were made in pixels, with friends I only knew through a screen. Time moves on, but those moments are forever frozen in time.",
         "1738041574",
         "True",
         "10"
        ],
        [
         "3",
         "76561198110801124",
         "This game feels so much better than CS2. I know this game still gets FACEIT/ESEA-type treatment from services in the EU, but it would be cool if it got such services in NA.",
         "1738015332",
         "True",
         "10"
        ],
        [
         "4",
         "76561199813732773",
         "its very fun to play you can make friends out of it i have lots of maps i like i like how theres diffrent teams to choose from idk what else to say its just fun",
         "1737853720",
         "True",
         "10"
        ]
       ],
       "shape": {
        "columns": 5,
        "rows": 5
       }
      },
      "text/html": [
       "<div>\n",
       "<style scoped>\n",
       "    .dataframe tbody tr th:only-of-type {\n",
       "        vertical-align: middle;\n",
       "    }\n",
       "\n",
       "    .dataframe tbody tr th {\n",
       "        vertical-align: top;\n",
       "    }\n",
       "\n",
       "    .dataframe thead th {\n",
       "        text-align: right;\n",
       "    }\n",
       "</style>\n",
       "<table border=\"1\" class=\"dataframe\">\n",
       "  <thead>\n",
       "    <tr style=\"text-align: right;\">\n",
       "      <th></th>\n",
       "      <th>user_id</th>\n",
       "      <th>review</th>\n",
       "      <th>timestamp</th>\n",
       "      <th>rating</th>\n",
       "      <th>item_id</th>\n",
       "    </tr>\n",
       "  </thead>\n",
       "  <tbody>\n",
       "    <tr>\n",
       "      <th>0</th>\n",
       "      <td>76561197960432447</td>\n",
       "      <td>A legendary tactical shooter that shaped the g...</td>\n",
       "      <td>1738278781</td>\n",
       "      <td>True</td>\n",
       "      <td>10</td>\n",
       "    </tr>\n",
       "    <tr>\n",
       "      <th>1</th>\n",
       "      <td>76561198071230926</td>\n",
       "      <td>The best CS sure, but server browser is the il...</td>\n",
       "      <td>1736206418</td>\n",
       "      <td>True</td>\n",
       "      <td>10</td>\n",
       "    </tr>\n",
       "    <tr>\n",
       "      <th>2</th>\n",
       "      <td>76561198206216352</td>\n",
       "      <td>Some of the best memories of my childhood were...</td>\n",
       "      <td>1738041574</td>\n",
       "      <td>True</td>\n",
       "      <td>10</td>\n",
       "    </tr>\n",
       "    <tr>\n",
       "      <th>3</th>\n",
       "      <td>76561198110801124</td>\n",
       "      <td>This game feels so much better than CS2. I kno...</td>\n",
       "      <td>1738015332</td>\n",
       "      <td>True</td>\n",
       "      <td>10</td>\n",
       "    </tr>\n",
       "    <tr>\n",
       "      <th>4</th>\n",
       "      <td>76561199813732773</td>\n",
       "      <td>its very fun to play you can make friends out ...</td>\n",
       "      <td>1737853720</td>\n",
       "      <td>True</td>\n",
       "      <td>10</td>\n",
       "    </tr>\n",
       "  </tbody>\n",
       "</table>\n",
       "</div>"
      ],
      "text/plain": [
       "             user_id                                             review  \\\n",
       "0  76561197960432447  A legendary tactical shooter that shaped the g...   \n",
       "1  76561198071230926  The best CS sure, but server browser is the il...   \n",
       "2  76561198206216352  Some of the best memories of my childhood were...   \n",
       "3  76561198110801124  This game feels so much better than CS2. I kno...   \n",
       "4  76561199813732773  its very fun to play you can make friends out ...   \n",
       "\n",
       "    timestamp  rating  item_id  \n",
       "0  1738278781    True       10  \n",
       "1  1736206418    True       10  \n",
       "2  1738041574    True       10  \n",
       "3  1738015332    True       10  \n",
       "4  1737853720    True       10  "
      ]
     },
     "execution_count": 4,
     "metadata": {},
     "output_type": "execute_result"
    }
   ],
   "source": [
    "column_names = {\n",
    "    'author_id': 'user_id',\n",
    "    'app_id': 'item_id',\n",
    "    'voted_up': 'rating',\n",
    "    'timestamp': 'timestamp',\n",
    "    'review': 'review'\n",
    "}\n",
    "df.rename(columns=column_names, inplace=True)\n",
    "df.head()"
   ]
  },
  {
   "cell_type": "markdown",
   "metadata": {},
   "source": [
    "### Create user/item indices"
   ]
  },
  {
   "cell_type": "code",
   "execution_count": 5,
   "metadata": {},
   "outputs": [],
   "source": [
    "# user_map = {u: i for i, u in enumerate(df['user_id'].unique())}\n",
    "# item_map = {i: j for j, i in enumerate(df['item_id'].unique())}\n",
    "\n",
    "# df['user_idx'] = np.array([user_map[u] for u in df['user_id']])\n",
    "# df['item_idx'] = np.array([item_map[i] for i in df['item_id']])\n",
    "# df.head()"
   ]
  },
  {
   "cell_type": "markdown",
   "metadata": {},
   "source": [
    "### Create implicit and explicit rating"
   ]
  },
  {
   "cell_type": "code",
   "execution_count": 6,
   "metadata": {},
   "outputs": [
    {
     "data": {
      "application/vnd.microsoft.datawrangler.viewer.v0+json": {
       "columns": [
        {
         "name": "index",
         "rawType": "int64",
         "type": "integer"
        },
        {
         "name": "user_id",
         "rawType": "int64",
         "type": "integer"
        },
        {
         "name": "review",
         "rawType": "object",
         "type": "string"
        },
        {
         "name": "timestamp",
         "rawType": "int64",
         "type": "integer"
        },
        {
         "name": "rating",
         "rawType": "bool",
         "type": "boolean"
        },
        {
         "name": "item_id",
         "rawType": "int64",
         "type": "integer"
        },
        {
         "name": "rating_exp",
         "rawType": "int64",
         "type": "integer"
        },
        {
         "name": "rating_imp",
         "rawType": "int32",
         "type": "integer"
        }
       ],
       "conversionMethod": "pd.DataFrame",
       "ref": "4038c91d-55b4-474c-8f0a-dca9e9640c3d",
       "rows": [
        [
         "0",
         "76561197960432447",
         "A legendary tactical shooter that shaped the genre. Simple yet deep gameplay, excellent weapon balance, and iconic maps keep the game relevant even today. Pure nostalgia and classic FPS action.",
         "1738278781",
         "True",
         "10",
         "1",
         "1"
        ],
        [
         "1",
         "76561198071230926",
         "The best CS sure, but server browser is the illusion of choice and leads you to the same **** server. Use gametracker or something",
         "1736206418",
         "True",
         "10",
         "1",
         "1"
        ],
        [
         "2",
         "76561198206216352",
         "Some of the best memories of my childhood were made in pixels, with friends I only knew through a screen. Time moves on, but those moments are forever frozen in time.",
         "1738041574",
         "True",
         "10",
         "1",
         "1"
        ],
        [
         "3",
         "76561198110801124",
         "This game feels so much better than CS2. I know this game still gets FACEIT/ESEA-type treatment from services in the EU, but it would be cool if it got such services in NA.",
         "1738015332",
         "True",
         "10",
         "1",
         "1"
        ],
        [
         "4",
         "76561199813732773",
         "its very fun to play you can make friends out of it i have lots of maps i like i like how theres diffrent teams to choose from idk what else to say its just fun",
         "1737853720",
         "True",
         "10",
         "1",
         "1"
        ]
       ],
       "shape": {
        "columns": 7,
        "rows": 5
       }
      },
      "text/html": [
       "<div>\n",
       "<style scoped>\n",
       "    .dataframe tbody tr th:only-of-type {\n",
       "        vertical-align: middle;\n",
       "    }\n",
       "\n",
       "    .dataframe tbody tr th {\n",
       "        vertical-align: top;\n",
       "    }\n",
       "\n",
       "    .dataframe thead th {\n",
       "        text-align: right;\n",
       "    }\n",
       "</style>\n",
       "<table border=\"1\" class=\"dataframe\">\n",
       "  <thead>\n",
       "    <tr style=\"text-align: right;\">\n",
       "      <th></th>\n",
       "      <th>user_id</th>\n",
       "      <th>review</th>\n",
       "      <th>timestamp</th>\n",
       "      <th>rating</th>\n",
       "      <th>item_id</th>\n",
       "      <th>rating_exp</th>\n",
       "      <th>rating_imp</th>\n",
       "    </tr>\n",
       "  </thead>\n",
       "  <tbody>\n",
       "    <tr>\n",
       "      <th>0</th>\n",
       "      <td>76561197960432447</td>\n",
       "      <td>A legendary tactical shooter that shaped the g...</td>\n",
       "      <td>1738278781</td>\n",
       "      <td>True</td>\n",
       "      <td>10</td>\n",
       "      <td>1</td>\n",
       "      <td>1</td>\n",
       "    </tr>\n",
       "    <tr>\n",
       "      <th>1</th>\n",
       "      <td>76561198071230926</td>\n",
       "      <td>The best CS sure, but server browser is the il...</td>\n",
       "      <td>1736206418</td>\n",
       "      <td>True</td>\n",
       "      <td>10</td>\n",
       "      <td>1</td>\n",
       "      <td>1</td>\n",
       "    </tr>\n",
       "    <tr>\n",
       "      <th>2</th>\n",
       "      <td>76561198206216352</td>\n",
       "      <td>Some of the best memories of my childhood were...</td>\n",
       "      <td>1738041574</td>\n",
       "      <td>True</td>\n",
       "      <td>10</td>\n",
       "      <td>1</td>\n",
       "      <td>1</td>\n",
       "    </tr>\n",
       "    <tr>\n",
       "      <th>3</th>\n",
       "      <td>76561198110801124</td>\n",
       "      <td>This game feels so much better than CS2. I kno...</td>\n",
       "      <td>1738015332</td>\n",
       "      <td>True</td>\n",
       "      <td>10</td>\n",
       "      <td>1</td>\n",
       "      <td>1</td>\n",
       "    </tr>\n",
       "    <tr>\n",
       "      <th>4</th>\n",
       "      <td>76561199813732773</td>\n",
       "      <td>its very fun to play you can make friends out ...</td>\n",
       "      <td>1737853720</td>\n",
       "      <td>True</td>\n",
       "      <td>10</td>\n",
       "      <td>1</td>\n",
       "      <td>1</td>\n",
       "    </tr>\n",
       "  </tbody>\n",
       "</table>\n",
       "</div>"
      ],
      "text/plain": [
       "             user_id                                             review  \\\n",
       "0  76561197960432447  A legendary tactical shooter that shaped the g...   \n",
       "1  76561198071230926  The best CS sure, but server browser is the il...   \n",
       "2  76561198206216352  Some of the best memories of my childhood were...   \n",
       "3  76561198110801124  This game feels so much better than CS2. I kno...   \n",
       "4  76561199813732773  its very fun to play you can make friends out ...   \n",
       "\n",
       "    timestamp  rating  item_id  rating_exp  rating_imp  \n",
       "0  1738278781    True       10           1           1  \n",
       "1  1736206418    True       10           1           1  \n",
       "2  1738041574    True       10           1           1  \n",
       "3  1738015332    True       10           1           1  \n",
       "4  1737853720    True       10           1           1  "
      ]
     },
     "execution_count": 6,
     "metadata": {},
     "output_type": "execute_result"
    }
   ],
   "source": [
    "df['rating_exp'] = df['rating'].apply(lambda x: 1 if x else -1)\n",
    "df['rating_imp'] = df['rating'].astype(int)\n",
    "df.head()"
   ]
  },
  {
   "cell_type": "markdown",
   "metadata": {},
   "source": [
    "### Remove duplicates"
   ]
  },
  {
   "cell_type": "code",
   "execution_count": 7,
   "metadata": {},
   "outputs": [
    {
     "data": {
      "application/vnd.microsoft.datawrangler.viewer.v0+json": {
       "columns": [
        {
         "name": "index",
         "rawType": "int64",
         "type": "integer"
        },
        {
         "name": "user_id",
         "rawType": "int64",
         "type": "integer"
        },
        {
         "name": "review",
         "rawType": "object",
         "type": "unknown"
        },
        {
         "name": "timestamp",
         "rawType": "int64",
         "type": "integer"
        },
        {
         "name": "rating",
         "rawType": "bool",
         "type": "boolean"
        },
        {
         "name": "item_id",
         "rawType": "int64",
         "type": "integer"
        },
        {
         "name": "rating_exp",
         "rawType": "int64",
         "type": "integer"
        },
        {
         "name": "rating_imp",
         "rawType": "int32",
         "type": "integer"
        }
       ],
       "conversionMethod": "pd.DataFrame",
       "ref": "c68e53c4-d062-4787-8e6e-d8b045cfd2f9",
       "rows": [
        [
         "236",
         "76561197960432447",
         "A legendary tactical shooter that shaped the genre. Simple yet deep gameplay, excellent weapon balance, and iconic maps keep the game relevant even today. Pure nostalgia and classic FPS action.",
         "1738278781",
         "True",
         "10",
         "1",
         "1"
        ],
        [
         "237",
         "76561198206216352",
         "Some of the best memories of my childhood were made in pixels, with friends I only knew through a screen. Time moves on, but those moments are forever frozen in time.",
         "1738041574",
         "True",
         "10",
         "1",
         "1"
        ],
        [
         "238",
         "76561198071230926",
         "The best CS sure, but server browser is the illusion of choice and leads you to the same **** server. Use gametracker or something",
         "1736206418",
         "True",
         "10",
         "1",
         "1"
        ],
        [
         "243",
         "76561198830102893",
         "This, ladies and gentleman, is THE game. \n20+ years running, strong community, endless maps, modes and fun.\n\nShooty, shooty...fire in the Hole!\n\n12/10",
         "1738167642",
         "True",
         "10",
         "1",
         "1"
        ],
        [
         "244",
         "76561198110801124",
         "This game feels so much better than CS2. I know this game still gets FACEIT/ESEA-type treatment from services in the EU, but it would be cool if it got such services in NA.",
         "1738015332",
         "True",
         "10",
         "1",
         "1"
        ],
        [
         "245",
         "76561199184339834",
         "The GOAT of FPS genre with such simple but versatile and endlessly expandable game mechanics. You can still enjoy this game without the guilty feeling of killing people if you are into Kreedz or Hide and Seek scence.",
         "1737946298",
         "True",
         "10",
         "1",
         "1"
        ],
        [
         "246",
         "76561199813732773",
         "its very fun to play you can make friends out of it i have lots of maps i like i like how theres diffrent teams to choose from idk what else to say its just fun",
         "1737853720",
         "True",
         "10",
         "1",
         "1"
        ],
        [
         "247",
         "76561199224109782",
         "A great game, sadly most servers are bots, it still runs on windows xp with the steam client if you know what your doing!, and it also runs on any machine from 2005 and after!",
         "1737746477",
         "True",
         "10",
         "1",
         "1"
        ],
        [
         "248",
         "76561198193554107",
         "Weirdly enough, unlike so many other GoldSrc games and mods ever since the HL25 update, this game has joystick support out of the box, so if you wanna set up a flickstick control scheme, or just use a controller for any other reason, you're just able to do that.",
         "1737450253",
         "True",
         "10",
         "1",
         "1"
        ],
        [
         "249",
         "76561199806778491",
         "la verdad lo tengo de puro adorno,pero se arma buen combo de puteadas con amigos,especialmente argentinos,recomendable",
         "1736558659",
         "True",
         "10",
         "1",
         "1"
        ],
        [
         "273",
         "76561198045268005",
         "One of the best PC-based FPS games ever to me. \n\nNot only because this is the first title that defined the old days of Counter-Strike for me since I was a kid, but the unforgettable and funny memories I had with this PC game. \n\nI remember playing this on a good old Windows 98 computer with a decent internet connection thanks to my Mom and Dad. \n\nI was blown away by how teamwork is required to succeed in most cases. Or how I spent some time playing team deathmatch online overnight without getting caught by my parents.\n\nOverall, I give this game a solid 10 out of 10. It a masterpiece of art that should never be left behind or forgotten no matter how time flies by.",
         "1736330194",
         "True",
         "10",
         "1",
         "1"
        ],
        [
         "278",
         "76561199250017741",
         "-Buy game (Sales)\r\n-Delete the cracked version used in 6 years of my life.\r\n-Play game\r\n-Join the Russian Server.\r\n-I Played bad.\r\n-They start racist.\r\n-Even the Admin is racism too so i get banned.\r\n- 10/10 Recommended FrasQuag server.",
         "1737219249",
         "True",
         "10",
         "1",
         "1"
        ],
        [
         "279",
         "76561198153214934",
         "Preview of action's in this product give  crazy backup of start journey on several mod-pack's and a few moment's too more for existence mindself. Product was been evolved for a few updates and difference icon's so we show how many player's are in this game - everyday so we can do a match or group-match in old Counter world. It's amazing how this game few year's ago make popularity around the world between people of different age and make profit or waste in this awesome on-time.   \n\n",
         "1736165753",
         "False",
         "10",
         "-1",
         "0"
        ],
        [
         "280",
         "76561198950413739",
         "Great memories\r\nSadly its not playable more than half an hour anymore...\r\nNo fun without your childhood squad...",
         "1738049000",
         "True",
         "10",
         "1",
         "1"
        ],
        [
         "281",
         "76561198026809249",
         "This is a nostalgic game, but is filled lately with too many tryhards, thankfully the server community is alive, recommended only to boomer lads that have a group of friends to banter, avoid it if you came due to having a toaster and not able to ran cs source or cs2",
         "1736974263",
         "True",
         "10",
         "1",
         "1"
        ],
        [
         "282",
         "76561199293207226",
         "Un clásico, lo fui a jugar porque no puedo jugar CS2, resulta que es muy distinto y que apuntar es un horror.\r\nSkill issue por mi parte",
         "1736873878",
         "True",
         "10",
         "1",
         "1"
        ],
        [
         "283",
         "76561198224884452",
         "Nothing beats the best counter strike to ever been made. Old but gold. Still fun coming back and playing after all these years.",
         "1736841528",
         "True",
         "10",
         "1",
         "1"
        ],
        [
         "284",
         "76561199796969859",
         "whenever i try and play it, my screen gets doubled and the whole games has a green and violet color.",
         "1736569469",
         "False",
         "10",
         "-1",
         "0"
        ],
        [
         "285",
         "76561199237570387",
         "Reccomend a ton for nostalgic players or for people who can't run CS 2 because they have an older computer.\r\nPurchased with CS Condition Zero and CS Condition Zero Deleted Scenes for the price of only 81 cents (or somewhere around that).\r\n",
         "1736094942",
         "True",
         "10",
         "1",
         "1"
        ],
        [
         "301",
         "76561198324180607",
         "This game is a classic and still after 25 years is more fun than some modern shooters. Also, Props to Valve for keeping this game working on modern systems! no need for mods or 3rd party software, just install and hop on a server! (Rockstar take notes)",
         "1736428829",
         "True",
         "10",
         "1",
         "1"
        ],
        [
         "304",
         "76561198845503630",
         "If the graphics didn't age so bad, and had a competitive scene, I would probably play this game a lot more.\r\n\r\nStill, a great game for its time.",
         "1736550195",
         "True",
         "10",
         "1",
         "1"
        ],
        [
         "305",
         "76561199508598629",
         "The most friendly community i have ever seen. I was playing with a group of guys for about an hour and i had to go eat dinner so i said \"bye guys nice playing\" and nearly the entire lobby said \"Gn, have a good one\"",
         "1738289606",
         "True",
         "10",
         "1",
         "1"
        ],
        [
         "306",
         "76561199094494661",
         "La verdad es un juego mítico que todavía a día de hoy sigue teniendo casi 10mil servidores activos. A pesar de los años sigue siendo una locura, y volviéndolo a jugar también me doy cuenta por qué. Aunque sea algo simple y las misiones sean las mismas de siempre igual es entretenido. Algo de lo que no me di cuenta antes pero ahora sí es el lore que le crearon a los mapas y que si bien no son una gran historia aportan aunque sea algo al objetivo del mapa y está bueno como buscaron darle un sentido a las misiones (sobretodo en los mapas de defuse donde lo que se quiere destruir es algo concreto y se relaciona con el mapa en sí)\r\n\r\nEste tipo de juegos igualmente se disfrutan más con gente y si querés ir mejorando está la opción de jugar con bots, que parece que no pero para empezar ayuda bastante a ir mejorando el aim (y también importante saberse las zonas donde se puede plantar o donde están los rehenes). Lo que no me gustó es que no es una opción que viene por default en el juego y para instalarla hay que hacer unas cosas medio raras, pero después de eso funca bien",
         "1738252116",
         "True",
         "10",
         "1",
         "1"
        ],
        [
         "307",
         "76561199190798973",
         "respect \r\ncool gold source mod for half life",
         "1737242693",
         "True",
         "10",
         "1",
         "1"
        ],
        [
         "314",
         "76561198083698617",
         "Well, I have only been playing this game for close to 25 years... So really I am still trying to form an opinion on it.",
         "1737486786",
         "True",
         "10",
         "1",
         "1"
        ],
        [
         "315",
         "76561199380731920",
         "CS 1.6 is still the GOAT and the community mapmakers are what make it so awesome",
         "1736045189",
         "True",
         "10",
         "1",
         "1"
        ],
        [
         "316",
         "76561198165591184",
         "Counter-Strike (1.6) Review: The Game That Changed Multiplayer Shooters Forever\r\nPlatform: PC\r\nDeveloper: Valve & Minh \"Gooseman\" Le\r\nRelease Date: November 9, 2000\r\nGenre: Tactical First-Person Shooter\r\n\r\nIntroduction\r\nThe original Counter-Strike (often referred to as CS 1.6) isn't just a game — it's a cultural phenomenon that laid the foundation for modern multiplayer shooters. Born from a Half-Life mod, Counter-Strike became the gold standard for competitive tactical gameplay, influencing an entire generation of games and players. Even decades after its release, it remains a beloved classic and an essential piece of gaming history.\r\n\r\nGameplay: Tactical, Unforgiving, and Addictive\r\nAt its core, Counter-Strike is simple yet incredibly deep. Players join one of two teams — Terrorists or Counter-Terrorists — and face off in objective-based rounds where tactics, communication, and precision are key to success.\r\n\r\nThe game offers a few core modes that became iconic:\r\n\r\nBomb Defusal (de_): Terrorists must plant a bomb at one of two designated sites, while Counter-Terrorists work to prevent or defuse it.\r\nHostage Rescue (cs_): Counter-Terrorists must rescue hostages from Terrorists.\r\nAssassination (as_): One player becomes a VIP that the Counter-Terrorists must escort to safety, while Terrorists attempt to eliminate them.\r\nRounds are short and intense, with no respawning until the round ends. This high-stakes gameplay makes every decision matter, whether it's saving your cash for better weapons or taking a risky push on a bombsite.\r\n\r\nWeapons behave realistically, with recoil and spray patterns that players must master to be effective. The result is a high skill ceiling that rewards practice and precision.\r\n\r\nGraphics and Atmosphere: Nostalgic Simplicity\r\nVisually, Counter-Strike shows its age. Built on the GoldSrc engine, the game features blocky models, basic textures, and simplistic animations. But what it lacks in graphical fidelity, it more than makes up for in clarity and performance.\r\n\r\nThe minimalist visuals make it easy to focus on gameplay, with no distractions or flashy effects. Every map is meticulously designed with competitive play in mind, and maps like de_dust2, cs_assault, and de_inferno have become legendary.\r\n\r\nSound Design: Audio Cues That Matter\r\nThe sound design in Counter-Strike is as essential as the gameplay itself. Footsteps, gunfire, and reload sounds provide crucial information that skilled players use to their advantage.\r\n\r\nThe weapon sounds are iconic — from the deafening crack of the AWP sniper rifle to the satisfying burst of the AK-47. The announcer’s voice announcing round wins, bomb plants, and hostage rescues is forever etched into the memories of long-time players.\r\n\r\nCommunity and Mods: The Heartbeat of CS\r\nOne of the greatest strengths of Counter-Strike is its community. In its early years, dedicated servers and custom maps allowed the game to flourish in ways Valve likely never anticipated.\r\n\r\nPlayers created countless custom game modes that became staples in their own right, such as:\r\n\r\nSurf maps\r\nZombie mods\r\nGunGame\r\nJailbreak\r\nThis flexibility gave Counter-Strike nearly infinite replayability and made it more than just a competitive shooter — it became a social experience.\r\n\r\nLegacy: The Birth of Esports\r\nCounter-Strike didn’t just change multiplayer gaming; it helped launch the world of esports. In the early 2000s, CS tournaments became a global phenomenon, with pro teams and events like the CPL and WCG paving the way for the competitive gaming scene we know today.\r\n\r\nIt also established gameplay concepts still seen in modern shooters:\r\n\r\nThe importance of team coordination\r\nEconomic management within a match\r\nHigh skill ceiling with rewarding mechanics\r\nWithout Counter-Strike, games like Call of Duty, Rainbow Six Siege, and Valorant would likely not exist in their current form.\r\n\r\nPros:\r\n✅ Revolutionary gameplay that defined a genre\r\n✅ High skill ceiling with rewarding mechanics\r\n✅ Iconic maps that remain staples in modern games\r\n✅ Endless replayability thanks to mods and custom servers\r\n✅ Strong community and esports legacy\r\n\r\nCons:\r\n❌ Dated graphics by modern standards\r\n❌ Steep learning curve for newcomers\r\n❌ No built-in matchmaking system (reliant on servers)\r\n\r\nConclusion: A Masterpiece That Stands the Test of Time\r\nThe original Counter-Strike isn’t just a game — it’s a piece of gaming history. It introduced the world to the concept of competitive, team-based tactical shooters, creating a legacy that continues to thrive with newer iterations like CS:GO.\r\n\r\nDespite its age, Counter-Strike still holds up today for those willing to embrace its no-frills, skill-first approach. It's a game that rewards precision, patience, and teamwork — values that have made it a cornerstone of multiplayer gaming for over two decades.\r\n\r\nWhether you're revisiting it for nostalgia or experiencing it for the first time, Counter-Strike is a must-play for any shooter fan. It’s a timeless masterpiece that defined an entire genre and still has a place in the hearts of millions.\r\n\r\nScore: 10/10\r\n💥 Verdict: The ultimate tactical shooter that laid the groundwork for modern competitive gaming and remains a legend in its own right.",
         "1735889198",
         "True",
         "10",
         "1",
         "1"
        ],
        [
         "324",
         "76561198235399212",
         "The phantom, exterior like fish eggs\nInterior like suicide-wrist red\nI can exercise you, this can be your phys. ed\nCheat on your man homie\nAHHH i tried to sneak through the door man\nCan't make it, can't make it, this sh!t's stuck\nOUTTA MY OWN SON, DOOR STUCK, DOOR STUCK\nPLEASE, I BEG YOU, WE'RE DEAD\nYOU'RE A GENUINE D!CK SUCKER",
         "1736929037",
         "True",
         "10",
         "1",
         "1"
        ],
        [
         "325",
         "76561199818606509",
         "Hello everyone. I just purchased CS 1.6 and I have difficulty entering the game. I leave the message here and maybe someone can help me to get into the game. please nice.\n\nMicrosoft Visual C++ Runtime Library\nAssertion failed!\nProgram:...am\\steamapps\\common\\Half-Life\\filesystem_stdio.dll\nFile: c:\\buildslave\\goldsrc_win32\\build\\G...\\FileSys...dio.cpp\nLine: 84\nExpression: !m_bMounted\nFor information on how your program can cause an assertion\nfailure, see the Visu C++ documentation on asserts\n(Press Retry to debug the application - JIT must be enabled)\nAbandonner Recommencer\nIgnorer",
         "1736710356",
         "True",
         "10",
         "1",
         "1"
        ],
        [
         "326",
         "76561198358591238",
         "Classic never gets old 10/10 best shooter ever",
         "1736570758",
         "True",
         "10",
         "1",
         "1"
        ],
        [
         "328",
         "76561199368460075",
         "it very fun en very cool",
         "1736896442",
         "True",
         "10",
         "1",
         "1"
        ],
        [
         "329",
         "76561199659446735",
         "its pretty fun but i wish it worked on old hardware (steam is bad for game preservation.)",
         "1736046626",
         "True",
         "10",
         "1",
         "1"
        ],
        [
         "333",
         "76561199238654861",
         "it's good but counter strike condition zero is basically the better version of this",
         "1736463131",
         "True",
         "10",
         "1",
         "1"
        ],
        [
         "334",
         "76561199231071027",
         "Cool game but too many dads playing it.",
         "1737327261",
         "True",
         "10",
         "1",
         "1"
        ],
        [
         "335",
         "76561199494642135",
         "WERE GOOD I PLAYED THIS GAME AT 6 YEARS OLD BUT IT WAS FAKE AND I BUY THE REAL ONE \r\n",
         "1736420042",
         "True",
         "10",
         "1",
         "1"
        ],
        [
         "336",
         "76561199523671092",
         "OG classic CS game!! Nostalgia kino. 7/10\r\n",
         "1737615713",
         "True",
         "10",
         "1",
         "1"
        ],
        [
         "337",
         "76561199675346350",
         "The best version of cs to this day. Nothing will ever beat it",
         "1738280687",
         "True",
         "10",
         "1",
         "1"
        ],
        [
         "338",
         "76561199184339834",
         "The GOAT of FPS genre with such simple but versatile and endlessly expandable game mechanics. You can still enjoy this game without the guilty feeling of killing people if you are into Kreedz or Hide and Seek scence.",
         "1737946298",
         "True",
         "10",
         "1",
         "1"
        ],
        [
         "339",
         "76561199492247174",
         "very very good very very cheap very very life changing",
         "1736548776",
         "True",
         "10",
         "1",
         "1"
        ],
        [
         "340",
         "76561198830102893",
         "This, ladies and gentleman, is THE game. \n20+ years running, strong community, endless maps, modes and fun.\n\nShooty, shooty...fire in the Hole!\n\n12/10",
         "1738167642",
         "True",
         "10",
         "1",
         "1"
        ],
        [
         "341",
         "76561199434667836",
         "Counter-Strike 1.6 is a timeless classic. Simple yet intense gameplay, fast-paced action, and great maps make it a go-to for competitive play. It may be old, but the nostalgic feel and iconic status keep it alive even today.",
         "1736531029",
         "True",
         "10",
         "1",
         "1"
        ],
        [
         "342",
         "76561198027741648",
         "Best CS game! \r\nI know I'm pretty late to the party, but the proof is in the pudding",
         "1737230507",
         "True",
         "10",
         "1",
         "1"
        ],
        [
         "343",
         "76561198374669444",
         "𝘤𝘭𝘪𝘤𝘬 𝘩𝘦𝘳𝘦 𝘵𝘰 𝘣𝘦 𝘥𝘦𝘱𝘳𝘦𝘴𝘴𝘦𝘥\n─────────────⚪────────────────────────────────── ────────\n0:17 / 1:36\nhttps://www.youtube.com/watch?v=7JGDWKJfgxQ",
         "1736946928",
         "True",
         "10",
         "1",
         "1"
        ],
        [
         "344",
         "76561198872716572",
         "fun fast paced basic shooter game.",
         "1736298726",
         "True",
         "10",
         "1",
         "1"
        ],
        [
         "345",
         "76561199245809841",
         "beansniff jee voes rfenusnuirferKFGHNBDHNGVTFHGVYUGVTRVTFUHUVGRHTRFVGDTYVGxccxvsdrfvd",
         "1736122687",
         "True",
         "10",
         "1",
         "1"
        ],
        [
         "347",
         "76561199091046647",
         "my go-to game when all i need is a simple & carefree entertainment",
         "1737852228",
         "True",
         "10",
         "1",
         "1"
        ],
        [
         "348",
         "76561198298890570",
         "Надеюсь сервера на которых \"Добро пожаловать на сервер шизофрения\" и \"В ГОЛОВУ\" всё ещё живы?",
         "1737263619",
         "True",
         "10",
         "1",
         "1"
        ],
        [
         "349",
         "76561198295113118",
         "The OG, ahh the middle school informatics class kekw",
         "1737210188",
         "True",
         "10",
         "1",
         "1"
        ],
        [
         "351",
         "76561198261660358",
         "I really like the graphics of CS2",
         "1737729303",
         "True",
         "10",
         "1",
         "1"
        ],
        [
         "352",
         "76561199172372635",
         "This is the best game ever, if you plant bomb you get 3 kills :).",
         "1737843427",
         "True",
         "10",
         "1",
         "1"
        ]
       ],
       "shape": {
        "columns": 7,
        "rows": 610217
       }
      },
      "text/html": [
       "<div>\n",
       "<style scoped>\n",
       "    .dataframe tbody tr th:only-of-type {\n",
       "        vertical-align: middle;\n",
       "    }\n",
       "\n",
       "    .dataframe tbody tr th {\n",
       "        vertical-align: top;\n",
       "    }\n",
       "\n",
       "    .dataframe thead th {\n",
       "        text-align: right;\n",
       "    }\n",
       "</style>\n",
       "<table border=\"1\" class=\"dataframe\">\n",
       "  <thead>\n",
       "    <tr style=\"text-align: right;\">\n",
       "      <th></th>\n",
       "      <th>user_id</th>\n",
       "      <th>review</th>\n",
       "      <th>timestamp</th>\n",
       "      <th>rating</th>\n",
       "      <th>item_id</th>\n",
       "      <th>rating_exp</th>\n",
       "      <th>rating_imp</th>\n",
       "    </tr>\n",
       "  </thead>\n",
       "  <tbody>\n",
       "    <tr>\n",
       "      <th>236</th>\n",
       "      <td>76561197960432447</td>\n",
       "      <td>A legendary tactical shooter that shaped the g...</td>\n",
       "      <td>1738278781</td>\n",
       "      <td>True</td>\n",
       "      <td>10</td>\n",
       "      <td>1</td>\n",
       "      <td>1</td>\n",
       "    </tr>\n",
       "    <tr>\n",
       "      <th>237</th>\n",
       "      <td>76561198206216352</td>\n",
       "      <td>Some of the best memories of my childhood were...</td>\n",
       "      <td>1738041574</td>\n",
       "      <td>True</td>\n",
       "      <td>10</td>\n",
       "      <td>1</td>\n",
       "      <td>1</td>\n",
       "    </tr>\n",
       "    <tr>\n",
       "      <th>238</th>\n",
       "      <td>76561198071230926</td>\n",
       "      <td>The best CS sure, but server browser is the il...</td>\n",
       "      <td>1736206418</td>\n",
       "      <td>True</td>\n",
       "      <td>10</td>\n",
       "      <td>1</td>\n",
       "      <td>1</td>\n",
       "    </tr>\n",
       "    <tr>\n",
       "      <th>243</th>\n",
       "      <td>76561198830102893</td>\n",
       "      <td>This, ladies and gentleman, is THE game. \\n20+...</td>\n",
       "      <td>1738167642</td>\n",
       "      <td>True</td>\n",
       "      <td>10</td>\n",
       "      <td>1</td>\n",
       "      <td>1</td>\n",
       "    </tr>\n",
       "    <tr>\n",
       "      <th>244</th>\n",
       "      <td>76561198110801124</td>\n",
       "      <td>This game feels so much better than CS2. I kno...</td>\n",
       "      <td>1738015332</td>\n",
       "      <td>True</td>\n",
       "      <td>10</td>\n",
       "      <td>1</td>\n",
       "      <td>1</td>\n",
       "    </tr>\n",
       "    <tr>\n",
       "      <th>...</th>\n",
       "      <td>...</td>\n",
       "      <td>...</td>\n",
       "      <td>...</td>\n",
       "      <td>...</td>\n",
       "      <td>...</td>\n",
       "      <td>...</td>\n",
       "      <td>...</td>\n",
       "    </tr>\n",
       "    <tr>\n",
       "      <th>1766356</th>\n",
       "      <td>76561198303454302</td>\n",
       "      <td>Boring and pointless</td>\n",
       "      <td>1738010833</td>\n",
       "      <td>False</td>\n",
       "      <td>999220</td>\n",
       "      <td>-1</td>\n",
       "      <td>0</td>\n",
       "    </tr>\n",
       "    <tr>\n",
       "      <th>1766357</th>\n",
       "      <td>76561199411676014</td>\n",
       "      <td>walking simulator</td>\n",
       "      <td>1737583993</td>\n",
       "      <td>False</td>\n",
       "      <td>999220</td>\n",
       "      <td>-1</td>\n",
       "      <td>0</td>\n",
       "    </tr>\n",
       "    <tr>\n",
       "      <th>1766358</th>\n",
       "      <td>76561199228870797</td>\n",
       "      <td>eh</td>\n",
       "      <td>1736315388</td>\n",
       "      <td>True</td>\n",
       "      <td>999220</td>\n",
       "      <td>1</td>\n",
       "      <td>1</td>\n",
       "    </tr>\n",
       "    <tr>\n",
       "      <th>1766422</th>\n",
       "      <td>76561198224285812</td>\n",
       "      <td>dont know why i have this, musta bought it age...</td>\n",
       "      <td>1737014724</td>\n",
       "      <td>True</td>\n",
       "      <td>999640</td>\n",
       "      <td>1</td>\n",
       "      <td>1</td>\n",
       "    </tr>\n",
       "    <tr>\n",
       "      <th>1766425</th>\n",
       "      <td>76561198084441041</td>\n",
       "      <td>good collection wish it have training mode oth...</td>\n",
       "      <td>1736471369</td>\n",
       "      <td>True</td>\n",
       "      <td>999660</td>\n",
       "      <td>1</td>\n",
       "      <td>1</td>\n",
       "    </tr>\n",
       "  </tbody>\n",
       "</table>\n",
       "<p>610217 rows × 7 columns</p>\n",
       "</div>"
      ],
      "text/plain": [
       "                   user_id                                             review  \\\n",
       "236      76561197960432447  A legendary tactical shooter that shaped the g...   \n",
       "237      76561198206216352  Some of the best memories of my childhood were...   \n",
       "238      76561198071230926  The best CS sure, but server browser is the il...   \n",
       "243      76561198830102893  This, ladies and gentleman, is THE game. \\n20+...   \n",
       "244      76561198110801124  This game feels so much better than CS2. I kno...   \n",
       "...                    ...                                                ...   \n",
       "1766356  76561198303454302                               Boring and pointless   \n",
       "1766357  76561199411676014                                  walking simulator   \n",
       "1766358  76561199228870797                                                 eh   \n",
       "1766422  76561198224285812  dont know why i have this, musta bought it age...   \n",
       "1766425  76561198084441041  good collection wish it have training mode oth...   \n",
       "\n",
       "          timestamp  rating  item_id  rating_exp  rating_imp  \n",
       "236      1738278781    True       10           1           1  \n",
       "237      1738041574    True       10           1           1  \n",
       "238      1736206418    True       10           1           1  \n",
       "243      1738167642    True       10           1           1  \n",
       "244      1738015332    True       10           1           1  \n",
       "...             ...     ...      ...         ...         ...  \n",
       "1766356  1738010833   False   999220          -1           0  \n",
       "1766357  1737583993   False   999220          -1           0  \n",
       "1766358  1736315388    True   999220           1           1  \n",
       "1766422  1737014724    True   999640           1           1  \n",
       "1766425  1736471369    True   999660           1           1  \n",
       "\n",
       "[610217 rows x 7 columns]"
      ]
     },
     "execution_count": 7,
     "metadata": {},
     "output_type": "execute_result"
    }
   ],
   "source": [
    "df[df.duplicated(subset=['user_id', 'item_id'])]"
   ]
  },
  {
   "cell_type": "code",
   "execution_count": 8,
   "metadata": {},
   "outputs": [
    {
     "data": {
      "application/vnd.microsoft.datawrangler.viewer.v0+json": {
       "columns": [
        {
         "name": "index",
         "rawType": "int64",
         "type": "integer"
        },
        {
         "name": "user_id",
         "rawType": "int64",
         "type": "integer"
        },
        {
         "name": "review",
         "rawType": "object",
         "type": "unknown"
        },
        {
         "name": "timestamp",
         "rawType": "int64",
         "type": "integer"
        },
        {
         "name": "rating",
         "rawType": "bool",
         "type": "boolean"
        },
        {
         "name": "item_id",
         "rawType": "int64",
         "type": "integer"
        },
        {
         "name": "rating_exp",
         "rawType": "int64",
         "type": "integer"
        },
        {
         "name": "rating_imp",
         "rawType": "int32",
         "type": "integer"
        }
       ],
       "conversionMethod": "pd.DataFrame",
       "ref": "6adacb38-1df5-471d-98c0-2c2b46da8c88",
       "rows": [
        [
         "0",
         "76561197960432447",
         "A legendary tactical shooter that shaped the genre. Simple yet deep gameplay, excellent weapon balance, and iconic maps keep the game relevant even today. Pure nostalgia and classic FPS action.",
         "1738278781",
         "True",
         "10",
         "1",
         "1"
        ],
        [
         "1",
         "76561198071230926",
         "The best CS sure, but server browser is the illusion of choice and leads you to the same **** server. Use gametracker or something",
         "1736206418",
         "True",
         "10",
         "1",
         "1"
        ],
        [
         "2",
         "76561198206216352",
         "Some of the best memories of my childhood were made in pixels, with friends I only knew through a screen. Time moves on, but those moments are forever frozen in time.",
         "1738041574",
         "True",
         "10",
         "1",
         "1"
        ],
        [
         "3",
         "76561198110801124",
         "This game feels so much better than CS2. I know this game still gets FACEIT/ESEA-type treatment from services in the EU, but it would be cool if it got such services in NA.",
         "1738015332",
         "True",
         "10",
         "1",
         "1"
        ],
        [
         "4",
         "76561199813732773",
         "its very fun to play you can make friends out of it i have lots of maps i like i like how theres diffrent teams to choose from idk what else to say its just fun",
         "1737853720",
         "True",
         "10",
         "1",
         "1"
        ],
        [
         "5",
         "76561199224109782",
         "A great game, sadly most servers are bots, it still runs on windows xp with the steam client if you know what your doing!, and it also runs on any machine from 2005 and after!",
         "1737746477",
         "True",
         "10",
         "1",
         "1"
        ],
        [
         "6",
         "76561198193554107",
         "Weirdly enough, unlike so many other GoldSrc games and mods ever since the HL25 update, this game has joystick support out of the box, so if you wanna set up a flickstick control scheme, or just use a controller for any other reason, you're just able to do that.",
         "1737450253",
         "True",
         "10",
         "1",
         "1"
        ],
        [
         "7",
         "76561199806778491",
         "la verdad lo tengo de puro adorno,pero se arma buen combo de puteadas con amigos,especialmente argentinos,recomendable",
         "1736558659",
         "True",
         "10",
         "1",
         "1"
        ],
        [
         "8",
         "76561198045268005",
         "One of the best PC-based FPS games ever to me. \n\nNot only because this is the first title that defined the old days of Counter-Strike for me since I was a kid, but the unforgettable and funny memories I had with this PC game. \n\nI remember playing this on a good old Windows 98 computer with a decent internet connection thanks to my Mom and Dad. \n\nI was blown away by how teamwork is required to succeed in most cases. Or how I spent some time playing team deathmatch online overnight without getting caught by my parents.\n\nOverall, I give this game a solid 10 out of 10. It a masterpiece of art that should never be left behind or forgotten no matter how time flies by.",
         "1736330194",
         "True",
         "10",
         "1",
         "1"
        ],
        [
         "9",
         "76561199250017741",
         "-Buy game (Sales)\r\n-Delete the cracked version used in 6 years of my life.\r\n-Play game\r\n-Join the Russian Server.\r\n-I Played bad.\r\n-They start racist.\r\n-Even the Admin is racism too so i get banned.\r\n- 10/10 Recommended FrasQuag server.",
         "1737219249",
         "True",
         "10",
         "1",
         "1"
        ],
        [
         "10",
         "76561198153214934",
         "Preview of action's in this product give  crazy backup of start journey on several mod-pack's and a few moment's too more for existence mindself. Product was been evolved for a few updates and difference icon's so we show how many player's are in this game - everyday so we can do a match or group-match in old Counter world. It's amazing how this game few year's ago make popularity around the world between people of different age and make profit or waste in this awesome on-time.   \n\n",
         "1736165753",
         "False",
         "10",
         "-1",
         "0"
        ],
        [
         "11",
         "76561198950413739",
         "Great memories\r\nSadly its not playable more than half an hour anymore...\r\nNo fun without your childhood squad...",
         "1738049000",
         "True",
         "10",
         "1",
         "1"
        ],
        [
         "12",
         "76561198026809249",
         "This is a nostalgic game, but is filled lately with too many tryhards, thankfully the server community is alive, recommended only to boomer lads that have a group of friends to banter, avoid it if you came due to having a toaster and not able to ran cs source or cs2",
         "1736974263",
         "True",
         "10",
         "1",
         "1"
        ],
        [
         "13",
         "76561199293207226",
         "Un clásico, lo fui a jugar porque no puedo jugar CS2, resulta que es muy distinto y que apuntar es un horror.\r\nSkill issue por mi parte",
         "1736873878",
         "True",
         "10",
         "1",
         "1"
        ],
        [
         "14",
         "76561198224884452",
         "Nothing beats the best counter strike to ever been made. Old but gold. Still fun coming back and playing after all these years.",
         "1736841528",
         "True",
         "10",
         "1",
         "1"
        ],
        [
         "15",
         "76561199796969859",
         "whenever i try and play it, my screen gets doubled and the whole games has a green and violet color.",
         "1736569469",
         "False",
         "10",
         "-1",
         "0"
        ],
        [
         "16",
         "76561199237570387",
         "Reccomend a ton for nostalgic players or for people who can't run CS 2 because they have an older computer.\r\nPurchased with CS Condition Zero and CS Condition Zero Deleted Scenes for the price of only 81 cents (or somewhere around that).\r\n",
         "1736094942",
         "True",
         "10",
         "1",
         "1"
        ],
        [
         "17",
         "76561198324180607",
         "This game is a classic and still after 25 years is more fun than some modern shooters. Also, Props to Valve for keeping this game working on modern systems! no need for mods or 3rd party software, just install and hop on a server! (Rockstar take notes)",
         "1736428829",
         "True",
         "10",
         "1",
         "1"
        ],
        [
         "18",
         "76561198845503630",
         "If the graphics didn't age so bad, and had a competitive scene, I would probably play this game a lot more.\r\n\r\nStill, a great game for its time.",
         "1736550195",
         "True",
         "10",
         "1",
         "1"
        ],
        [
         "19",
         "76561199508598629",
         "The most friendly community i have ever seen. I was playing with a group of guys for about an hour and i had to go eat dinner so i said \"bye guys nice playing\" and nearly the entire lobby said \"Gn, have a good one\"",
         "1738289606",
         "True",
         "10",
         "1",
         "1"
        ],
        [
         "20",
         "76561199094494661",
         "La verdad es un juego mítico que todavía a día de hoy sigue teniendo casi 10mil servidores activos. A pesar de los años sigue siendo una locura, y volviéndolo a jugar también me doy cuenta por qué. Aunque sea algo simple y las misiones sean las mismas de siempre igual es entretenido. Algo de lo que no me di cuenta antes pero ahora sí es el lore que le crearon a los mapas y que si bien no son una gran historia aportan aunque sea algo al objetivo del mapa y está bueno como buscaron darle un sentido a las misiones (sobretodo en los mapas de defuse donde lo que se quiere destruir es algo concreto y se relaciona con el mapa en sí)\r\n\r\nEste tipo de juegos igualmente se disfrutan más con gente y si querés ir mejorando está la opción de jugar con bots, que parece que no pero para empezar ayuda bastante a ir mejorando el aim (y también importante saberse las zonas donde se puede plantar o donde están los rehenes). Lo que no me gustó es que no es una opción que viene por default en el juego y para instalarla hay que hacer unas cosas medio raras, pero después de eso funca bien",
         "1738252116",
         "True",
         "10",
         "1",
         "1"
        ],
        [
         "21",
         "76561199190798973",
         "respect \r\ncool gold source mod for half life",
         "1737242693",
         "True",
         "10",
         "1",
         "1"
        ],
        [
         "22",
         "76561198083698617",
         "Well, I have only been playing this game for close to 25 years... So really I am still trying to form an opinion on it.",
         "1737486786",
         "True",
         "10",
         "1",
         "1"
        ],
        [
         "23",
         "76561199380731920",
         "CS 1.6 is still the GOAT and the community mapmakers are what make it so awesome",
         "1736045189",
         "True",
         "10",
         "1",
         "1"
        ],
        [
         "24",
         "76561198165591184",
         "Counter-Strike (1.6) Review: The Game That Changed Multiplayer Shooters Forever\r\nPlatform: PC\r\nDeveloper: Valve & Minh \"Gooseman\" Le\r\nRelease Date: November 9, 2000\r\nGenre: Tactical First-Person Shooter\r\n\r\nIntroduction\r\nThe original Counter-Strike (often referred to as CS 1.6) isn't just a game — it's a cultural phenomenon that laid the foundation for modern multiplayer shooters. Born from a Half-Life mod, Counter-Strike became the gold standard for competitive tactical gameplay, influencing an entire generation of games and players. Even decades after its release, it remains a beloved classic and an essential piece of gaming history.\r\n\r\nGameplay: Tactical, Unforgiving, and Addictive\r\nAt its core, Counter-Strike is simple yet incredibly deep. Players join one of two teams — Terrorists or Counter-Terrorists — and face off in objective-based rounds where tactics, communication, and precision are key to success.\r\n\r\nThe game offers a few core modes that became iconic:\r\n\r\nBomb Defusal (de_): Terrorists must plant a bomb at one of two designated sites, while Counter-Terrorists work to prevent or defuse it.\r\nHostage Rescue (cs_): Counter-Terrorists must rescue hostages from Terrorists.\r\nAssassination (as_): One player becomes a VIP that the Counter-Terrorists must escort to safety, while Terrorists attempt to eliminate them.\r\nRounds are short and intense, with no respawning until the round ends. This high-stakes gameplay makes every decision matter, whether it's saving your cash for better weapons or taking a risky push on a bombsite.\r\n\r\nWeapons behave realistically, with recoil and spray patterns that players must master to be effective. The result is a high skill ceiling that rewards practice and precision.\r\n\r\nGraphics and Atmosphere: Nostalgic Simplicity\r\nVisually, Counter-Strike shows its age. Built on the GoldSrc engine, the game features blocky models, basic textures, and simplistic animations. But what it lacks in graphical fidelity, it more than makes up for in clarity and performance.\r\n\r\nThe minimalist visuals make it easy to focus on gameplay, with no distractions or flashy effects. Every map is meticulously designed with competitive play in mind, and maps like de_dust2, cs_assault, and de_inferno have become legendary.\r\n\r\nSound Design: Audio Cues That Matter\r\nThe sound design in Counter-Strike is as essential as the gameplay itself. Footsteps, gunfire, and reload sounds provide crucial information that skilled players use to their advantage.\r\n\r\nThe weapon sounds are iconic — from the deafening crack of the AWP sniper rifle to the satisfying burst of the AK-47. The announcer’s voice announcing round wins, bomb plants, and hostage rescues is forever etched into the memories of long-time players.\r\n\r\nCommunity and Mods: The Heartbeat of CS\r\nOne of the greatest strengths of Counter-Strike is its community. In its early years, dedicated servers and custom maps allowed the game to flourish in ways Valve likely never anticipated.\r\n\r\nPlayers created countless custom game modes that became staples in their own right, such as:\r\n\r\nSurf maps\r\nZombie mods\r\nGunGame\r\nJailbreak\r\nThis flexibility gave Counter-Strike nearly infinite replayability and made it more than just a competitive shooter — it became a social experience.\r\n\r\nLegacy: The Birth of Esports\r\nCounter-Strike didn’t just change multiplayer gaming; it helped launch the world of esports. In the early 2000s, CS tournaments became a global phenomenon, with pro teams and events like the CPL and WCG paving the way for the competitive gaming scene we know today.\r\n\r\nIt also established gameplay concepts still seen in modern shooters:\r\n\r\nThe importance of team coordination\r\nEconomic management within a match\r\nHigh skill ceiling with rewarding mechanics\r\nWithout Counter-Strike, games like Call of Duty, Rainbow Six Siege, and Valorant would likely not exist in their current form.\r\n\r\nPros:\r\n✅ Revolutionary gameplay that defined a genre\r\n✅ High skill ceiling with rewarding mechanics\r\n✅ Iconic maps that remain staples in modern games\r\n✅ Endless replayability thanks to mods and custom servers\r\n✅ Strong community and esports legacy\r\n\r\nCons:\r\n❌ Dated graphics by modern standards\r\n❌ Steep learning curve for newcomers\r\n❌ No built-in matchmaking system (reliant on servers)\r\n\r\nConclusion: A Masterpiece That Stands the Test of Time\r\nThe original Counter-Strike isn’t just a game — it’s a piece of gaming history. It introduced the world to the concept of competitive, team-based tactical shooters, creating a legacy that continues to thrive with newer iterations like CS:GO.\r\n\r\nDespite its age, Counter-Strike still holds up today for those willing to embrace its no-frills, skill-first approach. It's a game that rewards precision, patience, and teamwork — values that have made it a cornerstone of multiplayer gaming for over two decades.\r\n\r\nWhether you're revisiting it for nostalgia or experiencing it for the first time, Counter-Strike is a must-play for any shooter fan. It’s a timeless masterpiece that defined an entire genre and still has a place in the hearts of millions.\r\n\r\nScore: 10/10\r\n💥 Verdict: The ultimate tactical shooter that laid the groundwork for modern competitive gaming and remains a legend in its own right.",
         "1735889198",
         "True",
         "10",
         "1",
         "1"
        ],
        [
         "25",
         "76561198235399212",
         "The phantom, exterior like fish eggs\nInterior like suicide-wrist red\nI can exercise you, this can be your phys. ed\nCheat on your man homie\nAHHH i tried to sneak through the door man\nCan't make it, can't make it, this sh!t's stuck\nOUTTA MY OWN SON, DOOR STUCK, DOOR STUCK\nPLEASE, I BEG YOU, WE'RE DEAD\nYOU'RE A GENUINE D!CK SUCKER",
         "1736929037",
         "True",
         "10",
         "1",
         "1"
        ],
        [
         "26",
         "76561199818606509",
         "Hello everyone. I just purchased CS 1.6 and I have difficulty entering the game. I leave the message here and maybe someone can help me to get into the game. please nice.\n\nMicrosoft Visual C++ Runtime Library\nAssertion failed!\nProgram:...am\\steamapps\\common\\Half-Life\\filesystem_stdio.dll\nFile: c:\\buildslave\\goldsrc_win32\\build\\G...\\FileSys...dio.cpp\nLine: 84\nExpression: !m_bMounted\nFor information on how your program can cause an assertion\nfailure, see the Visu C++ documentation on asserts\n(Press Retry to debug the application - JIT must be enabled)\nAbandonner Recommencer\nIgnorer",
         "1736710356",
         "True",
         "10",
         "1",
         "1"
        ],
        [
         "27",
         "76561198358591238",
         "Classic never gets old 10/10 best shooter ever",
         "1736570758",
         "True",
         "10",
         "1",
         "1"
        ],
        [
         "28",
         "76561199368460075",
         "it very fun en very cool",
         "1736896442",
         "True",
         "10",
         "1",
         "1"
        ],
        [
         "29",
         "76561199659446735",
         "its pretty fun but i wish it worked on old hardware (steam is bad for game preservation.)",
         "1736046626",
         "True",
         "10",
         "1",
         "1"
        ],
        [
         "30",
         "76561199238654861",
         "it's good but counter strike condition zero is basically the better version of this",
         "1736463131",
         "True",
         "10",
         "1",
         "1"
        ],
        [
         "31",
         "76561199231071027",
         "Cool game but too many dads playing it.",
         "1737327261",
         "True",
         "10",
         "1",
         "1"
        ],
        [
         "32",
         "76561199494642135",
         "WERE GOOD I PLAYED THIS GAME AT 6 YEARS OLD BUT IT WAS FAKE AND I BUY THE REAL ONE \r\n",
         "1736420042",
         "True",
         "10",
         "1",
         "1"
        ],
        [
         "33",
         "76561199523671092",
         "OG classic CS game!! Nostalgia kino. 7/10\r\n",
         "1737615713",
         "True",
         "10",
         "1",
         "1"
        ],
        [
         "34",
         "76561199675346350",
         "The best version of cs to this day. Nothing will ever beat it",
         "1738280687",
         "True",
         "10",
         "1",
         "1"
        ],
        [
         "35",
         "76561199184339834",
         "The GOAT of FPS genre with such simple but versatile and endlessly expandable game mechanics. You can still enjoy this game without the guilty feeling of killing people if you are into Kreedz or Hide and Seek scence.",
         "1737946298",
         "True",
         "10",
         "1",
         "1"
        ],
        [
         "36",
         "76561199492247174",
         "very very good very very cheap very very life changing",
         "1736548776",
         "True",
         "10",
         "1",
         "1"
        ],
        [
         "37",
         "76561198830102893",
         "This, ladies and gentleman, is THE game. \n20+ years running, strong community, endless maps, modes and fun.\n\nShooty, shooty...fire in the Hole!\n\n12/10",
         "1738167642",
         "True",
         "10",
         "1",
         "1"
        ],
        [
         "38",
         "76561199434667836",
         "Counter-Strike 1.6 is a timeless classic. Simple yet intense gameplay, fast-paced action, and great maps make it a go-to for competitive play. It may be old, but the nostalgic feel and iconic status keep it alive even today.",
         "1736531029",
         "True",
         "10",
         "1",
         "1"
        ],
        [
         "39",
         "76561198027741648",
         "Best CS game! \r\nI know I'm pretty late to the party, but the proof is in the pudding",
         "1737230507",
         "True",
         "10",
         "1",
         "1"
        ],
        [
         "40",
         "76561198374669444",
         "𝘤𝘭𝘪𝘤𝘬 𝘩𝘦𝘳𝘦 𝘵𝘰 𝘣𝘦 𝘥𝘦𝘱𝘳𝘦𝘴𝘴𝘦𝘥\n─────────────⚪────────────────────────────────── ────────\n0:17 / 1:36\nhttps://www.youtube.com/watch?v=7JGDWKJfgxQ",
         "1736946928",
         "True",
         "10",
         "1",
         "1"
        ],
        [
         "41",
         "76561198872716572",
         "fun fast paced basic shooter game.",
         "1736298726",
         "True",
         "10",
         "1",
         "1"
        ],
        [
         "42",
         "76561199245809841",
         "beansniff jee voes rfenusnuirferKFGHNBDHNGVTFHGVYUGVTRVTFUHUVGRHTRFVGDTYVGxccxvsdrfvd",
         "1736122687",
         "True",
         "10",
         "1",
         "1"
        ],
        [
         "43",
         "76561199091046647",
         "my go-to game when all i need is a simple & carefree entertainment",
         "1737852228",
         "True",
         "10",
         "1",
         "1"
        ],
        [
         "44",
         "76561198298890570",
         "Надеюсь сервера на которых \"Добро пожаловать на сервер шизофрения\" и \"В ГОЛОВУ\" всё ещё живы?",
         "1737263619",
         "True",
         "10",
         "1",
         "1"
        ],
        [
         "45",
         "76561198295113118",
         "The OG, ahh the middle school informatics class kekw",
         "1737210188",
         "True",
         "10",
         "1",
         "1"
        ],
        [
         "46",
         "76561198340352404",
         "The game of our childhood , never stop playing it , one of the best !",
         "1735993111",
         "True",
         "10",
         "1",
         "1"
        ],
        [
         "47",
         "76561198261660358",
         "I really like the graphics of CS2",
         "1737729303",
         "True",
         "10",
         "1",
         "1"
        ],
        [
         "48",
         "76561199172372635",
         "This is the best game ever, if you plant bomb you get 3 kills :).",
         "1737843427",
         "True",
         "10",
         "1",
         "1"
        ],
        [
         "49",
         "76561199476702769",
         "do someone know how to install cs 1.5",
         "1736693162",
         "True",
         "10",
         "1",
         "1"
        ]
       ],
       "shape": {
        "columns": 7,
        "rows": 1156226
       }
      },
      "text/html": [
       "<div>\n",
       "<style scoped>\n",
       "    .dataframe tbody tr th:only-of-type {\n",
       "        vertical-align: middle;\n",
       "    }\n",
       "\n",
       "    .dataframe tbody tr th {\n",
       "        vertical-align: top;\n",
       "    }\n",
       "\n",
       "    .dataframe thead th {\n",
       "        text-align: right;\n",
       "    }\n",
       "</style>\n",
       "<table border=\"1\" class=\"dataframe\">\n",
       "  <thead>\n",
       "    <tr style=\"text-align: right;\">\n",
       "      <th></th>\n",
       "      <th>user_id</th>\n",
       "      <th>review</th>\n",
       "      <th>timestamp</th>\n",
       "      <th>rating</th>\n",
       "      <th>item_id</th>\n",
       "      <th>rating_exp</th>\n",
       "      <th>rating_imp</th>\n",
       "    </tr>\n",
       "  </thead>\n",
       "  <tbody>\n",
       "    <tr>\n",
       "      <th>0</th>\n",
       "      <td>76561197960432447</td>\n",
       "      <td>A legendary tactical shooter that shaped the g...</td>\n",
       "      <td>1738278781</td>\n",
       "      <td>True</td>\n",
       "      <td>10</td>\n",
       "      <td>1</td>\n",
       "      <td>1</td>\n",
       "    </tr>\n",
       "    <tr>\n",
       "      <th>1</th>\n",
       "      <td>76561198071230926</td>\n",
       "      <td>The best CS sure, but server browser is the il...</td>\n",
       "      <td>1736206418</td>\n",
       "      <td>True</td>\n",
       "      <td>10</td>\n",
       "      <td>1</td>\n",
       "      <td>1</td>\n",
       "    </tr>\n",
       "    <tr>\n",
       "      <th>2</th>\n",
       "      <td>76561198206216352</td>\n",
       "      <td>Some of the best memories of my childhood were...</td>\n",
       "      <td>1738041574</td>\n",
       "      <td>True</td>\n",
       "      <td>10</td>\n",
       "      <td>1</td>\n",
       "      <td>1</td>\n",
       "    </tr>\n",
       "    <tr>\n",
       "      <th>3</th>\n",
       "      <td>76561198110801124</td>\n",
       "      <td>This game feels so much better than CS2. I kno...</td>\n",
       "      <td>1738015332</td>\n",
       "      <td>True</td>\n",
       "      <td>10</td>\n",
       "      <td>1</td>\n",
       "      <td>1</td>\n",
       "    </tr>\n",
       "    <tr>\n",
       "      <th>4</th>\n",
       "      <td>76561199813732773</td>\n",
       "      <td>its very fun to play you can make friends out ...</td>\n",
       "      <td>1737853720</td>\n",
       "      <td>True</td>\n",
       "      <td>10</td>\n",
       "      <td>1</td>\n",
       "      <td>1</td>\n",
       "    </tr>\n",
       "    <tr>\n",
       "      <th>...</th>\n",
       "      <td>...</td>\n",
       "      <td>...</td>\n",
       "      <td>...</td>\n",
       "      <td>...</td>\n",
       "      <td>...</td>\n",
       "      <td>...</td>\n",
       "      <td>...</td>\n",
       "    </tr>\n",
       "    <tr>\n",
       "      <th>1766438</th>\n",
       "      <td>76561198047845894</td>\n",
       "      <td>A fun and innovative game, not a bad thing to ...</td>\n",
       "      <td>1663545142</td>\n",
       "      <td>True</td>\n",
       "      <td>999890</td>\n",
       "      <td>1</td>\n",
       "      <td>1</td>\n",
       "    </tr>\n",
       "    <tr>\n",
       "      <th>1766439</th>\n",
       "      <td>76561198314652319</td>\n",
       "      <td>Developer, please listen to me, I love the con...</td>\n",
       "      <td>1689826252</td>\n",
       "      <td>True</td>\n",
       "      <td>999890</td>\n",
       "      <td>1</td>\n",
       "      <td>1</td>\n",
       "    </tr>\n",
       "    <tr>\n",
       "      <th>1766440</th>\n",
       "      <td>76561198035100973</td>\n",
       "      <td>Disclaimer: My scores/reviews are almost alway...</td>\n",
       "      <td>1595699739</td>\n",
       "      <td>True</td>\n",
       "      <td>999990</td>\n",
       "      <td>1</td>\n",
       "      <td>1</td>\n",
       "    </tr>\n",
       "    <tr>\n",
       "      <th>1766441</th>\n",
       "      <td>76561198414383514</td>\n",
       "      <td>Mediocre game with a pathetically bad challeng...</td>\n",
       "      <td>1706470035</td>\n",
       "      <td>False</td>\n",
       "      <td>999990</td>\n",
       "      <td>-1</td>\n",
       "      <td>0</td>\n",
       "    </tr>\n",
       "    <tr>\n",
       "      <th>1766442</th>\n",
       "      <td>76561197992216244</td>\n",
       "      <td>Pogood.</td>\n",
       "      <td>1720163517</td>\n",
       "      <td>True</td>\n",
       "      <td>999990</td>\n",
       "      <td>1</td>\n",
       "      <td>1</td>\n",
       "    </tr>\n",
       "  </tbody>\n",
       "</table>\n",
       "<p>1156226 rows × 7 columns</p>\n",
       "</div>"
      ],
      "text/plain": [
       "                   user_id                                             review  \\\n",
       "0        76561197960432447  A legendary tactical shooter that shaped the g...   \n",
       "1        76561198071230926  The best CS sure, but server browser is the il...   \n",
       "2        76561198206216352  Some of the best memories of my childhood were...   \n",
       "3        76561198110801124  This game feels so much better than CS2. I kno...   \n",
       "4        76561199813732773  its very fun to play you can make friends out ...   \n",
       "...                    ...                                                ...   \n",
       "1766438  76561198047845894  A fun and innovative game, not a bad thing to ...   \n",
       "1766439  76561198314652319  Developer, please listen to me, I love the con...   \n",
       "1766440  76561198035100973  Disclaimer: My scores/reviews are almost alway...   \n",
       "1766441  76561198414383514  Mediocre game with a pathetically bad challeng...   \n",
       "1766442  76561197992216244                                            Pogood.   \n",
       "\n",
       "          timestamp  rating  item_id  rating_exp  rating_imp  \n",
       "0        1738278781    True       10           1           1  \n",
       "1        1736206418    True       10           1           1  \n",
       "2        1738041574    True       10           1           1  \n",
       "3        1738015332    True       10           1           1  \n",
       "4        1737853720    True       10           1           1  \n",
       "...             ...     ...      ...         ...         ...  \n",
       "1766438  1663545142    True   999890           1           1  \n",
       "1766439  1689826252    True   999890           1           1  \n",
       "1766440  1595699739    True   999990           1           1  \n",
       "1766441  1706470035   False   999990          -1           0  \n",
       "1766442  1720163517    True   999990           1           1  \n",
       "\n",
       "[1156226 rows x 7 columns]"
      ]
     },
     "execution_count": 8,
     "metadata": {},
     "output_type": "execute_result"
    }
   ],
   "source": [
    "df.drop_duplicates(subset=['user_id', 'item_id'], inplace=True)\n",
    "df"
   ]
  },
  {
   "cell_type": "markdown",
   "metadata": {},
   "source": [
    "### Feature engineering timestamp"
   ]
  },
  {
   "cell_type": "code",
   "execution_count": 9,
   "metadata": {},
   "outputs": [
    {
     "data": {
      "text/plain": [
       "count    1.156226e+06\n",
       "mean     1.690352e+09\n",
       "std      8.563682e+07\n",
       "min      1.287267e+09\n",
       "25%      1.679661e+09\n",
       "50%      1.735785e+09\n",
       "75%      1.737331e+09\n",
       "max      1.738732e+09\n",
       "Name: timestamp, dtype: float64"
      ]
     },
     "execution_count": 9,
     "metadata": {},
     "output_type": "execute_result"
    }
   ],
   "source": [
    "df['timestamp'].describe()"
   ]
  },
  {
   "cell_type": "code",
   "execution_count": 10,
   "metadata": {},
   "outputs": [
    {
     "data": {
      "image/png": "[encoded data removed]",
      "text/plain": [
       "<Figure size 640x480 with 1 Axes>"
      ]
     },
     "metadata": {},
     "output_type": "display_data"
    }
   ],
   "source": [
    "df['timestamp'].hist(bins=100)\n",
    "plt.show()"
   ]
  },
  {
   "cell_type": "markdown",
   "metadata": {},
   "source": [
    "#### Min-max Normalization"
   ]
  },
  {
   "cell_type": "code",
   "execution_count": 11,
   "metadata": {},
   "outputs": [
    {
     "data": {
      "text/plain": [
       "0    0.998997\n",
       "1    0.994407\n",
       "2    0.998472\n",
       "3    0.998414\n",
       "4    0.998056\n",
       "Name: mm_timestamp, dtype: float64"
      ]
     },
     "execution_count": 11,
     "metadata": {},
     "output_type": "execute_result"
    }
   ],
   "source": [
    "def normalize_timestamps(timestamps):\n",
    "    min_time = timestamps.min()\n",
    "    max_time = timestamps.max()\n",
    "    normalized = (timestamps - min_time) / (max_time - min_time)\n",
    "    return normalized\n",
    "\n",
    "df['mm_timestamp'] = normalize_timestamps(df['timestamp'])\n",
    "df['mm_timestamp'].head()"
   ]
  },
  {
   "cell_type": "markdown",
   "metadata": {},
   "source": [
    "#### Z-score Standardization"
   ]
  },
  {
   "cell_type": "code",
   "execution_count": 12,
   "metadata": {},
   "outputs": [
    {
     "data": {
      "text/plain": [
       "0    0.559647\n",
       "1    0.535447\n",
       "2    0.556877\n",
       "3    0.556570\n",
       "4    0.554683\n",
       "Name: z_timestamp, dtype: float64"
      ]
     },
     "execution_count": 12,
     "metadata": {},
     "output_type": "execute_result"
    }
   ],
   "source": [
    "def standardize_timestamps(timestamps):\n",
    "    mean_time = timestamps.mean()\n",
    "    std_time = timestamps.std()\n",
    "    standardized = (timestamps - mean_time) / std_time\n",
    "    return standardized\n",
    "\n",
    "df['z_timestamp'] = standardize_timestamps(df['timestamp'])\n",
    "df['z_timestamp'].head()"
   ]
  },
  {
   "cell_type": "markdown",
   "metadata": {},
   "source": [
    "#### Log Transformation"
   ]
  },
  {
   "cell_type": "code",
   "execution_count": 13,
   "metadata": {},
   "outputs": [
    {
     "data": {
      "text/plain": [
       "0    19.927005\n",
       "1    19.922399\n",
       "2    19.926479\n",
       "3    19.926420\n",
       "4    19.926062\n",
       "Name: log_timestamp, dtype: float64"
      ]
     },
     "execution_count": 13,
     "metadata": {},
     "output_type": "execute_result"
    }
   ],
   "source": [
    "def log_normalize_timestamps(timestamps):\n",
    "    min_time = timestamps.min()\n",
    "    offset_timestamps = timestamps - min_time\n",
    "    epsilon = 1e-10\n",
    "    return np.log(offset_timestamps + epsilon)\n",
    "\n",
    "df['log_timestamp'] = log_normalize_timestamps(df['timestamp'])\n",
    "df['log_timestamp'].head()"
   ]
  },
  {
   "cell_type": "markdown",
   "metadata": {},
   "source": [
    "#### Relative time encoding"
   ]
  },
  {
   "cell_type": "code",
   "execution_count": 14,
   "metadata": {},
   "outputs": [
    {
     "data": {
      "application/vnd.microsoft.datawrangler.viewer.v0+json": {
       "columns": [
        {
         "name": "index",
         "rawType": "int64",
         "type": "integer"
        },
        {
         "name": "user_id",
         "rawType": "int64",
         "type": "integer"
        },
        {
         "name": "review",
         "rawType": "object",
         "type": "string"
        },
        {
         "name": "timestamp",
         "rawType": "int64",
         "type": "integer"
        },
        {
         "name": "rating",
         "rawType": "bool",
         "type": "boolean"
        },
        {
         "name": "item_id",
         "rawType": "int64",
         "type": "integer"
        },
        {
         "name": "rating_exp",
         "rawType": "int64",
         "type": "integer"
        },
        {
         "name": "rating_imp",
         "rawType": "int32",
         "type": "integer"
        },
        {
         "name": "mm_timestamp",
         "rawType": "float64",
         "type": "float"
        },
        {
         "name": "z_timestamp",
         "rawType": "float64",
         "type": "float"
        },
        {
         "name": "log_timestamp",
         "rawType": "float64",
         "type": "float"
        },
        {
         "name": "relative_most_recent_timestamp",
         "rawType": "float64",
         "type": "float"
        },
        {
         "name": "relative_current_timestamp",
         "rawType": "float64",
         "type": "float"
        },
        {
         "name": "relative_last_interaction_timestamp",
         "rawType": "float64",
         "type": "float"
        }
       ],
       "conversionMethod": "pd.DataFrame",
       "ref": "34ef7563-1b63-4b9f-a431-740d0078d0c4",
       "rows": [
        [
         "0",
         "76561197960432447",
         "A legendary tactical shooter that shaped the genre. Simple yet deep gameplay, excellent weapon balance, and iconic maps keep the game relevant even today. Pure nostalgia and classic FPS action.",
         "1738278781",
         "True",
         "10",
         "1",
         "1",
         "0.9989971532975325",
         "0.5596467731958273",
         "19.92700464655487",
         "0.07131092071323984",
         "0.06120855667887638",
         "0.08249665609125578"
        ],
        [
         "1",
         "76561198071230926",
         "The best CS sure, but server browser is the illusion of choice and leads you to the same **** server. Use gametracker or something",
         "1736206418",
         "True",
         "10",
         "1",
         "1",
         "0.9944068442950683",
         "0.5354473339652692",
         "19.922399140474177",
         "0.06352514993846875",
         "0.059841750109914875",
         "1.0"
        ],
        [
         "2",
         "76561198206216352",
         "Some of the best memories of my childhood were made in pixels, with friends I only knew through a screen. Time moves on, but those moments are forever frozen in time.",
         "1738041574",
         "True",
         "10",
         "1",
         "1",
         "0.998471736935849",
         "0.5568768548072232",
         "19.92647856439522",
         "0.06923104932553537",
         "0.061020028405577915",
         "1.0"
        ],
        [
         "3",
         "76561198110801124",
         "This game feels so much better than CS2. I know this game still gets FACEIT/ESEA-type treatment from services in the EU, but it would be cool if it got such services in NA.",
         "1738015332",
         "True",
         "10",
         "1",
         "1",
         "0.9984136105898166",
         "0.5565704211928958",
         "19.926420347386298",
         "0.06905259620094376",
         "0.060999813688437224",
         "1.0"
        ],
        [
         "4",
         "76561199813732773",
         "its very fun to play you can make friends out of it i have lots of maps i like i like how theres diffrent teams to choose from idk what else to say its just fun",
         "1737853720",
         "True",
         "10",
         "1",
         "1",
         "0.9980556380635236",
         "0.5546832422706081",
         "19.926061741782558",
         "0.06809582680260952",
         "0.060877968322650966",
         "1.0"
        ]
       ],
       "shape": {
        "columns": 13,
        "rows": 5
       }
      },
      "text/html": [
       "<div>\n",
       "<style scoped>\n",
       "    .dataframe tbody tr th:only-of-type {\n",
       "        vertical-align: middle;\n",
       "    }\n",
       "\n",
       "    .dataframe tbody tr th {\n",
       "        vertical-align: top;\n",
       "    }\n",
       "\n",
       "    .dataframe thead th {\n",
       "        text-align: right;\n",
       "    }\n",
       "</style>\n",
       "<table border=\"1\" class=\"dataframe\">\n",
       "  <thead>\n",
       "    <tr style=\"text-align: right;\">\n",
       "      <th></th>\n",
       "      <th>user_id</th>\n",
       "      <th>review</th>\n",
       "      <th>timestamp</th>\n",
       "      <th>rating</th>\n",
       "      <th>item_id</th>\n",
       "      <th>rating_exp</th>\n",
       "      <th>rating_imp</th>\n",
       "      <th>mm_timestamp</th>\n",
       "      <th>z_timestamp</th>\n",
       "      <th>log_timestamp</th>\n",
       "      <th>relative_most_recent_timestamp</th>\n",
       "      <th>relative_current_timestamp</th>\n",
       "      <th>relative_last_interaction_timestamp</th>\n",
       "    </tr>\n",
       "  </thead>\n",
       "  <tbody>\n",
       "    <tr>\n",
       "      <th>0</th>\n",
       "      <td>76561197960432447</td>\n",
       "      <td>A legendary tactical shooter that shaped the g...</td>\n",
       "      <td>1738278781</td>\n",
       "      <td>True</td>\n",
       "      <td>10</td>\n",
       "      <td>1</td>\n",
       "      <td>1</td>\n",
       "      <td>0.998997</td>\n",
       "      <td>0.559647</td>\n",
       "      <td>19.927005</td>\n",
       "      <td>0.071311</td>\n",
       "      <td>0.061209</td>\n",
       "      <td>0.082497</td>\n",
       "    </tr>\n",
       "    <tr>\n",
       "      <th>1</th>\n",
       "      <td>76561198071230926</td>\n",
       "      <td>The best CS sure, but server browser is the il...</td>\n",
       "      <td>1736206418</td>\n",
       "      <td>True</td>\n",
       "      <td>10</td>\n",
       "      <td>1</td>\n",
       "      <td>1</td>\n",
       "      <td>0.994407</td>\n",
       "      <td>0.535447</td>\n",
       "      <td>19.922399</td>\n",
       "      <td>0.063525</td>\n",
       "      <td>0.059842</td>\n",
       "      <td>1.000000</td>\n",
       "    </tr>\n",
       "    <tr>\n",
       "      <th>2</th>\n",
       "      <td>76561198206216352</td>\n",
       "      <td>Some of the best memories of my childhood were...</td>\n",
       "      <td>1738041574</td>\n",
       "      <td>True</td>\n",
       "      <td>10</td>\n",
       "      <td>1</td>\n",
       "      <td>1</td>\n",
       "      <td>0.998472</td>\n",
       "      <td>0.556877</td>\n",
       "      <td>19.926479</td>\n",
       "      <td>0.069231</td>\n",
       "      <td>0.061020</td>\n",
       "      <td>1.000000</td>\n",
       "    </tr>\n",
       "    <tr>\n",
       "      <th>3</th>\n",
       "      <td>76561198110801124</td>\n",
       "      <td>This game feels so much better than CS2. I kno...</td>\n",
       "      <td>1738015332</td>\n",
       "      <td>True</td>\n",
       "      <td>10</td>\n",
       "      <td>1</td>\n",
       "      <td>1</td>\n",
       "      <td>0.998414</td>\n",
       "      <td>0.556570</td>\n",
       "      <td>19.926420</td>\n",
       "      <td>0.069053</td>\n",
       "      <td>0.061000</td>\n",
       "      <td>1.000000</td>\n",
       "    </tr>\n",
       "    <tr>\n",
       "      <th>4</th>\n",
       "      <td>76561199813732773</td>\n",
       "      <td>its very fun to play you can make friends out ...</td>\n",
       "      <td>1737853720</td>\n",
       "      <td>True</td>\n",
       "      <td>10</td>\n",
       "      <td>1</td>\n",
       "      <td>1</td>\n",
       "      <td>0.998056</td>\n",
       "      <td>0.554683</td>\n",
       "      <td>19.926062</td>\n",
       "      <td>0.068096</td>\n",
       "      <td>0.060878</td>\n",
       "      <td>1.000000</td>\n",
       "    </tr>\n",
       "  </tbody>\n",
       "</table>\n",
       "</div>"
      ],
      "text/plain": [
       "             user_id                                             review  \\\n",
       "0  76561197960432447  A legendary tactical shooter that shaped the g...   \n",
       "1  76561198071230926  The best CS sure, but server browser is the il...   \n",
       "2  76561198206216352  Some of the best memories of my childhood were...   \n",
       "3  76561198110801124  This game feels so much better than CS2. I kno...   \n",
       "4  76561199813732773  its very fun to play you can make friends out ...   \n",
       "\n",
       "    timestamp  rating  item_id  rating_exp  rating_imp  mm_timestamp  \\\n",
       "0  1738278781    True       10           1           1      0.998997   \n",
       "1  1736206418    True       10           1           1      0.994407   \n",
       "2  1738041574    True       10           1           1      0.998472   \n",
       "3  1738015332    True       10           1           1      0.998414   \n",
       "4  1737853720    True       10           1           1      0.998056   \n",
       "\n",
       "   z_timestamp  log_timestamp  relative_most_recent_timestamp  \\\n",
       "0     0.559647      19.927005                        0.071311   \n",
       "1     0.535447      19.922399                        0.063525   \n",
       "2     0.556877      19.926479                        0.069231   \n",
       "3     0.556570      19.926420                        0.069053   \n",
       "4     0.554683      19.926062                        0.068096   \n",
       "\n",
       "   relative_current_timestamp  relative_last_interaction_timestamp  \n",
       "0                    0.061209                             0.082497  \n",
       "1                    0.059842                             1.000000  \n",
       "2                    0.061020                             1.000000  \n",
       "3                    0.061000                             1.000000  \n",
       "4                    0.060878                             1.000000  "
      ]
     },
     "execution_count": 14,
     "metadata": {},
     "output_type": "execute_result"
    }
   ],
   "source": [
    "class ReferenceTime(Enum):\n",
    "    MOST_RECENT = 'most_recent'\n",
    "    CURRENT = 'current'\n",
    "    LAST_INTERACTION = 'last_interaction'\n",
    "    \n",
    "class DecayFunction(Enum):\n",
    "    LINEAR = 'linear'\n",
    "    EXPONENTIAL = 'exponential'\n",
    "    POWER_LAW = 'power-law'\n",
    "    LOG = 'log'\n",
    "\n",
    "def relative_time_encoding(df: pd.DataFrame, reference_time: ReferenceTime = ReferenceTime.MOST_RECENT, decay_fn: DecayFunction = DecayFunction.LOG, decay_rate: float = 1.0, decay_power: float = 2.0) -> np.ndarray:\n",
    "    \n",
    "    \"\"\"Normalize based on recency relative to a reference time\"\"\"\n",
    "    if reference_time == ReferenceTime.MOST_RECENT:\n",
    "        reference_time = df['timestamp'].max()  # Most recent timestamp\n",
    "        df['time_diff'] = df['timestamp'].apply(lambda x: reference_time - x)\n",
    "        \n",
    "    elif reference_time == ReferenceTime.CURRENT:\n",
    "        reference_time = pd.Timestamp.now().timestamp()\n",
    "        df['time_diff'] = df['timestamp'].apply(lambda x: reference_time - x)\n",
    "        \n",
    "    elif reference_time == ReferenceTime.LAST_INTERACTION:\n",
    "        user_last_timestamps = df.groupby('user_id')['timestamp'].max()\n",
    "        df['last_timestamp'] = df['user_id'].map(user_last_timestamps)\n",
    "        df['time_diff'] = df['last_timestamp'] - df['timestamp']\n",
    "        df['time_diff'] = df['time_diff'].clip(lower=0)\n",
    "        \n",
    "    if decay_fn == DecayFunction.LINEAR:\n",
    "        normalized = 1 / (1 + decay_rate * df['time_diff'])\n",
    "    elif decay_fn == DecayFunction.EXPONENTIAL:\n",
    "        normalized = np.exp(-decay_rate * df['time_diff'])\n",
    "    elif decay_fn == DecayFunction.POWER_LAW:\n",
    "        normalized = 1 / (1 + df['time_diff'] ** decay_power)\n",
    "    elif decay_fn == DecayFunction.LOG:\n",
    "        normalized = 1 / (1 + decay_rate * np.log(1 + df['time_diff']))\n",
    "        \n",
    "    return normalized.values\n",
    "\n",
    "df['relative_most_recent_timestamp'] = relative_time_encoding(df)\n",
    "df['relative_current_timestamp'] = relative_time_encoding(df, ReferenceTime.CURRENT)\n",
    "df['relative_last_interaction_timestamp'] = relative_time_encoding(df, ReferenceTime.LAST_INTERACTION)\n",
    "df.drop(columns=['time_diff', 'last_timestamp'], inplace=True)\n",
    "df.head()"
   ]
  },
  {
   "cell_type": "markdown",
   "metadata": {},
   "source": [
    "#### Encoding Cyclical Patterns with Sine/Cosine Transformations"
   ]
  },
  {
   "cell_type": "code",
   "execution_count": 15,
   "metadata": {},
   "outputs": [
    {
     "data": {
      "application/vnd.microsoft.datawrangler.viewer.v0+json": {
       "columns": [
        {
         "name": "index",
         "rawType": "int64",
         "type": "integer"
        },
        {
         "name": "user_id",
         "rawType": "int64",
         "type": "integer"
        },
        {
         "name": "review",
         "rawType": "object",
         "type": "string"
        },
        {
         "name": "timestamp",
         "rawType": "int64",
         "type": "integer"
        },
        {
         "name": "rating",
         "rawType": "bool",
         "type": "boolean"
        },
        {
         "name": "item_id",
         "rawType": "int64",
         "type": "integer"
        },
        {
         "name": "rating_exp",
         "rawType": "int64",
         "type": "integer"
        },
        {
         "name": "rating_imp",
         "rawType": "int32",
         "type": "integer"
        },
        {
         "name": "mm_timestamp",
         "rawType": "float64",
         "type": "float"
        },
        {
         "name": "z_timestamp",
         "rawType": "float64",
         "type": "float"
        },
        {
         "name": "log_timestamp",
         "rawType": "float64",
         "type": "float"
        },
        {
         "name": "relative_most_recent_timestamp",
         "rawType": "float64",
         "type": "float"
        },
        {
         "name": "relative_current_timestamp",
         "rawType": "float64",
         "type": "float"
        },
        {
         "name": "relative_last_interaction_timestamp",
         "rawType": "float64",
         "type": "float"
        },
        {
         "name": "hour_sin",
         "rawType": "float64",
         "type": "float"
        },
        {
         "name": "hour_cos",
         "rawType": "float64",
         "type": "float"
        },
        {
         "name": "weekday_sin",
         "rawType": "float64",
         "type": "float"
        },
        {
         "name": "weekday_cos",
         "rawType": "float64",
         "type": "float"
        },
        {
         "name": "day_of_month_sin",
         "rawType": "float64",
         "type": "float"
        },
        {
         "name": "day_of_month_cos",
         "rawType": "float64",
         "type": "float"
        },
        {
         "name": "month_sin",
         "rawType": "float64",
         "type": "float"
        },
        {
         "name": "month_cos",
         "rawType": "float64",
         "type": "float"
        }
       ],
       "conversionMethod": "pd.DataFrame",
       "ref": "56f024e3-ffe4-49fd-a8cf-67b9ddf5bbd7",
       "rows": [
        [
         "0",
         "76561197960432447",
         "A legendary tactical shooter that shaped the genre. Simple yet deep gameplay, excellent weapon balance, and iconic maps keep the game relevant even today. Pure nostalgia and classic FPS action.",
         "1738278781",
         "True",
         "10",
         "1",
         "1",
         "0.9989971532975325",
         "0.5596467731958273",
         "19.92700464655487",
         "0.07131092071323984",
         "0.06120855667887638",
         "0.08249665609125578",
         "-0.25881904510252157",
         "0.9659258262890681",
         "0.43388373911755823",
         "-0.900968867902419",
         "0.0",
         "1.0",
         "0.0",
         "1.0"
        ],
        [
         "1",
         "76561198071230926",
         "The best CS sure, but server browser is the illusion of choice and leads you to the same **** server. Use gametracker or something",
         "1736206418",
         "True",
         "10",
         "1",
         "1",
         "0.9944068442950683",
         "0.5354473339652692",
         "19.922399140474177",
         "0.06352514993846875",
         "0.059841750109914875",
         "1.0",
         "-0.25881904510252157",
         "0.9659258262890681",
         "0.0",
         "1.0",
         "0.0",
         "1.0",
         "0.0",
         "1.0"
        ],
        [
         "2",
         "76561198206216352",
         "Some of the best memories of my childhood were made in pixels, with friends I only knew through a screen. Time moves on, but those moments are forever frozen in time.",
         "1738041574",
         "True",
         "10",
         "1",
         "1",
         "0.998471736935849",
         "0.5568768548072232",
         "19.92647856439522",
         "0.06923104932553537",
         "0.061020028405577915",
         "1.0",
         "0.9659258262890683",
         "0.25881904510252074",
         "0.7818314824680298",
         "0.6234898018587336",
         "0.0",
         "1.0",
         "0.0",
         "1.0"
        ],
        [
         "3",
         "76561198110801124",
         "This game feels so much better than CS2. I know this game still gets FACEIT/ESEA-type treatment from services in the EU, but it would be cool if it got such services in NA.",
         "1738015332",
         "True",
         "10",
         "1",
         "1",
         "0.9984136105898166",
         "0.5565704211928958",
         "19.926420347386298",
         "0.06905259620094376",
         "0.060999813688437224",
         "1.0",
         "-0.5000000000000004",
         "0.8660254037844384",
         "0.0",
         "1.0",
         "0.0",
         "1.0",
         "0.0",
         "1.0"
        ],
        [
         "4",
         "76561199813732773",
         "its very fun to play you can make friends out of it i have lots of maps i like i like how theres diffrent teams to choose from idk what else to say its just fun",
         "1737853720",
         "True",
         "10",
         "1",
         "1",
         "0.9980556380635236",
         "0.5546832422706081",
         "19.926061741782558",
         "0.06809582680260952",
         "0.060877968322650966",
         "1.0",
         "0.25881904510252074",
         "0.9659258262890683",
         "-0.7818314824680299",
         "0.6234898018587334",
         "0.0",
         "1.0",
         "0.0",
         "1.0"
        ]
       ],
       "shape": {
        "columns": 21,
        "rows": 5
       }
      },
      "text/html": [
       "<div>\n",
       "<style scoped>\n",
       "    .dataframe tbody tr th:only-of-type {\n",
       "        vertical-align: middle;\n",
       "    }\n",
       "\n",
       "    .dataframe tbody tr th {\n",
       "        vertical-align: top;\n",
       "    }\n",
       "\n",
       "    .dataframe thead th {\n",
       "        text-align: right;\n",
       "    }\n",
       "</style>\n",
       "<table border=\"1\" class=\"dataframe\">\n",
       "  <thead>\n",
       "    <tr style=\"text-align: right;\">\n",
       "      <th></th>\n",
       "      <th>user_id</th>\n",
       "      <th>review</th>\n",
       "      <th>timestamp</th>\n",
       "      <th>rating</th>\n",
       "      <th>item_id</th>\n",
       "      <th>rating_exp</th>\n",
       "      <th>rating_imp</th>\n",
       "      <th>mm_timestamp</th>\n",
       "      <th>z_timestamp</th>\n",
       "      <th>log_timestamp</th>\n",
       "      <th>...</th>\n",
       "      <th>relative_current_timestamp</th>\n",
       "      <th>relative_last_interaction_timestamp</th>\n",
       "      <th>hour_sin</th>\n",
       "      <th>hour_cos</th>\n",
       "      <th>weekday_sin</th>\n",
       "      <th>weekday_cos</th>\n",
       "      <th>day_of_month_sin</th>\n",
       "      <th>day_of_month_cos</th>\n",
       "      <th>month_sin</th>\n",
       "      <th>month_cos</th>\n",
       "    </tr>\n",
       "  </thead>\n",
       "  <tbody>\n",
       "    <tr>\n",
       "      <th>0</th>\n",
       "      <td>76561197960432447</td>\n",
       "      <td>A legendary tactical shooter that shaped the g...</td>\n",
       "      <td>1738278781</td>\n",
       "      <td>True</td>\n",
       "      <td>10</td>\n",
       "      <td>1</td>\n",
       "      <td>1</td>\n",
       "      <td>0.998997</td>\n",
       "      <td>0.559647</td>\n",
       "      <td>19.927005</td>\n",
       "      <td>...</td>\n",
       "      <td>0.061209</td>\n",
       "      <td>0.082497</td>\n",
       "      <td>-0.258819</td>\n",
       "      <td>0.965926</td>\n",
       "      <td>0.433884</td>\n",
       "      <td>-0.900969</td>\n",
       "      <td>0.0</td>\n",
       "      <td>1.0</td>\n",
       "      <td>0.0</td>\n",
       "      <td>1.0</td>\n",
       "    </tr>\n",
       "    <tr>\n",
       "      <th>1</th>\n",
       "      <td>76561198071230926</td>\n",
       "      <td>The best CS sure, but server browser is the il...</td>\n",
       "      <td>1736206418</td>\n",
       "      <td>True</td>\n",
       "      <td>10</td>\n",
       "      <td>1</td>\n",
       "      <td>1</td>\n",
       "      <td>0.994407</td>\n",
       "      <td>0.535447</td>\n",
       "      <td>19.922399</td>\n",
       "      <td>...</td>\n",
       "      <td>0.059842</td>\n",
       "      <td>1.000000</td>\n",
       "      <td>-0.258819</td>\n",
       "      <td>0.965926</td>\n",
       "      <td>0.000000</td>\n",
       "      <td>1.000000</td>\n",
       "      <td>0.0</td>\n",
       "      <td>1.0</td>\n",
       "      <td>0.0</td>\n",
       "      <td>1.0</td>\n",
       "    </tr>\n",
       "    <tr>\n",
       "      <th>2</th>\n",
       "      <td>76561198206216352</td>\n",
       "      <td>Some of the best memories of my childhood were...</td>\n",
       "      <td>1738041574</td>\n",
       "      <td>True</td>\n",
       "      <td>10</td>\n",
       "      <td>1</td>\n",
       "      <td>1</td>\n",
       "      <td>0.998472</td>\n",
       "      <td>0.556877</td>\n",
       "      <td>19.926479</td>\n",
       "      <td>...</td>\n",
       "      <td>0.061020</td>\n",
       "      <td>1.000000</td>\n",
       "      <td>0.965926</td>\n",
       "      <td>0.258819</td>\n",
       "      <td>0.781831</td>\n",
       "      <td>0.623490</td>\n",
       "      <td>0.0</td>\n",
       "      <td>1.0</td>\n",
       "      <td>0.0</td>\n",
       "      <td>1.0</td>\n",
       "    </tr>\n",
       "    <tr>\n",
       "      <th>3</th>\n",
       "      <td>76561198110801124</td>\n",
       "      <td>This game feels so much better than CS2. I kno...</td>\n",
       "      <td>1738015332</td>\n",
       "      <td>True</td>\n",
       "      <td>10</td>\n",
       "      <td>1</td>\n",
       "      <td>1</td>\n",
       "      <td>0.998414</td>\n",
       "      <td>0.556570</td>\n",
       "      <td>19.926420</td>\n",
       "      <td>...</td>\n",
       "      <td>0.061000</td>\n",
       "      <td>1.000000</td>\n",
       "      <td>-0.500000</td>\n",
       "      <td>0.866025</td>\n",
       "      <td>0.000000</td>\n",
       "      <td>1.000000</td>\n",
       "      <td>0.0</td>\n",
       "      <td>1.0</td>\n",
       "      <td>0.0</td>\n",
       "      <td>1.0</td>\n",
       "    </tr>\n",
       "    <tr>\n",
       "      <th>4</th>\n",
       "      <td>76561199813732773</td>\n",
       "      <td>its very fun to play you can make friends out ...</td>\n",
       "      <td>1737853720</td>\n",
       "      <td>True</td>\n",
       "      <td>10</td>\n",
       "      <td>1</td>\n",
       "      <td>1</td>\n",
       "      <td>0.998056</td>\n",
       "      <td>0.554683</td>\n",
       "      <td>19.926062</td>\n",
       "      <td>...</td>\n",
       "      <td>0.060878</td>\n",
       "      <td>1.000000</td>\n",
       "      <td>0.258819</td>\n",
       "      <td>0.965926</td>\n",
       "      <td>-0.781831</td>\n",
       "      <td>0.623490</td>\n",
       "      <td>0.0</td>\n",
       "      <td>1.0</td>\n",
       "      <td>0.0</td>\n",
       "      <td>1.0</td>\n",
       "    </tr>\n",
       "  </tbody>\n",
       "</table>\n",
       "<p>5 rows × 21 columns</p>\n",
       "</div>"
      ],
      "text/plain": [
       "             user_id                                             review  \\\n",
       "0  76561197960432447  A legendary tactical shooter that shaped the g...   \n",
       "1  76561198071230926  The best CS sure, but server browser is the il...   \n",
       "2  76561198206216352  Some of the best memories of my childhood were...   \n",
       "3  76561198110801124  This game feels so much better than CS2. I kno...   \n",
       "4  76561199813732773  its very fun to play you can make friends out ...   \n",
       "\n",
       "    timestamp  rating  item_id  rating_exp  rating_imp  mm_timestamp  \\\n",
       "0  1738278781    True       10           1           1      0.998997   \n",
       "1  1736206418    True       10           1           1      0.994407   \n",
       "2  1738041574    True       10           1           1      0.998472   \n",
       "3  1738015332    True       10           1           1      0.998414   \n",
       "4  1737853720    True       10           1           1      0.998056   \n",
       "\n",
       "   z_timestamp  log_timestamp  ...  relative_current_timestamp  \\\n",
       "0     0.559647      19.927005  ...                    0.061209   \n",
       "1     0.535447      19.922399  ...                    0.059842   \n",
       "2     0.556877      19.926479  ...                    0.061020   \n",
       "3     0.556570      19.926420  ...                    0.061000   \n",
       "4     0.554683      19.926062  ...                    0.060878   \n",
       "\n",
       "   relative_last_interaction_timestamp  hour_sin  hour_cos  weekday_sin  \\\n",
       "0                             0.082497 -0.258819  0.965926     0.433884   \n",
       "1                             1.000000 -0.258819  0.965926     0.000000   \n",
       "2                             1.000000  0.965926  0.258819     0.781831   \n",
       "3                             1.000000 -0.500000  0.866025     0.000000   \n",
       "4                             1.000000  0.258819  0.965926    -0.781831   \n",
       "\n",
       "   weekday_cos  day_of_month_sin  day_of_month_cos  month_sin  month_cos  \n",
       "0    -0.900969               0.0               1.0        0.0        1.0  \n",
       "1     1.000000               0.0               1.0        0.0        1.0  \n",
       "2     0.623490               0.0               1.0        0.0        1.0  \n",
       "3     1.000000               0.0               1.0        0.0        1.0  \n",
       "4     0.623490               0.0               1.0        0.0        1.0  \n",
       "\n",
       "[5 rows x 21 columns]"
      ]
     },
     "execution_count": 15,
     "metadata": {},
     "output_type": "execute_result"
    }
   ],
   "source": [
    "def encode_cyclical_feature(values, period):\n",
    "    \"\"\"\n",
    "    Encode a cyclical feature using sine and cosine transformations\n",
    "    \n",
    "    Args:\n",
    "        values: Array of values to encode (e.g., hours, weekdays)\n",
    "        period: The period of the feature (24 for hours, 7 for weekdays)\n",
    "    \n",
    "    Returns:\n",
    "        Two arrays representing the sine and cosine components\n",
    "    \"\"\"\n",
    "    # Scale the values to [0, 2π]\n",
    "    values_scaled = 2 * np.pi * values / period\n",
    "    \n",
    "    # Return the sine and cosine components\n",
    "    return np.sin(values_scaled), np.cos(values_scaled)\n",
    "\n",
    "def extract_cyclical_time_features(timestamps):\n",
    "    \"\"\"\n",
    "    Extract cyclical time features from unix timestamps\n",
    "    \n",
    "    Args:\n",
    "        timestamps: Array of unix timestamps\n",
    "        \n",
    "    Returns:\n",
    "        DataFrame with cyclical time features\n",
    "    \"\"\"\n",
    "    # Convert to datetime\n",
    "    dates = pd.to_datetime(timestamps, unit='s')\n",
    "    \n",
    "    # Extract time components\n",
    "    hours = dates.map(lambda x: x.hour)  # 0-23\n",
    "    days_of_week = dates.map(lambda x: x.day_of_week)  # 0-6 where 0 is Monday\n",
    "    days_of_month = dates.map(lambda x: x.day - 1)  # 0-30\n",
    "    months = dates.map(lambda x: x.month - 1)  # 0-11\n",
    "    \n",
    "    # Encode cyclical features\n",
    "    hour_sin, hour_cos = encode_cyclical_feature(hours, 24)\n",
    "    weekday_sin, weekday_cos = encode_cyclical_feature(days_of_week, 7)\n",
    "    days_of_month_sin, days_of_month_cos = encode_cyclical_feature(months, 30)\n",
    "    month_sin, month_cos = encode_cyclical_feature(months, 12)\n",
    "    \n",
    "    # Combine into a DataFrame\n",
    "    features = pd.DataFrame({\n",
    "        'hour_sin': hour_sin,\n",
    "        'hour_cos': hour_cos,\n",
    "        'weekday_sin': weekday_sin,\n",
    "        'weekday_cos': weekday_cos,\n",
    "        'day_of_month_sin': days_of_month_sin,\n",
    "        'day_of_month_cos': days_of_month_cos,\n",
    "        'month_sin': month_sin,\n",
    "        'month_cos': month_cos\n",
    "    })\n",
    "    \n",
    "    return features\n",
    "\n",
    "time_features = extract_cyclical_time_features(df['timestamp'])\n",
    "df[time_features.columns] = time_features\n",
    "df.head()"
   ]
  },
  {
   "cell_type": "markdown",
   "metadata": {},
   "source": [
    "### Save file"
   ]
  },
  {
   "cell_type": "code",
   "execution_count": 16,
   "metadata": {},
   "outputs": [],
   "source": [
    "df.to_csv('data/review-clean.csv', index=False)"
   ]
  }
 ],
 "metadata": {
  "kernelspec": {
   "display_name": "Python 3",
   "language": "python",
   "name": "python3"
  },
  "language_info": {
   "codemirror_mode": {
    "name": "ipython",
    "version": 3
   },
   "file_extension": ".py",
   "mimetype": "text/x-python",
   "name": "python",
   "nbconvert_exporter": "python",
   "pygments_lexer": "ipython3",
   "version": "3.12.1"
  }
 },
 "nbformat": 4,
 "nbformat_minor": 2
}
