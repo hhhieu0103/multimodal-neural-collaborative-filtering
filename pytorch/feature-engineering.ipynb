{
 "cells": [
  {
   "cell_type": "code",
   "execution_count": 1,
   "metadata": {},
   "outputs": [],
   "source": [
    "import pandas as pd\n",
    "import numpy as np\n",
    "import matplotlib.pyplot as plt\n",
    "from enum import Enum"
   ]
  },
  {
   "cell_type": "code",
   "execution_count": 2,
   "metadata": {},
   "outputs": [
    {
     "data": {
      "application/vnd.microsoft.datawrangler.viewer.v0+json": {
       "columns": [
        {
         "name": "index",
         "rawType": "int64",
         "type": "integer"
        },
        {
         "name": "Unnamed: 0",
         "rawType": "int64",
         "type": "integer"
        },
        {
         "name": "recommendationid",
         "rawType": "int64",
         "type": "integer"
        },
        {
         "name": "author_id",
         "rawType": "int64",
         "type": "integer"
        },
        {
         "name": "review",
         "rawType": "object",
         "type": "string"
        },
        {
         "name": "timestamp",
         "rawType": "int64",
         "type": "integer"
        },
        {
         "name": "voted_up",
         "rawType": "bool",
         "type": "boolean"
        },
        {
         "name": "weighted_vote_score",
         "rawType": "float64",
         "type": "float"
        },
        {
         "name": "app_id",
         "rawType": "int64",
         "type": "integer"
        }
       ],
       "conversionMethod": "pd.DataFrame",
       "ref": "45656c62-e16c-4578-8179-c5cd90a0ab86",
       "rows": [
        [
         "0",
         "0",
         "186781078",
         "76561197960432447",
         "A legendary tactical shooter that shaped the genre. Simple yet deep gameplay, excellent weapon balance, and iconic maps keep the game relevant even today. Pure nostalgia and classic FPS action.",
         "1738278781",
         "True",
         "0.652996838092804",
         "10"
        ],
        [
         "1",
         "1",
         "184974430",
         "76561198071230926",
         "The best CS sure, but server browser is the illusion of choice and leads you to the same **** server. Use gametracker or something",
         "1736206418",
         "True",
         "0.5817490816116333",
         "10"
        ],
        [
         "2",
         "2",
         "186584044",
         "76561198206216352",
         "Some of the best memories of my childhood were made in pixels, with friends I only knew through a screen. Time moves on, but those moments are forever frozen in time.",
         "1738041574",
         "True",
         "0.6283783912658691",
         "10"
        ],
        [
         "3",
         "3",
         "186564689",
         "76561198110801124",
         "This game feels so much better than CS2. I know this game still gets FACEIT/ESEA-type treatment from services in the EU, but it would be cool if it got such services in NA.",
         "1738015332",
         "True",
         "0.0",
         "10"
        ],
        [
         "4",
         "4",
         "186418367",
         "76561199813732773",
         "its very fun to play you can make friends out of it i have lots of maps i like i like how theres diffrent teams to choose from idk what else to say its just fun",
         "1737853720",
         "True",
         "0.0",
         "10"
        ]
       ],
       "shape": {
        "columns": 8,
        "rows": 5
       }
      },
      "text/html": [
       "<div>\n",
       "<style scoped>\n",
       "    .dataframe tbody tr th:only-of-type {\n",
       "        vertical-align: middle;\n",
       "    }\n",
       "\n",
       "    .dataframe tbody tr th {\n",
       "        vertical-align: top;\n",
       "    }\n",
       "\n",
       "    .dataframe thead th {\n",
       "        text-align: right;\n",
       "    }\n",
       "</style>\n",
       "<table border=\"1\" class=\"dataframe\">\n",
       "  <thead>\n",
       "    <tr style=\"text-align: right;\">\n",
       "      <th></th>\n",
       "      <th>Unnamed: 0</th>\n",
       "      <th>recommendationid</th>\n",
       "      <th>author_id</th>\n",
       "      <th>review</th>\n",
       "      <th>timestamp</th>\n",
       "      <th>voted_up</th>\n",
       "      <th>weighted_vote_score</th>\n",
       "      <th>app_id</th>\n",
       "    </tr>\n",
       "  </thead>\n",
       "  <tbody>\n",
       "    <tr>\n",
       "      <th>0</th>\n",
       "      <td>0</td>\n",
       "      <td>186781078</td>\n",
       "      <td>76561197960432447</td>\n",
       "      <td>A legendary tactical shooter that shaped the g...</td>\n",
       "      <td>1738278781</td>\n",
       "      <td>True</td>\n",
       "      <td>0.652997</td>\n",
       "      <td>10</td>\n",
       "    </tr>\n",
       "    <tr>\n",
       "      <th>1</th>\n",
       "      <td>1</td>\n",
       "      <td>184974430</td>\n",
       "      <td>76561198071230926</td>\n",
       "      <td>The best CS sure, but server browser is the il...</td>\n",
       "      <td>1736206418</td>\n",
       "      <td>True</td>\n",
       "      <td>0.581749</td>\n",
       "      <td>10</td>\n",
       "    </tr>\n",
       "    <tr>\n",
       "      <th>2</th>\n",
       "      <td>2</td>\n",
       "      <td>186584044</td>\n",
       "      <td>76561198206216352</td>\n",
       "      <td>Some of the best memories of my childhood were...</td>\n",
       "      <td>1738041574</td>\n",
       "      <td>True</td>\n",
       "      <td>0.628378</td>\n",
       "      <td>10</td>\n",
       "    </tr>\n",
       "    <tr>\n",
       "      <th>3</th>\n",
       "      <td>3</td>\n",
       "      <td>186564689</td>\n",
       "      <td>76561198110801124</td>\n",
       "      <td>This game feels so much better than CS2. I kno...</td>\n",
       "      <td>1738015332</td>\n",
       "      <td>True</td>\n",
       "      <td>0.000000</td>\n",
       "      <td>10</td>\n",
       "    </tr>\n",
       "    <tr>\n",
       "      <th>4</th>\n",
       "      <td>4</td>\n",
       "      <td>186418367</td>\n",
       "      <td>76561199813732773</td>\n",
       "      <td>its very fun to play you can make friends out ...</td>\n",
       "      <td>1737853720</td>\n",
       "      <td>True</td>\n",
       "      <td>0.000000</td>\n",
       "      <td>10</td>\n",
       "    </tr>\n",
       "  </tbody>\n",
       "</table>\n",
       "</div>"
      ],
      "text/plain": [
       "   Unnamed: 0  recommendationid          author_id  \\\n",
       "0           0         186781078  76561197960432447   \n",
       "1           1         184974430  76561198071230926   \n",
       "2           2         186584044  76561198206216352   \n",
       "3           3         186564689  76561198110801124   \n",
       "4           4         186418367  76561199813732773   \n",
       "\n",
       "                                              review   timestamp  voted_up  \\\n",
       "0  A legendary tactical shooter that shaped the g...  1738278781      True   \n",
       "1  The best CS sure, but server browser is the il...  1736206418      True   \n",
       "2  Some of the best memories of my childhood were...  1738041574      True   \n",
       "3  This game feels so much better than CS2. I kno...  1738015332      True   \n",
       "4  its very fun to play you can make friends out ...  1737853720      True   \n",
       "\n",
       "   weighted_vote_score  app_id  \n",
       "0             0.652997      10  \n",
       "1             0.581749      10  \n",
       "2             0.628378      10  \n",
       "3             0.000000      10  \n",
       "4             0.000000      10  "
      ]
     },
     "execution_count": 2,
     "metadata": {},
     "output_type": "execute_result"
    }
   ],
   "source": [
    "df = pd.read_csv('data/review-raw.csv')\n",
    "df.head()"
   ]
  },
  {
   "cell_type": "code",
   "execution_count": 3,
   "metadata": {},
   "outputs": [
    {
     "data": {
      "application/vnd.microsoft.datawrangler.viewer.v0+json": {
       "columns": [
        {
         "name": "index",
         "rawType": "int64",
         "type": "integer"
        },
        {
         "name": "author_id",
         "rawType": "int64",
         "type": "integer"
        },
        {
         "name": "review",
         "rawType": "object",
         "type": "string"
        },
        {
         "name": "timestamp",
         "rawType": "int64",
         "type": "integer"
        },
        {
         "name": "voted_up",
         "rawType": "bool",
         "type": "boolean"
        },
        {
         "name": "app_id",
         "rawType": "int64",
         "type": "integer"
        }
       ],
       "conversionMethod": "pd.DataFrame",
       "ref": "6fb74de3-09a3-4903-9918-e06827c7d0c0",
       "rows": [
        [
         "0",
         "76561197960432447",
         "A legendary tactical shooter that shaped the genre. Simple yet deep gameplay, excellent weapon balance, and iconic maps keep the game relevant even today. Pure nostalgia and classic FPS action.",
         "1738278781",
         "True",
         "10"
        ],
        [
         "1",
         "76561198071230926",
         "The best CS sure, but server browser is the illusion of choice and leads you to the same **** server. Use gametracker or something",
         "1736206418",
         "True",
         "10"
        ],
        [
         "2",
         "76561198206216352",
         "Some of the best memories of my childhood were made in pixels, with friends I only knew through a screen. Time moves on, but those moments are forever frozen in time.",
         "1738041574",
         "True",
         "10"
        ],
        [
         "3",
         "76561198110801124",
         "This game feels so much better than CS2. I know this game still gets FACEIT/ESEA-type treatment from services in the EU, but it would be cool if it got such services in NA.",
         "1738015332",
         "True",
         "10"
        ],
        [
         "4",
         "76561199813732773",
         "its very fun to play you can make friends out of it i have lots of maps i like i like how theres diffrent teams to choose from idk what else to say its just fun",
         "1737853720",
         "True",
         "10"
        ]
       ],
       "shape": {
        "columns": 5,
        "rows": 5
       }
      },
      "text/html": [
       "<div>\n",
       "<style scoped>\n",
       "    .dataframe tbody tr th:only-of-type {\n",
       "        vertical-align: middle;\n",
       "    }\n",
       "\n",
       "    .dataframe tbody tr th {\n",
       "        vertical-align: top;\n",
       "    }\n",
       "\n",
       "    .dataframe thead th {\n",
       "        text-align: right;\n",
       "    }\n",
       "</style>\n",
       "<table border=\"1\" class=\"dataframe\">\n",
       "  <thead>\n",
       "    <tr style=\"text-align: right;\">\n",
       "      <th></th>\n",
       "      <th>author_id</th>\n",
       "      <th>review</th>\n",
       "      <th>timestamp</th>\n",
       "      <th>voted_up</th>\n",
       "      <th>app_id</th>\n",
       "    </tr>\n",
       "  </thead>\n",
       "  <tbody>\n",
       "    <tr>\n",
       "      <th>0</th>\n",
       "      <td>76561197960432447</td>\n",
       "      <td>A legendary tactical shooter that shaped the g...</td>\n",
       "      <td>1738278781</td>\n",
       "      <td>True</td>\n",
       "      <td>10</td>\n",
       "    </tr>\n",
       "    <tr>\n",
       "      <th>1</th>\n",
       "      <td>76561198071230926</td>\n",
       "      <td>The best CS sure, but server browser is the il...</td>\n",
       "      <td>1736206418</td>\n",
       "      <td>True</td>\n",
       "      <td>10</td>\n",
       "    </tr>\n",
       "    <tr>\n",
       "      <th>2</th>\n",
       "      <td>76561198206216352</td>\n",
       "      <td>Some of the best memories of my childhood were...</td>\n",
       "      <td>1738041574</td>\n",
       "      <td>True</td>\n",
       "      <td>10</td>\n",
       "    </tr>\n",
       "    <tr>\n",
       "      <th>3</th>\n",
       "      <td>76561198110801124</td>\n",
       "      <td>This game feels so much better than CS2. I kno...</td>\n",
       "      <td>1738015332</td>\n",
       "      <td>True</td>\n",
       "      <td>10</td>\n",
       "    </tr>\n",
       "    <tr>\n",
       "      <th>4</th>\n",
       "      <td>76561199813732773</td>\n",
       "      <td>its very fun to play you can make friends out ...</td>\n",
       "      <td>1737853720</td>\n",
       "      <td>True</td>\n",
       "      <td>10</td>\n",
       "    </tr>\n",
       "  </tbody>\n",
       "</table>\n",
       "</div>"
      ],
      "text/plain": [
       "           author_id                                             review  \\\n",
       "0  76561197960432447  A legendary tactical shooter that shaped the g...   \n",
       "1  76561198071230926  The best CS sure, but server browser is the il...   \n",
       "2  76561198206216352  Some of the best memories of my childhood were...   \n",
       "3  76561198110801124  This game feels so much better than CS2. I kno...   \n",
       "4  76561199813732773  its very fun to play you can make friends out ...   \n",
       "\n",
       "    timestamp  voted_up  app_id  \n",
       "0  1738278781      True      10  \n",
       "1  1736206418      True      10  \n",
       "2  1738041574      True      10  \n",
       "3  1738015332      True      10  \n",
       "4  1737853720      True      10  "
      ]
     },
     "execution_count": 3,
     "metadata": {},
     "output_type": "execute_result"
    }
   ],
   "source": [
    "df.drop(columns=['Unnamed: 0', 'recommendationid', 'weighted_vote_score'], inplace=True)\n",
    "df.head()"
   ]
  },
  {
   "cell_type": "markdown",
   "metadata": {},
   "source": [
    "### Rename columns"
   ]
  },
  {
   "cell_type": "code",
   "execution_count": 4,
   "metadata": {},
   "outputs": [
    {
     "data": {
      "application/vnd.microsoft.datawrangler.viewer.v0+json": {
       "columns": [
        {
         "name": "index",
         "rawType": "int64",
         "type": "integer"
        },
        {
         "name": "user_id",
         "rawType": "int64",
         "type": "integer"
        },
        {
         "name": "review",
         "rawType": "object",
         "type": "string"
        },
        {
         "name": "timestamp",
         "rawType": "int64",
         "type": "integer"
        },
        {
         "name": "rating",
         "rawType": "bool",
         "type": "boolean"
        },
        {
         "name": "item_id",
         "rawType": "int64",
         "type": "integer"
        }
       ],
       "conversionMethod": "pd.DataFrame",
       "ref": "8158fdbf-5df4-42f6-b4ee-cebc6a5a6105",
       "rows": [
        [
         "0",
         "76561197960432447",
         "A legendary tactical shooter that shaped the genre. Simple yet deep gameplay, excellent weapon balance, and iconic maps keep the game relevant even today. Pure nostalgia and classic FPS action.",
         "1738278781",
         "True",
         "10"
        ],
        [
         "1",
         "76561198071230926",
         "The best CS sure, but server browser is the illusion of choice and leads you to the same **** server. Use gametracker or something",
         "1736206418",
         "True",
         "10"
        ],
        [
         "2",
         "76561198206216352",
         "Some of the best memories of my childhood were made in pixels, with friends I only knew through a screen. Time moves on, but those moments are forever frozen in time.",
         "1738041574",
         "True",
         "10"
        ],
        [
         "3",
         "76561198110801124",
         "This game feels so much better than CS2. I know this game still gets FACEIT/ESEA-type treatment from services in the EU, but it would be cool if it got such services in NA.",
         "1738015332",
         "True",
         "10"
        ],
        [
         "4",
         "76561199813732773",
         "its very fun to play you can make friends out of it i have lots of maps i like i like how theres diffrent teams to choose from idk what else to say its just fun",
         "1737853720",
         "True",
         "10"
        ]
       ],
       "shape": {
        "columns": 5,
        "rows": 5
       }
      },
      "text/html": [
       "<div>\n",
       "<style scoped>\n",
       "    .dataframe tbody tr th:only-of-type {\n",
       "        vertical-align: middle;\n",
       "    }\n",
       "\n",
       "    .dataframe tbody tr th {\n",
       "        vertical-align: top;\n",
       "    }\n",
       "\n",
       "    .dataframe thead th {\n",
       "        text-align: right;\n",
       "    }\n",
       "</style>\n",
       "<table border=\"1\" class=\"dataframe\">\n",
       "  <thead>\n",
       "    <tr style=\"text-align: right;\">\n",
       "      <th></th>\n",
       "      <th>user_id</th>\n",
       "      <th>review</th>\n",
       "      <th>timestamp</th>\n",
       "      <th>rating</th>\n",
       "      <th>item_id</th>\n",
       "    </tr>\n",
       "  </thead>\n",
       "  <tbody>\n",
       "    <tr>\n",
       "      <th>0</th>\n",
       "      <td>76561197960432447</td>\n",
       "      <td>A legendary tactical shooter that shaped the g...</td>\n",
       "      <td>1738278781</td>\n",
       "      <td>True</td>\n",
       "      <td>10</td>\n",
       "    </tr>\n",
       "    <tr>\n",
       "      <th>1</th>\n",
       "      <td>76561198071230926</td>\n",
       "      <td>The best CS sure, but server browser is the il...</td>\n",
       "      <td>1736206418</td>\n",
       "      <td>True</td>\n",
       "      <td>10</td>\n",
       "    </tr>\n",
       "    <tr>\n",
       "      <th>2</th>\n",
       "      <td>76561198206216352</td>\n",
       "      <td>Some of the best memories of my childhood were...</td>\n",
       "      <td>1738041574</td>\n",
       "      <td>True</td>\n",
       "      <td>10</td>\n",
       "    </tr>\n",
       "    <tr>\n",
       "      <th>3</th>\n",
       "      <td>76561198110801124</td>\n",
       "      <td>This game feels so much better than CS2. I kno...</td>\n",
       "      <td>1738015332</td>\n",
       "      <td>True</td>\n",
       "      <td>10</td>\n",
       "    </tr>\n",
       "    <tr>\n",
       "      <th>4</th>\n",
       "      <td>76561199813732773</td>\n",
       "      <td>its very fun to play you can make friends out ...</td>\n",
       "      <td>1737853720</td>\n",
       "      <td>True</td>\n",
       "      <td>10</td>\n",
       "    </tr>\n",
       "  </tbody>\n",
       "</table>\n",
       "</div>"
      ],
      "text/plain": [
       "             user_id                                             review  \\\n",
       "0  76561197960432447  A legendary tactical shooter that shaped the g...   \n",
       "1  76561198071230926  The best CS sure, but server browser is the il...   \n",
       "2  76561198206216352  Some of the best memories of my childhood were...   \n",
       "3  76561198110801124  This game feels so much better than CS2. I kno...   \n",
       "4  76561199813732773  its very fun to play you can make friends out ...   \n",
       "\n",
       "    timestamp  rating  item_id  \n",
       "0  1738278781    True       10  \n",
       "1  1736206418    True       10  \n",
       "2  1738041574    True       10  \n",
       "3  1738015332    True       10  \n",
       "4  1737853720    True       10  "
      ]
     },
     "execution_count": 4,
     "metadata": {},
     "output_type": "execute_result"
    }
   ],
   "source": [
    "column_names = {\n",
    "    'author_id': 'user_id',\n",
    "    'app_id': 'item_id',\n",
    "    'voted_up': 'rating',\n",
    "    'timestamp': 'timestamp',\n",
    "    'review': 'review'\n",
    "}\n",
    "df.rename(columns=column_names, inplace=True)\n",
    "df.head()"
   ]
  },
  {
   "cell_type": "markdown",
   "metadata": {},
   "source": [
    "### Create user/item indices"
   ]
  },
  {
   "cell_type": "code",
   "execution_count": 5,
   "metadata": {},
   "outputs": [
    {
     "data": {
      "application/vnd.microsoft.datawrangler.viewer.v0+json": {
       "columns": [
        {
         "name": "index",
         "rawType": "int64",
         "type": "integer"
        },
        {
         "name": "user_id",
         "rawType": "int64",
         "type": "integer"
        },
        {
         "name": "review",
         "rawType": "object",
         "type": "string"
        },
        {
         "name": "timestamp",
         "rawType": "int64",
         "type": "integer"
        },
        {
         "name": "rating",
         "rawType": "bool",
         "type": "boolean"
        },
        {
         "name": "item_id",
         "rawType": "int64",
         "type": "integer"
        },
        {
         "name": "user_idx",
         "rawType": "int32",
         "type": "integer"
        },
        {
         "name": "item_idx",
         "rawType": "int32",
         "type": "integer"
        }
       ],
       "conversionMethod": "pd.DataFrame",
       "ref": "9dceea5f-5603-4bad-a5f2-cf80afdf4d52",
       "rows": [
        [
         "0",
         "76561197960432447",
         "A legendary tactical shooter that shaped the genre. Simple yet deep gameplay, excellent weapon balance, and iconic maps keep the game relevant even today. Pure nostalgia and classic FPS action.",
         "1738278781",
         "True",
         "10",
         "0",
         "0"
        ],
        [
         "1",
         "76561198071230926",
         "The best CS sure, but server browser is the illusion of choice and leads you to the same **** server. Use gametracker or something",
         "1736206418",
         "True",
         "10",
         "1",
         "0"
        ],
        [
         "2",
         "76561198206216352",
         "Some of the best memories of my childhood were made in pixels, with friends I only knew through a screen. Time moves on, but those moments are forever frozen in time.",
         "1738041574",
         "True",
         "10",
         "2",
         "0"
        ],
        [
         "3",
         "76561198110801124",
         "This game feels so much better than CS2. I know this game still gets FACEIT/ESEA-type treatment from services in the EU, but it would be cool if it got such services in NA.",
         "1738015332",
         "True",
         "10",
         "3",
         "0"
        ],
        [
         "4",
         "76561199813732773",
         "its very fun to play you can make friends out of it i have lots of maps i like i like how theres diffrent teams to choose from idk what else to say its just fun",
         "1737853720",
         "True",
         "10",
         "4",
         "0"
        ]
       ],
       "shape": {
        "columns": 7,
        "rows": 5
       }
      },
      "text/html": [
       "<div>\n",
       "<style scoped>\n",
       "    .dataframe tbody tr th:only-of-type {\n",
       "        vertical-align: middle;\n",
       "    }\n",
       "\n",
       "    .dataframe tbody tr th {\n",
       "        vertical-align: top;\n",
       "    }\n",
       "\n",
       "    .dataframe thead th {\n",
       "        text-align: right;\n",
       "    }\n",
       "</style>\n",
       "<table border=\"1\" class=\"dataframe\">\n",
       "  <thead>\n",
       "    <tr style=\"text-align: right;\">\n",
       "      <th></th>\n",
       "      <th>user_id</th>\n",
       "      <th>review</th>\n",
       "      <th>timestamp</th>\n",
       "      <th>rating</th>\n",
       "      <th>item_id</th>\n",
       "      <th>user_idx</th>\n",
       "      <th>item_idx</th>\n",
       "    </tr>\n",
       "  </thead>\n",
       "  <tbody>\n",
       "    <tr>\n",
       "      <th>0</th>\n",
       "      <td>76561197960432447</td>\n",
       "      <td>A legendary tactical shooter that shaped the g...</td>\n",
       "      <td>1738278781</td>\n",
       "      <td>True</td>\n",
       "      <td>10</td>\n",
       "      <td>0</td>\n",
       "      <td>0</td>\n",
       "    </tr>\n",
       "    <tr>\n",
       "      <th>1</th>\n",
       "      <td>76561198071230926</td>\n",
       "      <td>The best CS sure, but server browser is the il...</td>\n",
       "      <td>1736206418</td>\n",
       "      <td>True</td>\n",
       "      <td>10</td>\n",
       "      <td>1</td>\n",
       "      <td>0</td>\n",
       "    </tr>\n",
       "    <tr>\n",
       "      <th>2</th>\n",
       "      <td>76561198206216352</td>\n",
       "      <td>Some of the best memories of my childhood were...</td>\n",
       "      <td>1738041574</td>\n",
       "      <td>True</td>\n",
       "      <td>10</td>\n",
       "      <td>2</td>\n",
       "      <td>0</td>\n",
       "    </tr>\n",
       "    <tr>\n",
       "      <th>3</th>\n",
       "      <td>76561198110801124</td>\n",
       "      <td>This game feels so much better than CS2. I kno...</td>\n",
       "      <td>1738015332</td>\n",
       "      <td>True</td>\n",
       "      <td>10</td>\n",
       "      <td>3</td>\n",
       "      <td>0</td>\n",
       "    </tr>\n",
       "    <tr>\n",
       "      <th>4</th>\n",
       "      <td>76561199813732773</td>\n",
       "      <td>its very fun to play you can make friends out ...</td>\n",
       "      <td>1737853720</td>\n",
       "      <td>True</td>\n",
       "      <td>10</td>\n",
       "      <td>4</td>\n",
       "      <td>0</td>\n",
       "    </tr>\n",
       "  </tbody>\n",
       "</table>\n",
       "</div>"
      ],
      "text/plain": [
       "             user_id                                             review  \\\n",
       "0  76561197960432447  A legendary tactical shooter that shaped the g...   \n",
       "1  76561198071230926  The best CS sure, but server browser is the il...   \n",
       "2  76561198206216352  Some of the best memories of my childhood were...   \n",
       "3  76561198110801124  This game feels so much better than CS2. I kno...   \n",
       "4  76561199813732773  its very fun to play you can make friends out ...   \n",
       "\n",
       "    timestamp  rating  item_id  user_idx  item_idx  \n",
       "0  1738278781    True       10         0         0  \n",
       "1  1736206418    True       10         1         0  \n",
       "2  1738041574    True       10         2         0  \n",
       "3  1738015332    True       10         3         0  \n",
       "4  1737853720    True       10         4         0  "
      ]
     },
     "execution_count": 5,
     "metadata": {},
     "output_type": "execute_result"
    }
   ],
   "source": [
    "user_map = {u: i for i, u in enumerate(df['user_id'].unique())}\n",
    "item_map = {i: j for j, i in enumerate(df['item_id'].unique())}\n",
    "\n",
    "df['user_idx'] = np.array([user_map[u] for u in df['user_id']])\n",
    "df['item_idx'] = np.array([item_map[i] for i in df['item_id']])\n",
    "df.head()"
   ]
  },
  {
   "cell_type": "markdown",
   "metadata": {},
   "source": [
    "### Create implicit and explicit rating"
   ]
  },
  {
   "cell_type": "code",
   "execution_count": 6,
   "metadata": {},
   "outputs": [
    {
     "data": {
      "application/vnd.microsoft.datawrangler.viewer.v0+json": {
       "columns": [
        {
         "name": "index",
         "rawType": "int64",
         "type": "integer"
        },
        {
         "name": "user_id",
         "rawType": "int64",
         "type": "integer"
        },
        {
         "name": "review",
         "rawType": "object",
         "type": "string"
        },
        {
         "name": "timestamp",
         "rawType": "int64",
         "type": "integer"
        },
        {
         "name": "rating",
         "rawType": "bool",
         "type": "boolean"
        },
        {
         "name": "item_id",
         "rawType": "int64",
         "type": "integer"
        },
        {
         "name": "user_idx",
         "rawType": "int32",
         "type": "integer"
        },
        {
         "name": "item_idx",
         "rawType": "int32",
         "type": "integer"
        },
        {
         "name": "rating_exp",
         "rawType": "int64",
         "type": "integer"
        },
        {
         "name": "rating_imp",
         "rawType": "int32",
         "type": "integer"
        }
       ],
       "conversionMethod": "pd.DataFrame",
       "ref": "0892269d-0e50-4332-a899-011d0104d9ac",
       "rows": [
        [
         "0",
         "76561197960432447",
         "A legendary tactical shooter that shaped the genre. Simple yet deep gameplay, excellent weapon balance, and iconic maps keep the game relevant even today. Pure nostalgia and classic FPS action.",
         "1738278781",
         "True",
         "10",
         "0",
         "0",
         "1",
         "1"
        ],
        [
         "1",
         "76561198071230926",
         "The best CS sure, but server browser is the illusion of choice and leads you to the same **** server. Use gametracker or something",
         "1736206418",
         "True",
         "10",
         "1",
         "0",
         "1",
         "1"
        ],
        [
         "2",
         "76561198206216352",
         "Some of the best memories of my childhood were made in pixels, with friends I only knew through a screen. Time moves on, but those moments are forever frozen in time.",
         "1738041574",
         "True",
         "10",
         "2",
         "0",
         "1",
         "1"
        ],
        [
         "3",
         "76561198110801124",
         "This game feels so much better than CS2. I know this game still gets FACEIT/ESEA-type treatment from services in the EU, but it would be cool if it got such services in NA.",
         "1738015332",
         "True",
         "10",
         "3",
         "0",
         "1",
         "1"
        ],
        [
         "4",
         "76561199813732773",
         "its very fun to play you can make friends out of it i have lots of maps i like i like how theres diffrent teams to choose from idk what else to say its just fun",
         "1737853720",
         "True",
         "10",
         "4",
         "0",
         "1",
         "1"
        ]
       ],
       "shape": {
        "columns": 9,
        "rows": 5
       }
      },
      "text/html": [
       "<div>\n",
       "<style scoped>\n",
       "    .dataframe tbody tr th:only-of-type {\n",
       "        vertical-align: middle;\n",
       "    }\n",
       "\n",
       "    .dataframe tbody tr th {\n",
       "        vertical-align: top;\n",
       "    }\n",
       "\n",
       "    .dataframe thead th {\n",
       "        text-align: right;\n",
       "    }\n",
       "</style>\n",
       "<table border=\"1\" class=\"dataframe\">\n",
       "  <thead>\n",
       "    <tr style=\"text-align: right;\">\n",
       "      <th></th>\n",
       "      <th>user_id</th>\n",
       "      <th>review</th>\n",
       "      <th>timestamp</th>\n",
       "      <th>rating</th>\n",
       "      <th>item_id</th>\n",
       "      <th>user_idx</th>\n",
       "      <th>item_idx</th>\n",
       "      <th>rating_exp</th>\n",
       "      <th>rating_imp</th>\n",
       "    </tr>\n",
       "  </thead>\n",
       "  <tbody>\n",
       "    <tr>\n",
       "      <th>0</th>\n",
       "      <td>76561197960432447</td>\n",
       "      <td>A legendary tactical shooter that shaped the g...</td>\n",
       "      <td>1738278781</td>\n",
       "      <td>True</td>\n",
       "      <td>10</td>\n",
       "      <td>0</td>\n",
       "      <td>0</td>\n",
       "      <td>1</td>\n",
       "      <td>1</td>\n",
       "    </tr>\n",
       "    <tr>\n",
       "      <th>1</th>\n",
       "      <td>76561198071230926</td>\n",
       "      <td>The best CS sure, but server browser is the il...</td>\n",
       "      <td>1736206418</td>\n",
       "      <td>True</td>\n",
       "      <td>10</td>\n",
       "      <td>1</td>\n",
       "      <td>0</td>\n",
       "      <td>1</td>\n",
       "      <td>1</td>\n",
       "    </tr>\n",
       "    <tr>\n",
       "      <th>2</th>\n",
       "      <td>76561198206216352</td>\n",
       "      <td>Some of the best memories of my childhood were...</td>\n",
       "      <td>1738041574</td>\n",
       "      <td>True</td>\n",
       "      <td>10</td>\n",
       "      <td>2</td>\n",
       "      <td>0</td>\n",
       "      <td>1</td>\n",
       "      <td>1</td>\n",
       "    </tr>\n",
       "    <tr>\n",
       "      <th>3</th>\n",
       "      <td>76561198110801124</td>\n",
       "      <td>This game feels so much better than CS2. I kno...</td>\n",
       "      <td>1738015332</td>\n",
       "      <td>True</td>\n",
       "      <td>10</td>\n",
       "      <td>3</td>\n",
       "      <td>0</td>\n",
       "      <td>1</td>\n",
       "      <td>1</td>\n",
       "    </tr>\n",
       "    <tr>\n",
       "      <th>4</th>\n",
       "      <td>76561199813732773</td>\n",
       "      <td>its very fun to play you can make friends out ...</td>\n",
       "      <td>1737853720</td>\n",
       "      <td>True</td>\n",
       "      <td>10</td>\n",
       "      <td>4</td>\n",
       "      <td>0</td>\n",
       "      <td>1</td>\n",
       "      <td>1</td>\n",
       "    </tr>\n",
       "  </tbody>\n",
       "</table>\n",
       "</div>"
      ],
      "text/plain": [
       "             user_id                                             review  \\\n",
       "0  76561197960432447  A legendary tactical shooter that shaped the g...   \n",
       "1  76561198071230926  The best CS sure, but server browser is the il...   \n",
       "2  76561198206216352  Some of the best memories of my childhood were...   \n",
       "3  76561198110801124  This game feels so much better than CS2. I kno...   \n",
       "4  76561199813732773  its very fun to play you can make friends out ...   \n",
       "\n",
       "    timestamp  rating  item_id  user_idx  item_idx  rating_exp  rating_imp  \n",
       "0  1738278781    True       10         0         0           1           1  \n",
       "1  1736206418    True       10         1         0           1           1  \n",
       "2  1738041574    True       10         2         0           1           1  \n",
       "3  1738015332    True       10         3         0           1           1  \n",
       "4  1737853720    True       10         4         0           1           1  "
      ]
     },
     "execution_count": 6,
     "metadata": {},
     "output_type": "execute_result"
    }
   ],
   "source": [
    "df['rating_exp'] = df['rating'].apply(lambda x: 1 if x else -1)\n",
    "df['rating_imp'] = df['rating'].astype(int)\n",
    "df.head()"
   ]
  },
  {
   "cell_type": "markdown",
   "metadata": {},
   "source": [
    "### Feature engineering timestamp"
   ]
  },
  {
   "cell_type": "code",
   "execution_count": 7,
   "metadata": {},
   "outputs": [
    {
     "data": {
      "text/plain": [
       "count    1.766443e+06\n",
       "mean     1.703476e+09\n",
       "std      7.612711e+07\n",
       "min      1.287267e+09\n",
       "25%      1.732522e+09\n",
       "50%      1.736571e+09\n",
       "75%      1.737630e+09\n",
       "max      1.738732e+09\n",
       "Name: timestamp, dtype: float64"
      ]
     },
     "execution_count": 7,
     "metadata": {},
     "output_type": "execute_result"
    }
   ],
   "source": [
    "df['timestamp'].describe()"
   ]
  },
  {
   "cell_type": "code",
   "execution_count": 8,
   "metadata": {},
   "outputs": [
    {
     "data": {
      "image/png": "[encoded data removed]",
      "text/plain": [
       "<Figure size 640x480 with 1 Axes>"
      ]
     },
     "metadata": {},
     "output_type": "display_data"
    }
   ],
   "source": [
    "df['timestamp'].hist(bins=100)\n",
    "plt.show()"
   ]
  },
  {
   "cell_type": "markdown",
   "metadata": {},
   "source": [
    "#### Min-max Normalization"
   ]
  },
  {
   "cell_type": "code",
   "execution_count": 9,
   "metadata": {},
   "outputs": [
    {
     "data": {
      "text/plain": [
       "0    0.998997\n",
       "1    0.994407\n",
       "2    0.998472\n",
       "3    0.998414\n",
       "4    0.998056\n",
       "Name: mm_timestamp, dtype: float64"
      ]
     },
     "execution_count": 9,
     "metadata": {},
     "output_type": "execute_result"
    }
   ],
   "source": [
    "def normalize_timestamps(timestamps):\n",
    "    min_time = timestamps.min()\n",
    "    max_time = timestamps.max()\n",
    "    normalized = (timestamps - min_time) / (max_time - min_time)\n",
    "    return normalized\n",
    "\n",
    "df['mm_timestamp'] = normalize_timestamps(df['timestamp'])\n",
    "df['mm_timestamp'].head()"
   ]
  },
  {
   "cell_type": "markdown",
   "metadata": {},
   "source": [
    "#### Z-score Standardization"
   ]
  },
  {
   "cell_type": "code",
   "execution_count": 10,
   "metadata": {},
   "outputs": [
    {
     "data": {
      "text/plain": [
       "0    0.457172\n",
       "1    0.429949\n",
       "2    0.454056\n",
       "3    0.453711\n",
       "4    0.451588\n",
       "Name: z_timestamp, dtype: float64"
      ]
     },
     "execution_count": 10,
     "metadata": {},
     "output_type": "execute_result"
    }
   ],
   "source": [
    "def standardize_timestamps(timestamps):\n",
    "    mean_time = timestamps.mean()\n",
    "    std_time = timestamps.std()\n",
    "    standardized = (timestamps - mean_time) / std_time\n",
    "    return standardized\n",
    "\n",
    "df['z_timestamp'] = standardize_timestamps(df['timestamp'])\n",
    "df['z_timestamp'].head()"
   ]
  },
  {
   "cell_type": "markdown",
   "metadata": {},
   "source": [
    "#### Log Transformation"
   ]
  },
  {
   "cell_type": "code",
   "execution_count": 11,
   "metadata": {},
   "outputs": [
    {
     "data": {
      "text/plain": [
       "0    19.927005\n",
       "1    19.922399\n",
       "2    19.926479\n",
       "3    19.926420\n",
       "4    19.926062\n",
       "Name: log_timestamp, dtype: float64"
      ]
     },
     "execution_count": 11,
     "metadata": {},
     "output_type": "execute_result"
    }
   ],
   "source": [
    "def log_normalize_timestamps(timestamps):\n",
    "    min_time = timestamps.min()\n",
    "    offset_timestamps = timestamps - min_time\n",
    "    epsilon = 1e-10\n",
    "    return np.log(offset_timestamps + epsilon)\n",
    "\n",
    "df['log_timestamp'] = log_normalize_timestamps(df['timestamp'])\n",
    "df['log_timestamp'].head()"
   ]
  },
  {
   "cell_type": "markdown",
   "metadata": {},
   "source": [
    "#### Relative time encoding"
   ]
  },
  {
   "cell_type": "code",
   "execution_count": 12,
   "metadata": {},
   "outputs": [
    {
     "data": {
      "application/vnd.microsoft.datawrangler.viewer.v0+json": {
       "columns": [
        {
         "name": "index",
         "rawType": "int64",
         "type": "integer"
        },
        {
         "name": "user_id",
         "rawType": "int64",
         "type": "integer"
        },
        {
         "name": "review",
         "rawType": "object",
         "type": "string"
        },
        {
         "name": "timestamp",
         "rawType": "int64",
         "type": "integer"
        },
        {
         "name": "rating",
         "rawType": "bool",
         "type": "boolean"
        },
        {
         "name": "item_id",
         "rawType": "int64",
         "type": "integer"
        },
        {
         "name": "user_idx",
         "rawType": "int32",
         "type": "integer"
        },
        {
         "name": "item_idx",
         "rawType": "int32",
         "type": "integer"
        },
        {
         "name": "rating_exp",
         "rawType": "int64",
         "type": "integer"
        },
        {
         "name": "rating_imp",
         "rawType": "int32",
         "type": "integer"
        },
        {
         "name": "mm_timestamp",
         "rawType": "float64",
         "type": "float"
        },
        {
         "name": "z_timestamp",
         "rawType": "float64",
         "type": "float"
        },
        {
         "name": "log_timestamp",
         "rawType": "float64",
         "type": "float"
        },
        {
         "name": "relative_most_recent_timestamp",
         "rawType": "float64",
         "type": "float"
        },
        {
         "name": "relative_current_timestamp",
         "rawType": "float64",
         "type": "float"
        },
        {
         "name": "relative_last_interaction_timestamp",
         "rawType": "float64",
         "type": "float"
        }
       ],
       "conversionMethod": "pd.DataFrame",
       "ref": "bfa1fbab-cf06-4a8b-8cd0-45ebd2242160",
       "rows": [
        [
         "0",
         "76561197960432447",
         "A legendary tactical shooter that shaped the genre. Simple yet deep gameplay, excellent weapon balance, and iconic maps keep the game relevant even today. Pure nostalgia and classic FPS action.",
         "1738278781",
         "True",
         "10",
         "0",
         "0",
         "1",
         "1",
         "0.9989971532975325",
         "0.45717160847340566",
         "19.92700464655487",
         "0.07131092071323984",
         "0.06217728364360264",
         "0.08249665609125578"
        ],
        [
         "1",
         "76561198071230926",
         "The best CS sure, but server browser is the illusion of choice and leads you to the same **** server. Use gametracker or something",
         "1736206418",
         "True",
         "10",
         "1",
         "0",
         "1",
         "1",
         "0.9944068442950683",
         "0.4299492048382334",
         "19.922399140474177",
         "0.06352514993846875",
         "0.06044987039917003",
         "1.0"
        ],
        [
         "2",
         "76561198206216352",
         "Some of the best memories of my childhood were made in pixels, with friends I only knew through a screen. Time moves on, but those moments are forever frozen in time.",
         "1738041574",
         "True",
         "10",
         "2",
         "0",
         "1",
         "1",
         "0.998471736935849",
         "0.4540556752613727",
         "19.92647856439522",
         "0.06923104932553537",
         "0.061928367522540474",
         "1.0"
        ],
        [
         "3",
         "76561198110801124",
         "This game feels so much better than CS2. I know this game still gets FACEIT/ESEA-type treatment from services in the EU, but it would be cool if it got such services in NA.",
         "1738015332",
         "True",
         "10",
         "3",
         "0",
         "1",
         "1",
         "0.9984136105898166",
         "0.45371096233405533",
         "19.926420347386298",
         "0.06905259620094376",
         "0.061901910953961845",
         "1.0"
        ],
        [
         "4",
         "76561199813732773",
         "its very fun to play you can make friends out of it i have lots of maps i like i like how theres diffrent teams to choose from idk what else to say its just fun",
         "1737853720",
         "True",
         "10",
         "4",
         "0",
         "1",
         "1",
         "0.9980556380635236",
         "0.451588039324772",
         "19.926061741782558",
         "0.06809582680260952",
         "0.06174335820208452",
         "1.0"
        ]
       ],
       "shape": {
        "columns": 15,
        "rows": 5
       }
      },
      "text/html": [
       "<div>\n",
       "<style scoped>\n",
       "    .dataframe tbody tr th:only-of-type {\n",
       "        vertical-align: middle;\n",
       "    }\n",
       "\n",
       "    .dataframe tbody tr th {\n",
       "        vertical-align: top;\n",
       "    }\n",
       "\n",
       "    .dataframe thead th {\n",
       "        text-align: right;\n",
       "    }\n",
       "</style>\n",
       "<table border=\"1\" class=\"dataframe\">\n",
       "  <thead>\n",
       "    <tr style=\"text-align: right;\">\n",
       "      <th></th>\n",
       "      <th>user_id</th>\n",
       "      <th>review</th>\n",
       "      <th>timestamp</th>\n",
       "      <th>rating</th>\n",
       "      <th>item_id</th>\n",
       "      <th>user_idx</th>\n",
       "      <th>item_idx</th>\n",
       "      <th>rating_exp</th>\n",
       "      <th>rating_imp</th>\n",
       "      <th>mm_timestamp</th>\n",
       "      <th>z_timestamp</th>\n",
       "      <th>log_timestamp</th>\n",
       "      <th>relative_most_recent_timestamp</th>\n",
       "      <th>relative_current_timestamp</th>\n",
       "      <th>relative_last_interaction_timestamp</th>\n",
       "    </tr>\n",
       "  </thead>\n",
       "  <tbody>\n",
       "    <tr>\n",
       "      <th>0</th>\n",
       "      <td>76561197960432447</td>\n",
       "      <td>A legendary tactical shooter that shaped the g...</td>\n",
       "      <td>1738278781</td>\n",
       "      <td>True</td>\n",
       "      <td>10</td>\n",
       "      <td>0</td>\n",
       "      <td>0</td>\n",
       "      <td>1</td>\n",
       "      <td>1</td>\n",
       "      <td>0.998997</td>\n",
       "      <td>0.457172</td>\n",
       "      <td>19.927005</td>\n",
       "      <td>0.071311</td>\n",
       "      <td>0.062177</td>\n",
       "      <td>0.082497</td>\n",
       "    </tr>\n",
       "    <tr>\n",
       "      <th>1</th>\n",
       "      <td>76561198071230926</td>\n",
       "      <td>The best CS sure, but server browser is the il...</td>\n",
       "      <td>1736206418</td>\n",
       "      <td>True</td>\n",
       "      <td>10</td>\n",
       "      <td>1</td>\n",
       "      <td>0</td>\n",
       "      <td>1</td>\n",
       "      <td>1</td>\n",
       "      <td>0.994407</td>\n",
       "      <td>0.429949</td>\n",
       "      <td>19.922399</td>\n",
       "      <td>0.063525</td>\n",
       "      <td>0.060450</td>\n",
       "      <td>1.000000</td>\n",
       "    </tr>\n",
       "    <tr>\n",
       "      <th>2</th>\n",
       "      <td>76561198206216352</td>\n",
       "      <td>Some of the best memories of my childhood were...</td>\n",
       "      <td>1738041574</td>\n",
       "      <td>True</td>\n",
       "      <td>10</td>\n",
       "      <td>2</td>\n",
       "      <td>0</td>\n",
       "      <td>1</td>\n",
       "      <td>1</td>\n",
       "      <td>0.998472</td>\n",
       "      <td>0.454056</td>\n",
       "      <td>19.926479</td>\n",
       "      <td>0.069231</td>\n",
       "      <td>0.061928</td>\n",
       "      <td>1.000000</td>\n",
       "    </tr>\n",
       "    <tr>\n",
       "      <th>3</th>\n",
       "      <td>76561198110801124</td>\n",
       "      <td>This game feels so much better than CS2. I kno...</td>\n",
       "      <td>1738015332</td>\n",
       "      <td>True</td>\n",
       "      <td>10</td>\n",
       "      <td>3</td>\n",
       "      <td>0</td>\n",
       "      <td>1</td>\n",
       "      <td>1</td>\n",
       "      <td>0.998414</td>\n",
       "      <td>0.453711</td>\n",
       "      <td>19.926420</td>\n",
       "      <td>0.069053</td>\n",
       "      <td>0.061902</td>\n",
       "      <td>1.000000</td>\n",
       "    </tr>\n",
       "    <tr>\n",
       "      <th>4</th>\n",
       "      <td>76561199813732773</td>\n",
       "      <td>its very fun to play you can make friends out ...</td>\n",
       "      <td>1737853720</td>\n",
       "      <td>True</td>\n",
       "      <td>10</td>\n",
       "      <td>4</td>\n",
       "      <td>0</td>\n",
       "      <td>1</td>\n",
       "      <td>1</td>\n",
       "      <td>0.998056</td>\n",
       "      <td>0.451588</td>\n",
       "      <td>19.926062</td>\n",
       "      <td>0.068096</td>\n",
       "      <td>0.061743</td>\n",
       "      <td>1.000000</td>\n",
       "    </tr>\n",
       "  </tbody>\n",
       "</table>\n",
       "</div>"
      ],
      "text/plain": [
       "             user_id                                             review  \\\n",
       "0  76561197960432447  A legendary tactical shooter that shaped the g...   \n",
       "1  76561198071230926  The best CS sure, but server browser is the il...   \n",
       "2  76561198206216352  Some of the best memories of my childhood were...   \n",
       "3  76561198110801124  This game feels so much better than CS2. I kno...   \n",
       "4  76561199813732773  its very fun to play you can make friends out ...   \n",
       "\n",
       "    timestamp  rating  item_id  user_idx  item_idx  rating_exp  rating_imp  \\\n",
       "0  1738278781    True       10         0         0           1           1   \n",
       "1  1736206418    True       10         1         0           1           1   \n",
       "2  1738041574    True       10         2         0           1           1   \n",
       "3  1738015332    True       10         3         0           1           1   \n",
       "4  1737853720    True       10         4         0           1           1   \n",
       "\n",
       "   mm_timestamp  z_timestamp  log_timestamp  relative_most_recent_timestamp  \\\n",
       "0      0.998997     0.457172      19.927005                        0.071311   \n",
       "1      0.994407     0.429949      19.922399                        0.063525   \n",
       "2      0.998472     0.454056      19.926479                        0.069231   \n",
       "3      0.998414     0.453711      19.926420                        0.069053   \n",
       "4      0.998056     0.451588      19.926062                        0.068096   \n",
       "\n",
       "   relative_current_timestamp  relative_last_interaction_timestamp  \n",
       "0                    0.062177                             0.082497  \n",
       "1                    0.060450                             1.000000  \n",
       "2                    0.061928                             1.000000  \n",
       "3                    0.061902                             1.000000  \n",
       "4                    0.061743                             1.000000  "
      ]
     },
     "execution_count": 12,
     "metadata": {},
     "output_type": "execute_result"
    }
   ],
   "source": [
    "class ReferenceTime(Enum):\n",
    "    MOST_RECENT = 'most_recent'\n",
    "    CURRENT = 'current'\n",
    "    LAST_INTERACTION = 'last_interaction'\n",
    "    \n",
    "class DecayFunction(Enum):\n",
    "    LINEAR = 'linear'\n",
    "    EXPONENTIAL = 'exponential'\n",
    "    POWER_LAW = 'power-law'\n",
    "    LOG = 'log'\n",
    "\n",
    "def relative_time_encoding(df: pd.DataFrame, reference_time: ReferenceTime = ReferenceTime.MOST_RECENT, decay_fn: DecayFunction = DecayFunction.LOG, decay_rate: float = 1.0, decay_power: float = 2.0) -> np.ndarray:\n",
    "    \n",
    "    \"\"\"Normalize based on recency relative to a reference time\"\"\"\n",
    "    if reference_time == ReferenceTime.MOST_RECENT:\n",
    "        reference_time = df['timestamp'].max()  # Most recent timestamp\n",
    "        df['time_diff'] = df['timestamp'].apply(lambda x: reference_time - x)\n",
    "        \n",
    "    elif reference_time == ReferenceTime.CURRENT:\n",
    "        reference_time = pd.Timestamp.now().timestamp()\n",
    "        df['time_diff'] = df['timestamp'].apply(lambda x: reference_time - x)\n",
    "        \n",
    "    elif reference_time == ReferenceTime.LAST_INTERACTION:\n",
    "        user_last_timestamps = df.groupby('user_id')['timestamp'].max()\n",
    "        df['last_timestamp'] = df['user_id'].map(user_last_timestamps)\n",
    "        df['time_diff'] = df['last_timestamp'] - df['timestamp']\n",
    "        df['time_diff'] = df['time_diff'].clip(lower=0)\n",
    "        \n",
    "    if decay_fn == DecayFunction.LINEAR:\n",
    "        normalized = 1 / (1 + decay_rate * df['time_diff'])\n",
    "    elif decay_fn == DecayFunction.EXPONENTIAL:\n",
    "        normalized = np.exp(-decay_rate * df['time_diff'])\n",
    "    elif decay_fn == DecayFunction.POWER_LAW:\n",
    "        normalized = 1 / (1 + df['time_diff'] ** decay_power)\n",
    "    elif decay_fn == DecayFunction.LOG:\n",
    "        normalized = 1 / (1 + decay_rate * np.log(1 + df['time_diff']))\n",
    "        \n",
    "    return normalized.values\n",
    "\n",
    "df['relative_most_recent_timestamp'] = relative_time_encoding(df)\n",
    "df['relative_current_timestamp'] = relative_time_encoding(df, ReferenceTime.CURRENT)\n",
    "df['relative_last_interaction_timestamp'] = relative_time_encoding(df, ReferenceTime.LAST_INTERACTION)\n",
    "df.drop(columns=['time_diff', 'last_timestamp'], inplace=True)\n",
    "df.head()"
   ]
  },
  {
   "cell_type": "markdown",
   "metadata": {},
   "source": [
    "#### Encoding Cyclical Patterns with Sine/Cosine Transformations"
   ]
  },
  {
   "cell_type": "code",
   "execution_count": 13,
   "metadata": {},
   "outputs": [
    {
     "data": {
      "application/vnd.microsoft.datawrangler.viewer.v0+json": {
       "columns": [
        {
         "name": "index",
         "rawType": "int64",
         "type": "integer"
        },
        {
         "name": "user_id",
         "rawType": "int64",
         "type": "integer"
        },
        {
         "name": "review",
         "rawType": "object",
         "type": "string"
        },
        {
         "name": "timestamp",
         "rawType": "int64",
         "type": "integer"
        },
        {
         "name": "rating",
         "rawType": "bool",
         "type": "boolean"
        },
        {
         "name": "item_id",
         "rawType": "int64",
         "type": "integer"
        },
        {
         "name": "user_idx",
         "rawType": "int32",
         "type": "integer"
        },
        {
         "name": "item_idx",
         "rawType": "int32",
         "type": "integer"
        },
        {
         "name": "rating_exp",
         "rawType": "int64",
         "type": "integer"
        },
        {
         "name": "rating_imp",
         "rawType": "int32",
         "type": "integer"
        },
        {
         "name": "mm_timestamp",
         "rawType": "float64",
         "type": "float"
        },
        {
         "name": "z_timestamp",
         "rawType": "float64",
         "type": "float"
        },
        {
         "name": "log_timestamp",
         "rawType": "float64",
         "type": "float"
        },
        {
         "name": "relative_most_recent_timestamp",
         "rawType": "float64",
         "type": "float"
        },
        {
         "name": "relative_current_timestamp",
         "rawType": "float64",
         "type": "float"
        },
        {
         "name": "relative_last_interaction_timestamp",
         "rawType": "float64",
         "type": "float"
        },
        {
         "name": "hour_sin",
         "rawType": "float64",
         "type": "float"
        },
        {
         "name": "hour_cos",
         "rawType": "float64",
         "type": "float"
        },
        {
         "name": "weekday_sin",
         "rawType": "float64",
         "type": "float"
        },
        {
         "name": "weekday_cos",
         "rawType": "float64",
         "type": "float"
        },
        {
         "name": "day_of_month_sin",
         "rawType": "float64",
         "type": "float"
        },
        {
         "name": "day_of_month_cos",
         "rawType": "float64",
         "type": "float"
        },
        {
         "name": "month_sin",
         "rawType": "float64",
         "type": "float"
        },
        {
         "name": "month_cos",
         "rawType": "float64",
         "type": "float"
        }
       ],
       "conversionMethod": "pd.DataFrame",
       "ref": "f24a5235-6b40-46c3-86f2-f0b9a8f06d3f",
       "rows": [
        [
         "0",
         "76561197960432447",
         "A legendary tactical shooter that shaped the genre. Simple yet deep gameplay, excellent weapon balance, and iconic maps keep the game relevant even today. Pure nostalgia and classic FPS action.",
         "1738278781",
         "True",
         "10",
         "0",
         "0",
         "1",
         "1",
         "0.9989971532975325",
         "0.45717160847340566",
         "19.92700464655487",
         "0.07131092071323984",
         "0.06217728364360264",
         "0.08249665609125578",
         "-0.25881904510252157",
         "0.9659258262890681",
         "0.43388373911755823",
         "-0.900968867902419",
         "0.0",
         "1.0",
         "0.0",
         "1.0"
        ],
        [
         "1",
         "76561198071230926",
         "The best CS sure, but server browser is the illusion of choice and leads you to the same **** server. Use gametracker or something",
         "1736206418",
         "True",
         "10",
         "1",
         "0",
         "1",
         "1",
         "0.9944068442950683",
         "0.4299492048382334",
         "19.922399140474177",
         "0.06352514993846875",
         "0.06044987039917003",
         "1.0",
         "-0.25881904510252157",
         "0.9659258262890681",
         "0.0",
         "1.0",
         "0.0",
         "1.0",
         "0.0",
         "1.0"
        ],
        [
         "2",
         "76561198206216352",
         "Some of the best memories of my childhood were made in pixels, with friends I only knew through a screen. Time moves on, but those moments are forever frozen in time.",
         "1738041574",
         "True",
         "10",
         "2",
         "0",
         "1",
         "1",
         "0.998471736935849",
         "0.4540556752613727",
         "19.92647856439522",
         "0.06923104932553537",
         "0.061928367522540474",
         "1.0",
         "0.9659258262890683",
         "0.25881904510252074",
         "0.7818314824680298",
         "0.6234898018587336",
         "0.0",
         "1.0",
         "0.0",
         "1.0"
        ],
        [
         "3",
         "76561198110801124",
         "This game feels so much better than CS2. I know this game still gets FACEIT/ESEA-type treatment from services in the EU, but it would be cool if it got such services in NA.",
         "1738015332",
         "True",
         "10",
         "3",
         "0",
         "1",
         "1",
         "0.9984136105898166",
         "0.45371096233405533",
         "19.926420347386298",
         "0.06905259620094376",
         "0.061901910953961845",
         "1.0",
         "-0.5000000000000004",
         "0.8660254037844384",
         "0.0",
         "1.0",
         "0.0",
         "1.0",
         "0.0",
         "1.0"
        ],
        [
         "4",
         "76561199813732773",
         "its very fun to play you can make friends out of it i have lots of maps i like i like how theres diffrent teams to choose from idk what else to say its just fun",
         "1737853720",
         "True",
         "10",
         "4",
         "0",
         "1",
         "1",
         "0.9980556380635236",
         "0.451588039324772",
         "19.926061741782558",
         "0.06809582680260952",
         "0.06174335820208452",
         "1.0",
         "0.25881904510252074",
         "0.9659258262890683",
         "-0.7818314824680299",
         "0.6234898018587334",
         "0.0",
         "1.0",
         "0.0",
         "1.0"
        ]
       ],
       "shape": {
        "columns": 23,
        "rows": 5
       }
      },
      "text/html": [
       "<div>\n",
       "<style scoped>\n",
       "    .dataframe tbody tr th:only-of-type {\n",
       "        vertical-align: middle;\n",
       "    }\n",
       "\n",
       "    .dataframe tbody tr th {\n",
       "        vertical-align: top;\n",
       "    }\n",
       "\n",
       "    .dataframe thead th {\n",
       "        text-align: right;\n",
       "    }\n",
       "</style>\n",
       "<table border=\"1\" class=\"dataframe\">\n",
       "  <thead>\n",
       "    <tr style=\"text-align: right;\">\n",
       "      <th></th>\n",
       "      <th>user_id</th>\n",
       "      <th>review</th>\n",
       "      <th>timestamp</th>\n",
       "      <th>rating</th>\n",
       "      <th>item_id</th>\n",
       "      <th>user_idx</th>\n",
       "      <th>item_idx</th>\n",
       "      <th>rating_exp</th>\n",
       "      <th>rating_imp</th>\n",
       "      <th>mm_timestamp</th>\n",
       "      <th>...</th>\n",
       "      <th>relative_current_timestamp</th>\n",
       "      <th>relative_last_interaction_timestamp</th>\n",
       "      <th>hour_sin</th>\n",
       "      <th>hour_cos</th>\n",
       "      <th>weekday_sin</th>\n",
       "      <th>weekday_cos</th>\n",
       "      <th>day_of_month_sin</th>\n",
       "      <th>day_of_month_cos</th>\n",
       "      <th>month_sin</th>\n",
       "      <th>month_cos</th>\n",
       "    </tr>\n",
       "  </thead>\n",
       "  <tbody>\n",
       "    <tr>\n",
       "      <th>0</th>\n",
       "      <td>76561197960432447</td>\n",
       "      <td>A legendary tactical shooter that shaped the g...</td>\n",
       "      <td>1738278781</td>\n",
       "      <td>True</td>\n",
       "      <td>10</td>\n",
       "      <td>0</td>\n",
       "      <td>0</td>\n",
       "      <td>1</td>\n",
       "      <td>1</td>\n",
       "      <td>0.998997</td>\n",
       "      <td>...</td>\n",
       "      <td>0.062177</td>\n",
       "      <td>0.082497</td>\n",
       "      <td>-0.258819</td>\n",
       "      <td>0.965926</td>\n",
       "      <td>0.433884</td>\n",
       "      <td>-0.900969</td>\n",
       "      <td>0.0</td>\n",
       "      <td>1.0</td>\n",
       "      <td>0.0</td>\n",
       "      <td>1.0</td>\n",
       "    </tr>\n",
       "    <tr>\n",
       "      <th>1</th>\n",
       "      <td>76561198071230926</td>\n",
       "      <td>The best CS sure, but server browser is the il...</td>\n",
       "      <td>1736206418</td>\n",
       "      <td>True</td>\n",
       "      <td>10</td>\n",
       "      <td>1</td>\n",
       "      <td>0</td>\n",
       "      <td>1</td>\n",
       "      <td>1</td>\n",
       "      <td>0.994407</td>\n",
       "      <td>...</td>\n",
       "      <td>0.060450</td>\n",
       "      <td>1.000000</td>\n",
       "      <td>-0.258819</td>\n",
       "      <td>0.965926</td>\n",
       "      <td>0.000000</td>\n",
       "      <td>1.000000</td>\n",
       "      <td>0.0</td>\n",
       "      <td>1.0</td>\n",
       "      <td>0.0</td>\n",
       "      <td>1.0</td>\n",
       "    </tr>\n",
       "    <tr>\n",
       "      <th>2</th>\n",
       "      <td>76561198206216352</td>\n",
       "      <td>Some of the best memories of my childhood were...</td>\n",
       "      <td>1738041574</td>\n",
       "      <td>True</td>\n",
       "      <td>10</td>\n",
       "      <td>2</td>\n",
       "      <td>0</td>\n",
       "      <td>1</td>\n",
       "      <td>1</td>\n",
       "      <td>0.998472</td>\n",
       "      <td>...</td>\n",
       "      <td>0.061928</td>\n",
       "      <td>1.000000</td>\n",
       "      <td>0.965926</td>\n",
       "      <td>0.258819</td>\n",
       "      <td>0.781831</td>\n",
       "      <td>0.623490</td>\n",
       "      <td>0.0</td>\n",
       "      <td>1.0</td>\n",
       "      <td>0.0</td>\n",
       "      <td>1.0</td>\n",
       "    </tr>\n",
       "    <tr>\n",
       "      <th>3</th>\n",
       "      <td>76561198110801124</td>\n",
       "      <td>This game feels so much better than CS2. I kno...</td>\n",
       "      <td>1738015332</td>\n",
       "      <td>True</td>\n",
       "      <td>10</td>\n",
       "      <td>3</td>\n",
       "      <td>0</td>\n",
       "      <td>1</td>\n",
       "      <td>1</td>\n",
       "      <td>0.998414</td>\n",
       "      <td>...</td>\n",
       "      <td>0.061902</td>\n",
       "      <td>1.000000</td>\n",
       "      <td>-0.500000</td>\n",
       "      <td>0.866025</td>\n",
       "      <td>0.000000</td>\n",
       "      <td>1.000000</td>\n",
       "      <td>0.0</td>\n",
       "      <td>1.0</td>\n",
       "      <td>0.0</td>\n",
       "      <td>1.0</td>\n",
       "    </tr>\n",
       "    <tr>\n",
       "      <th>4</th>\n",
       "      <td>76561199813732773</td>\n",
       "      <td>its very fun to play you can make friends out ...</td>\n",
       "      <td>1737853720</td>\n",
       "      <td>True</td>\n",
       "      <td>10</td>\n",
       "      <td>4</td>\n",
       "      <td>0</td>\n",
       "      <td>1</td>\n",
       "      <td>1</td>\n",
       "      <td>0.998056</td>\n",
       "      <td>...</td>\n",
       "      <td>0.061743</td>\n",
       "      <td>1.000000</td>\n",
       "      <td>0.258819</td>\n",
       "      <td>0.965926</td>\n",
       "      <td>-0.781831</td>\n",
       "      <td>0.623490</td>\n",
       "      <td>0.0</td>\n",
       "      <td>1.0</td>\n",
       "      <td>0.0</td>\n",
       "      <td>1.0</td>\n",
       "    </tr>\n",
       "  </tbody>\n",
       "</table>\n",
       "<p>5 rows × 23 columns</p>\n",
       "</div>"
      ],
      "text/plain": [
       "             user_id                                             review  \\\n",
       "0  76561197960432447  A legendary tactical shooter that shaped the g...   \n",
       "1  76561198071230926  The best CS sure, but server browser is the il...   \n",
       "2  76561198206216352  Some of the best memories of my childhood were...   \n",
       "3  76561198110801124  This game feels so much better than CS2. I kno...   \n",
       "4  76561199813732773  its very fun to play you can make friends out ...   \n",
       "\n",
       "    timestamp  rating  item_id  user_idx  item_idx  rating_exp  rating_imp  \\\n",
       "0  1738278781    True       10         0         0           1           1   \n",
       "1  1736206418    True       10         1         0           1           1   \n",
       "2  1738041574    True       10         2         0           1           1   \n",
       "3  1738015332    True       10         3         0           1           1   \n",
       "4  1737853720    True       10         4         0           1           1   \n",
       "\n",
       "   mm_timestamp  ...  relative_current_timestamp  \\\n",
       "0      0.998997  ...                    0.062177   \n",
       "1      0.994407  ...                    0.060450   \n",
       "2      0.998472  ...                    0.061928   \n",
       "3      0.998414  ...                    0.061902   \n",
       "4      0.998056  ...                    0.061743   \n",
       "\n",
       "   relative_last_interaction_timestamp  hour_sin  hour_cos  weekday_sin  \\\n",
       "0                             0.082497 -0.258819  0.965926     0.433884   \n",
       "1                             1.000000 -0.258819  0.965926     0.000000   \n",
       "2                             1.000000  0.965926  0.258819     0.781831   \n",
       "3                             1.000000 -0.500000  0.866025     0.000000   \n",
       "4                             1.000000  0.258819  0.965926    -0.781831   \n",
       "\n",
       "   weekday_cos  day_of_month_sin  day_of_month_cos  month_sin  month_cos  \n",
       "0    -0.900969               0.0               1.0        0.0        1.0  \n",
       "1     1.000000               0.0               1.0        0.0        1.0  \n",
       "2     0.623490               0.0               1.0        0.0        1.0  \n",
       "3     1.000000               0.0               1.0        0.0        1.0  \n",
       "4     0.623490               0.0               1.0        0.0        1.0  \n",
       "\n",
       "[5 rows x 23 columns]"
      ]
     },
     "execution_count": 13,
     "metadata": {},
     "output_type": "execute_result"
    }
   ],
   "source": [
    "def encode_cyclical_feature(values, period):\n",
    "    \"\"\"\n",
    "    Encode a cyclical feature using sine and cosine transformations\n",
    "    \n",
    "    Args:\n",
    "        values: Array of values to encode (e.g., hours, weekdays)\n",
    "        period: The period of the feature (24 for hours, 7 for weekdays)\n",
    "    \n",
    "    Returns:\n",
    "        Two arrays representing the sine and cosine components\n",
    "    \"\"\"\n",
    "    # Scale the values to [0, 2π]\n",
    "    values_scaled = 2 * np.pi * values / period\n",
    "    \n",
    "    # Return the sine and cosine components\n",
    "    return np.sin(values_scaled), np.cos(values_scaled)\n",
    "\n",
    "def extract_cyclical_time_features(timestamps):\n",
    "    \"\"\"\n",
    "    Extract cyclical time features from unix timestamps\n",
    "    \n",
    "    Args:\n",
    "        timestamps: Array of unix timestamps\n",
    "        \n",
    "    Returns:\n",
    "        DataFrame with cyclical time features\n",
    "    \"\"\"\n",
    "    # Convert to datetime\n",
    "    dates = pd.to_datetime(timestamps, unit='s')\n",
    "    \n",
    "    # Extract time components\n",
    "    hours = dates.map(lambda x: x.hour)  # 0-23\n",
    "    days_of_week = dates.map(lambda x: x.day_of_week)  # 0-6 where 0 is Monday\n",
    "    days_of_month = dates.map(lambda x: x.day - 1)  # 0-30\n",
    "    months = dates.map(lambda x: x.month - 1)  # 0-11\n",
    "    \n",
    "    # Encode cyclical features\n",
    "    hour_sin, hour_cos = encode_cyclical_feature(hours, 24)\n",
    "    weekday_sin, weekday_cos = encode_cyclical_feature(days_of_week, 7)\n",
    "    days_of_month_sin, days_of_month_cos = encode_cyclical_feature(months, 30)\n",
    "    month_sin, month_cos = encode_cyclical_feature(months, 12)\n",
    "    \n",
    "    # Combine into a DataFrame\n",
    "    features = pd.DataFrame({\n",
    "        'hour_sin': hour_sin,\n",
    "        'hour_cos': hour_cos,\n",
    "        'weekday_sin': weekday_sin,\n",
    "        'weekday_cos': weekday_cos,\n",
    "        'day_of_month_sin': days_of_month_sin,\n",
    "        'day_of_month_cos': days_of_month_cos,\n",
    "        'month_sin': month_sin,\n",
    "        'month_cos': month_cos\n",
    "    })\n",
    "    \n",
    "    return features\n",
    "\n",
    "time_features = extract_cyclical_time_features(df['timestamp'])\n",
    "df[time_features.columns] = time_features\n",
    "df.head()"
   ]
  },
  {
   "cell_type": "markdown",
   "metadata": {},
   "source": [
    "### Save file"
   ]
  },
  {
   "cell_type": "code",
   "execution_count": 14,
   "metadata": {},
   "outputs": [],
   "source": [
    "df.to_csv('data/review-clean.csv', index=False)"
   ]
  }
 ],
 "metadata": {
  "kernelspec": {
   "display_name": "Python 3",
   "language": "python",
   "name": "python3"
  },
  "language_info": {
   "codemirror_mode": {
    "name": "ipython",
    "version": 3
   },
   "file_extension": ".py",
   "mimetype": "text/x-python",
   "name": "python",
   "nbconvert_exporter": "python",
   "pygments_lexer": "ipython3",
   "version": "3.12.1"
  }
 },
 "nbformat": 4,
 "nbformat_minor": 2
}
