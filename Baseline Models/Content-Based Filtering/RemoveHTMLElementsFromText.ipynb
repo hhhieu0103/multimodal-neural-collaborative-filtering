{
 "cells": [
  {
   "cell_type": "code",
   "execution_count": 1,
   "metadata": {},
   "outputs": [],
   "source": [
    "from bs4 import BeautifulSoup\n",
    "import swifter\n",
    "import pandas as pd\n",
    "import html"
   ]
  },
  {
   "cell_type": "code",
   "execution_count": 2,
   "metadata": {},
   "outputs": [],
   "source": [
    "df = pd.read_csv('../../Final/Metadata-raw.csv')"
   ]
  },
  {
   "cell_type": "markdown",
   "metadata": {},
   "source": [
    "# Before Processing"
   ]
  },
  {
   "cell_type": "markdown",
   "metadata": {},
   "source": [
    "## Only HTML Elements text"
   ]
  },
  {
   "cell_type": "code",
   "execution_count": 3,
   "metadata": {},
   "outputs": [
    {
     "data": {
      "text/plain": [
       "'<img class=\"bb_img\" src=\"https://shared.akamai.steamstatic.com/store_item_assets/steam/apps/1598540/extras/HeaderWaysTOPlay.png?t=1735853029\" /><br><br><img class=\"bb_img\" src=\"https://shared.akamai.steamstatic.com/store_item_assets/steam/apps/1598540/extras/HeaderPlayOptions.png?t=1735853029\" /><br><br><img class=\"bb_img\" src=\"https://shared.akamai.steamstatic.com/store_item_assets/steam/apps/1598540/extras/Header_Strategy.png?t=1735853029\" /><br><br><img class=\"bb_img\" src=\"https://shared.akamai.steamstatic.com/store_item_assets/steam/apps/1598540/extras/Header_Free_Time.png?t=1735853029\" />'"
      ]
     },
     "execution_count": 3,
     "metadata": {},
     "output_type": "execute_result"
    }
   ],
   "source": [
    "df.iloc[747]['about_the_game']"
   ]
  },
  {
   "cell_type": "markdown",
   "metadata": {},
   "source": [
    "There is some games that have 'about_the_text', 'short_description'. But they only contain HTML elements like row 747, so after removing the HTML Elements the text is an empty string."
   ]
  },
  {
   "cell_type": "markdown",
   "metadata": {},
   "source": [
    "## Words are attached to each other"
   ]
  },
  {
   "cell_type": "markdown",
   "metadata": {},
   "source": [
    "After removing HTML elements, there will be words attached to each other. Commonly, after an HTML element, the first character of the next word will be uppercased."
   ]
  },
  {
   "cell_type": "code",
   "execution_count": 4,
   "metadata": {},
   "outputs": [
    {
     "name": "stdout",
     "output_type": "stream",
     "text": [
      "<h1>ZENO EDITION</h1><p><img class=\"bb_img\" src=\"https://shared.akamai.steamstatic.com/store_item_assets/steam/apps/1430680/extras/NAC067_CLASH_AoC_BS_ZENO_EDITIONx616.png?t=1726215754\" /></p><br><h1>About the Game</h1><strong>You play as Pseudo, a master of martial arts who lives as a recluse in the strange land of Zenozoik. When you cross paths with the Boy, a small creature whose mysterious powers have attracted the attention of Gemini, the Mistress of the Artifacts, you decide to protect him, unaware that much greater forces are involved.</strong><br><br><img class=\"bb_img\" src=\"https://shared.akamai.steamstatic.com/store_item_assets/steam/apps/1430680/extras/_IMG01.gif?t=1726215754\" /><br><br><ul class=\"bb_ul\"><li><h2 class=\"bb_tag\">EXPLORE ZENOZOIK</h2></li></ul>Drawing upon both surreal and punk fantasy influences, the world and civilisations of Zenozoik are brimming with fascinating characters, creatures and landscapes. Roam this intriguing land and discover its paths, inhabitants and ancient secrets. <br><br><ul class=\"bb_ul\"><li><h2 class=\"bb_tag\">CRUSH YOUR OPPONENTS</h2></li></ul>Your fists and speed are your greatest weapons. Attack, dodge, stun, block, counter a parry to land a special attack, switch to first-person view to perform unique techniques: each time, it's up to you to seize the occasion to achieve victory and avoid mistakes that could quickly prove fatal. <br><br><img class=\"bb_img\" src=\"https://shared.akamai.steamstatic.com/store_item_assets/steam/apps/1430680/extras/_IMG02.gif?t=1726215754\" /><br><br><ul class=\"bb_ul\"><li><h2 class=\"bb_tag\">CUSTOMISE YOUR COMBAT STYLE</h2></li></ul>Learn various martial arts during your adventure and alternate freely between them based on the situation, types of enemies and your preference. Victories will enable you to improve your characteristics and upgrade your attacks, so you can develop your own unique style.  <br><br><ul class=\"bb_ul\"><li><h2 class=\"bb_tag\">RISE TO THE CHALLENGE OF THE RITUAL</h2></li></ul>Before fighting, you can challenge your opponent to a game of dice, with the winner defining the rules of the encounter – often to their advantage. Summoning a monster as an ally, covering the area in fog, having shackles limit movement…  far from determining the outcome of the combat, the Ritual represents an opportunity to exploit if you win it or a challenge to cleverly overcome if you lose.<br><br><img class=\"bb_img\" src=\"https://shared.akamai.steamstatic.com/store_item_assets/steam/apps/1430680/extras/_IMG03.gif?t=1726215754\" /><br><br><ul class=\"bb_ul\"><li><h2 class=\"bb_tag\">A RICH STORYLINE</h2></li></ul>Your search for the Great Artifacts that will help you defeat Gemini will take you farther than you ever imagined. While taking on the mercenaries pursuing you and developing your friendship with the Boy, you must confront your past and delve into the sources of the chaotic society of Zenozoik. <br><br><i>Clash: Artifacts of Chaos takes place in the same universe as Zeno Clash and Zeno Clash II, but the game is entirely independent.</i>\n",
      "A game to feel and interact<br />\n",
      "<br />\n",
      "A game where the player uses the musical notes and decibels of his voice to play<br />\n",
      "Vocal Space Shooter brings a deep feeling with the piano sound<br />\n",
      "An experimental way of using musical interact in games<br />\n",
      "<br />\n",
      "We hope you enjoy<br />\n",
      "<br />\n",
      "Features:<br />\n",
      "<br />\n",
      "*Vocal Inputs<br />\n",
      "*Musical Interaction<br />\n",
      "*Piano Sounds<br />\n",
      "*Physics-based game<br />\n",
      "*Amazing effects and Colors<br />\n",
      "*Deep Space\n",
      "Synopsis<br />\n",
      "<br />\n",
      "Montecristo was a devil who, due to the betrayal of his subordinates, suffered defeat at the hand of humans.<br />\n",
      "At the last moment, he was granted a final miracle.<br />\n",
      "He succeeded in returning to the past before all of his misfortunes began.<br />\n",
      "<br />\n",
      "However, his body had shrunk in the process, and he was now the size of a small child...<br />\n",
      "<br />\n",
      "A demon, defeated by the world and abandoned by his subordinates...<br />\n",
      "Knowing what the future had in store for him, he made up his mind.<br />\n",
      "<br />\n",
      "The only thing I can rely on... is the dungeon!<br />\n",
      "And who the hell betrayed me anyway?!<br />\n",
      "<br />\n",
      "<br />\n",
      "<br />\n",
      "Features of this game<br />\n",
      "<br />\n",
      "<br />\n",
      "- Based on the popular Korean internet novel called &quot;Dungeon Lord&quot;<br />\n",
      "<br />\n",
      "- Written by Workingdog, who wrote the scripts for the mobile games &quot;She is a Mermaid&quot; and &quot;The Fox Awaits Me&quot;<br />\n",
      "<br />\n",
      "- A fictional story set in a fantasy world created for an internet novel<br />\n",
      "<br />\n",
      "- Story-rich gameplay(about 500 pages worth) and beautiful girls animated with care<br />\n",
      "<br />\n",
      "- Excellent performances by professional Korean voice actresses<br />\n",
      "<br />\n",
      "- Summon monsters, study them, and then evolve them! An infinite amount of resources and spells are at your fingertips.\n",
      "<p class=\"bb_paragraph\">This is an opening chapter of Raji: An Ancient Epic that you can play for free. </p><p class=\"bb_paragraph\"></p><p class=\"bb_paragraph\">Our story begins at the start of a new war between the demons and the gods. Seeking to avenge their humiliating defeat in the last great war, the demons have challenged the gods and have invaded the human realm, threatening nothing less than the utter destruction of humanity.</p><p class=\"bb_paragraph\">After the first great war, the humans had fallen into a false sense of security, forgetting the ways of alchemy, while enjoying the peace. Soon, the demons arrived to challenge the humans’ complacency, and unable to defend themselves, cities and fortresses fell, leaving the humans at the mercy of the demons.</p><p class=\"bb_paragraph\">Amidst the chaos, a new hero has risen in the form of a young girl, Raji, who has been chosen by the gods to be the sole defender of the human race. In her quest to save humanity, Raji must also rescue her brother, who has been captured by the demons for unknown purposes.</p><p class=\"bb_paragraph\"></p><p class=\"bb_paragraph\"><img class=\"bb_img\" src=\"https://shared.akamai.steamstatic.com/store_item_assets/steam/apps/1429740/extras/raji_steam_h1_features.png?t=1728281323\" /></p><h2 class=\"bb_tag\">A Story of Siblings</h2><p class=\"bb_paragraph\">Experience a story of siblings. Raji and Golu are sister and brother who have been separated by the attacking demonic hordes and now find themselves in the middle of the great war.</p><p class=\"bb_paragraph\">Raji has taken it upon herself to find her brother and put an end to this reckless war. However, this can only happen if she manages to break down the might and stratagem devised by the great lord of demons, Mahabalasura.</p><p class=\"bb_paragraph\"><img class=\"bb_img\" src=\"https://shared.akamai.steamstatic.com/store_item_assets/steam/apps/1429740/extras/cinematic8.gif?t=1728281323\" /></p><h2 class=\"bb_tag\">Stunning Artwork</h2><p class=\"bb_paragraph\">Inspired by Indian mythologies such as Mahabharata and Ramayana, and by the medieval architecture of Rajasthan, Raji: An Ancient Epic brings a refreshing new style to the action-adventure scene!</p><p class=\"bb_paragraph\">Every corner of the game’s environment is drawn in the Pahari art style and combines hand-painted textures, rendered in 3D giving the Raji: An Ancient Epic a stunning and unique visual quality rarely seen in games.</p><p class=\"bb_paragraph\"><img class=\"bb_img\" src=\"https://shared.akamai.steamstatic.com/store_item_assets/steam/apps/1429740/extras/locations8.gif?t=1728281323\" /></p><h2 class=\"bb_tag\">Tactical Combat</h2><p class=\"bb_paragraph\">Diverse weapons and powers, gifted to Raji by the gods, are at your disposal. Mastering them all will be vital to your success as the demonic hordes will skillfully adapt to each and every situation; while the Trishul may be perfect for one battle, the mighty Sharanga bow may be needed for the next.</p><p class=\"bb_paragraph\"><img class=\"bb_img\" src=\"https://shared.akamai.steamstatic.com/store_item_assets/steam/apps/1429740/extras/fight1.gif?t=1728281323\" /></p><h2 class=\"bb_tag\">A Universe Set in Ancient India</h2><p class=\"bb_paragraph\">For the very first time, experience a game set in ancient India and infused with Hindu and Balinese mythology. You will find yourself immersed in ancient India where every corner is begging to be explored.</p><p class=\"bb_paragraph\">From enchanting stories from the lore of the game to tightly packed battles against ferocious demons and bosses, ancient puzzles, massive forts and palaces, experience a sibling story who find themselves at the center of a divine war.</p><p class=\"bb_paragraph\"><img class=\"bb_img\" src=\"https://shared.akamai.steamstatic.com/store_item_assets/steam/apps/1429740/extras/parkour.gif?t=1728281323\" /></p>\n",
      "<p class=\"bb_paragraph\"><strong>Astatos</strong>, a card-battling adventure filled with gods, heroes, and the instability of yourself and those around you. <strong>Engaging narrative meets tabletop-inspired card action</strong> about the influence you have on others. </p><p class=\"bb_paragraph\"></p><p class=\"bb_paragraph\"><img class=\"bb_img\" src=\"https://shared.akamai.steamstatic.com/store_item_assets/steam/apps/1430970/extras/Steam-Page-A3.gif?t=1728497312\" /></p><h2 class=\"bb_tag\">THE TRIAL BEGINS</h2><p class=\"bb_paragraph\"><strong>Experience narrative battles, explore solo, or play online—</strong> with strategic 1v1 battles, and chaotic co-op action for up to 8 players. Match cards, cast spells, summon heroes, and turn the opposing team over to your side to come out victorious! </p><p class=\"bb_paragraph\"></p><h2 class=\"bb_tag\">CALL FORTH YOUR HEROES</h2><p class=\"bb_paragraph\"><strong>Summon a wide range of Heroes to win the Trials ahead!</strong> Each with stunning artwork and unique abilities that lead to endless combinations. Just be sure your opponent doesn’t turn them against you! </p><p class=\"bb_paragraph\"></p><p class=\"bb_paragraph\"></p><p class=\"bb_paragraph\"><img class=\"bb_img\" src=\"https://shared.akamai.steamstatic.com/store_item_assets/steam/apps/1430970/extras/Steam-Page-B.gif?t=1728497312\" /></p><h2 class=\"bb_tag\">THE FUTURE OF THE CROWN MAGES</h2><p class=\"bb_paragraph\"><strong>As rebels approach, Vitus and Volesus must flee the academy and leave their order behind.</strong> Unleashing an ancient god and devil, the two adventure to uncover their past, influence the land around them, and find a place to call home.</p><p class=\"bb_paragraph\"></p><h2 class=\"bb_tag\">FREEDOM OR ORDER</h2><p class=\"bb_paragraph\"><strong>With the country in chaos, everyone has their own thoughts to share.</strong> Meet a wide range of characters who each have their own morals and desires. Make decisions and convince others to follow your lead, no matter the consequences.</p><p class=\"bb_paragraph\"></p><p class=\"bb_paragraph\"></p><p class=\"bb_paragraph\"><img class=\"bb_img\" src=\"https://shared.akamai.steamstatic.com/store_item_assets/steam/apps/1430970/extras/Steam-Page-C.gif?t=1728497312\" /></p><h2 class=\"bb_tag\">TIME TO TAKE A BREAK</h2><p class=\"bb_paragraph\"><strong>Collect mementos of your adventure and head to the bathhouse.</strong> Interludes between chapters let you spend mementos and get closer to your companions, which may in turn, influence later events.</p>\n",
      "<strong>Minimum:</strong><br><ul class=\"bb_ul\"><li>Requires a 64-bit processor and operating system<br></li><li><strong>OS:</strong> Windows 10<br></li><li><strong>Processor:</strong> Intel i3 4130 (2.9 GHz) / AMD FX 8120 (3.1 GHz)<br></li><li><strong>Memory:</strong> 8 GB RAM<br></li><li><strong>Graphics:</strong> NVIDIA GeForce GTX 780 (3 GB) / AMD Radeon R7 260X (2 GB)<br></li><li><strong>DirectX:</strong> Version 12<br></li><li><strong>Storage:</strong> 12 GB available space</li></ul>\n"
     ]
    }
   ],
   "source": [
    "print(df.iloc[3]['detailed_description'])\n",
    "print(df.iloc[19]['detailed_description'])\n",
    "print(df.iloc[16]['detailed_description'])\n",
    "print(df.iloc[13]['detailed_description'])\n",
    "print(df.iloc[4]['about_the_game'])\n",
    "print(df.iloc[3]['min_requirements'])"
   ]
  },
  {
   "cell_type": "markdown",
   "metadata": {},
   "source": []
  },
  {
   "cell_type": "markdown",
   "metadata": {},
   "source": [
    "# Remove HTML Elements"
   ]
  },
  {
   "cell_type": "code",
   "execution_count": 5,
   "metadata": {},
   "outputs": [
    {
     "name": "stdout",
     "output_type": "stream",
     "text": [
      "Japanese *\n"
     ]
    },
    {
     "name": "stderr",
     "output_type": "stream",
     "text": [
      "C:\\Users\\Hieu\\AppData\\Local\\Temp\\ipykernel_20032\\2902685850.py:4: MarkupResemblesLocatorWarning: The input looks more like a filename than markup. You may want to open this file and pass the filehandle into Beautiful Soup.\n",
      "  text = BeautifulSoup(text, \"html.parser\").get_text()\n"
     ]
    }
   ],
   "source": [
    "def remove_html_tags(text):\n",
    "    if pd.isna(text):  # Handle NaN values\n",
    "        return text\n",
    "    text = BeautifulSoup(text, \"html.parser\").get_text()\n",
    "    text = html.unescape(text)\n",
    "    text = BeautifulSoup(text, \"html.parser\").get_text()\n",
    "    return text\n",
    "\n",
    "test = 'Japanese &amp;lt;br /&amp;gt;&amp;lt;br /&amp;gt;&amp;lt;strong&amp;gt;*&amp;lt;/strong&amp;gt;'\n",
    "print(remove_html_tags(test))"
   ]
  },
  {
   "cell_type": "code",
   "execution_count": 6,
   "metadata": {},
   "outputs": [
    {
     "data": {
      "application/vnd.jupyter.widget-view+json": {
       "model_id": "a9d7ec5c4fa94534994ac24e5a0bcb8e",
       "version_major": 2,
       "version_minor": 0
      },
      "text/plain": [
       "Pandas Apply:   0%|          | 0/101627 [00:00<?, ?it/s]"
      ]
     },
     "metadata": {},
     "output_type": "display_data"
    },
    {
     "name": "stderr",
     "output_type": "stream",
     "text": [
      "C:\\Users\\Hieu\\AppData\\Local\\Temp\\ipykernel_20032\\2902685850.py:6: MarkupResemblesLocatorWarning: The input looks more like a filename than markup. You may want to open this file and pass the filehandle into Beautiful Soup.\n",
      "  text = BeautifulSoup(text, \"html.parser\").get_text()\n",
      "C:\\Users\\Hieu\\AppData\\Local\\Temp\\ipykernel_20032\\2902685850.py:4: MarkupResemblesLocatorWarning: The input looks more like a filename than markup. You may want to open this file and pass the filehandle into Beautiful Soup.\n",
      "  text = BeautifulSoup(text, \"html.parser\").get_text()\n"
     ]
    },
    {
     "data": {
      "application/vnd.jupyter.widget-view+json": {
       "model_id": "cd5ea3fee9b54d8daa1c4d299918573c",
       "version_major": 2,
       "version_minor": 0
      },
      "text/plain": [
       "Pandas Apply:   0%|          | 0/101627 [00:00<?, ?it/s]"
      ]
     },
     "metadata": {},
     "output_type": "display_data"
    },
    {
     "name": "stderr",
     "output_type": "stream",
     "text": [
      "C:\\Users\\Hieu\\AppData\\Local\\Temp\\ipykernel_20032\\2902685850.py:6: MarkupResemblesLocatorWarning: The input looks more like a filename than markup. You may want to open this file and pass the filehandle into Beautiful Soup.\n",
      "  text = BeautifulSoup(text, \"html.parser\").get_text()\n",
      "C:\\Users\\Hieu\\AppData\\Local\\Temp\\ipykernel_20032\\2902685850.py:4: MarkupResemblesLocatorWarning: The input looks more like a filename than markup. You may want to open this file and pass the filehandle into Beautiful Soup.\n",
      "  text = BeautifulSoup(text, \"html.parser\").get_text()\n"
     ]
    },
    {
     "data": {
      "application/vnd.jupyter.widget-view+json": {
       "model_id": "73247e4f83bb491ba1618c559751f616",
       "version_major": 2,
       "version_minor": 0
      },
      "text/plain": [
       "Pandas Apply:   0%|          | 0/101627 [00:00<?, ?it/s]"
      ]
     },
     "metadata": {},
     "output_type": "display_data"
    },
    {
     "name": "stderr",
     "output_type": "stream",
     "text": [
      "C:\\Users\\Hieu\\AppData\\Local\\Temp\\ipykernel_20032\\2902685850.py:4: MarkupResemblesLocatorWarning: The input looks more like a filename than markup. You may want to open this file and pass the filehandle into Beautiful Soup.\n",
      "  text = BeautifulSoup(text, \"html.parser\").get_text()\n",
      "C:\\Users\\Hieu\\AppData\\Local\\Temp\\ipykernel_20032\\2902685850.py:6: MarkupResemblesLocatorWarning: The input looks more like a filename than markup. You may want to open this file and pass the filehandle into Beautiful Soup.\n",
      "  text = BeautifulSoup(text, \"html.parser\").get_text()\n"
     ]
    },
    {
     "data": {
      "application/vnd.jupyter.widget-view+json": {
       "model_id": "3d8d479f91a6405ea156afa157d2920c",
       "version_major": 2,
       "version_minor": 0
      },
      "text/plain": [
       "Pandas Apply:   0%|          | 0/101627 [00:00<?, ?it/s]"
      ]
     },
     "metadata": {},
     "output_type": "display_data"
    },
    {
     "name": "stderr",
     "output_type": "stream",
     "text": [
      "C:\\Users\\Hieu\\AppData\\Local\\Temp\\ipykernel_20032\\2902685850.py:6: MarkupResemblesLocatorWarning: The input looks more like a filename than markup. You may want to open this file and pass the filehandle into Beautiful Soup.\n",
      "  text = BeautifulSoup(text, \"html.parser\").get_text()\n"
     ]
    },
    {
     "data": {
      "application/vnd.jupyter.widget-view+json": {
       "model_id": "ee660e968a6d4156b37bcc84f7230b2b",
       "version_major": 2,
       "version_minor": 0
      },
      "text/plain": [
       "Pandas Apply:   0%|          | 0/101627 [00:00<?, ?it/s]"
      ]
     },
     "metadata": {},
     "output_type": "display_data"
    },
    {
     "name": "stderr",
     "output_type": "stream",
     "text": [
      "C:\\Users\\Hieu\\AppData\\Local\\Temp\\ipykernel_20032\\2902685850.py:6: MarkupResemblesLocatorWarning: The input looks more like a filename than markup. You may want to open this file and pass the filehandle into Beautiful Soup.\n",
      "  text = BeautifulSoup(text, \"html.parser\").get_text()\n"
     ]
    },
    {
     "data": {
      "application/vnd.jupyter.widget-view+json": {
       "model_id": "61c8c94f67d64dbdb51d17d2a5e12299",
       "version_major": 2,
       "version_minor": 0
      },
      "text/plain": [
       "Pandas Apply:   0%|          | 0/101627 [00:00<?, ?it/s]"
      ]
     },
     "metadata": {},
     "output_type": "display_data"
    },
    {
     "name": "stderr",
     "output_type": "stream",
     "text": [
      "C:\\Users\\Hieu\\AppData\\Local\\Temp\\ipykernel_20032\\2902685850.py:4: MarkupResemblesLocatorWarning: The input looks more like a filename than markup. You may want to open this file and pass the filehandle into Beautiful Soup.\n",
      "  text = BeautifulSoup(text, \"html.parser\").get_text()\n",
      "C:\\Users\\Hieu\\AppData\\Local\\Temp\\ipykernel_20032\\2902685850.py:6: MarkupResemblesLocatorWarning: The input looks more like a filename than markup. You may want to open this file and pass the filehandle into Beautiful Soup.\n",
      "  text = BeautifulSoup(text, \"html.parser\").get_text()\n"
     ]
    },
    {
     "data": {
      "text/html": [
       "<div>\n",
       "<style scoped>\n",
       "    .dataframe tbody tr th:only-of-type {\n",
       "        vertical-align: middle;\n",
       "    }\n",
       "\n",
       "    .dataframe tbody tr th {\n",
       "        vertical-align: top;\n",
       "    }\n",
       "\n",
       "    .dataframe thead th {\n",
       "        text-align: right;\n",
       "    }\n",
       "</style>\n",
       "<table border=\"1\" class=\"dataframe\">\n",
       "  <thead>\n",
       "    <tr style=\"text-align: right;\">\n",
       "      <th></th>\n",
       "      <th>name</th>\n",
       "      <th>steam_appid</th>\n",
       "      <th>is_free</th>\n",
       "      <th>detailed_description</th>\n",
       "      <th>about_the_game</th>\n",
       "      <th>short_description</th>\n",
       "      <th>supported_languages</th>\n",
       "      <th>developers</th>\n",
       "      <th>publishers</th>\n",
       "      <th>categories</th>\n",
       "      <th>genres</th>\n",
       "      <th>release_date</th>\n",
       "      <th>min_requirements</th>\n",
       "      <th>rec_requirements</th>\n",
       "      <th>total_recommendations</th>\n",
       "      <th>price</th>\n",
       "    </tr>\n",
       "  </thead>\n",
       "  <tbody>\n",
       "    <tr>\n",
       "      <th>0</th>\n",
       "      <td>Clash of Warlords</td>\n",
       "      <td>1430720</td>\n",
       "      <td>False</td>\n",
       "      <td>Join the Epic Battles in this most addicting t...</td>\n",
       "      <td>Join the Epic Battles in this most addicting t...</td>\n",
       "      <td>Join the Epic Battles in this most addicting t...</td>\n",
       "      <td>Simplified Chinese*, Traditional Chinese**lang...</td>\n",
       "      <td>XINLINE GAMES</td>\n",
       "      <td>XINLINE GAMES</td>\n",
       "      <td>Single-player, In-App Purchases, Family Sharing</td>\n",
       "      <td>Strategy</td>\n",
       "      <td>Feb 7, 2021</td>\n",
       "      <td>Minimum:OS: Windows7Processor: Intel Core i3 o...</td>\n",
       "      <td>Recommended:OS: Windows10Processor: Intel Core...</td>\n",
       "      <td>0</td>\n",
       "      <td>699.0</td>\n",
       "    </tr>\n",
       "    <tr>\n",
       "      <th>1</th>\n",
       "      <td>Mine Crazy: The Korean Grinder</td>\n",
       "      <td>1430740</td>\n",
       "      <td>False</td>\n",
       "      <td>This is the essence of Korean grinder MMO. Thi...</td>\n",
       "      <td>This is the essence of Korean grinder MMO. Thi...</td>\n",
       "      <td>This is the essence of Korean grinder MMO. Thi...</td>\n",
       "      <td>English**languages with full audio support</td>\n",
       "      <td>Dano Sato</td>\n",
       "      <td>RealMono Inc.</td>\n",
       "      <td>Single-player, Family Sharing</td>\n",
       "      <td>Casual, Indie, RPG, Simulation</td>\n",
       "      <td>Oct 8, 2020</td>\n",
       "      <td>Minimum:OS *: Windows 7,10Processor: AnyMemory...</td>\n",
       "      <td>NaN</td>\n",
       "      <td>0</td>\n",
       "      <td>199.0</td>\n",
       "    </tr>\n",
       "    <tr>\n",
       "      <th>2</th>\n",
       "      <td>Fade</td>\n",
       "      <td>1430100</td>\n",
       "      <td>False</td>\n",
       "      <td>Set in a small town in the Mid-west. You are a...</td>\n",
       "      <td>Set in a small town in the Mid-west. You are a...</td>\n",
       "      <td>Investigate the strange occurrences in a small...</td>\n",
       "      <td>English</td>\n",
       "      <td>Azimyth Studios</td>\n",
       "      <td>Azimyth Studios</td>\n",
       "      <td>Single-player, Family Sharing</td>\n",
       "      <td>Indie, RPG</td>\n",
       "      <td>Oct 29, 2020</td>\n",
       "      <td>Minimum:OS *: Windows VistaProcessor: Intel Co...</td>\n",
       "      <td>NaN</td>\n",
       "      <td>0</td>\n",
       "      <td>199.0</td>\n",
       "    </tr>\n",
       "    <tr>\n",
       "      <th>3</th>\n",
       "      <td>Clash: Artifacts of Chaos</td>\n",
       "      <td>1430680</td>\n",
       "      <td>False</td>\n",
       "      <td>ZENO EDITIONAbout the GameYou play as Pseudo, ...</td>\n",
       "      <td>You play as Pseudo, a master of martial arts w...</td>\n",
       "      <td>Hunted by mercenaries of an enemy with untold ...</td>\n",
       "      <td>English*, French, Italian, German, Spanish - S...</td>\n",
       "      <td>ACE Team</td>\n",
       "      <td>Nacon</td>\n",
       "      <td>Single-player, Steam Achievements, Steam Tradi...</td>\n",
       "      <td>Action, Adventure, Indie</td>\n",
       "      <td>Mar 9, 2023</td>\n",
       "      <td>Minimum:Requires a 64-bit processor and operat...</td>\n",
       "      <td>Recommended:Requires a 64-bit processor and op...</td>\n",
       "      <td>759</td>\n",
       "      <td>2999.0</td>\n",
       "    </tr>\n",
       "    <tr>\n",
       "      <th>4</th>\n",
       "      <td>Astatos</td>\n",
       "      <td>1430970</td>\n",
       "      <td>False</td>\n",
       "      <td>Astatos, a card-battling adventure filled with...</td>\n",
       "      <td>Astatos, a card-battling adventure filled with...</td>\n",
       "      <td>Leave your influence in your wake as you bring...</td>\n",
       "      <td>English, Simplified Chinese, Traditional Chinese</td>\n",
       "      <td>Studio Klondike Australia</td>\n",
       "      <td>Studio Klondike</td>\n",
       "      <td>Single-player, Multi-player, PvP, Online PvP, ...</td>\n",
       "      <td>Adventure, Indie, Strategy, Early Access</td>\n",
       "      <td>Dec 16, 2021</td>\n",
       "      <td>Minimum:Requires a 64-bit processor and operat...</td>\n",
       "      <td>Recommended:Requires a 64-bit processor and op...</td>\n",
       "      <td>243</td>\n",
       "      <td>1499.0</td>\n",
       "    </tr>\n",
       "  </tbody>\n",
       "</table>\n",
       "</div>"
      ],
      "text/plain": [
       "                             name  steam_appid  is_free  \\\n",
       "0               Clash of Warlords      1430720    False   \n",
       "1  Mine Crazy: The Korean Grinder      1430740    False   \n",
       "2                            Fade      1430100    False   \n",
       "3       Clash: Artifacts of Chaos      1430680    False   \n",
       "4                         Astatos      1430970    False   \n",
       "\n",
       "                                detailed_description  \\\n",
       "0  Join the Epic Battles in this most addicting t...   \n",
       "1  This is the essence of Korean grinder MMO. Thi...   \n",
       "2  Set in a small town in the Mid-west. You are a...   \n",
       "3  ZENO EDITIONAbout the GameYou play as Pseudo, ...   \n",
       "4  Astatos, a card-battling adventure filled with...   \n",
       "\n",
       "                                      about_the_game  \\\n",
       "0  Join the Epic Battles in this most addicting t...   \n",
       "1  This is the essence of Korean grinder MMO. Thi...   \n",
       "2  Set in a small town in the Mid-west. You are a...   \n",
       "3  You play as Pseudo, a master of martial arts w...   \n",
       "4  Astatos, a card-battling adventure filled with...   \n",
       "\n",
       "                                   short_description  \\\n",
       "0  Join the Epic Battles in this most addicting t...   \n",
       "1  This is the essence of Korean grinder MMO. Thi...   \n",
       "2  Investigate the strange occurrences in a small...   \n",
       "3  Hunted by mercenaries of an enemy with untold ...   \n",
       "4  Leave your influence in your wake as you bring...   \n",
       "\n",
       "                                 supported_languages  \\\n",
       "0  Simplified Chinese*, Traditional Chinese**lang...   \n",
       "1         English**languages with full audio support   \n",
       "2                                            English   \n",
       "3  English*, French, Italian, German, Spanish - S...   \n",
       "4   English, Simplified Chinese, Traditional Chinese   \n",
       "\n",
       "                  developers       publishers  \\\n",
       "0              XINLINE GAMES    XINLINE GAMES   \n",
       "1                  Dano Sato    RealMono Inc.   \n",
       "2            Azimyth Studios  Azimyth Studios   \n",
       "3                   ACE Team            Nacon   \n",
       "4  Studio Klondike Australia  Studio Klondike   \n",
       "\n",
       "                                          categories  \\\n",
       "0    Single-player, In-App Purchases, Family Sharing   \n",
       "1                      Single-player, Family Sharing   \n",
       "2                      Single-player, Family Sharing   \n",
       "3  Single-player, Steam Achievements, Steam Tradi...   \n",
       "4  Single-player, Multi-player, PvP, Online PvP, ...   \n",
       "\n",
       "                                     genres  release_date  \\\n",
       "0                                  Strategy   Feb 7, 2021   \n",
       "1            Casual, Indie, RPG, Simulation   Oct 8, 2020   \n",
       "2                                Indie, RPG  Oct 29, 2020   \n",
       "3                  Action, Adventure, Indie   Mar 9, 2023   \n",
       "4  Adventure, Indie, Strategy, Early Access  Dec 16, 2021   \n",
       "\n",
       "                                    min_requirements  \\\n",
       "0  Minimum:OS: Windows7Processor: Intel Core i3 o...   \n",
       "1  Minimum:OS *: Windows 7,10Processor: AnyMemory...   \n",
       "2  Minimum:OS *: Windows VistaProcessor: Intel Co...   \n",
       "3  Minimum:Requires a 64-bit processor and operat...   \n",
       "4  Minimum:Requires a 64-bit processor and operat...   \n",
       "\n",
       "                                    rec_requirements  total_recommendations  \\\n",
       "0  Recommended:OS: Windows10Processor: Intel Core...                      0   \n",
       "1                                                NaN                      0   \n",
       "2                                                NaN                      0   \n",
       "3  Recommended:Requires a 64-bit processor and op...                    759   \n",
       "4  Recommended:Requires a 64-bit processor and op...                    243   \n",
       "\n",
       "    price  \n",
       "0   699.0  \n",
       "1   199.0  \n",
       "2   199.0  \n",
       "3  2999.0  \n",
       "4  1499.0  "
      ]
     },
     "execution_count": 6,
     "metadata": {},
     "output_type": "execute_result"
    }
   ],
   "source": [
    "df[\"detailed_description\"] = df[\"detailed_description\"].swifter.apply(remove_html_tags)\n",
    "df[\"about_the_game\"] = df[\"about_the_game\"].swifter.apply(remove_html_tags)\n",
    "df[\"short_description\"] = df[\"short_description\"].swifter.apply(remove_html_tags)\n",
    "df[\"min_requirements\"] = df[\"min_requirements\"].swifter.apply(remove_html_tags)\n",
    "df[\"rec_requirements\"] = df[\"rec_requirements\"].swifter.apply(remove_html_tags)\n",
    "df[\"supported_languages\"] = df[\"supported_languages\"].swifter.apply(remove_html_tags)\n",
    "df.head()"
   ]
  },
  {
   "cell_type": "markdown",
   "metadata": {},
   "source": [
    "After removing HTML elements some of the words are attached to each other."
   ]
  },
  {
   "cell_type": "code",
   "execution_count": 7,
   "metadata": {},
   "outputs": [
    {
     "data": {
      "text/plain": [
       "name                         2\n",
       "steam_appid                  0\n",
       "is_free                      0\n",
       "detailed_description      5471\n",
       "about_the_game            5472\n",
       "short_description         5472\n",
       "supported_languages       5537\n",
       "developers                5594\n",
       "publishers                6071\n",
       "categories                6082\n",
       "genres                    5580\n",
       "release_date                82\n",
       "min_requirements          4194\n",
       "rec_requirements         39505\n",
       "total_recommendations        0\n",
       "price                    20466\n",
       "dtype: int64"
      ]
     },
     "execution_count": 7,
     "metadata": {},
     "output_type": "execute_result"
    }
   ],
   "source": [
    "df.isna().sum()"
   ]
  },
  {
   "cell_type": "code",
   "execution_count": 8,
   "metadata": {},
   "outputs": [],
   "source": [
    "df.to_csv('Metadata.csv', index=False)"
   ]
  },
  {
   "cell_type": "markdown",
   "metadata": {},
   "source": [
    "Empty string is na values when they are written and read back. Therefore, the number of missing values when read back will be larger than the number of missing values here."
   ]
  },
  {
   "cell_type": "markdown",
   "metadata": {},
   "source": []
  }
 ],
 "metadata": {
  "kernelspec": {
   "display_name": "Python 3",
   "language": "python",
   "name": "python3"
  },
  "language_info": {
   "codemirror_mode": {
    "name": "ipython",
    "version": 3
   },
   "file_extension": ".py",
   "mimetype": "text/x-python",
   "name": "python",
   "nbconvert_exporter": "python",
   "pygments_lexer": "ipython3",
   "version": "3.12.1"
  }
 },
 "nbformat": 4,
 "nbformat_minor": 2
}
