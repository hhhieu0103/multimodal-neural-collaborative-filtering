{
 "cells": [
  {
   "cell_type": "code",
   "execution_count": 9,
   "metadata": {},
   "outputs": [],
   "source": [
    "import pandas as pd\n",
    "\n",
    "import cornac\n",
    "from cornac.eval_methods import RatioSplit\n",
    "from cornac.models import BPR"
   ]
  },
  {
   "cell_type": "code",
   "execution_count": 10,
   "metadata": {},
   "outputs": [
    {
     "data": {
      "application/vnd.microsoft.datawrangler.viewer.v0+json": {
       "columns": [
        {
         "name": "index",
         "rawType": "int64",
         "type": "integer"
        },
        {
         "name": "author_id",
         "rawType": "int64",
         "type": "integer"
        },
        {
         "name": "app_id",
         "rawType": "int64",
         "type": "integer"
        },
        {
         "name": "voted_up",
         "rawType": "int32",
         "type": "integer"
        }
       ],
       "conversionMethod": "pd.DataFrame",
       "ref": "080f0345-d38c-431a-91e4-45b50d5bcf37",
       "rows": [
        [
         "0",
         "76561197960432447",
         "10",
         "1"
        ],
        [
         "1",
         "76561198071230926",
         "10",
         "1"
        ],
        [
         "2",
         "76561198206216352",
         "10",
         "1"
        ],
        [
         "3",
         "76561198110801124",
         "10",
         "1"
        ],
        [
         "4",
         "76561199813732773",
         "10",
         "1"
        ]
       ],
       "shape": {
        "columns": 3,
        "rows": 5
       }
      },
      "text/html": [
       "<div>\n",
       "<style scoped>\n",
       "    .dataframe tbody tr th:only-of-type {\n",
       "        vertical-align: middle;\n",
       "    }\n",
       "\n",
       "    .dataframe tbody tr th {\n",
       "        vertical-align: top;\n",
       "    }\n",
       "\n",
       "    .dataframe thead th {\n",
       "        text-align: right;\n",
       "    }\n",
       "</style>\n",
       "<table border=\"1\" class=\"dataframe\">\n",
       "  <thead>\n",
       "    <tr style=\"text-align: right;\">\n",
       "      <th></th>\n",
       "      <th>author_id</th>\n",
       "      <th>app_id</th>\n",
       "      <th>voted_up</th>\n",
       "    </tr>\n",
       "  </thead>\n",
       "  <tbody>\n",
       "    <tr>\n",
       "      <th>0</th>\n",
       "      <td>76561197960432447</td>\n",
       "      <td>10</td>\n",
       "      <td>1</td>\n",
       "    </tr>\n",
       "    <tr>\n",
       "      <th>1</th>\n",
       "      <td>76561198071230926</td>\n",
       "      <td>10</td>\n",
       "      <td>1</td>\n",
       "    </tr>\n",
       "    <tr>\n",
       "      <th>2</th>\n",
       "      <td>76561198206216352</td>\n",
       "      <td>10</td>\n",
       "      <td>1</td>\n",
       "    </tr>\n",
       "    <tr>\n",
       "      <th>3</th>\n",
       "      <td>76561198110801124</td>\n",
       "      <td>10</td>\n",
       "      <td>1</td>\n",
       "    </tr>\n",
       "    <tr>\n",
       "      <th>4</th>\n",
       "      <td>76561199813732773</td>\n",
       "      <td>10</td>\n",
       "      <td>1</td>\n",
       "    </tr>\n",
       "  </tbody>\n",
       "</table>\n",
       "</div>"
      ],
      "text/plain": [
       "           author_id  app_id  voted_up\n",
       "0  76561197960432447      10         1\n",
       "1  76561198071230926      10         1\n",
       "2  76561198206216352      10         1\n",
       "3  76561198110801124      10         1\n",
       "4  76561199813732773      10         1"
      ]
     },
     "execution_count": 10,
     "metadata": {},
     "output_type": "execute_result"
    }
   ],
   "source": [
    "df = pd.read_csv('../Data/Reviews-clean.csv')[['author_id', 'app_id', 'voted_up']]\n",
    "df['voted_up'] = df['voted_up'].astype(int)\n",
    "df.head()"
   ]
  },
  {
   "cell_type": "code",
   "execution_count": 11,
   "metadata": {},
   "outputs": [],
   "source": [
    "dataset = cornac.data.Dataset.from_uir(df.to_numpy())"
   ]
  },
  {
   "cell_type": "markdown",
   "metadata": {},
   "source": [
    "# MF"
   ]
  },
  {
   "cell_type": "code",
   "execution_count": 12,
   "metadata": {},
   "outputs": [],
   "source": [
    "rs = RatioSplit(df.to_numpy(), test_size=0.1, val_size=0.1)\n",
    "metrics = [\n",
    "    cornac.metrics.RMSE(),\n",
    "    cornac.metrics.MAE(),\n",
    "    cornac.metrics.MSE(),\n",
    "    cornac.metrics.AUC(),\n",
    "    cornac.metrics.FMeasure(10),\n",
    "    cornac.metrics.HitRatio(10),\n",
    "    cornac.metrics.MAP(),\n",
    "    cornac.metrics.MRR(),\n",
    "    cornac.metrics.NCRR(10),\n",
    "    cornac.metrics.NDCG(10),\n",
    "    cornac.metrics.Precision(10),\n",
    "    cornac.metrics.Recall(10)\n",
    "]"
   ]
  },
  {
   "cell_type": "code",
   "execution_count": null,
   "metadata": {},
   "outputs": [
    {
     "name": "stdout",
     "output_type": "stream",
     "text": [
      "\n",
      "VALIDATION:\n",
      "...\n",
      "        | NDCG@10 | Precision@10 | Recall@10 | Time (s)\n",
      "------- + ------- + ------------ + --------- + --------\n",
      "BiVAECF |  0.0106 |       0.0027 |    0.0239 |  36.2151\n",
      "\n",
      "TEST:\n",
      "...\n",
      "        | NDCG@10 | Precision@10 | Recall@10 |  Train (s) | Test (s)\n",
      "------- + ------- + ------------ + --------- + ---------- + --------\n",
      "BiVAECF |  0.0107 |       0.0028 |    0.0249 | 31212.8873 |  34.6108\n",
      "\n"
     ]
    }
   ],
   "source": [
    "cornac.Experiment(eval_method=rs, models=[BPR(name='Unimodal BPR')], metrics=metrics, save_dir='Models').run()"
   ]
  },
  {
   "cell_type": "code",
   "execution_count": null,
   "metadata": {},
   "outputs": [],
   "source": [
    "from cornac.hyperopt import Discrete, Continuous\n",
    "from cornac.hyperopt import RandomSearch\n",
    "\n",
    "rs_bpr = RandomSearch(\n",
    "    model=BPR(name='Unimodal BPR'),\n",
    "    space=[\n",
    "        Discrete(name=\"k\", values=[50, 100, 200]),\n",
    "        Discrete(name=\"max_iter\", values=[100, 500, 1000]),\n",
    "        Continuous(name=\"learning_rate\", low=0.001, high=0.1),\n",
    "        Continuous(name=\"lambda_reg\", low=0.001, high=0.1),\n",
    "        Discrete(name=\"use_bias\", values=[True, False]),\n",
    "    ],\n",
    "    metric=cornac.metrics.Recall(10),\n",
    "    eval_method=rs,\n",
    "    n_trails=60,\n",
    ")"
   ]
  },
  {
   "cell_type": "code",
   "execution_count": 13,
   "metadata": {},
   "outputs": [
    {
     "name": "stdout",
     "output_type": "stream",
     "text": [
      "\n",
      "VALIDATION:\n",
      "...\n",
      "                 | NDCG@10 | Precision@10 | Recall@10 | Time (s)\n",
      "---------------- + ------- + ------------ + --------- + --------\n",
      "RandomSearch_BPR |  0.0522 |       0.0099 |    0.0793 |  78.4569\n",
      "\n",
      "TEST:\n",
      "...\n",
      "                 | NDCG@10 | Precision@10 | Recall@10 | Train (s) | Test (s)\n",
      "---------------- + ------- + ------------ + --------- + --------- + --------\n",
      "RandomSearch_BPR |  0.0542 |       0.0102 |    0.0815 | 6728.9108 |  80.2510\n",
      "\n",
      "{'k': 200, 'lambda_reg': 0.01096994302791341, 'learning_rate': 0.09152844192182917, 'max_iter': 1000, 'use_bias': False}\n"
     ]
    }
   ],
   "source": [
    "# Define the experiment\n",
    "cornac.Experiment(\n",
    "    eval_method=rs,\n",
    "    models=[rs_bpr],\n",
    "    metrics=metrics,\n",
    "    user_based=False,\n",
    "    save_dir='Models'\n",
    ").run()\n",
    "\n",
    "# Obtain the best params\n",
    "# print(gs_bpr.best_params)\n",
    "print(rs_bpr.best_params)"
   ]
  },
  {
   "cell_type": "code",
   "execution_count": 14,
   "metadata": {},
   "outputs": [
    {
     "name": "stdout",
     "output_type": "stream",
     "text": [
      "\n",
      "VALIDATION:\n",
      "...\n",
      "                   |    MAE |    MSE |   RMSE |    AUC |  F1@10 | HitRatio@10 |    MAP |    MRR | NCRR@10 | NDCG@10 | Precision@10 | Recall@10 | Time (s)\n",
      "------------------ + ------ + ------ + ------ + ------ + ------ + ----------- + ------ + ------ + ------- + ------- + ------------ + --------- + --------\n",
      "Unimodal BPR Tuned | 0.3416 | 0.2944 | 0.5426 | 0.8923 | 0.0172 |      0.0924 | 0.0490 | 0.0542 |  0.0450 |  0.0535 |       0.0100 |    0.0802 | 384.5426\n",
      "\n",
      "TEST:\n",
      "...\n",
      "                   |    MAE |    MSE |   RMSE |    AUC |  F1@10 | HitRatio@10 |    MAP |    MRR | NCRR@10 | NDCG@10 | Precision@10 | Recall@10 | Train (s) | Test (s)\n",
      "------------------ + ------ + ------ + ------ + ------ + ------ + ----------- + ------ + ------ + ------- + ------- + ------------ + --------- + --------- + --------\n",
      "Unimodal BPR Tuned | 0.3448 | 0.2974 | 0.5454 | 0.8887 | 0.0177 |      0.0943 | 0.0492 | 0.0543 |  0.0452 |  0.0542 |       0.0103 |    0.0824 |  162.2159 | 399.4416\n",
      "\n"
     ]
    }
   ],
   "source": [
    "uni_bpr_tuned = BPR(name='Unimodal BPR Tuned', **{'k': 200, 'lambda_reg': 0.01096994302791341, 'learning_rate': 0.09152844192182917, 'max_iter': 1000, 'use_bias': False})\n",
    "\n",
    "cornac.Experiment(\n",
    "    eval_method=rs,\n",
    "    models=[uni_bpr_tuned],\n",
    "    metrics=metrics,\n",
    "    user_based=False,\n",
    "    save_dir='Models'\n",
    ").run()"
   ]
  },
  {
   "cell_type": "code",
   "execution_count": 16,
   "metadata": {},
   "outputs": [
    {
     "data": {
      "text/plain": [
       "63953"
      ]
     },
     "execution_count": 16,
     "metadata": {},
     "output_type": "execute_result"
    }
   ],
   "source": [
    "uni_bpr_tuned.get_item_vectors().shape[0]"
   ]
  },
  {
   "cell_type": "code",
   "execution_count": 17,
   "metadata": {},
   "outputs": [
    {
     "data": {
      "text/plain": [
       "691842"
      ]
     },
     "execution_count": 17,
     "metadata": {},
     "output_type": "execute_result"
    }
   ],
   "source": [
    "uni_bpr_tuned.get_user_vectors().shape[0]"
   ]
  },
  {
   "cell_type": "code",
   "execution_count": null,
   "metadata": {},
   "outputs": [],
   "source": []
  }
 ],
 "metadata": {
  "kernelspec": {
   "display_name": "Python 3",
   "language": "python",
   "name": "python3"
  },
  "language_info": {
   "codemirror_mode": {
    "name": "ipython",
    "version": 3
   },
   "file_extension": ".py",
   "mimetype": "text/x-python",
   "name": "python",
   "nbconvert_exporter": "python",
   "pygments_lexer": "ipython3",
   "version": "3.12.1"
  }
 },
 "nbformat": 4,
 "nbformat_minor": 2
}
