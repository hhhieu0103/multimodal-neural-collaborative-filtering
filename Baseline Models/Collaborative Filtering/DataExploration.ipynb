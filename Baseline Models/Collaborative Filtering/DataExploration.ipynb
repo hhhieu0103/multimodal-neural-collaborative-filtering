{
 "cells": [
  {
   "cell_type": "code",
   "execution_count": 1,
   "metadata": {},
   "outputs": [],
   "source": [
    "import cornac\n",
    "import numpy as np\n",
    "import pandas as pd\n",
    "import matplotlib.pyplot as plt\n",
    "import seaborn as sns\n",
    "from scipy import stats, sparse"
   ]
  },
  {
   "cell_type": "code",
   "execution_count": 2,
   "metadata": {},
   "outputs": [
    {
     "data": {
      "application/vnd.microsoft.datawrangler.viewer.v0+json": {
       "columns": [
        {
         "name": "index",
         "rawType": "int64",
         "type": "integer"
        },
        {
         "name": "recommendationid",
         "rawType": "int64",
         "type": "integer"
        },
        {
         "name": "author_id",
         "rawType": "int64",
         "type": "integer"
        },
        {
         "name": "review",
         "rawType": "object",
         "type": "string"
        },
        {
         "name": "timestamp",
         "rawType": "int64",
         "type": "integer"
        },
        {
         "name": "voted_up",
         "rawType": "bool",
         "type": "boolean"
        },
        {
         "name": "weighted_vote_score",
         "rawType": "float64",
         "type": "float"
        },
        {
         "name": "app_id",
         "rawType": "int64",
         "type": "integer"
        }
       ],
       "conversionMethod": "pd.DataFrame",
       "ref": "69a511b5-5f09-4879-be39-b54e14db2dcc",
       "rows": [
        [
         "0",
         "186781078",
         "76561197960432447",
         "A legendary tactical shooter that shaped the genre. Simple yet deep gameplay, excellent weapon balance, and iconic maps keep the game relevant even today. Pure nostalgia and classic FPS action.",
         "1738278781",
         "True",
         "0.652996838092804",
         "10"
        ],
        [
         "1",
         "184974430",
         "76561198071230926",
         "The best CS sure, but server browser is the illusion of choice and leads you to the same **** server. Use gametracker or something",
         "1736206418",
         "True",
         "0.5817490816116333",
         "10"
        ],
        [
         "2",
         "186584044",
         "76561198206216352",
         "Some of the best memories of my childhood were made in pixels, with friends I only knew through a screen. Time moves on, but those moments are forever frozen in time.",
         "1738041574",
         "True",
         "0.6283783912658691",
         "10"
        ],
        [
         "3",
         "186564689",
         "76561198110801124",
         "This game feels so much better than CS2. I know this game still gets FACEIT/ESEA-type treatment from services in the EU, but it would be cool if it got such services in NA.",
         "1738015332",
         "True",
         "0.0",
         "10"
        ],
        [
         "4",
         "186418367",
         "76561199813732773",
         "its very fun to play you can make friends out of it i have lots of maps i like i like how theres diffrent teams to choose from idk what else to say its just fun",
         "1737853720",
         "True",
         "0.0",
         "10"
        ]
       ],
       "shape": {
        "columns": 7,
        "rows": 5
       }
      },
      "text/html": [
       "<div>\n",
       "<style scoped>\n",
       "    .dataframe tbody tr th:only-of-type {\n",
       "        vertical-align: middle;\n",
       "    }\n",
       "\n",
       "    .dataframe tbody tr th {\n",
       "        vertical-align: top;\n",
       "    }\n",
       "\n",
       "    .dataframe thead th {\n",
       "        text-align: right;\n",
       "    }\n",
       "</style>\n",
       "<table border=\"1\" class=\"dataframe\">\n",
       "  <thead>\n",
       "    <tr style=\"text-align: right;\">\n",
       "      <th></th>\n",
       "      <th>recommendationid</th>\n",
       "      <th>author_id</th>\n",
       "      <th>review</th>\n",
       "      <th>timestamp</th>\n",
       "      <th>voted_up</th>\n",
       "      <th>weighted_vote_score</th>\n",
       "      <th>app_id</th>\n",
       "    </tr>\n",
       "  </thead>\n",
       "  <tbody>\n",
       "    <tr>\n",
       "      <th>0</th>\n",
       "      <td>186781078</td>\n",
       "      <td>76561197960432447</td>\n",
       "      <td>A legendary tactical shooter that shaped the g...</td>\n",
       "      <td>1738278781</td>\n",
       "      <td>True</td>\n",
       "      <td>0.652997</td>\n",
       "      <td>10</td>\n",
       "    </tr>\n",
       "    <tr>\n",
       "      <th>1</th>\n",
       "      <td>184974430</td>\n",
       "      <td>76561198071230926</td>\n",
       "      <td>The best CS sure, but server browser is the il...</td>\n",
       "      <td>1736206418</td>\n",
       "      <td>True</td>\n",
       "      <td>0.581749</td>\n",
       "      <td>10</td>\n",
       "    </tr>\n",
       "    <tr>\n",
       "      <th>2</th>\n",
       "      <td>186584044</td>\n",
       "      <td>76561198206216352</td>\n",
       "      <td>Some of the best memories of my childhood were...</td>\n",
       "      <td>1738041574</td>\n",
       "      <td>True</td>\n",
       "      <td>0.628378</td>\n",
       "      <td>10</td>\n",
       "    </tr>\n",
       "    <tr>\n",
       "      <th>3</th>\n",
       "      <td>186564689</td>\n",
       "      <td>76561198110801124</td>\n",
       "      <td>This game feels so much better than CS2. I kno...</td>\n",
       "      <td>1738015332</td>\n",
       "      <td>True</td>\n",
       "      <td>0.000000</td>\n",
       "      <td>10</td>\n",
       "    </tr>\n",
       "    <tr>\n",
       "      <th>4</th>\n",
       "      <td>186418367</td>\n",
       "      <td>76561199813732773</td>\n",
       "      <td>its very fun to play you can make friends out ...</td>\n",
       "      <td>1737853720</td>\n",
       "      <td>True</td>\n",
       "      <td>0.000000</td>\n",
       "      <td>10</td>\n",
       "    </tr>\n",
       "  </tbody>\n",
       "</table>\n",
       "</div>"
      ],
      "text/plain": [
       "   recommendationid          author_id  \\\n",
       "0         186781078  76561197960432447   \n",
       "1         184974430  76561198071230926   \n",
       "2         186584044  76561198206216352   \n",
       "3         186564689  76561198110801124   \n",
       "4         186418367  76561199813732773   \n",
       "\n",
       "                                              review   timestamp  voted_up  \\\n",
       "0  A legendary tactical shooter that shaped the g...  1738278781      True   \n",
       "1  The best CS sure, but server browser is the il...  1736206418      True   \n",
       "2  Some of the best memories of my childhood were...  1738041574      True   \n",
       "3  This game feels so much better than CS2. I kno...  1738015332      True   \n",
       "4  its very fun to play you can make friends out ...  1737853720      True   \n",
       "\n",
       "   weighted_vote_score  app_id  \n",
       "0             0.652997      10  \n",
       "1             0.581749      10  \n",
       "2             0.628378      10  \n",
       "3             0.000000      10  \n",
       "4             0.000000      10  "
      ]
     },
     "execution_count": 2,
     "metadata": {},
     "output_type": "execute_result"
    }
   ],
   "source": [
    "df = pd.read_csv('Data/Reviews-raw.csv').drop(columns=['Unnamed: 0'])\n",
    "df.head()"
   ]
  },
  {
   "cell_type": "markdown",
   "metadata": {},
   "source": [
    "# Data Cleaning"
   ]
  },
  {
   "cell_type": "markdown",
   "metadata": {},
   "source": [
    "## Duplicated values"
   ]
  },
  {
   "cell_type": "markdown",
   "metadata": {},
   "source": [
    "There are 2 types of duplicated values:\n",
    "- Reviews with the same ```recommendationid```\n",
    "- Reviews with the same values on all columns\n",
    "- Reviews with the same ```author_id``` and ```app_id```"
   ]
  },
  {
   "cell_type": "markdown",
   "metadata": {},
   "source": [
    "### Duplicated columns values"
   ]
  },
  {
   "cell_type": "code",
   "execution_count": 3,
   "metadata": {},
   "outputs": [
    {
     "name": "stdout",
     "output_type": "stream",
     "text": [
      "Number of rows having duplicated recommendationid: 596,656\n"
     ]
    },
    {
     "data": {
      "application/vnd.microsoft.datawrangler.viewer.v0+json": {
       "columns": [
        {
         "name": "index",
         "rawType": "int64",
         "type": "integer"
        },
        {
         "name": "recommendationid",
         "rawType": "int64",
         "type": "integer"
        },
        {
         "name": "author_id",
         "rawType": "int64",
         "type": "integer"
        },
        {
         "name": "review",
         "rawType": "object",
         "type": "string"
        },
        {
         "name": "timestamp",
         "rawType": "int64",
         "type": "integer"
        },
        {
         "name": "voted_up",
         "rawType": "bool",
         "type": "boolean"
        },
        {
         "name": "weighted_vote_score",
         "rawType": "float64",
         "type": "float"
        },
        {
         "name": "app_id",
         "rawType": "int64",
         "type": "integer"
        }
       ],
       "conversionMethod": "pd.DataFrame",
       "ref": "88c8d18a-f733-4285-8689-341ae7daa621",
       "rows": [
        [
         "85330",
         "361956",
         "76561197969617806",
         "Never play or buy this game. Ever. No ability to save in-game notes and alt-tabbing to Notepad crashes in to black screen.",
         "1385425897",
         "False",
         "0.5",
         "11130"
        ],
        [
         "173299",
         "765590",
         "76561197977755278",
         "[h1]Grand Theft Auto: Episodes from Liberty City[/h1]\n\nAny real problems with gameplay on windows 10 can be solved mostly by using MSI afterburner to lock to 30fps. This gets rid of a lot of problems.\n\nFantastic expansion to what was one if not the best GTA's in the entire franchise\n\n[h1]The Lost And Dammed[/h1]\n[u]”Brothers for life, Lost forever.”[/u]\n\nThis expansion is kind of like Son's of Anarchy the game. You play as Johnny Klebitz (Newcomers may recognise him from a very short appearance in V) The story takes place as the same time as the mainline IV story and the ballad of Gay Tony and the stories have cross over points which fill in the blanks of the other game, very cool story telling.\n\nAs Vice President of the Lost MC Johnny deals with the debt left behind by the President Billy Grey who is currently in rehab, he also brokers a deal with there arch rivals the Angels of Death. Upon Billy's release he retakes the reins of the Lost MC and quickly undoes the work and fragile peace that Johnny had made happen. In doing so a crazy gang war ensues which leads to infighting and chaos across the city.\n\n[h1]The Ballad Of Gay Tony[/h1]\n[u]\"Hey, I know who I am. Sure, I do bad shit, but that ain't what I'm going to be forever.\"[/u]\n\nAfter witnessing the Bank Of Liberty Heist (Four Leaf Clover) carried out by Niko, Patrick and his brothers. Luis starts taking risky jobs in order to assist his boss Gay Tony.\n\nThe ballad of Gay Tony focuses very heavily on the diamond plot of IV.\n\nFeatures added in this game some of which made their way into GTAV for example are the scoring which judges you on speed, goals etc. Triathlon races and other mini games like Drug Wars, Underground Fighting Tournaments and basejumping.\n\n[i][u][b]Trail-Dave[/b][/u][/i]",
         "1658063429",
         "True",
         "0.6025036573410034",
         "12220"
        ],
        [
         "173399",
         "765590",
         "76561197977755278",
         "[h1]Grand Theft Auto: Episodes from Liberty City[/h1]\n\nAny real problems with gameplay on windows 10 can be solved mostly by using MSI afterburner to lock to 30fps. This gets rid of a lot of problems.\n\nFantastic expansion to what was one if not the best GTA's in the entire franchise\n\n[h1]The Lost And Dammed[/h1]\n[u]”Brothers for life, Lost forever.”[/u]\n\nThis expansion is kind of like Son's of Anarchy the game. You play as Johnny Klebitz (Newcomers may recognise him from a very short appearance in V) The story takes place as the same time as the mainline IV story and the ballad of Gay Tony and the stories have cross over points which fill in the blanks of the other game, very cool story telling.\n\nAs Vice President of the Lost MC Johnny deals with the debt left behind by the President Billy Grey who is currently in rehab, he also brokers a deal with there arch rivals the Angels of Death. Upon Billy's release he retakes the reins of the Lost MC and quickly undoes the work and fragile peace that Johnny had made happen. In doing so a crazy gang war ensues which leads to infighting and chaos across the city.\n\n[h1]The Ballad Of Gay Tony[/h1]\n[u]\"Hey, I know who I am. Sure, I do bad shit, but that ain't what I'm going to be forever.\"[/u]\n\nAfter witnessing the Bank Of Liberty Heist (Four Leaf Clover) carried out by Niko, Patrick and his brothers. Luis starts taking risky jobs in order to assist his boss Gay Tony.\n\nThe ballad of Gay Tony focuses very heavily on the diamond plot of IV.\n\nFeatures added in this game some of which made their way into GTAV for example are the scoring which judges you on speed, goals etc. Triathlon races and other mini games like Drug Wars, Underground Fighting Tournaments and basejumping.\n\n[i][u][b]Trail-Dave[/b][/u][/i]",
         "1658063429",
         "True",
         "0.6025036573410034",
         "12220"
        ],
        [
         "85318",
         "830608",
         "76561197979693740",
         "This game is old as hell, but not so old as to be excusable.  It's quite terrible and very little is given to narrative.  The puzzles make no sense and it's easy to get disoriented with its Myst-style POV.  If you bought the Holmes pack, don't bother with this one and start with 2 (Silver Earring)",
         "1363127744",
         "True",
         "0.4982578456401824",
         "11130"
        ],
        [
         "173446",
         "911494",
         "76561197981793213",
         "Interesting storylines, fun gameplay for main story missions and side missions, and diverse characters make this game worth your time. Both episodes are outstanding, The Ballad of Gay Tony has more variety in missions than The Lost and Damned. The Lost and Damned emphasizes importance of teamwork. Liberty City is a great imitation of real life New York City.",
         "1352853246",
         "True",
         "0.5466506481170654",
         "12220"
        ]
       ],
       "shape": {
        "columns": 7,
        "rows": 5
       }
      },
      "text/html": [
       "<div>\n",
       "<style scoped>\n",
       "    .dataframe tbody tr th:only-of-type {\n",
       "        vertical-align: middle;\n",
       "    }\n",
       "\n",
       "    .dataframe tbody tr th {\n",
       "        vertical-align: top;\n",
       "    }\n",
       "\n",
       "    .dataframe thead th {\n",
       "        text-align: right;\n",
       "    }\n",
       "</style>\n",
       "<table border=\"1\" class=\"dataframe\">\n",
       "  <thead>\n",
       "    <tr style=\"text-align: right;\">\n",
       "      <th></th>\n",
       "      <th>recommendationid</th>\n",
       "      <th>author_id</th>\n",
       "      <th>review</th>\n",
       "      <th>timestamp</th>\n",
       "      <th>voted_up</th>\n",
       "      <th>weighted_vote_score</th>\n",
       "      <th>app_id</th>\n",
       "    </tr>\n",
       "  </thead>\n",
       "  <tbody>\n",
       "    <tr>\n",
       "      <th>85330</th>\n",
       "      <td>361956</td>\n",
       "      <td>76561197969617806</td>\n",
       "      <td>Never play or buy this game. Ever. No ability ...</td>\n",
       "      <td>1385425897</td>\n",
       "      <td>False</td>\n",
       "      <td>0.500000</td>\n",
       "      <td>11130</td>\n",
       "    </tr>\n",
       "    <tr>\n",
       "      <th>173299</th>\n",
       "      <td>765590</td>\n",
       "      <td>76561197977755278</td>\n",
       "      <td>[h1]Grand Theft Auto: Episodes from Liberty Ci...</td>\n",
       "      <td>1658063429</td>\n",
       "      <td>True</td>\n",
       "      <td>0.602504</td>\n",
       "      <td>12220</td>\n",
       "    </tr>\n",
       "    <tr>\n",
       "      <th>173399</th>\n",
       "      <td>765590</td>\n",
       "      <td>76561197977755278</td>\n",
       "      <td>[h1]Grand Theft Auto: Episodes from Liberty Ci...</td>\n",
       "      <td>1658063429</td>\n",
       "      <td>True</td>\n",
       "      <td>0.602504</td>\n",
       "      <td>12220</td>\n",
       "    </tr>\n",
       "    <tr>\n",
       "      <th>85318</th>\n",
       "      <td>830608</td>\n",
       "      <td>76561197979693740</td>\n",
       "      <td>This game is old as hell, but not so old as to...</td>\n",
       "      <td>1363127744</td>\n",
       "      <td>True</td>\n",
       "      <td>0.498258</td>\n",
       "      <td>11130</td>\n",
       "    </tr>\n",
       "    <tr>\n",
       "      <th>173446</th>\n",
       "      <td>911494</td>\n",
       "      <td>76561197981793213</td>\n",
       "      <td>Interesting storylines, fun gameplay for main ...</td>\n",
       "      <td>1352853246</td>\n",
       "      <td>True</td>\n",
       "      <td>0.546651</td>\n",
       "      <td>12220</td>\n",
       "    </tr>\n",
       "  </tbody>\n",
       "</table>\n",
       "</div>"
      ],
      "text/plain": [
       "        recommendationid          author_id  \\\n",
       "85330             361956  76561197969617806   \n",
       "173299            765590  76561197977755278   \n",
       "173399            765590  76561197977755278   \n",
       "85318             830608  76561197979693740   \n",
       "173446            911494  76561197981793213   \n",
       "\n",
       "                                                   review   timestamp  \\\n",
       "85330   Never play or buy this game. Ever. No ability ...  1385425897   \n",
       "173299  [h1]Grand Theft Auto: Episodes from Liberty Ci...  1658063429   \n",
       "173399  [h1]Grand Theft Auto: Episodes from Liberty Ci...  1658063429   \n",
       "85318   This game is old as hell, but not so old as to...  1363127744   \n",
       "173446  Interesting storylines, fun gameplay for main ...  1352853246   \n",
       "\n",
       "        voted_up  weighted_vote_score  app_id  \n",
       "85330      False             0.500000   11130  \n",
       "173299      True             0.602504   12220  \n",
       "173399      True             0.602504   12220  \n",
       "85318       True             0.498258   11130  \n",
       "173446      True             0.546651   12220  "
      ]
     },
     "execution_count": 3,
     "metadata": {},
     "output_type": "execute_result"
    }
   ],
   "source": [
    "dup_all = df[df.duplicated()].sort_values(by='recommendationid')\n",
    "print(f'Number of rows having duplicated recommendationid: {dup_all.shape[0]:,}')\n",
    "dup_all.head()"
   ]
  },
  {
   "cell_type": "code",
   "execution_count": 4,
   "metadata": {},
   "outputs": [
    {
     "name": "stdout",
     "output_type": "stream",
     "text": [
      "Number of rows BEFORE removing duplicates: 1,766,443\n",
      "Number of rows AFTER removing duplicates: 1,169,787\n",
      "Total removed rows: 596,656\n"
     ]
    }
   ],
   "source": [
    "n_rows_before = df.shape[0]\n",
    "print(f'Number of rows BEFORE removing duplicates: {df.shape[0]:,}')\n",
    "df.drop_duplicates(inplace=True)\n",
    "n_rows_after = df.shape[0]\n",
    "print(f'Number of rows AFTER removing duplicates: {df.shape[0]:,}')\n",
    "print(f'Total removed rows: {(n_rows_before - n_rows_after):,}')"
   ]
  },
  {
   "cell_type": "markdown",
   "metadata": {},
   "source": [
    "### Duplicated ```recommendationid```"
   ]
  },
  {
   "cell_type": "code",
   "execution_count": 5,
   "metadata": {},
   "outputs": [
    {
     "name": "stdout",
     "output_type": "stream",
     "text": [
      "Number of rows having duplicated recommendationid: 27,077\n"
     ]
    },
    {
     "data": {
      "application/vnd.microsoft.datawrangler.viewer.v0+json": {
       "columns": [
        {
         "name": "index",
         "rawType": "int64",
         "type": "integer"
        },
        {
         "name": "recommendationid",
         "rawType": "int64",
         "type": "integer"
        },
        {
         "name": "author_id",
         "rawType": "int64",
         "type": "integer"
        },
        {
         "name": "review",
         "rawType": "object",
         "type": "unknown"
        },
        {
         "name": "timestamp",
         "rawType": "int64",
         "type": "integer"
        },
        {
         "name": "voted_up",
         "rawType": "bool",
         "type": "boolean"
        },
        {
         "name": "weighted_vote_score",
         "rawType": "float64",
         "type": "float"
        },
        {
         "name": "app_id",
         "rawType": "int64",
         "type": "integer"
        }
       ],
       "conversionMethod": "pd.DataFrame",
       "ref": "d4ecc8f5-44c7-42b9-a098-30bb71fb16db",
       "rows": [
        [
         "0",
         "186781078",
         "76561197960432447",
         "A legendary tactical shooter that shaped the genre. Simple yet deep gameplay, excellent weapon balance, and iconic maps keep the game relevant even today. Pure nostalgia and classic FPS action.",
         "1738278781",
         "True",
         "0.652996838092804",
         "10"
        ],
        [
         "1",
         "184974430",
         "76561198071230926",
         "The best CS sure, but server browser is the illusion of choice and leads you to the same **** server. Use gametracker or something",
         "1736206418",
         "True",
         "0.5817490816116333",
         "10"
        ],
        [
         "2",
         "186584044",
         "76561198206216352",
         "Some of the best memories of my childhood were made in pixels, with friends I only knew through a screen. Time moves on, but those moments are forever frozen in time.",
         "1738041574",
         "True",
         "0.6283783912658691",
         "10"
        ],
        [
         "236",
         "186781078",
         "76561197960432447",
         "A legendary tactical shooter that shaped the genre. Simple yet deep gameplay, excellent weapon balance, and iconic maps keep the game relevant even today. Pure nostalgia and classic FPS action.",
         "1738278781",
         "True",
         "0.5833333134651184",
         "10"
        ],
        [
         "237",
         "186584044",
         "76561198206216352",
         "Some of the best memories of my childhood were made in pixels, with friends I only knew through a screen. Time moves on, but those moments are forever frozen in time.",
         "1738041574",
         "True",
         "0.56521737575531",
         "10"
        ],
        [
         "238",
         "184974430",
         "76561198071230926",
         "The best CS sure, but server browser is the illusion of choice and leads you to the same **** server. Use gametracker or something",
         "1736206418",
         "True",
         "0.56521737575531",
         "10"
        ],
        [
         "566",
         "74939414",
         "76561198825420278",
         "there should be a update, but on steam there is no option, no auto update, this cause game lag and glitch .",
         "1598445545",
         "False",
         "0.0",
         "1000310"
        ],
        [
         "568",
         "74939414",
         "76561198825420278",
         "there should be a update, but on steam there is no option, no auto update, this cause game lag and glitch .",
         "1598445545",
         "False",
         "0.5",
         "1000310"
        ],
        [
         "5656",
         "185187096",
         "76561199107888635",
         "[h1] A hearty, thrilling, unrestrained feast of blood-soaked carnage [/h1]\n\n[h2] 9/10 [/h2]\n\n[h3] Opening [/h3]\n\nIn 2009, Activision's landmark game Prototype was released. It attracted countless players with its brilliant, creative, and playable game design, delightful and hearty combat experience, fragmented yet complete closed loop, and deep yet reversed plot. The protagonist Alex Mercer's hooded sweatshirt outfit and charming personality of being cold on the outside but warm on the inside have become a classic image in game history, too. This work has deeply influenced classic open-world action game IPs such as The Amazing Spider-Man(Video Game) series, Marvel's Spiderman series, and Batman: Arkham series regarding combat and map design. Even today, it is still a considerable outstanding game. Regrettably, due to compatibility, optimization, adaptation, and other reasons, it is very difficult to experience this 2009 work smoothly on the modern Windows operating system. The game also has problems such as uneven operation, low volume, and rough modeling that extremely damage the player's gaming experience.\n\n[h3] Strength [/h3]\n\nThe story of the game takes place in Manhattan, New York. After an unknown virus breaks out, the player needs to play the role of Alex Mercer, an anti-hero who was infected and resurrected constantly exploring his lost memories and his duty in this infection. The game's movie-level camera movements and performance effects in the cutscenes are still considerably acceptable even today. Through the highly immersive game system known as the \" Web of Intrigue\", players can gradually understand this closed-loop, deep, reversal, and charming game world through fragmented memory flashbacks. As the plot progresses, the world of Prototype will undergo corresponding changes, creating a strong sense of immersion. In addition, the player's interactions with the scene are rich in realistic details, such as the broken glass marks when running on the building, the different operations when falling will affect the character's landing action, etc. As a game released in 2009, Prototype also has a certain degree of scene destruction effect, which is truly excellent.\n\nThe player's combat abilities in the game are quite diverse, the character's body movements and actions are extremely agile and swift too, giving the player an excellent and smooth map-running experience. In addition to being able to devour and transform into others to disguise oneself, or using blades, claws, hammerfists, musclemass, whipfist, and other biomass abilities unique to the infected to fight, players can also drive tanks and planes like in military games, use rifles, grenade launchers and rocket launchers to assist in combat; since the restrictions on ammunition are relatively loose, players can enjoy the pleasure of venting firepower. \n\nCompared to the Grand Theft Auto series, which also offers a high degree of freedom but constrains players' actions to a certain extent, the moral constraints and punishments for evil deeds in Prototype are almost non-existent. In this crazy world where every battle in the middle and late stages is extremely grand, dazzling, and multi-party melee, players can act recklessly, trample on life and human rights at will, and experience the pleasure of being able to do anything. The powerful and striking character movements combined with the game's blood-splattering effects and rich details of severed limbs bring players a hearty and refreshing violent aesthetic experience. The difficulty of most of the game's mission and challenges is also extremely balanced, to serve the core purpose of \"making players feel refreshed\". When switching locked enemies, the game will slow down like bullet time. Using this mechanism, players can easily pass through some more chaotic and time-limited scenes.\n\n[h3] Weakness [/h3]\n\nIt is extremely difficult to experience the 2009 Prototype smoothly on a modern Windows operating system nowadays. Whether it is the frame rate performance, optimization, filters, or volume, the game has serious problems. Without various player-made patches and software assistance, it is even impossible to play normally. Even so, the optimized game still has certain unsolved problems with volume, operation, and viewing smoothness. The main storyline of the game is quite short, and side quests like challenges occupy most of the game content. In addition, the cost of upgrading in the game is quite expensive, so if you don't complete these challenges, you will not be able to experience the full capabilities of the character due to insufficient evolution points. Although the game's overall worldview and plot are excellent, the main story is extremely poor and sloppy in many character building and detail processing. The lack of foreshadowing and the overly fast pace of the plot can easily cause players to miss key details and fail to keep up with them or even have misunderstandings.\n\nWhether it is the main story mission or the challenge, the game does not have the option to restart or quit midway. You can only choose it when the mission fails or the player dies, such a design is quite inhumane. There is also friendly fire between enemies, players can even cause damage to some mission targets. The health of ordinary enemies and civilians is generally low, any contact with the player could result in their death, which is a bit too exaggerated. There is always an indescribable strange distortion in the volume, other problems such as extremely rough character and scene modeling, slightly stiff character movements, weird enemy locking logic, and the lack of smooth character operation feel and camera movement smoothness also have a serious impact on the player's gaming experience.\n\n[h3] Conclusion [/h3]\n\nAs a game released in 2009, Prototype inevitably has a variety of problems in terms of image quality, optimization, operation, and even plot narrative. The problems of the main storyline being too short and the challenge occupying the vast majority of the content mean that only those players who extremely enjoy the game's combat design can have enough fun. Still, simply relying on its outstanding combat, map design, and worldview building, as long as you can accept its shortcomings, Prototype is definitely a work that any video game enthusiast cannot miss. Even if it takes a while to experience this 2009 work, you will eventually find that the quality of the game is worth it.\n\n[code][b]Find my reviews valuable?\n[url=https://steamcommunity.com/groups/justgamecurator]Click here to join my curator group. [/url]\nYour support is my greatest motivation! [/b] [/code]",
         "1736434919",
         "True",
         "0.8878040313720703",
         "10150"
        ],
        [
         "5657",
         "184261951",
         "76561198402914307",
         "good game but require tweaking\r\n\r\nstep 1 : go to task manager \r\nstep 2 : details use 4 cores like from 0 to 3\r\nstep 3 : well done you can play the game after loading you can reset it to all cores",
         "1735597278",
         "True",
         "0.656614601612091",
         "10150"
        ],
        [
         "5658",
         "185680148",
         "76561198049826608",
         "A very entertaining game with an incredible feeling of power fantasy- Something I have been missing in newer video games.\n\nHowever the game is just not supported for newer systems, and you have to go through a lot of loopholes to make it work. The max resolution is like 1280x800 or something, and my FPS was so bad that the rendered cinematics were lagging and had choppy audio.\n\nYou have to install multiple mods, disable HID drivers, and cap your fps at 60 to make the game work properly. No thanks.",
         "1736988441",
         "False",
         "0.5454545617103576",
         "10150"
        ],
        [
         "5659",
         "184185246",
         "76561198042920111",
         "super villain simulator, wherein you crush, crash, smash, slice and otherwise destroy everything before you, with a littany of powers at your disposal. very fun, ran great for me, and my laptop is a POTATO doing its best. highly recommend if you like power fantasies with EDGE",
         "1735531904",
         "True",
         "0.5188284516334533",
         "10150"
        ],
        [
         "5660",
         "186171785",
         "76561198852698368",
         "Heads up, the game doesn't work on newer devices, you meed some workaround to get it to play. But it is totally worth it. Absolutely love this game. First played it when I was a child and loved it, recently picked it up thinking that it would be one of those games you only like why you are small. But surprisingly it is genuinely fun, not very grindy and makes you feel like a badass.",
         "1737571331",
         "True",
         "0.0",
         "10150"
        ],
        [
         "5663",
         "185713296",
         "76561198065748360",
         "to fix crashing and slow game on windows 10 disable steam.exe cores by setting affinity in task manager, only enable few like 0-4 or 5",
         "1737037990",
         "True",
         "0.0",
         "10150"
        ],
        [
         "5664",
         "185600790",
         "76561199059161095",
         "The game just doesn't run... at least correctly.\r\n\r\nIt's a product of its time in more ways than the gameplay and graphics. Though they aren't as lackluster as you would expect from a 15 year old game.\r\n\r\nThe main issue with the game is it just not running. The game apparently has a set limit of 4 cores active in the device it runs. If you pass that threshold (Which you most definitely will in any modern PC) the game crashes on startup. So if you want to even launch the game, you will need to deactivate most of the cores present in your PC for Steam. Which becomes a chore since you need to deactivate and activate them everytime you launch and close the game unless you're fine with playing every game you own on steam with 4 cores.\r\n\r\nAnother technical issue arises when you, and I am being serious, try to move your mouse. The game has an interesting relationship with modern mice. Which I had no idea were different from older mice until this game revealed it to me. Your mouse will stutter and lag in a way that will ruin the gameplay completely.\r\n\r\nTruly one of the games of all time.\r\n\r\nBut under all of those problems and the random crashes which goes without mentioning, what awaits us?\r\nAn edgy 2000's power fantasy of a gem. 7/10 for today's standarts, disregarding limitations of its time such as the graphics.",
         "1736885177",
         "False",
         "0.0",
         "10150"
        ],
        [
         "5710",
         "185187096",
         "76561199107888635",
         "[h1] A hearty, thrilling, unrestrained feast of blood-soaked carnage [/h1]\n\n[h2] 9/10 [/h2]\n\n[h3] Opening [/h3]\n\nIn 2009, Activision's landmark game Prototype was released. It attracted countless players with its brilliant, creative, and playable game design, delightful and hearty combat experience, fragmented yet complete closed loop, and deep yet reversed plot. The protagonist Alex Mercer's hooded sweatshirt outfit and charming personality of being cold on the outside but warm on the inside have become a classic image in game history, too. This work has deeply influenced classic open-world action game IPs such as The Amazing Spider-Man(Video Game) series, Marvel's Spiderman series, and Batman: Arkham series regarding combat and map design. Even today, it is still a considerable outstanding game. Regrettably, due to compatibility, optimization, adaptation, and other reasons, it is very difficult to experience this 2009 work smoothly on the modern Windows operating system. The game also has problems such as uneven operation, low volume, and rough modeling that extremely damage the player's gaming experience.\n\n[h3] Strength [/h3]\n\nThe story of the game takes place in Manhattan, New York. After an unknown virus breaks out, the player needs to play the role of Alex Mercer, an anti-hero who was infected and resurrected constantly exploring his lost memories and his duty in this infection. The game's movie-level camera movements and performance effects in the cutscenes are still considerably acceptable even today. Through the highly immersive game system known as the \" Web of Intrigue\", players can gradually understand this closed-loop, deep, reversal, and charming game world through fragmented memory flashbacks. As the plot progresses, the world of Prototype will undergo corresponding changes, creating a strong sense of immersion. In addition, the player's interactions with the scene are rich in realistic details, such as the broken glass marks when running on the building, the different operations when falling will affect the character's landing action, etc. As a game released in 2009, Prototype also has a certain degree of scene destruction effect, which is truly excellent.\n\nThe player's combat abilities in the game are quite diverse, the character's body movements and actions are extremely agile and swift too, giving the player an excellent and smooth map-running experience. In addition to being able to devour and transform into others to disguise oneself, or using blades, claws, hammerfists, musclemass, whipfist, and other biomass abilities unique to the infected to fight, players can also drive tanks and planes like in military games, use rifles, grenade launchers and rocket launchers to assist in combat; since the restrictions on ammunition are relatively loose, players can enjoy the pleasure of venting firepower. \n\nCompared to the Grand Theft Auto series, which also offers a high degree of freedom but constrains players' actions to a certain extent, the moral constraints and punishments for evil deeds in Prototype are almost non-existent. In this crazy world where every battle in the middle and late stages is extremely grand, dazzling, and multi-party melee, players can act recklessly, trample on life and human rights at will, and experience the pleasure of being able to do anything. The powerful and striking character movements combined with the game's blood-splattering effects and rich details of severed limbs bring players a hearty and refreshing violent aesthetic experience. The difficulty of most of the game's mission and challenges is also extremely balanced, to serve the core purpose of \"making players feel refreshed\". When switching locked enemies, the game will slow down like bullet time. Using this mechanism, players can easily pass through some more chaotic and time-limited scenes.\n\n[h3] Weakness [/h3]\n\nIt is extremely difficult to experience the 2009 Prototype smoothly on a modern Windows operating system nowadays. Whether it is the frame rate performance, optimization, filters, or volume, the game has serious problems. Without various player-made patches and software assistance, it is even impossible to play normally. Even so, the optimized game still has certain unsolved problems with volume, operation, and viewing smoothness. The main storyline of the game is quite short, and side quests like challenges occupy most of the game content. In addition, the cost of upgrading in the game is quite expensive, so if you don't complete these challenges, you will not be able to experience the full capabilities of the character due to insufficient evolution points. Although the game's overall worldview and plot are excellent, the main story is extremely poor and sloppy in many character building and detail processing. The lack of foreshadowing and the overly fast pace of the plot can easily cause players to miss key details and fail to keep up with them or even have misunderstandings.\n\nWhether it is the main story mission or the challenge, the game does not have the option to restart or quit midway. You can only choose it when the mission fails or the player dies, such a design is quite inhumane. There is also friendly fire between enemies, players can even cause damage to some mission targets. The health of ordinary enemies and civilians is generally low, any contact with the player could result in their death, which is a bit too exaggerated. There is always an indescribable strange distortion in the volume, other problems such as extremely rough character and scene modeling, slightly stiff character movements, weird enemy locking logic, and the lack of smooth character operation feel and camera movement smoothness also have a serious impact on the player's gaming experience.\n\n[h3] Conclusion [/h3]\n\nAs a game released in 2009, Prototype inevitably has a variety of problems in terms of image quality, optimization, operation, and even plot narrative. The problems of the main storyline being too short and the challenge occupying the vast majority of the content mean that only those players who extremely enjoy the game's combat design can have enough fun. Still, simply relying on its outstanding combat, map design, and worldview building, as long as you can accept its shortcomings, Prototype is definitely a work that any video game enthusiast cannot miss. Even if it takes a while to experience this 2009 work, you will eventually find that the quality of the game is worth it.\n\n[code][b]Find my reviews valuable?\n[url=https://steamcommunity.com/groups/justgamecurator]Click here to join my curator group. [/url]\nYour support is my greatest motivation! [/b] [/code]",
         "1736434919",
         "True",
         "0.8796154856681823",
         "10150"
        ],
        [
         "5711",
         "184261951",
         "76561198402914307",
         "good game but require tweaking\r\n\r\nstep 1 : go to task manager \r\nstep 2 : details use 4 cores like from 0 to 3\r\nstep 3 : well done you can play the game after loading you can reset it to all cores",
         "1735597278",
         "True",
         "0.6661673188209533",
         "10150"
        ],
        [
         "5718",
         "185600790",
         "76561199059161095",
         "The game just doesn't run... at least correctly.\r\n\r\nIt's a product of its time in more ways than the gameplay and graphics. Though they aren't as lackluster as you would expect from a 15 year old game.\r\n\r\nThe main issue with the game is it just not running. The game apparently has a set limit of 4 cores active in the device it runs. If you pass that threshold (Which you most definitely will in any modern PC) the game crashes on startup. So if you want to even launch the game, you will need to deactivate most of the cores present in your PC for Steam. Which becomes a chore since you need to deactivate and activate them everytime you launch and close the game unless you're fine with playing every game you own on steam with 4 cores.\r\n\r\nAnother technical issue arises when you, and I am being serious, try to move your mouse. The game has an interesting relationship with modern mice. Which I had no idea were different from older mice until this game revealed it to me. Your mouse will stutter and lag in a way that will ruin the gameplay completely.\r\n\r\nTruly one of the games of all time.\r\n\r\nBut under all of those problems and the random crashes which goes without mentioning, what awaits us?\r\nAn edgy 2000's power fantasy of a gem. 7/10 for today's standarts, disregarding limitations of its time such as the graphics.",
         "1736885177",
         "False",
         "0.5406360626220703",
         "10150"
        ],
        [
         "5721",
         "186171785",
         "76561198852698368",
         "Heads up, the game doesn't work on newer devices, you meed some workaround to get it to play. But it is totally worth it. Absolutely love this game. First played it when I was a child and loved it, recently picked it up thinking that it would be one of those games you only like why you are small. But surprisingly it is genuinely fun, not very grindy and makes you feel like a badass.",
         "1737571331",
         "True",
         "0.52173912525177",
         "10150"
        ],
        [
         "5723",
         "185680148",
         "76561198049826608",
         "A very entertaining game with an incredible feeling of power fantasy- Something I have been missing in newer video games.\n\nHowever the game is just not supported for newer systems, and you have to go through a lot of loopholes to make it work. The max resolution is like 1280x800 or something, and my FPS was so bad that the rendered cinematics were lagging and had choppy audio.\n\nYou have to install multiple mods, disable HID drivers, and cap your fps at 60 to make the game work properly. No thanks.",
         "1736988441",
         "False",
         "0.568942904472351",
         "10150"
        ],
        [
         "5744",
         "184185246",
         "76561198042920111",
         "super villain simulator, wherein you crush, crash, smash, slice and otherwise destroy everything before you, with a littany of powers at your disposal. very fun, ran great for me, and my laptop is a POTATO doing its best. highly recommend if you like power fantasies with EDGE",
         "1735531904",
         "True",
         "0.5412854552268981",
         "10150"
        ],
        [
         "5752",
         "185713296",
         "76561198065748360",
         "to fix crashing and slow game on windows 10 disable steam.exe cores by setting affinity in task manager, only enable few like 0-4 or 5",
         "1737037990",
         "True",
         "0.5238095521926879",
         "10150"
        ],
        [
         "14968",
         "186465824",
         "76561198088790743",
         "+ Advantages :\n- A gripping story\n- Reference to Lovecraft and H.R Giger\n- Choice between censored and uncensored version\n- A dark and erotic atmosphere\n- Faithful continuation of Lust for Darkness\n- Enjoyable gameplay\n- Intuitive handling\n- Sumptuous Victorian decors\n- Correct loading time\n\n- Drawbacks :\n- Very bad French subtitles\n- Very poorly worked faces\n- Puzzles without real difficulty\n- Action and stealth elements are not successful\n- Some technical issues\n\nSummary : Lust from Beyond is a more-than-average first person adventure dealing with difficult topics, such as psychiatric diseases, sexuality and the very idea of a cult based exclusively on physical pleasure. It does so by building an almost convincing narrative structure, without skimping on the crude representation of sex and violence, managing to maintain a difficult balance with all the other components of the game. The technical quality, however, is fluctuating, with 3D models that seem to come out of some game 20 years ago, animations at the limit of decency and sudden \"coughs\" of the script.\n\n14/20",
         "1737906828",
         "True",
         "0.5454545617103576",
         "1035120"
        ],
        [
         "14979",
         "186465824",
         "76561198088790743",
         "+ Strong points :\n- A gripping story\n- Reference to Lovecraft and H.R Giger\n- Choice between censored and uncensored version\n- A dark and erotic atmosphere\n- Faithful continuation of Lust for Darkness\n- Enjoyable gameplay\n- Intuitive handling\n- Sumptuous Victorian decors\n- Correct loading time\n\n- Weak points :\n- Very bad French subtitles\n- Very poorly worked faces\n- Puzzles without real difficulty\n- Action and stealth elements are not successful\n- Some technical issues\n\nSummary : Lust from Beyond is a more-than-average first person adventure dealing with difficult topics, such as psychiatric diseases, sexuality and the very idea of a cult based exclusively on physical pleasure. It does so by building an almost convincing narrative structure, without skimping on the crude representation of sex and violence, managing to maintain a difficult balance with all the other components of the game. The technical quality, however, is fluctuating, with 3D models that seem to come out of some game 20 years ago, animations at the limit of decency and sudden \"coughs\" of the script.\n\n14/20",
         "1738614664",
         "True",
         "0.5454545617103576",
         "1035120"
        ],
        [
         "15798",
         "56641004",
         "76561197996337563",
         "While I do love this product, I cannot yet recommend it. I am changing my review. Some of the people who made this, were working on Rainmeter. \n\nWhile there are bugs, this is still early access, and still being worked on. Once the kinks are all gone, I am sure this will be a fantastic product.",
         "1573182748",
         "True",
         "0.5107724666595458",
         "1038240"
        ],
        [
         "15811",
         "62801431",
         "76561198994323126",
         "good",
         "1580572223",
         "True",
         "0.4473901987075805",
         "1038240"
        ],
        [
         "15812",
         "61685768",
         "76561197988083706",
         "GOOD\n",
         "1578753961",
         "True",
         "0.4473901987075805",
         "1038240"
        ],
        [
         "15820",
         "56641004",
         "76561197996337563",
         "While I do love this product, I cannot yet recommend it. I am changing my review. Some of the people who made this, were working on Rainmeter. \n\nWhile there are bugs, this is still early access, and still being worked on. Once the kinks are all gone, I am sure this will be a fantastic product.",
         "1573182748",
         "True",
         "0.5116279125213623",
         "1038240"
        ],
        [
         "15833",
         "62801431",
         "76561198994323126",
         "good",
         "1580572223",
         "True",
         "0.4483166635036468",
         "1038240"
        ],
        [
         "15834",
         "61685768",
         "76561197988083706",
         "GOOD\n",
         "1578753961",
         "True",
         "0.4483166635036468",
         "1038240"
        ],
        [
         "20645",
         "184824596",
         "76561198380109446",
         "The game is okay-ish, the characters didn't hit any spot at all. There are some interesting interaction between characters here and there, but nothing solid and they're all shallow, nothing deep which is disappointing. The story have great potential yet they're unable to deliver justice to it.\n\nI loves interactive game. But this is just below the mark for me. Not recommend",
         "1736074108",
         "False",
         "0.4697986543178558",
         "1046790"
        ],
        [
         "20652",
         "184824596",
         "76561198380109446",
         "The game is okay-ish, the characters didn't hit any spot at all. There are some interesting interaction between characters here and there, but nothing solid and they're all shallow, nothing deep which is disappointing. The story have great potential yet they're unable to deliver justice to it.\n\nI loves interactive game. But this is just below the mark for me. Not recommend",
         "1736074108",
         "False",
         "0.4487179219722747",
         "1046790"
        ],
        [
         "22216",
         "186395652",
         "76561198388840073",
         "Very boring",
         "1737831338",
         "False",
         "0.5",
         "1051200"
        ],
        [
         "22235",
         "186395652",
         "76561198388840073",
         "Very boring",
         "1737831338",
         "False",
         "0.4782608747482299",
         "1051200"
        ],
        [
         "33778",
         "185640091",
         "76561198442206803",
         "Absolutely ruined by the changes to the controls - made completely unplayable by moving away from middle mouse button to rotate and the new rotate is awful...",
         "1736941824",
         "False",
         "0.4964842796325683",
         "1060230"
        ],
        [
         "33779",
         "186103794",
         "76561198040922205",
         "This game, I buy it, I play 4 hour. start. three new games. and I finally found it's no fun. The players you play with, they're acting like child's. They don't wanna do that the task. You give them the ignore you. I don't want even guys develop this game because it's it's really annoying and steam doesn't want to even return the game back like return. Give me the money back. I don't think I'm gonna play this game ever again. It's not for my time to waste.",
         "1737485782",
         "False",
         "0.4347825944423675",
         "1060230"
        ],
        [
         "33799",
         "185640091",
         "76561198442206803",
         "Absolutely ruined by the changes to the controls - made completely unplayable by moving away from middle mouse button to rotate and the new rotate is awful...",
         "1736941824",
         "False",
         "0.4736765623092651",
         "1060230"
        ],
        [
         "33803",
         "186103794",
         "76561198040922205",
         "This game, I buy it, I play 4 hour. start. three new games. and I finally found it's no fun. The players you play with, they're acting like child's. They don't wanna do that the task. You give them the ignore you. I don't want even guys develop this game because it's it's really annoying and steam doesn't want to even return the game back like return. Give me the money back. I don't think I'm gonna play this game ever again. It's not for my time to waste.",
         "1737485782",
         "False",
         "0.4166666567325592",
         "1060230"
        ],
        [
         "37349",
         "186779439",
         "76561199007067622",
         "Gud gim",
         "1738276858",
         "True",
         "0.5161290764808654",
         "1064460"
        ],
        [
         "37367",
         "186779439",
         "76561199007067622",
         "Gud gim",
         "1738276858",
         "True",
         "0.5365168452262878",
         "1064460"
        ],
        [
         "37932",
         "186769352",
         "76561197992866052",
         "It's ok. It's really really really short for $25... I think I got them on sale or in some bundle.\n\nIt's just a visual novel done in VR. The graphics are nice and the voice acting is pretty good.\n\n6/10, could be more to do.",
         "1738266668",
         "True",
         "0.6094518899917603",
         "1065970"
        ],
        [
         "37933",
         "186769352",
         "76561197992866052",
         "It's ok. It's really really really short for $25... I think I got them on sale or in some bundle.\n\nIt's just a visual novel done in VR. The graphics are nice and the voice acting is pretty good.\n\n6/10, could be more to do.",
         "1738266668",
         "True",
         "0.5935792326927185",
         "1065970"
        ],
        [
         "40850",
         "187016747",
         "76561198119596451",
         "TLDR: This game is more about running around hoping you can trigger the next invisible door youve been looking for for an hour so you can progress at ALL than being an open sandbox. If you love nintendo and minecraft youll love this. i HATE nintendo and thus hate its influence on this game but im hoping that the end game is worth it. right now id say 2/5 stars. too linear. combat and controls are clunky (nintendo clunky) also i been looking for wheat seeds for a mission for an hour. Overall id say its too linear where you want it to be sandboxy AND too sandboxy where it needs to be linear. for example i made it to the mountain cut scene area via following plants to collect but since i didnt follow the predefined path that i didnt see so the game got stuck until i gave up and ended up stumbling apon it\nUPDATE found the damn wheat seeds i traveled the WHOLE map 8 times just to give up and move to another task i completed it but the game didnt notice. then i fast travel and that FINALLY triggered the cut scene that showed me i had already been where you get the seeds. They just didnt give them to me because i hadnt opened the invisible door yet. im 4 hours in only on island 2. this game is near perfect otherwise\nUpdate: it just keeps getting worse so island 2 you find a rat it tells you to talk to all rats because theyre useful. So then EVERY single last rat on the island refuses to talk to you. then i opened that invisible door for the seeds and suddenly the rats that wouldnt talk to me now will....... gated dialog with out even telling me why its gated? I need to watch a playthrough of this game before i play it lest i spend my \"relaxation\" time on a wild goose chase in this game. Hows a game supposed to be fun when you spend equal time playing the game and googling INVISIBLE road blocks. If youre going to make your game this forcefully linear at least give me a damn hint as to what im missing. Im a new to the genre fyi.\nUpdate: just gave windmill chick my stone sword because she said she needed a weapon. She STILL is requesting a weapon.......... is a stone sword not a weapon? when i talk to her she mentions some stick so am i forced to give her an inferior weapon just to open your invisible door? Nice coding.... reminds me when a website tells me my email address is incorrect souly because of a space at the end of the email................\nBack again i wondered why that worm wouldnt talk to me o course it was an invisible road block.... already took his dirt like two hours ago XD\nUpdate doing the build a bar mission where dude stresses several times to make it small.....well i did but the invisible door wont trigger and why? no clue made the barn as small as literally possible so?? time to make it bigger i guess\nSo yeah it was too small.... now im doing the worm food mission after placing both worm foods nothing happens......jesus christ guys did nintendon make this game? its a damn maze of parameters you have to meet that you dont know exist.\ncant skip dialog box because some inaudible (to me) music is playing......nice\nSooooo..... just realized these so called invisible doors or triggers for in game stuff also HEAVILY affects your towns people AI like how does this game fall so fat with such potential?! Anyways i noticed my people eating way too long. i noticed nothing was being plowed. Then i saw that the plants were being allowed to wither. The AI was completely broken and why? i didnt notice it was time to level my village.......... this game had to be made by bethesda",
         "1738567046",
         "False",
         "0.4347825944423675",
         "1072420"
        ],
        [
         "40878",
         "187016747",
         "76561198119596451",
         "TLDR: This game is more about running around hoping you can trigger the next invisible door youve been looking for for an hour so you can progress at ALL than being an open sandbox. If you love nintendo and minecraft youll love this. i HATE nintendo and thus hate its influence on this game but im hoping that the end game is worth it. right now id say 2/5 stars. too linear. combat and controls are clunky (nintendo clunky) also i been looking for wheat seeds for a mission for an hour. Overall id say its too linear where you want it to be sandboxy AND too sandboxy where it needs to be linear. for example i made it to the mountain cut scene area via following plants to collect but since i didnt follow the predefined path that i didnt see so the game got stuck until i gave up and ended up stumbling apon it\nUPDATE found the damn wheat seeds i traveled the WHOLE map 8 times just to give up and move to another task i completed it but the game didnt notice. then i fast travel and that FINALLY triggered the cut scene that showed me i had already been where you get the seeds. They just didnt give them to me because i hadnt opened the invisible door yet. im 4 hours in only on island 2. this game is near perfect otherwise\nUpdate: it just keeps getting worse so island 2 you find a rat it tells you to talk to all rats because theyre useful. So then EVERY single last rat on the island refuses to talk to you. then i opened that invisible door for the seeds and suddenly the rats that wouldnt talk to me now will....... gated dialog with out even telling me why its gated? I need to watch a playthrough of this game before i play it lest i spend my \"relaxation\" time on a wild goose chase in this game. Hows a game supposed to be fun when you spend equal time playing the game and googling INVISIBLE road blocks. If youre going to make your game this forcefully linear at least give me a damn hint as to what im missing. Im a new to the genre fyi.\nUpdate: just gave windmill chick my stone sword because she said she needed a weapon. She STILL is requesting a weapon.......... is a stone sword not a weapon? when i talk to her she mentions some stick so am i forced to give her an inferior weapon just to open your invisible door? Nice coding.... reminds me when a website tells me my email address is incorrect souly because of a space at the end of the email................\nBack again i wondered why that worm wouldnt talk to me o course it was an invisible road block.... already took his dirt like two hours ago XD\nUpdate doing the build a bar mission where dude stresses several times to make it small.....well i did but the invisible door wont trigger and why? no clue made the barn as small as literally possible so?? time to make it bigger i guess\nSo yeah it was too small.... now im doing the worm food mission after placing both worm foods nothing happens......jesus christ guys did nintendon make this game? its a damn maze of parameters you have to meet that you dont know exist.\ncant skip dialog box because some inaudible (to me) music is playing......nice\nSooooo..... just realized these so called invisible doors or triggers for in game stuff also HEAVILY affects your towns people AI like how does this game fall so fat with such potential?! Anyways i noticed my people eating way too long. i noticed nothing was being plowed. Then i saw that the plants were being allowed to wither. The AI was completely broken and why? i didnt notice it was time to level my village.......... this game had to be made by bethesda\ntried to scoop clean water.... its gated aswell",
         "1738695086",
         "False",
         "0.4347825944423675",
         "1072420"
        ],
        [
         "41269",
         "185058192",
         "76561198134260098",
         "This game right here is basically what you would get from putting guns in minecraft and making it look so realistic, the actual tv news channels would pose it as real war footage. The possibilities are endless in this military sandbox. And I dont even consider myself a military geek or a milsim guy, its just that Arma offers stuff to satisfy almost every gamer demographic. Whatever your vice is, the steam workshop probably got something just for you. The amount of both the vanilla and community created content, and the sheer replay-ability the unpredictable scenarios and simulated AI can provide, will make you keep playing this game for years. \n\nIts one of those games that is better with friends of course. Go bully them into buying it, right now. Just keep in mind that you are not gonna know shit about how to play it in your first 200 hours or so and you are likely going to experience a lot of something, commonly referred to as [b]testicular torsion[/b]. But don't worry, that is just part of the 💫✨☄️[i]Experience[/i]☄️✨💫.\n- This game is responsible for just so many fun and good memories with my bros man. \n\nAnd don't be put off by bohemia's dlc policy right away (i know its hard not to), all those dlcs you see on the store page are completely optional. Most of the good stuff you going to play, is going to be from the workshop anyways.",
         "1736734215",
         "True",
         "0.6399580836296082",
         "107410"
        ],
        [
         "41270",
         "186064646",
         "76561198874008959",
         "Arma 3 is like joining the army but without the paycheck 🎖️💀 Brutally hard, endlessly deep, and somehow insanely fun. 10/10, would get sniped by a bush again 🌿🔫😂",
         "1737435493",
         "True",
         "0.6318671703338623",
         "107410"
        ],
        [
         "41271",
         "185311596",
         "76561199154568775",
         "\r\n---{ Graphics }---\r\n☐ You forget what reality is\r\n☐ Beautiful\r\n☐ Good\r\n☑ Decent\r\n☐ Bad\r\n☐ Don‘t look too long at it\r\n☐ MS-DOS\r\n\r\n---{ Gameplay }---\r\n☐ Very good\r\n☑ Good\r\n☐ It's just gameplay\r\n☐ Mehh\r\n☐ Watch paint dry instead\r\n☐ Just don't\r\n\r\n---{ Audio }---\r\n☐ Eargasm\r\n☐ Very good\r\n☑ Good\r\n☐ Not too bad\r\n☐ Bad\r\n☐ I'm now deaf\r\n\r\n---{ Audience }---\r\n☐ Kids\r\n☑ Teens\r\n☑ Adults\r\n☐ Grandma\r\n\r\n---{ PC Requirements }---\r\n☐ Check if you can run paint\r\n☐ Potato\r\n☑ Decent\r\n☐ Fast\r\n☐ Rich boi\r\n☐ Ask NASA if they have a spare computer\r\n\r\n---{ Game Size }---\r\n☐ Floppy Disk\r\n☐ Old Fashioned\r\n☑ Workable\r\n☐ Big\r\n☐ Will eat 10% of your 1TB hard drive\r\n☐ You will want an entire hard drive to hold it\r\n☐ You will need to invest in a black hole to hold all the data\r\n\r\n---{ Difficulty }---\r\n☐ Just press 'W'\r\n☐ Easy\r\n☑ Easy to learn / Hard to master\r\n☐ Significant brain usage\r\n☐ Difficult\r\n☐ Dark Souls\r\n\r\n---{ Grind }---\r\n☐ Nothing to grind\r\n☑ Only if u care about leaderboards/ranks\r\n☐ Isn't necessary to progress\r\n☐ Average grind level\r\n☐ Too much grind\r\n☐ You'll need a second life for grinding\r\n\r\n---{ Story }---\r\n☑ No Story\r\n☐ Some lore\r\n☐ Average\r\n☐ Good\r\n☐ Lovely\r\n☐ It'll replace your life\r\n\r\n---{ Game Time }---\r\n☐ Long enough for a cup of coffee\r\n☐ Short\r\n☐ Average\r\n☑ Long\r\n☐ To infinity and beyond\r\n\r\n---{ Price }---\r\n☐ It's free!\r\n☐ Worth the price\r\n☑ If it's on sale\r\n☐ If u have some spare money left\r\n☐ Not recommended\r\n☐ You could also just burn your money\r\n\r\n---{ Bugs }---\r\n☐ Never heard of\r\n☑ Minor bugs\r\n☐ Can get annoying\r\n☐ ARK: Survival Evolved\r\n☐ The game itself is a big terrarium for bugs\r\n\r\n---{ ? / 10 }---\r\n☐ 1\r\n☐ 2\r\n☐ 3\r\n☐ 4\r\n☐ 5\r\n☐ 6\r\n☐ 7\r\n☑ 8\r\n☐ 9\r\n☐ 10\r\n\r\n---{ Author }---\r\n☑ https://vojtastruhar.github.io/steam-review-template \r\n",
         "1736563353",
         "True",
         "0.6323164105415344",
         "107410"
        ],
        [
         "41274",
         "186154913",
         "76561199685711236",
         "got shot while driving heli killed whole squad \r\nand enemy squad, fully recommend  for people who love sniping \r\nand touching grass",
         "1737554597",
         "True",
         "0.5238095521926879",
         "107410"
        ],
        [
         "41275",
         "185779804",
         "76561197982748477",
         "The best milsim you'll ever play. It's even better with mods to personalize and customize your ARMA III gaming experience.",
         "1737119224",
         "True",
         "0.5179531574249266",
         "107410"
        ],
        [
         "41276",
         "185920666",
         "76561199154908754",
         "This has got to be thee BIGGEST and hottest pile of dog feces anyone has ever stepped into.\n\nWait an hour to download 116gb of what? waiting for more downloading, then try to join all to error out for four to five hours, I guess you have to wait for a server restart??? As if that means anything when the game looks like hot trash, feels like I'm a 400lb clown car on stilts, the gun never stops swaying as if I'm a toddler with a rifle, The AI is able to one tap you with their whole mag. its just hot garbage. I cant believe people still rush to play this before a game like deadside.\n\nI want my money back and all of it. I spent 25 bucks on deadside and loved it. I spent almost 60$ on this and felt like I have been robbed and then laughed at.\n\nBohemia interactive can kiss the deepest and darkest part of my bowels.",
         "1737317885",
         "False",
         "0.5143884420394897",
         "107410"
        ]
       ],
       "shape": {
        "columns": 7,
        "rows": 27077
       }
      },
      "text/html": [
       "<div>\n",
       "<style scoped>\n",
       "    .dataframe tbody tr th:only-of-type {\n",
       "        vertical-align: middle;\n",
       "    }\n",
       "\n",
       "    .dataframe tbody tr th {\n",
       "        vertical-align: top;\n",
       "    }\n",
       "\n",
       "    .dataframe thead th {\n",
       "        text-align: right;\n",
       "    }\n",
       "</style>\n",
       "<table border=\"1\" class=\"dataframe\">\n",
       "  <thead>\n",
       "    <tr style=\"text-align: right;\">\n",
       "      <th></th>\n",
       "      <th>recommendationid</th>\n",
       "      <th>author_id</th>\n",
       "      <th>review</th>\n",
       "      <th>timestamp</th>\n",
       "      <th>voted_up</th>\n",
       "      <th>weighted_vote_score</th>\n",
       "      <th>app_id</th>\n",
       "    </tr>\n",
       "  </thead>\n",
       "  <tbody>\n",
       "    <tr>\n",
       "      <th>0</th>\n",
       "      <td>186781078</td>\n",
       "      <td>76561197960432447</td>\n",
       "      <td>A legendary tactical shooter that shaped the g...</td>\n",
       "      <td>1738278781</td>\n",
       "      <td>True</td>\n",
       "      <td>0.652997</td>\n",
       "      <td>10</td>\n",
       "    </tr>\n",
       "    <tr>\n",
       "      <th>1</th>\n",
       "      <td>184974430</td>\n",
       "      <td>76561198071230926</td>\n",
       "      <td>The best CS sure, but server browser is the il...</td>\n",
       "      <td>1736206418</td>\n",
       "      <td>True</td>\n",
       "      <td>0.581749</td>\n",
       "      <td>10</td>\n",
       "    </tr>\n",
       "    <tr>\n",
       "      <th>2</th>\n",
       "      <td>186584044</td>\n",
       "      <td>76561198206216352</td>\n",
       "      <td>Some of the best memories of my childhood were...</td>\n",
       "      <td>1738041574</td>\n",
       "      <td>True</td>\n",
       "      <td>0.628378</td>\n",
       "      <td>10</td>\n",
       "    </tr>\n",
       "    <tr>\n",
       "      <th>236</th>\n",
       "      <td>186781078</td>\n",
       "      <td>76561197960432447</td>\n",
       "      <td>A legendary tactical shooter that shaped the g...</td>\n",
       "      <td>1738278781</td>\n",
       "      <td>True</td>\n",
       "      <td>0.583333</td>\n",
       "      <td>10</td>\n",
       "    </tr>\n",
       "    <tr>\n",
       "      <th>237</th>\n",
       "      <td>186584044</td>\n",
       "      <td>76561198206216352</td>\n",
       "      <td>Some of the best memories of my childhood were...</td>\n",
       "      <td>1738041574</td>\n",
       "      <td>True</td>\n",
       "      <td>0.565217</td>\n",
       "      <td>10</td>\n",
       "    </tr>\n",
       "    <tr>\n",
       "      <th>...</th>\n",
       "      <td>...</td>\n",
       "      <td>...</td>\n",
       "      <td>...</td>\n",
       "      <td>...</td>\n",
       "      <td>...</td>\n",
       "      <td>...</td>\n",
       "      <td>...</td>\n",
       "    </tr>\n",
       "    <tr>\n",
       "      <th>1759198</th>\n",
       "      <td>186772565</td>\n",
       "      <td>76561198027756990</td>\n",
       "      <td>I was about to give this game a rather high ra...</td>\n",
       "      <td>1738271017</td>\n",
       "      <td>False</td>\n",
       "      <td>0.609755</td>\n",
       "      <td>990080</td>\n",
       "    </tr>\n",
       "    <tr>\n",
       "      <th>1761395</th>\n",
       "      <td>185987859</td>\n",
       "      <td>76561197995874167</td>\n",
       "      <td>So this game is a continuation of the Trials s...</td>\n",
       "      <td>1737339420</td>\n",
       "      <td>True</td>\n",
       "      <td>0.000000</td>\n",
       "      <td>991270</td>\n",
       "    </tr>\n",
       "    <tr>\n",
       "      <th>1761407</th>\n",
       "      <td>185987859</td>\n",
       "      <td>76561197995874167</td>\n",
       "      <td>So this game is a continuation of the Trials s...</td>\n",
       "      <td>1737339420</td>\n",
       "      <td>True</td>\n",
       "      <td>0.523810</td>\n",
       "      <td>991270</td>\n",
       "    </tr>\n",
       "    <tr>\n",
       "      <th>1761755</th>\n",
       "      <td>184885224</td>\n",
       "      <td>76561198118627311</td>\n",
       "      <td>Half assed 1.0 release that is extremely disap...</td>\n",
       "      <td>1736122853</td>\n",
       "      <td>False</td>\n",
       "      <td>0.694502</td>\n",
       "      <td>992910</td>\n",
       "    </tr>\n",
       "    <tr>\n",
       "      <th>1761768</th>\n",
       "      <td>184885224</td>\n",
       "      <td>76561198118627311</td>\n",
       "      <td>Half assed 1.0 release that is extremely disap...</td>\n",
       "      <td>1736122853</td>\n",
       "      <td>False</td>\n",
       "      <td>0.702757</td>\n",
       "      <td>992910</td>\n",
       "    </tr>\n",
       "  </tbody>\n",
       "</table>\n",
       "<p>27077 rows × 7 columns</p>\n",
       "</div>"
      ],
      "text/plain": [
       "         recommendationid          author_id  \\\n",
       "0               186781078  76561197960432447   \n",
       "1               184974430  76561198071230926   \n",
       "2               186584044  76561198206216352   \n",
       "236             186781078  76561197960432447   \n",
       "237             186584044  76561198206216352   \n",
       "...                   ...                ...   \n",
       "1759198         186772565  76561198027756990   \n",
       "1761395         185987859  76561197995874167   \n",
       "1761407         185987859  76561197995874167   \n",
       "1761755         184885224  76561198118627311   \n",
       "1761768         184885224  76561198118627311   \n",
       "\n",
       "                                                    review   timestamp  \\\n",
       "0        A legendary tactical shooter that shaped the g...  1738278781   \n",
       "1        The best CS sure, but server browser is the il...  1736206418   \n",
       "2        Some of the best memories of my childhood were...  1738041574   \n",
       "236      A legendary tactical shooter that shaped the g...  1738278781   \n",
       "237      Some of the best memories of my childhood were...  1738041574   \n",
       "...                                                    ...         ...   \n",
       "1759198  I was about to give this game a rather high ra...  1738271017   \n",
       "1761395  So this game is a continuation of the Trials s...  1737339420   \n",
       "1761407  So this game is a continuation of the Trials s...  1737339420   \n",
       "1761755  Half assed 1.0 release that is extremely disap...  1736122853   \n",
       "1761768  Half assed 1.0 release that is extremely disap...  1736122853   \n",
       "\n",
       "         voted_up  weighted_vote_score  app_id  \n",
       "0            True             0.652997      10  \n",
       "1            True             0.581749      10  \n",
       "2            True             0.628378      10  \n",
       "236          True             0.583333      10  \n",
       "237          True             0.565217      10  \n",
       "...           ...                  ...     ...  \n",
       "1759198     False             0.609755  990080  \n",
       "1761395      True             0.000000  991270  \n",
       "1761407      True             0.523810  991270  \n",
       "1761755     False             0.694502  992910  \n",
       "1761768     False             0.702757  992910  \n",
       "\n",
       "[27077 rows x 7 columns]"
      ]
     },
     "execution_count": 5,
     "metadata": {},
     "output_type": "execute_result"
    }
   ],
   "source": [
    "dup_rec_id = df[df['recommendationid'].duplicated(keep=False)]\n",
    "print(f'Number of rows having duplicated recommendationid: {dup_rec_id.shape[0]:,}')\n",
    "dup_rec_id"
   ]
  },
  {
   "cell_type": "markdown",
   "metadata": {},
   "source": [
    "For rows having duplicated ```recommendationid```, some of the columns values are different from each other.\n",
    "Check if the same ```recommendationid``` has different:\n",
    "1. ```author_id```\n",
    "2. ```app_id```\n",
    "3. ```review```\n",
    "4. ```timestamp```\n",
    "5. ```voted_up```\n",
    "6. ```weighted_vote_score```"
   ]
  },
  {
   "cell_type": "code",
   "execution_count": 6,
   "metadata": {},
   "outputs": [],
   "source": [
    "def find_diff_dup_rec(col):\n",
    "    n_col_name = 'n_' + col\n",
    "    n_col_rec = dup_rec_id.groupby(by=['recommendationid'])[col].nunique().reset_index(name=n_col_name)\n",
    "    n_rows_multiple_col_value = n_col_rec[n_col_rec[n_col_name] > 1].shape[0]\n",
    "    if n_rows_multiple_col_value > 0:\n",
    "        print(f'There are {n_rows_multiple_col_value} rows having the same recommendationid but different {col}')\n",
    "    else:\n",
    "        print(f'There are NOT ANY rows having the same recommendationid but different {col}')"
   ]
  },
  {
   "cell_type": "code",
   "execution_count": 7,
   "metadata": {},
   "outputs": [
    {
     "name": "stdout",
     "output_type": "stream",
     "text": [
      "There are NOT ANY rows having the same recommendationid but different author_id\n",
      "There are NOT ANY rows having the same recommendationid but different app_id\n",
      "There are 50 rows having the same recommendationid but different review\n",
      "There are 49 rows having the same recommendationid but different timestamp\n",
      "There are 6 rows having the same recommendationid but different voted_up\n",
      "There are 13493 rows having the same recommendationid but different weighted_vote_score\n"
     ]
    }
   ],
   "source": [
    "find_diff_dup_rec('author_id')\n",
    "find_diff_dup_rec('app_id')\n",
    "find_diff_dup_rec('review')\n",
    "find_diff_dup_rec('timestamp')\n",
    "find_diff_dup_rec('voted_up')\n",
    "find_diff_dup_rec('weighted_vote_score')"
   ]
  },
  {
   "cell_type": "markdown",
   "metadata": {},
   "source": [
    "#### !!! EASY SOLUTION (could be change later)\n",
    "Remove all of them, just keep the first occurence :)"
   ]
  },
  {
   "cell_type": "code",
   "execution_count": 8,
   "metadata": {},
   "outputs": [
    {
     "name": "stdout",
     "output_type": "stream",
     "text": [
      "Number of rows BEFORE removing duplicates: 1,169,787\n",
      "Number of rows AFTER removing duplicates: 1,156,233\n",
      "Total removed rows: 13,554\n"
     ]
    }
   ],
   "source": [
    "n_rows_before = df.shape[0]\n",
    "print(f'Number of rows BEFORE removing duplicates: {df.shape[0]:,}')\n",
    "df.drop_duplicates(subset=['recommendationid'], inplace=True)\n",
    "n_rows_after = df.shape[0]\n",
    "print(f'Number of rows AFTER removing duplicates: {df.shape[0]:,}')\n",
    "print(f'Total removed rows: {(n_rows_before - n_rows_after):,}')"
   ]
  },
  {
   "cell_type": "markdown",
   "metadata": {},
   "source": [
    "### Duplicated ```author_id```-```app_idd``` pairs"
   ]
  },
  {
   "cell_type": "code",
   "execution_count": 12,
   "metadata": {},
   "outputs": [
    {
     "data": {
      "application/vnd.microsoft.datawrangler.viewer.v0+json": {
       "columns": [
        {
         "name": "index",
         "rawType": "int64",
         "type": "integer"
        },
        {
         "name": "recommendationid",
         "rawType": "int64",
         "type": "integer"
        },
        {
         "name": "author_id",
         "rawType": "int64",
         "type": "integer"
        },
        {
         "name": "review",
         "rawType": "object",
         "type": "string"
        },
        {
         "name": "timestamp",
         "rawType": "int64",
         "type": "integer"
        },
        {
         "name": "voted_up",
         "rawType": "bool",
         "type": "boolean"
        },
        {
         "name": "weighted_vote_score",
         "rawType": "float64",
         "type": "float"
        },
        {
         "name": "app_id",
         "rawType": "int64",
         "type": "integer"
        }
       ],
       "conversionMethod": "pd.DataFrame",
       "ref": "10a5ebf0-5f89-4d58-b95f-d1c968a715fd",
       "rows": [],
       "shape": {
        "columns": 7,
        "rows": 0
       }
      },
      "text/html": [
       "<div>\n",
       "<style scoped>\n",
       "    .dataframe tbody tr th:only-of-type {\n",
       "        vertical-align: middle;\n",
       "    }\n",
       "\n",
       "    .dataframe tbody tr th {\n",
       "        vertical-align: top;\n",
       "    }\n",
       "\n",
       "    .dataframe thead th {\n",
       "        text-align: right;\n",
       "    }\n",
       "</style>\n",
       "<table border=\"1\" class=\"dataframe\">\n",
       "  <thead>\n",
       "    <tr style=\"text-align: right;\">\n",
       "      <th></th>\n",
       "      <th>recommendationid</th>\n",
       "      <th>author_id</th>\n",
       "      <th>review</th>\n",
       "      <th>timestamp</th>\n",
       "      <th>voted_up</th>\n",
       "      <th>weighted_vote_score</th>\n",
       "      <th>app_id</th>\n",
       "    </tr>\n",
       "  </thead>\n",
       "  <tbody>\n",
       "  </tbody>\n",
       "</table>\n",
       "</div>"
      ],
      "text/plain": [
       "Empty DataFrame\n",
       "Columns: [recommendationid, author_id, review, timestamp, voted_up, weighted_vote_score, app_id]\n",
       "Index: []"
      ]
     },
     "execution_count": 12,
     "metadata": {},
     "output_type": "execute_result"
    }
   ],
   "source": [
    "df[df.duplicated(subset=['author_id', 'app_id'])]"
   ]
  },
  {
   "cell_type": "code",
   "execution_count": 11,
   "metadata": {},
   "outputs": [],
   "source": [
    "df.drop_duplicates(subset=['author_id', 'app_id'], inplace=True)"
   ]
  },
  {
   "cell_type": "markdown",
   "metadata": {},
   "source": [
    "# Data Exploration"
   ]
  },
  {
   "cell_type": "code",
   "execution_count": 41,
   "metadata": {},
   "outputs": [
    {
     "name": "stdout",
     "output_type": "stream",
     "text": [
      "Number of ratings: 1,156,233\n",
      "Number of users: 836,887\n",
      "Number of items: 69,001\n"
     ]
    }
   ],
   "source": [
    "print(f\"Number of ratings: {len(df):,}\")\n",
    "print(f\"Number of users: {df.author_id.nunique():,}\")\n",
    "print(f\"Number of items: {df.app_id.nunique():,}\")"
   ]
  },
  {
   "cell_type": "code",
   "execution_count": 42,
   "metadata": {},
   "outputs": [
    {
     "data": {
      "image/png": "[encoded data removed]",
      "text/plain": [
       "<Figure size 800x600 with 1 Axes>"
      ]
     },
     "metadata": {},
     "output_type": "display_data"
    }
   ],
   "source": [
    "plt.figure(figsize=(8, 6))\n",
    "color_pallete = sns.color_palette(\"hls\", 2)\n",
    "sns.countplot(x=\"voted_up\", data=df, palette=color_pallete, hue='voted_up')\n",
    "plt.show()"
   ]
  },
  {
   "cell_type": "code",
   "execution_count": 44,
   "metadata": {},
   "outputs": [
    {
     "name": "stdout",
     "output_type": "stream",
     "text": [
      "Number of users: 836,887\n",
      "Number of items: 69,001\n",
      "Number of available ratings: 1,156,233\n",
      "Number of all possible ratings: 57,746,039,887\n",
      "----------------------------------------\n",
      "SPARSITY: 100.00%\n"
     ]
    }
   ],
   "source": [
    "n_users = df.author_id.nunique()\n",
    "n_items = df.app_id.nunique()\n",
    "n_ratings = len(df)\n",
    "rating_matrix_size = n_users * n_items\n",
    "sparsity = 1 - n_ratings / rating_matrix_size\n",
    "\n",
    "print(f\"Number of users: {n_users:,}\")\n",
    "print(f\"Number of items: {n_items:,}\")\n",
    "print(f\"Number of available ratings: {n_ratings:,}\")\n",
    "print(f\"Number of all possible ratings: {rating_matrix_size:,}\")\n",
    "print(\"-\" * 40)\n",
    "print(f\"SPARSITY: {sparsity * 100.0:.2f}%\")"
   ]
  }
 ],
 "metadata": {
  "kernelspec": {
   "display_name": "Python 3",
   "language": "python",
   "name": "python3"
  },
  "language_info": {
   "codemirror_mode": {
    "name": "ipython",
    "version": 3
   },
   "file_extension": ".py",
   "mimetype": "text/x-python",
   "name": "python",
   "nbconvert_exporter": "python",
   "pygments_lexer": "ipython3",
   "version": "3.12.1"
  }
 },
 "nbformat": 4,
 "nbformat_minor": 2
}
