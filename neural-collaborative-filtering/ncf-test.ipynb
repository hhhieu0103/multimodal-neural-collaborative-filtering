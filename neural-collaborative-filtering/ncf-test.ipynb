{
 "cells": [
  {
   "cell_type": "code",
   "execution_count": 1,
   "metadata": {},
   "outputs": [],
   "source": [
    "import pandas as pd\n",
    "import numpy as np\n",
    "from torch.utils.data import DataLoader\n",
    "from sklearn.model_selection import train_test_split\n",
    "from dataset import NCFDataset\n",
    "from recom_ncf import NCFRecommender\n",
    "import matplotlib.pyplot as plt"
   ]
  },
  {
   "cell_type": "code",
   "execution_count": 2,
   "metadata": {},
   "outputs": [
    {
     "data": {
      "application/vnd.microsoft.datawrangler.viewer.v0+json": {
       "columns": [
        {
         "name": "index",
         "rawType": "int64",
         "type": "integer"
        },
        {
         "name": "user_idx",
         "rawType": "int64",
         "type": "integer"
        },
        {
         "name": "item_idx",
         "rawType": "int64",
         "type": "integer"
        },
        {
         "name": "rating_imp",
         "rawType": "int64",
         "type": "integer"
        },
        {
         "name": "timestamp",
         "rawType": "int64",
         "type": "integer"
        },
        {
         "name": "review",
         "rawType": "object",
         "type": "string"
        }
       ],
       "conversionMethod": "pd.DataFrame",
       "ref": "e0d9961c-4054-4298-b6c5-3500385e459f",
       "rows": [
        [
         "0",
         "0",
         "0",
         "1",
         "1738278781",
         "A legendary tactical shooter that shaped the genre. Simple yet deep gameplay, excellent weapon balance, and iconic maps keep the game relevant even today. Pure nostalgia and classic FPS action."
        ],
        [
         "1",
         "1",
         "0",
         "1",
         "1736206418",
         "The best CS sure, but server browser is the illusion of choice and leads you to the same **** server. Use gametracker or something"
        ],
        [
         "2",
         "2",
         "0",
         "1",
         "1738041574",
         "Some of the best memories of my childhood were made in pixels, with friends I only knew through a screen. Time moves on, but those moments are forever frozen in time."
        ],
        [
         "3",
         "3",
         "0",
         "1",
         "1738015332",
         "This game feels so much better than CS2. I know this game still gets FACEIT/ESEA-type treatment from services in the EU, but it would be cool if it got such services in NA."
        ],
        [
         "4",
         "4",
         "0",
         "1",
         "1737853720",
         "its very fun to play you can make friends out of it i have lots of maps i like i like how theres diffrent teams to choose from idk what else to say its just fun"
        ]
       ],
       "shape": {
        "columns": 5,
        "rows": 5
       }
      },
      "text/html": [
       "<div>\n",
       "<style scoped>\n",
       "    .dataframe tbody tr th:only-of-type {\n",
       "        vertical-align: middle;\n",
       "    }\n",
       "\n",
       "    .dataframe tbody tr th {\n",
       "        vertical-align: top;\n",
       "    }\n",
       "\n",
       "    .dataframe thead th {\n",
       "        text-align: right;\n",
       "    }\n",
       "</style>\n",
       "<table border=\"1\" class=\"dataframe\">\n",
       "  <thead>\n",
       "    <tr style=\"text-align: right;\">\n",
       "      <th></th>\n",
       "      <th>user_idx</th>\n",
       "      <th>item_idx</th>\n",
       "      <th>rating_imp</th>\n",
       "      <th>timestamp</th>\n",
       "      <th>review</th>\n",
       "    </tr>\n",
       "  </thead>\n",
       "  <tbody>\n",
       "    <tr>\n",
       "      <th>0</th>\n",
       "      <td>0</td>\n",
       "      <td>0</td>\n",
       "      <td>1</td>\n",
       "      <td>1738278781</td>\n",
       "      <td>A legendary tactical shooter that shaped the g...</td>\n",
       "    </tr>\n",
       "    <tr>\n",
       "      <th>1</th>\n",
       "      <td>1</td>\n",
       "      <td>0</td>\n",
       "      <td>1</td>\n",
       "      <td>1736206418</td>\n",
       "      <td>The best CS sure, but server browser is the il...</td>\n",
       "    </tr>\n",
       "    <tr>\n",
       "      <th>2</th>\n",
       "      <td>2</td>\n",
       "      <td>0</td>\n",
       "      <td>1</td>\n",
       "      <td>1738041574</td>\n",
       "      <td>Some of the best memories of my childhood were...</td>\n",
       "    </tr>\n",
       "    <tr>\n",
       "      <th>3</th>\n",
       "      <td>3</td>\n",
       "      <td>0</td>\n",
       "      <td>1</td>\n",
       "      <td>1738015332</td>\n",
       "      <td>This game feels so much better than CS2. I kno...</td>\n",
       "    </tr>\n",
       "    <tr>\n",
       "      <th>4</th>\n",
       "      <td>4</td>\n",
       "      <td>0</td>\n",
       "      <td>1</td>\n",
       "      <td>1737853720</td>\n",
       "      <td>its very fun to play you can make friends out ...</td>\n",
       "    </tr>\n",
       "  </tbody>\n",
       "</table>\n",
       "</div>"
      ],
      "text/plain": [
       "   user_idx  item_idx  rating_imp   timestamp  \\\n",
       "0         0         0           1  1738278781   \n",
       "1         1         0           1  1736206418   \n",
       "2         2         0           1  1738041574   \n",
       "3         3         0           1  1738015332   \n",
       "4         4         0           1  1737853720   \n",
       "\n",
       "                                              review  \n",
       "0  A legendary tactical shooter that shaped the g...  \n",
       "1  The best CS sure, but server browser is the il...  \n",
       "2  Some of the best memories of my childhood were...  \n",
       "3  This game feels so much better than CS2. I kno...  \n",
       "4  its very fun to play you can make friends out ...  "
      ]
     },
     "execution_count": 2,
     "metadata": {},
     "output_type": "execute_result"
    }
   ],
   "source": [
    "df = pd.read_csv('data/review-clean.csv')[['user_idx', 'item_idx', 'rating_imp', 'timestamp', 'review']]\n",
    "df.head()"
   ]
  },
  {
   "cell_type": "markdown",
   "metadata": {},
   "source": [
    "## Mapping user id and app id to indices"
   ]
  },
  {
   "cell_type": "markdown",
   "metadata": {},
   "source": [
    "## Splitting the data"
   ]
  },
  {
   "cell_type": "code",
   "execution_count": 3,
   "metadata": {},
   "outputs": [],
   "source": [
    "df_train_eval, df_test = train_test_split(df[['user_idx', 'item_idx', 'rating_imp']], test_size=0.1, random_state=42)\n",
    "df_train, df_eval = train_test_split(df_train_eval, test_size=(0.1/0.9), random_state=42)\n",
    "\n",
    "train_dataset = NCFDataset(df_train)\n",
    "eval_dataset = NCFDataset(df_eval)\n",
    "test_dataset = NCFDataset(df_test)\n",
    "\n",
    "train_dataloader = DataLoader(train_dataset, batch_size=4096, shuffle=True)\n",
    "eval_dataloader = DataLoader(eval_dataset, batch_size=4096, shuffle=False)\n",
    "test_dataloader = DataLoader(eval_dataset, batch_size=4096, shuffle=False)\n",
    "\n",
    "unique_users = df[\"user_idx\"].unique()\n",
    "unique_items = df[\"item_idx\"].unique()"
   ]
  },
  {
   "cell_type": "code",
   "execution_count": 4,
   "metadata": {},
   "outputs": [
    {
     "name": "stdout",
     "output_type": "stream",
     "text": [
      "(1413153, 3)\n",
      "(176645, 3)\n",
      "(176645, 3)\n"
     ]
    }
   ],
   "source": [
    "print(df_train.shape)\n",
    "print(df_eval.shape)\n",
    "print(df_test.shape)"
   ]
  },
  {
   "cell_type": "markdown",
   "metadata": {},
   "source": [
    "## Train model"
   ]
  },
  {
   "cell_type": "code",
   "execution_count": 5,
   "metadata": {},
   "outputs": [
    {
     "name": "stdout",
     "output_type": "stream",
     "text": [
      "Epoch 1/20\n",
      "-------------------------------\n",
      "Train loss: 0.754045, Eval loss: 0.723106\n",
      "Epoch 2/20\n",
      "-------------------------------\n",
      "Train loss: 0.695565, Eval loss: 0.670318\n",
      "Epoch 3/20\n",
      "-------------------------------\n",
      "Train loss: 0.648302, Eval loss: 0.627207\n",
      "Epoch 4/20\n",
      "-------------------------------\n",
      "Train loss: 0.609512, Eval loss: 0.591918\n",
      "Epoch 5/20\n",
      "-------------------------------\n",
      "Train loss: 0.578149, Eval loss: 0.563165\n",
      "Epoch 6/20\n",
      "-------------------------------\n",
      "Train loss: 0.552577, Eval loss: 0.540049\n",
      "Epoch 7/20\n",
      "-------------------------------\n",
      "Train loss: 0.532362, Eval loss: 0.521747\n",
      "Epoch 8/20\n",
      "-------------------------------\n",
      "Train loss: 0.516111, Eval loss: 0.507498\n",
      "Epoch 9/20\n",
      "-------------------------------\n",
      "Train loss: 0.504299, Eval loss: 0.496671\n",
      "Epoch 10/20\n",
      "-------------------------------\n",
      "Train loss: 0.495075, Eval loss: 0.488558\n",
      "Epoch 11/20\n",
      "-------------------------------\n",
      "Train loss: 0.488120, Eval loss: 0.482552\n",
      "Epoch 12/20\n",
      "-------------------------------\n",
      "Train loss: 0.483211, Eval loss: 0.478169\n",
      "Epoch 13/20\n",
      "-------------------------------\n",
      "Train loss: 0.479939, Eval loss: 0.475008\n",
      "Epoch 14/20\n",
      "-------------------------------\n",
      "Train loss: 0.477102, Eval loss: 0.472727\n",
      "Epoch 15/20\n",
      "-------------------------------\n",
      "Train loss: 0.475337, Eval loss: 0.471094\n",
      "Epoch 16/20\n",
      "-------------------------------\n",
      "Train loss: 0.474317, Eval loss: 0.469927\n",
      "Epoch 17/20\n",
      "-------------------------------\n",
      "Train loss: 0.473329, Eval loss: 0.469085\n",
      "Epoch 18/20\n",
      "-------------------------------\n",
      "Train loss: 0.473134, Eval loss: 0.468480\n",
      "Epoch 19/20\n",
      "-------------------------------\n",
      "Train loss: 0.472052, Eval loss: 0.468029\n",
      "Epoch 20/20\n",
      "-------------------------------\n",
      "Train loss: 0.471412, Eval loss: 0.467684\n",
      "Training completed!\n"
     ]
    }
   ],
   "source": [
    "model = NCFRecommender(unique_users, unique_items)\n",
    "model.fit(train_dataloader, eval_dataloader)"
   ]
  },
  {
   "cell_type": "code",
   "execution_count": 8,
   "metadata": {},
   "outputs": [
    {
     "data": {
      "image/png": "[encoded data removed]",
      "text/plain": [
       "<Figure size 640x480 with 1 Axes>"
      ]
     },
     "metadata": {},
     "output_type": "display_data"
    }
   ],
   "source": [
    "train_losses = model.train_losses\n",
    "eval_losses = model.eval_losses\n",
    "epochs = model.epochs\n",
    "\n",
    "plt.plot(range(0, epochs), train_losses, label=\"Training Loss\")\n",
    "plt.plot(range(0, epochs), eval_losses, label=\"Validation Loss\")\n",
    "plt.xticks(ticks=np.arange(0, epochs + 1, 2))\n",
    "plt.xlabel(\"Epochs\")\n",
    "plt.ylabel(\"Loss\")\n",
    "plt.title(\"Loss Curves\")\n",
    "plt.legend()\n",
    "plt.show()"
   ]
  },
  {
   "cell_type": "code",
   "execution_count": 15,
   "metadata": {},
   "outputs": [],
   "source": [
    "model.save('models/test-model.pt')"
   ]
  },
  {
   "cell_type": "code",
   "execution_count": null,
   "metadata": {},
   "outputs": [],
   "source": [
    "from evaluation import Evaluation\n",
    "\n",
    "evaluator = Evaluation(recommender=model, test_data=df_test, k=10)\n",
    "evaluator.evaluate()"
   ]
  }
 ],
 "metadata": {
  "kernelspec": {
   "display_name": "Python 3",
   "language": "python",
   "name": "python3"
  },
  "language_info": {
   "codemirror_mode": {
    "name": "ipython",
    "version": 3
   },
   "file_extension": ".py",
   "mimetype": "text/x-python",
   "name": "python",
   "nbconvert_exporter": "python",
   "pygments_lexer": "ipython3",
   "version": "3.12.1"
  }
 },
 "nbformat": 4,
 "nbformat_minor": 2
}
