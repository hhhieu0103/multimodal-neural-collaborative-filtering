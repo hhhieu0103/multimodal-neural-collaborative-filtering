{
 "cells": [
  {
   "cell_type": "code",
   "execution_count": 1,
   "metadata": {},
   "outputs": [],
   "source": [
    "import pandas as pd\n",
    "import numpy as np\n",
    "from torch.utils.data import DataLoader\n",
    "from sklearn.model_selection import train_test_split\n",
    "from dataset import NCFDataset\n",
    "from recom_ncf import NCFRecommender\n",
    "import matplotlib.pyplot as plt"
   ]
  },
  {
   "cell_type": "code",
   "execution_count": 2,
   "metadata": {},
   "outputs": [
    {
     "data": {
      "application/vnd.microsoft.datawrangler.viewer.v0+json": {
       "columns": [
        {
         "name": "index",
         "rawType": "int64",
         "type": "integer"
        },
        {
         "name": "user_idx",
         "rawType": "int64",
         "type": "integer"
        },
        {
         "name": "item_idx",
         "rawType": "int64",
         "type": "integer"
        },
        {
         "name": "rating_imp",
         "rawType": "int64",
         "type": "integer"
        },
        {
         "name": "timestamp",
         "rawType": "int64",
         "type": "integer"
        },
        {
         "name": "review",
         "rawType": "object",
         "type": "string"
        }
       ],
       "conversionMethod": "pd.DataFrame",
       "ref": "03fd8f44-6178-41a6-84c8-3ee3e4e24872",
       "rows": [
        [
         "0",
         "0",
         "0",
         "1",
         "1738278781",
         "A legendary tactical shooter that shaped the genre. Simple yet deep gameplay, excellent weapon balance, and iconic maps keep the game relevant even today. Pure nostalgia and classic FPS action."
        ],
        [
         "1",
         "1",
         "0",
         "1",
         "1736206418",
         "The best CS sure, but server browser is the illusion of choice and leads you to the same **** server. Use gametracker or something"
        ],
        [
         "2",
         "2",
         "0",
         "1",
         "1738041574",
         "Some of the best memories of my childhood were made in pixels, with friends I only knew through a screen. Time moves on, but those moments are forever frozen in time."
        ],
        [
         "3",
         "3",
         "0",
         "1",
         "1738015332",
         "This game feels so much better than CS2. I know this game still gets FACEIT/ESEA-type treatment from services in the EU, but it would be cool if it got such services in NA."
        ],
        [
         "4",
         "4",
         "0",
         "1",
         "1737853720",
         "its very fun to play you can make friends out of it i have lots of maps i like i like how theres diffrent teams to choose from idk what else to say its just fun"
        ]
       ],
       "shape": {
        "columns": 5,
        "rows": 5
       }
      },
      "text/html": [
       "<div>\n",
       "<style scoped>\n",
       "    .dataframe tbody tr th:only-of-type {\n",
       "        vertical-align: middle;\n",
       "    }\n",
       "\n",
       "    .dataframe tbody tr th {\n",
       "        vertical-align: top;\n",
       "    }\n",
       "\n",
       "    .dataframe thead th {\n",
       "        text-align: right;\n",
       "    }\n",
       "</style>\n",
       "<table border=\"1\" class=\"dataframe\">\n",
       "  <thead>\n",
       "    <tr style=\"text-align: right;\">\n",
       "      <th></th>\n",
       "      <th>user_idx</th>\n",
       "      <th>item_idx</th>\n",
       "      <th>rating_imp</th>\n",
       "      <th>timestamp</th>\n",
       "      <th>review</th>\n",
       "    </tr>\n",
       "  </thead>\n",
       "  <tbody>\n",
       "    <tr>\n",
       "      <th>0</th>\n",
       "      <td>0</td>\n",
       "      <td>0</td>\n",
       "      <td>1</td>\n",
       "      <td>1738278781</td>\n",
       "      <td>A legendary tactical shooter that shaped the g...</td>\n",
       "    </tr>\n",
       "    <tr>\n",
       "      <th>1</th>\n",
       "      <td>1</td>\n",
       "      <td>0</td>\n",
       "      <td>1</td>\n",
       "      <td>1736206418</td>\n",
       "      <td>The best CS sure, but server browser is the il...</td>\n",
       "    </tr>\n",
       "    <tr>\n",
       "      <th>2</th>\n",
       "      <td>2</td>\n",
       "      <td>0</td>\n",
       "      <td>1</td>\n",
       "      <td>1738041574</td>\n",
       "      <td>Some of the best memories of my childhood were...</td>\n",
       "    </tr>\n",
       "    <tr>\n",
       "      <th>3</th>\n",
       "      <td>3</td>\n",
       "      <td>0</td>\n",
       "      <td>1</td>\n",
       "      <td>1738015332</td>\n",
       "      <td>This game feels so much better than CS2. I kno...</td>\n",
       "    </tr>\n",
       "    <tr>\n",
       "      <th>4</th>\n",
       "      <td>4</td>\n",
       "      <td>0</td>\n",
       "      <td>1</td>\n",
       "      <td>1737853720</td>\n",
       "      <td>its very fun to play you can make friends out ...</td>\n",
       "    </tr>\n",
       "  </tbody>\n",
       "</table>\n",
       "</div>"
      ],
      "text/plain": [
       "   user_idx  item_idx  rating_imp   timestamp  \\\n",
       "0         0         0           1  1738278781   \n",
       "1         1         0           1  1736206418   \n",
       "2         2         0           1  1738041574   \n",
       "3         3         0           1  1738015332   \n",
       "4         4         0           1  1737853720   \n",
       "\n",
       "                                              review  \n",
       "0  A legendary tactical shooter that shaped the g...  \n",
       "1  The best CS sure, but server browser is the il...  \n",
       "2  Some of the best memories of my childhood were...  \n",
       "3  This game feels so much better than CS2. I kno...  \n",
       "4  its very fun to play you can make friends out ...  "
      ]
     },
     "execution_count": 2,
     "metadata": {},
     "output_type": "execute_result"
    }
   ],
   "source": [
    "df = pd.read_csv('data/review-clean.csv')[['user_idx', 'item_idx', 'rating_imp', 'timestamp', 'review']]\n",
    "df.head()"
   ]
  },
  {
   "cell_type": "markdown",
   "metadata": {},
   "source": [
    "## Splitting the data"
   ]
  },
  {
   "cell_type": "code",
   "execution_count": 3,
   "metadata": {},
   "outputs": [],
   "source": [
    "df_train_eval, df_test = train_test_split(df[['user_idx', 'item_idx', 'rating_imp']], test_size=0.1, random_state=42)\n",
    "df_train, df_eval = train_test_split(df_train_eval, test_size=(0.1/0.9), random_state=42)\n",
    "\n",
    "train_dataset = NCFDataset(df_train)\n",
    "eval_dataset = NCFDataset(df_eval)\n",
    "test_dataset = NCFDataset(df_test)\n",
    "\n",
    "train_dataloader = DataLoader(train_dataset, batch_size=8192, shuffle=True)\n",
    "eval_dataloader = DataLoader(eval_dataset, batch_size=8192, shuffle=False)\n",
    "test_dataloader = DataLoader(eval_dataset, batch_size=8192, shuffle=False)\n",
    "\n",
    "unique_users = df[\"user_idx\"].unique()\n",
    "unique_items = df[\"item_idx\"].unique()"
   ]
  },
  {
   "cell_type": "code",
   "execution_count": 4,
   "metadata": {},
   "outputs": [
    {
     "name": "stdout",
     "output_type": "stream",
     "text": [
      "(1413153, 3)\n",
      "(176645, 3)\n",
      "(176645, 3)\n"
     ]
    }
   ],
   "source": [
    "print(df_train.shape)\n",
    "print(df_eval.shape)\n",
    "print(df_test.shape)"
   ]
  },
  {
   "cell_type": "markdown",
   "metadata": {},
   "source": [
    "## Train model"
   ]
  },
  {
   "cell_type": "code",
   "execution_count": 5,
   "metadata": {},
   "outputs": [
    {
     "name": "stdout",
     "output_type": "stream",
     "text": [
      "Epoch 1/20\n",
      "Train loss: 0.790297, Eval loss: 0.776626\n",
      "==================================================\n",
      "Epoch 2/20\n",
      "Train loss: 0.764231, Eval loss: 0.751656\n",
      "==================================================\n",
      "Epoch 3/20\n",
      "Train loss: 0.740500, Eval loss: 0.728890\n",
      "==================================================\n",
      "Epoch 4/20\n",
      "Train loss: 0.718847, Eval loss: 0.708116\n",
      "==================================================\n",
      "Epoch 5/20\n",
      "Train loss: 0.699087, Eval loss: 0.689147\n",
      "==================================================\n",
      "Epoch 6/20\n",
      "Train loss: 0.681045, Eval loss: 0.671814\n",
      "==================================================\n",
      "Epoch 7/20\n",
      "Train loss: 0.664552, Eval loss: 0.655966\n",
      "==================================================\n",
      "Epoch 8/20\n",
      "Train loss: 0.649495, Eval loss: 0.641473\n",
      "==================================================\n",
      "Epoch 9/20\n",
      "Train loss: 0.635709, Eval loss: 0.628207\n",
      "==================================================\n",
      "Epoch 10/20\n",
      "Train loss: 0.623078, Eval loss: 0.616056\n",
      "==================================================\n",
      "Epoch 11/20\n",
      "Train loss: 0.611538, Eval loss: 0.604921\n",
      "==================================================\n",
      "Epoch 12/20\n",
      "Train loss: 0.600944, Eval loss: 0.594710\n",
      "==================================================\n",
      "Epoch 13/20\n",
      "Train loss: 0.591229, Eval loss: 0.585339\n",
      "==================================================\n",
      "Epoch 14/20\n",
      "Train loss: 0.582320, Eval loss: 0.576733\n",
      "==================================================\n",
      "Epoch 15/20\n",
      "Train loss: 0.574163, Eval loss: 0.568826\n",
      "==================================================\n",
      "Epoch 16/20\n",
      "Train loss: 0.566632, Eval loss: 0.561551\n",
      "==================================================\n",
      "Epoch 17/20\n",
      "Train loss: 0.559709, Eval loss: 0.554855\n",
      "==================================================\n",
      "Epoch 18/20\n",
      "Train loss: 0.553342, Eval loss: 0.548688\n",
      "==================================================\n",
      "Epoch 19/20\n",
      "Train loss: 0.547498, Eval loss: 0.543003\n",
      "==================================================\n",
      "Epoch 20/20\n",
      "Train loss: 0.542078, Eval loss: 0.537757\n",
      "==================================================\n",
      "Training completed!\n"
     ]
    }
   ],
   "source": [
    "model = NCFRecommender(unique_users, unique_items)\n",
    "model.fit(train_dataloader, eval_dataloader)"
   ]
  },
  {
   "cell_type": "code",
   "execution_count": 6,
   "metadata": {},
   "outputs": [
    {
     "data": {
      "image/png": "[encoded data removed]",
      "text/plain": [
       "<Figure size 640x480 with 1 Axes>"
      ]
     },
     "metadata": {},
     "output_type": "display_data"
    }
   ],
   "source": [
    "train_losses = model.train_losses\n",
    "eval_losses = model.eval_losses\n",
    "epochs = model.epochs\n",
    "\n",
    "plt.plot(range(0, epochs), train_losses, label=\"Training Loss\")\n",
    "plt.plot(range(0, epochs), eval_losses, label=\"Validation Loss\")\n",
    "plt.xticks(ticks=np.arange(0, epochs + 1, 2))\n",
    "plt.xlabel(\"Epochs\")\n",
    "plt.ylabel(\"Loss\")\n",
    "plt.title(\"Loss Curves\")\n",
    "plt.legend()\n",
    "plt.show()"
   ]
  },
  {
   "cell_type": "code",
   "execution_count": 7,
   "metadata": {},
   "outputs": [],
   "source": [
    "model.save('models/test-model.pt')"
   ]
  },
  {
   "cell_type": "code",
   "execution_count": 8,
   "metadata": {},
   "outputs": [
    {
     "name": "stdout",
     "output_type": "stream",
     "text": [
      "Processing user batch 1/149008\n",
      "Processing user batch 1025/149008\n",
      "Processing user batch 2049/149008\n",
      "Processing user batch 3073/149008\n",
      "Processing user batch 4097/149008\n",
      "Processing user batch 5121/149008\n",
      "Processing user batch 6145/149008\n",
      "Processing user batch 7169/149008\n",
      "Processing user batch 8193/149008\n",
      "Processing user batch 9217/149008\n",
      "Processing user batch 10241/149008\n",
      "Processing user batch 11265/149008\n",
      "Processing user batch 12289/149008\n",
      "Processing user batch 13313/149008\n",
      "Processing user batch 14337/149008\n",
      "Processing user batch 15361/149008\n",
      "Processing user batch 16385/149008\n",
      "Processing user batch 17409/149008\n",
      "Processing user batch 18433/149008\n",
      "Processing user batch 19457/149008\n",
      "Processing user batch 20481/149008\n",
      "Processing user batch 21505/149008\n",
      "Processing user batch 22529/149008\n",
      "Processing user batch 23553/149008\n",
      "Processing user batch 24577/149008\n",
      "Processing user batch 25601/149008\n",
      "Processing user batch 26625/149008\n",
      "Processing user batch 27649/149008\n",
      "Processing user batch 28673/149008\n",
      "Processing user batch 29697/149008\n",
      "Processing user batch 30721/149008\n",
      "Processing user batch 31745/149008\n",
      "Processing user batch 32769/149008\n",
      "Processing user batch 33793/149008\n",
      "Processing user batch 34817/149008\n",
      "Processing user batch 35841/149008\n",
      "Processing user batch 36865/149008\n",
      "Processing user batch 37889/149008\n",
      "Processing user batch 38913/149008\n",
      "Processing user batch 39937/149008\n",
      "Processing user batch 40961/149008\n",
      "Processing user batch 41985/149008\n",
      "Processing user batch 43009/149008\n",
      "Processing user batch 44033/149008\n",
      "Processing user batch 45057/149008\n",
      "Processing user batch 46081/149008\n",
      "Processing user batch 47105/149008\n",
      "Processing user batch 48129/149008\n",
      "Processing user batch 49153/149008\n",
      "Processing user batch 50177/149008\n",
      "Processing user batch 51201/149008\n",
      "Processing user batch 52225/149008\n",
      "Processing user batch 53249/149008\n",
      "Processing user batch 54273/149008\n",
      "Processing user batch 55297/149008\n",
      "Processing user batch 56321/149008\n",
      "Processing user batch 57345/149008\n",
      "Processing user batch 58369/149008\n",
      "Processing user batch 59393/149008\n",
      "Processing user batch 60417/149008\n",
      "Processing user batch 61441/149008\n",
      "Processing user batch 62465/149008\n",
      "Processing user batch 63489/149008\n",
      "Processing user batch 64513/149008\n",
      "Processing user batch 65537/149008\n",
      "Processing user batch 66561/149008\n",
      "Processing user batch 67585/149008\n",
      "Processing user batch 68609/149008\n",
      "Processing user batch 69633/149008\n",
      "Processing user batch 70657/149008\n",
      "Processing user batch 71681/149008\n",
      "Processing user batch 72705/149008\n",
      "Processing user batch 73729/149008\n",
      "Processing user batch 74753/149008\n",
      "Processing user batch 75777/149008\n",
      "Processing user batch 76801/149008\n",
      "Processing user batch 77825/149008\n",
      "Processing user batch 78849/149008\n",
      "Processing user batch 79873/149008\n",
      "Processing user batch 80897/149008\n",
      "Processing user batch 81921/149008\n",
      "Processing user batch 82945/149008\n",
      "Processing user batch 83969/149008\n",
      "Processing user batch 84993/149008\n",
      "Processing user batch 86017/149008\n",
      "Processing user batch 87041/149008\n",
      "Processing user batch 88065/149008\n",
      "Processing user batch 89089/149008\n",
      "Processing user batch 90113/149008\n",
      "Processing user batch 91137/149008\n",
      "Processing user batch 92161/149008\n",
      "Processing user batch 93185/149008\n",
      "Processing user batch 94209/149008\n",
      "Processing user batch 95233/149008\n",
      "Processing user batch 96257/149008\n",
      "Processing user batch 97281/149008\n",
      "Processing user batch 98305/149008\n",
      "Processing user batch 99329/149008\n",
      "Processing user batch 100353/149008\n",
      "Processing user batch 101377/149008\n",
      "Processing user batch 102401/149008\n",
      "Processing user batch 103425/149008\n",
      "Processing user batch 104449/149008\n",
      "Processing user batch 105473/149008\n",
      "Processing user batch 106497/149008\n",
      "Processing user batch 107521/149008\n",
      "Processing user batch 108545/149008\n",
      "Processing user batch 109569/149008\n",
      "Processing user batch 110593/149008\n",
      "Processing user batch 111617/149008\n",
      "Processing user batch 112641/149008\n",
      "Processing user batch 113665/149008\n",
      "Processing user batch 114689/149008\n",
      "Processing user batch 115713/149008\n",
      "Processing user batch 116737/149008\n",
      "Processing user batch 117761/149008\n",
      "Processing user batch 118785/149008\n",
      "Processing user batch 119809/149008\n",
      "Processing user batch 120833/149008\n",
      "Processing user batch 121857/149008\n",
      "Processing user batch 122881/149008\n",
      "Processing user batch 123905/149008\n",
      "Processing user batch 124929/149008\n",
      "Processing user batch 125953/149008\n",
      "Processing user batch 126977/149008\n",
      "Processing user batch 128001/149008\n",
      "Processing user batch 129025/149008\n",
      "Processing user batch 130049/149008\n",
      "Processing user batch 131073/149008\n",
      "Processing user batch 132097/149008\n",
      "Processing user batch 133121/149008\n",
      "Processing user batch 134145/149008\n",
      "Processing user batch 135169/149008\n",
      "Processing user batch 136193/149008\n",
      "Processing user batch 137217/149008\n",
      "Processing user batch 138241/149008\n",
      "Processing user batch 139265/149008\n",
      "Processing user batch 140289/149008\n",
      "Processing user batch 141313/149008\n",
      "Processing user batch 142337/149008\n",
      "Processing user batch 143361/149008\n",
      "Processing user batch 144385/149008\n",
      "Processing user batch 145409/149008\n",
      "Processing user batch 146433/149008\n",
      "Processing user batch 147457/149008\n",
      "Processing user batch 148481/149008\n"
     ]
    },
    {
     "data": {
      "text/plain": [
       "{'Hit Ratio@10': 0.0004697734349833566,\n",
       " 'NDCG@10': 0.00021063614434372878,\n",
       " 'Recall@10': 0.0004190810464634689}"
      ]
     },
     "execution_count": 8,
     "metadata": {},
     "output_type": "execute_result"
    }
   ],
   "source": [
    "from evaluation import Evaluation\n",
    "\n",
    "evaluator = Evaluation(recommender=model, test_data=df_test, k=10)\n",
    "evaluator.evaluate()"
   ]
  },
  {
   "cell_type": "code",
   "execution_count": null,
   "metadata": {},
   "outputs": [],
   "source": []
  }
 ],
 "metadata": {
  "kernelspec": {
   "display_name": "Python 3",
   "language": "python",
   "name": "python3"
  },
  "language_info": {
   "codemirror_mode": {
    "name": "ipython",
    "version": 3
   },
   "file_extension": ".py",
   "mimetype": "text/x-python",
   "name": "python",
   "nbconvert_exporter": "python",
   "pygments_lexer": "ipython3",
   "version": "3.12.1"
  }
 },
 "nbformat": 4,
 "nbformat_minor": 2
}
