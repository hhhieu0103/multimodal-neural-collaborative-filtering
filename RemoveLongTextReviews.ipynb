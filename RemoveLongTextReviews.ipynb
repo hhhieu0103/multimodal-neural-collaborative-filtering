{
 "cells": [
  {
   "cell_type": "code",
   "execution_count": 3,
   "metadata": {},
   "outputs": [],
   "source": [
    "import pandas as pd\n",
    "REVIEWS_PATH = 'Final/Reviews-raw.csv'"
   ]
  },
  {
   "cell_type": "code",
   "execution_count": 4,
   "metadata": {},
   "outputs": [
    {
     "data": {
      "text/html": [
       "<div>\n",
       "<style scoped>\n",
       "    .dataframe tbody tr th:only-of-type {\n",
       "        vertical-align: middle;\n",
       "    }\n",
       "\n",
       "    .dataframe tbody tr th {\n",
       "        vertical-align: top;\n",
       "    }\n",
       "\n",
       "    .dataframe thead th {\n",
       "        text-align: right;\n",
       "    }\n",
       "</style>\n",
       "<table border=\"1\" class=\"dataframe\">\n",
       "  <thead>\n",
       "    <tr style=\"text-align: right;\">\n",
       "      <th></th>\n",
       "      <th>Unnamed: 0</th>\n",
       "      <th>recommendationid</th>\n",
       "      <th>author_id</th>\n",
       "      <th>review</th>\n",
       "      <th>timestamp</th>\n",
       "      <th>voted_up</th>\n",
       "      <th>weighted_vote_score</th>\n",
       "      <th>app_id</th>\n",
       "    </tr>\n",
       "  </thead>\n",
       "  <tbody>\n",
       "    <tr>\n",
       "      <th>0</th>\n",
       "      <td>0</td>\n",
       "      <td>186781078</td>\n",
       "      <td>76561197960432447</td>\n",
       "      <td>A legendary tactical shooter that shaped the g...</td>\n",
       "      <td>1738278781</td>\n",
       "      <td>True</td>\n",
       "      <td>0.652997</td>\n",
       "      <td>10</td>\n",
       "    </tr>\n",
       "    <tr>\n",
       "      <th>1</th>\n",
       "      <td>1</td>\n",
       "      <td>184974430</td>\n",
       "      <td>76561198071230926</td>\n",
       "      <td>The best CS sure, but server browser is the il...</td>\n",
       "      <td>1736206418</td>\n",
       "      <td>True</td>\n",
       "      <td>0.581749</td>\n",
       "      <td>10</td>\n",
       "    </tr>\n",
       "    <tr>\n",
       "      <th>2</th>\n",
       "      <td>2</td>\n",
       "      <td>186584044</td>\n",
       "      <td>76561198206216352</td>\n",
       "      <td>Some of the best memories of my childhood were...</td>\n",
       "      <td>1738041574</td>\n",
       "      <td>True</td>\n",
       "      <td>0.628378</td>\n",
       "      <td>10</td>\n",
       "    </tr>\n",
       "    <tr>\n",
       "      <th>3</th>\n",
       "      <td>3</td>\n",
       "      <td>186564689</td>\n",
       "      <td>76561198110801124</td>\n",
       "      <td>This game feels so much better than CS2. I kno...</td>\n",
       "      <td>1738015332</td>\n",
       "      <td>True</td>\n",
       "      <td>0.000000</td>\n",
       "      <td>10</td>\n",
       "    </tr>\n",
       "    <tr>\n",
       "      <th>4</th>\n",
       "      <td>4</td>\n",
       "      <td>186418367</td>\n",
       "      <td>76561199813732773</td>\n",
       "      <td>its very fun to play you can make friends out ...</td>\n",
       "      <td>1737853720</td>\n",
       "      <td>True</td>\n",
       "      <td>0.000000</td>\n",
       "      <td>10</td>\n",
       "    </tr>\n",
       "  </tbody>\n",
       "</table>\n",
       "</div>"
      ],
      "text/plain": [
       "   Unnamed: 0  recommendationid          author_id  \\\n",
       "0           0         186781078  76561197960432447   \n",
       "1           1         184974430  76561198071230926   \n",
       "2           2         186584044  76561198206216352   \n",
       "3           3         186564689  76561198110801124   \n",
       "4           4         186418367  76561199813732773   \n",
       "\n",
       "                                              review   timestamp  voted_up  \\\n",
       "0  A legendary tactical shooter that shaped the g...  1738278781      True   \n",
       "1  The best CS sure, but server browser is the il...  1736206418      True   \n",
       "2  Some of the best memories of my childhood were...  1738041574      True   \n",
       "3  This game feels so much better than CS2. I kno...  1738015332      True   \n",
       "4  its very fun to play you can make friends out ...  1737853720      True   \n",
       "\n",
       "   weighted_vote_score  app_id  \n",
       "0             0.652997      10  \n",
       "1             0.581749      10  \n",
       "2             0.628378      10  \n",
       "3             0.000000      10  \n",
       "4             0.000000      10  "
      ]
     },
     "execution_count": 4,
     "metadata": {},
     "output_type": "execute_result"
    }
   ],
   "source": [
    "df = pd.read_csv(REVIEWS_PATH)\n",
    "df.head()"
   ]
  },
  {
   "cell_type": "code",
   "execution_count": 6,
   "metadata": {},
   "outputs": [
    {
     "data": {
      "text/html": [
       "<div>\n",
       "<style scoped>\n",
       "    .dataframe tbody tr th:only-of-type {\n",
       "        vertical-align: middle;\n",
       "    }\n",
       "\n",
       "    .dataframe tbody tr th {\n",
       "        vertical-align: top;\n",
       "    }\n",
       "\n",
       "    .dataframe thead th {\n",
       "        text-align: right;\n",
       "    }\n",
       "</style>\n",
       "<table border=\"1\" class=\"dataframe\">\n",
       "  <thead>\n",
       "    <tr style=\"text-align: right;\">\n",
       "      <th></th>\n",
       "      <th>recommendationid</th>\n",
       "      <th>author_id</th>\n",
       "      <th>timestamp</th>\n",
       "      <th>voted_up</th>\n",
       "      <th>app_id</th>\n",
       "    </tr>\n",
       "  </thead>\n",
       "  <tbody>\n",
       "    <tr>\n",
       "      <th>0</th>\n",
       "      <td>186781078</td>\n",
       "      <td>76561197960432447</td>\n",
       "      <td>1738278781</td>\n",
       "      <td>True</td>\n",
       "      <td>10</td>\n",
       "    </tr>\n",
       "    <tr>\n",
       "      <th>1</th>\n",
       "      <td>184974430</td>\n",
       "      <td>76561198071230926</td>\n",
       "      <td>1736206418</td>\n",
       "      <td>True</td>\n",
       "      <td>10</td>\n",
       "    </tr>\n",
       "    <tr>\n",
       "      <th>2</th>\n",
       "      <td>186584044</td>\n",
       "      <td>76561198206216352</td>\n",
       "      <td>1738041574</td>\n",
       "      <td>True</td>\n",
       "      <td>10</td>\n",
       "    </tr>\n",
       "    <tr>\n",
       "      <th>3</th>\n",
       "      <td>186564689</td>\n",
       "      <td>76561198110801124</td>\n",
       "      <td>1738015332</td>\n",
       "      <td>True</td>\n",
       "      <td>10</td>\n",
       "    </tr>\n",
       "    <tr>\n",
       "      <th>4</th>\n",
       "      <td>186418367</td>\n",
       "      <td>76561199813732773</td>\n",
       "      <td>1737853720</td>\n",
       "      <td>True</td>\n",
       "      <td>10</td>\n",
       "    </tr>\n",
       "  </tbody>\n",
       "</table>\n",
       "</div>"
      ],
      "text/plain": [
       "   recommendationid          author_id   timestamp  voted_up  app_id\n",
       "0         186781078  76561197960432447  1738278781      True      10\n",
       "1         184974430  76561198071230926  1736206418      True      10\n",
       "2         186584044  76561198206216352  1738041574      True      10\n",
       "3         186564689  76561198110801124  1738015332      True      10\n",
       "4         186418367  76561199813732773  1737853720      True      10"
      ]
     },
     "execution_count": 6,
     "metadata": {},
     "output_type": "execute_result"
    }
   ],
   "source": [
    "df = df.drop(columns=['Unnamed: 0'])\n",
    "df.head()"
   ]
  },
  {
   "cell_type": "code",
   "execution_count": 7,
   "metadata": {},
   "outputs": [],
   "source": [
    "df.to_csv('Final/Reviews-clean.csv')"
   ]
  },
  {
   "cell_type": "code",
   "execution_count": 8,
   "metadata": {},
   "outputs": [
    {
     "name": "stdout",
     "output_type": "stream",
     "text": [
      "<class 'pandas.core.frame.DataFrame'>\n",
      "RangeIndex: 1766443 entries, 0 to 1766442\n",
      "Data columns (total 5 columns):\n",
      " #   Column            Dtype\n",
      "---  ------            -----\n",
      " 0   recommendationid  int64\n",
      " 1   author_id         int64\n",
      " 2   timestamp         int64\n",
      " 3   voted_up          bool \n",
      " 4   app_id            int64\n",
      "dtypes: bool(1), int64(4)\n",
      "memory usage: 55.6 MB\n"
     ]
    }
   ],
   "source": [
    "df.info()"
   ]
  },
  {
   "cell_type": "code",
   "execution_count": null,
   "metadata": {},
   "outputs": [],
   "source": []
  }
 ],
 "metadata": {
  "kernelspec": {
   "display_name": "Python 3",
   "language": "python",
   "name": "python3"
  },
  "language_info": {
   "codemirror_mode": {
    "name": "ipython",
    "version": 3
   },
   "file_extension": ".py",
   "mimetype": "text/x-python",
   "name": "python",
   "nbconvert_exporter": "python",
   "pygments_lexer": "ipython3",
   "version": "3.12.1"
  }
 },
 "nbformat": 4,
 "nbformat_minor": 2
}
